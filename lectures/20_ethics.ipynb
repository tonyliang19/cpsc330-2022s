{
 "cells": [
  {
   "cell_type": "markdown",
   "id": "38377d10-b7e2-4e0a-96c0-29338b98054a",
   "metadata": {
    "slideshow": {
     "slide_type": "slide"
    }
   },
   "source": [
    "![](img/330-banner.png)"
   ]
  },
  {
   "cell_type": "markdown",
   "id": "36e32d85-3b91-4672-8e49-238ce83ea416",
   "metadata": {
    "slideshow": {
     "slide_type": "-"
    },
    "tags": []
   },
   "source": [
    "# Lecture 20: Ethics\n",
    "\n",
    "UBC 2022 Summer\n",
    "\n",
    "Instructor: Mehrdad Oveisi"
   ]
  },
  {
   "cell_type": "markdown",
   "id": "b36d7f78-2d71-4dd0-8745-ae81795e9e2b",
   "metadata": {
    "slideshow": {
     "slide_type": "skip"
    }
   },
   "source": [
    "## Imports"
   ]
  },
  {
   "cell_type": "code",
   "execution_count": 1,
   "id": "4e75fe86-cffe-4014-91e9-b1f6143af74b",
   "metadata": {
    "slideshow": {
     "slide_type": "skip"
    }
   },
   "outputs": [],
   "source": [
    "import os\n",
    "import sys\n",
    "\n",
    "import IPython\n",
    "import matplotlib.pyplot as plt\n",
    "import mglearn\n",
    "import numpy as np\n",
    "import pandas as pd\n",
    "from IPython.display import Image, HTML, display\n",
    "from sklearn.dummy import DummyClassifier\n",
    "from sklearn.linear_model import LogisticRegression\n",
    "from sklearn.metrics import accuracy_score, f1_score, precision_score, recall_score\n",
    "from sklearn.model_selection import cross_val_score, cross_validate, train_test_split\n",
    "from sklearn.pipeline import Pipeline, make_pipeline\n",
    "from sklearn.preprocessing import StandardScaler\n",
    "\n",
    "%matplotlib inline\n",
    "pd.set_option(\"display.max_colwidth\", 200)\n",
    "plt.rcParams[\"font.size\"] = 16  # for confusion matrices"
   ]
  },
  {
   "cell_type": "markdown",
   "id": "6c05fe12-8850-41b1-ae77-f0207486d903",
   "metadata": {},
   "source": [
    "<br><br>"
   ]
  },
  {
   "cell_type": "markdown",
   "id": "1b021734-ee85-4afd-ae74-c140aa779212",
   "metadata": {
    "slideshow": {
     "slide_type": "slide"
    }
   },
   "source": [
    "## ML fairness activity"
   ]
  },
  {
   "cell_type": "markdown",
   "id": "7f26cc52-b44f-4934-ba1c-9cc2f1ccf7e8",
   "metadata": {
    "slideshow": {
     "slide_type": "-"
    }
   },
   "source": [
    "AI/ML systems can give the illusion of objectivity as they are derived from seemingly unbiased data & algorithms. However, human beings are inherently biased and AI/ML systems, if not carefully evaluated, can even further ***amplify* the existing inequities** and systemic bias in our society.  \n",
    "\n",
    "- How do we make sure our AI/ML systems are **fair**?\n",
    "- Which metrics can we use to **quantify 'fairness'** in AI/ML systems?"
   ]
  },
  {
   "cell_type": "markdown",
   "id": "00dd39c9-ca53-45d5-a87c-c04954897010",
   "metadata": {},
   "source": [
    "Let's examine this on [the adult census data set](https://www.kaggle.com/uciml/adult-census-income). "
   ]
  },
  {
   "cell_type": "code",
   "execution_count": 2,
   "id": "b1a2e548-4804-4b12-89f3-82e0d8a49548",
   "metadata": {
    "slideshow": {
     "slide_type": "slide"
    }
   },
   "outputs": [
    {
     "data": {
      "text/plain": [
       "(32561, 15)"
      ]
     },
     "execution_count": 2,
     "metadata": {},
     "output_type": "execute_result"
    }
   ],
   "source": [
    "census_df = pd.read_csv(\"data/adult.csv\")\n",
    "census_df.shape"
   ]
  },
  {
   "cell_type": "code",
   "execution_count": 3,
   "id": "03b86e82-8968-44ec-b7a1-a611b6e6f005",
   "metadata": {},
   "outputs": [],
   "source": [
    "train_df, test_df = train_test_split(census_df, test_size=0.4, random_state=42)"
   ]
  },
  {
   "cell_type": "code",
   "execution_count": 4,
   "id": "e317fdef-5039-4168-a209-3ec4ef3680b3",
   "metadata": {
    "tags": []
   },
   "outputs": [
    {
     "data": {
      "text/html": [
       "<div>\n",
       "<style scoped>\n",
       "    .dataframe tbody tr th:only-of-type {\n",
       "        vertical-align: middle;\n",
       "    }\n",
       "\n",
       "    .dataframe tbody tr th {\n",
       "        vertical-align: top;\n",
       "    }\n",
       "\n",
       "    .dataframe thead th {\n",
       "        text-align: right;\n",
       "    }\n",
       "</style>\n",
       "<table border=\"1\" class=\"dataframe\">\n",
       "  <thead>\n",
       "    <tr style=\"text-align: right;\">\n",
       "      <th></th>\n",
       "      <th>age</th>\n",
       "      <th>workclass</th>\n",
       "      <th>fnlwgt</th>\n",
       "      <th>education</th>\n",
       "      <th>education.num</th>\n",
       "      <th>marital.status</th>\n",
       "      <th>occupation</th>\n",
       "      <th>relationship</th>\n",
       "      <th>race</th>\n",
       "      <th>sex</th>\n",
       "      <th>capital.gain</th>\n",
       "      <th>capital.loss</th>\n",
       "      <th>hours.per.week</th>\n",
       "      <th>native.country</th>\n",
       "      <th>income</th>\n",
       "    </tr>\n",
       "  </thead>\n",
       "  <tbody>\n",
       "    <tr>\n",
       "      <th>25823</th>\n",
       "      <td>36</td>\n",
       "      <td>Private</td>\n",
       "      <td>245521</td>\n",
       "      <td>7th-8th</td>\n",
       "      <td>4</td>\n",
       "      <td>Married-civ-spouse</td>\n",
       "      <td>Farming-fishing</td>\n",
       "      <td>Husband</td>\n",
       "      <td>White</td>\n",
       "      <td>Male</td>\n",
       "      <td>0</td>\n",
       "      <td>0</td>\n",
       "      <td>35</td>\n",
       "      <td>Mexico</td>\n",
       "      <td>&lt;=50K</td>\n",
       "    </tr>\n",
       "    <tr>\n",
       "      <th>10274</th>\n",
       "      <td>26</td>\n",
       "      <td>Private</td>\n",
       "      <td>134287</td>\n",
       "      <td>Assoc-voc</td>\n",
       "      <td>11</td>\n",
       "      <td>Never-married</td>\n",
       "      <td>Sales</td>\n",
       "      <td>Own-child</td>\n",
       "      <td>White</td>\n",
       "      <td>Female</td>\n",
       "      <td>0</td>\n",
       "      <td>0</td>\n",
       "      <td>35</td>\n",
       "      <td>United-States</td>\n",
       "      <td>&lt;=50K</td>\n",
       "    </tr>\n",
       "    <tr>\n",
       "      <th>27652</th>\n",
       "      <td>25</td>\n",
       "      <td>Local-gov</td>\n",
       "      <td>109526</td>\n",
       "      <td>HS-grad</td>\n",
       "      <td>9</td>\n",
       "      <td>Married-civ-spouse</td>\n",
       "      <td>Craft-repair</td>\n",
       "      <td>Husband</td>\n",
       "      <td>White</td>\n",
       "      <td>Male</td>\n",
       "      <td>0</td>\n",
       "      <td>0</td>\n",
       "      <td>38</td>\n",
       "      <td>United-States</td>\n",
       "      <td>&lt;=50K</td>\n",
       "    </tr>\n",
       "    <tr>\n",
       "      <th>13941</th>\n",
       "      <td>23</td>\n",
       "      <td>Private</td>\n",
       "      <td>131275</td>\n",
       "      <td>HS-grad</td>\n",
       "      <td>9</td>\n",
       "      <td>Never-married</td>\n",
       "      <td>Craft-repair</td>\n",
       "      <td>Own-child</td>\n",
       "      <td>Amer-Indian-Eskimo</td>\n",
       "      <td>Male</td>\n",
       "      <td>0</td>\n",
       "      <td>0</td>\n",
       "      <td>40</td>\n",
       "      <td>United-States</td>\n",
       "      <td>&lt;=50K</td>\n",
       "    </tr>\n",
       "    <tr>\n",
       "      <th>31384</th>\n",
       "      <td>27</td>\n",
       "      <td>Private</td>\n",
       "      <td>193122</td>\n",
       "      <td>HS-grad</td>\n",
       "      <td>9</td>\n",
       "      <td>Married-civ-spouse</td>\n",
       "      <td>Machine-op-inspct</td>\n",
       "      <td>Husband</td>\n",
       "      <td>White</td>\n",
       "      <td>Male</td>\n",
       "      <td>0</td>\n",
       "      <td>0</td>\n",
       "      <td>40</td>\n",
       "      <td>United-States</td>\n",
       "      <td>&lt;=50K</td>\n",
       "    </tr>\n",
       "    <tr>\n",
       "      <th>...</th>\n",
       "      <td>...</td>\n",
       "      <td>...</td>\n",
       "      <td>...</td>\n",
       "      <td>...</td>\n",
       "      <td>...</td>\n",
       "      <td>...</td>\n",
       "      <td>...</td>\n",
       "      <td>...</td>\n",
       "      <td>...</td>\n",
       "      <td>...</td>\n",
       "      <td>...</td>\n",
       "      <td>...</td>\n",
       "      <td>...</td>\n",
       "      <td>...</td>\n",
       "      <td>...</td>\n",
       "    </tr>\n",
       "    <tr>\n",
       "      <th>29802</th>\n",
       "      <td>25</td>\n",
       "      <td>Private</td>\n",
       "      <td>410240</td>\n",
       "      <td>HS-grad</td>\n",
       "      <td>9</td>\n",
       "      <td>Never-married</td>\n",
       "      <td>Craft-repair</td>\n",
       "      <td>Own-child</td>\n",
       "      <td>White</td>\n",
       "      <td>Male</td>\n",
       "      <td>0</td>\n",
       "      <td>0</td>\n",
       "      <td>40</td>\n",
       "      <td>United-States</td>\n",
       "      <td>&lt;=50K</td>\n",
       "    </tr>\n",
       "    <tr>\n",
       "      <th>5390</th>\n",
       "      <td>51</td>\n",
       "      <td>Private</td>\n",
       "      <td>146767</td>\n",
       "      <td>Assoc-voc</td>\n",
       "      <td>11</td>\n",
       "      <td>Married-civ-spouse</td>\n",
       "      <td>Prof-specialty</td>\n",
       "      <td>Husband</td>\n",
       "      <td>White</td>\n",
       "      <td>Male</td>\n",
       "      <td>0</td>\n",
       "      <td>0</td>\n",
       "      <td>40</td>\n",
       "      <td>United-States</td>\n",
       "      <td>&gt;50K</td>\n",
       "    </tr>\n",
       "    <tr>\n",
       "      <th>860</th>\n",
       "      <td>55</td>\n",
       "      <td>Federal-gov</td>\n",
       "      <td>238192</td>\n",
       "      <td>HS-grad</td>\n",
       "      <td>9</td>\n",
       "      <td>Married-civ-spouse</td>\n",
       "      <td>Tech-support</td>\n",
       "      <td>Husband</td>\n",
       "      <td>White</td>\n",
       "      <td>Male</td>\n",
       "      <td>0</td>\n",
       "      <td>1887</td>\n",
       "      <td>40</td>\n",
       "      <td>United-States</td>\n",
       "      <td>&gt;50K</td>\n",
       "    </tr>\n",
       "    <tr>\n",
       "      <th>15795</th>\n",
       "      <td>41</td>\n",
       "      <td>Private</td>\n",
       "      <td>154076</td>\n",
       "      <td>Some-college</td>\n",
       "      <td>10</td>\n",
       "      <td>Married-civ-spouse</td>\n",
       "      <td>Adm-clerical</td>\n",
       "      <td>Husband</td>\n",
       "      <td>White</td>\n",
       "      <td>Male</td>\n",
       "      <td>0</td>\n",
       "      <td>0</td>\n",
       "      <td>50</td>\n",
       "      <td>United-States</td>\n",
       "      <td>&gt;50K</td>\n",
       "    </tr>\n",
       "    <tr>\n",
       "      <th>23654</th>\n",
       "      <td>22</td>\n",
       "      <td>Private</td>\n",
       "      <td>162667</td>\n",
       "      <td>HS-grad</td>\n",
       "      <td>9</td>\n",
       "      <td>Never-married</td>\n",
       "      <td>Handlers-cleaners</td>\n",
       "      <td>Own-child</td>\n",
       "      <td>White</td>\n",
       "      <td>Male</td>\n",
       "      <td>0</td>\n",
       "      <td>0</td>\n",
       "      <td>50</td>\n",
       "      <td>Portugal</td>\n",
       "      <td>&lt;=50K</td>\n",
       "    </tr>\n",
       "  </tbody>\n",
       "</table>\n",
       "<p>19536 rows × 15 columns</p>\n",
       "</div>"
      ],
      "text/plain": [
       "       age    workclass  fnlwgt     education  education.num  \\\n",
       "25823   36      Private  245521       7th-8th              4   \n",
       "10274   26      Private  134287     Assoc-voc             11   \n",
       "27652   25    Local-gov  109526       HS-grad              9   \n",
       "13941   23      Private  131275       HS-grad              9   \n",
       "31384   27      Private  193122       HS-grad              9   \n",
       "...    ...          ...     ...           ...            ...   \n",
       "29802   25      Private  410240       HS-grad              9   \n",
       "5390    51      Private  146767     Assoc-voc             11   \n",
       "860     55  Federal-gov  238192       HS-grad              9   \n",
       "15795   41      Private  154076  Some-college             10   \n",
       "23654   22      Private  162667       HS-grad              9   \n",
       "\n",
       "           marital.status         occupation relationship                race  \\\n",
       "25823  Married-civ-spouse    Farming-fishing      Husband               White   \n",
       "10274       Never-married              Sales    Own-child               White   \n",
       "27652  Married-civ-spouse       Craft-repair      Husband               White   \n",
       "13941       Never-married       Craft-repair    Own-child  Amer-Indian-Eskimo   \n",
       "31384  Married-civ-spouse  Machine-op-inspct      Husband               White   \n",
       "...                   ...                ...          ...                 ...   \n",
       "29802       Never-married       Craft-repair    Own-child               White   \n",
       "5390   Married-civ-spouse     Prof-specialty      Husband               White   \n",
       "860    Married-civ-spouse       Tech-support      Husband               White   \n",
       "15795  Married-civ-spouse       Adm-clerical      Husband               White   \n",
       "23654       Never-married  Handlers-cleaners    Own-child               White   \n",
       "\n",
       "          sex  capital.gain  capital.loss  hours.per.week native.country  \\\n",
       "25823    Male             0             0              35         Mexico   \n",
       "10274  Female             0             0              35  United-States   \n",
       "27652    Male             0             0              38  United-States   \n",
       "13941    Male             0             0              40  United-States   \n",
       "31384    Male             0             0              40  United-States   \n",
       "...       ...           ...           ...             ...            ...   \n",
       "29802    Male             0             0              40  United-States   \n",
       "5390     Male             0             0              40  United-States   \n",
       "860      Male             0          1887              40  United-States   \n",
       "15795    Male             0             0              50  United-States   \n",
       "23654    Male             0             0              50       Portugal   \n",
       "\n",
       "      income  \n",
       "25823  <=50K  \n",
       "10274  <=50K  \n",
       "27652  <=50K  \n",
       "13941  <=50K  \n",
       "31384  <=50K  \n",
       "...      ...  \n",
       "29802  <=50K  \n",
       "5390    >50K  \n",
       "860     >50K  \n",
       "15795   >50K  \n",
       "23654  <=50K  \n",
       "\n",
       "[19536 rows x 15 columns]"
      ]
     },
     "execution_count": 4,
     "metadata": {},
     "output_type": "execute_result"
    }
   ],
   "source": [
    "train_df"
   ]
  },
  {
   "cell_type": "code",
   "execution_count": 5,
   "id": "da5af76a-6dba-4a73-87f7-63efd00afc4a",
   "metadata": {
    "slideshow": {
     "slide_type": "slide"
    }
   },
   "outputs": [
    {
     "data": {
      "text/plain": [
       "(19536, 15)"
      ]
     },
     "execution_count": 5,
     "metadata": {},
     "output_type": "execute_result"
    }
   ],
   "source": [
    "train_df_nan = train_df.replace(\"?\", np.nan)\n",
    "test_df_nan = test_df.replace(\"?\", np.nan)\n",
    "train_df_nan.shape"
   ]
  },
  {
   "cell_type": "code",
   "execution_count": 6,
   "id": "09fb8085-4644-413a-b237-32d9489c0a52",
   "metadata": {
    "slideshow": {
     "slide_type": "slide"
    }
   },
   "outputs": [],
   "source": [
    "# Let's identify numeric and categorical features\n",
    "\n",
    "numeric_features = [\n",
    "    \"age\",\n",
    "    \"fnlwgt\",\n",
    "    \"capital.gain\",\n",
    "    \"capital.loss\",\n",
    "    \"hours.per.week\",\n",
    "]\n",
    "\n",
    "categorical_features = [\n",
    "    \"workclass\",\n",
    "    \"marital.status\",\n",
    "    \"occupation\",\n",
    "    \"relationship\",\n",
    "    # \"race\",\n",
    "    \"native.country\",\n",
    "]\n",
    "\n",
    "ordinal_features = [\"education\"]\n",
    "binary_features = [\n",
    "    \"sex\"\n",
    "]  # Not binary in general but in this particular dataset it seems to have only two possible values\n",
    "drop_features = [\"education.num\"]\n",
    "target = \"income\""
   ]
  },
  {
   "cell_type": "code",
   "execution_count": 7,
   "id": "b59d31bf-e40f-4015-b8c0-a9ba220b8369",
   "metadata": {
    "slideshow": {
     "slide_type": "slide"
    }
   },
   "outputs": [
    {
     "data": {
      "text/plain": [
       "array(['7th-8th', 'Assoc-voc', 'HS-grad', 'Bachelors', 'Some-college',\n",
       "       '10th', '11th', 'Prof-school', '12th', '5th-6th', 'Masters',\n",
       "       'Assoc-acdm', '9th', 'Doctorate', '1st-4th', 'Preschool'],\n",
       "      dtype=object)"
      ]
     },
     "execution_count": 7,
     "metadata": {},
     "output_type": "execute_result"
    }
   ],
   "source": [
    "train_df[\"education\"].unique()"
   ]
  },
  {
   "cell_type": "code",
   "execution_count": 8,
   "id": "9e81d47c-b9a6-4a09-8759-4d010131fc4d",
   "metadata": {},
   "outputs": [],
   "source": [
    "education_levels = [\n",
    "    \"Preschool\",\n",
    "    \"1st-4th\",\n",
    "    \"5th-6th\",\n",
    "    \"7th-8th\",\n",
    "    \"9th\",\n",
    "    \"10th\",\n",
    "    \"11th\",\n",
    "    \"12th\",\n",
    "    \"HS-grad\",\n",
    "    \"Prof-school\",\n",
    "    \"Assoc-voc\",\n",
    "    \"Assoc-acdm\",\n",
    "    \"Some-college\",\n",
    "    \"Bachelors\",\n",
    "    \"Masters\",\n",
    "    \"Doctorate\",\n",
    "]"
   ]
  },
  {
   "cell_type": "code",
   "execution_count": 9,
   "id": "f0c6d303-ea09-4290-962f-e3bc272c14c9",
   "metadata": {},
   "outputs": [],
   "source": [
    "assert set(education_levels) == set(train_df[\"education\"].unique())"
   ]
  },
  {
   "cell_type": "code",
   "execution_count": 10,
   "id": "e201e85c-9389-499e-beb8-8e9a284db116",
   "metadata": {
    "slideshow": {
     "slide_type": "slide"
    }
   },
   "outputs": [],
   "source": [
    "X_train = train_df_nan.drop(columns=[target])\n",
    "y_train = train_df_nan[target]\n",
    "\n",
    "X_test = test_df_nan.drop(columns=[target])\n",
    "y_test = test_df_nan[target]"
   ]
  },
  {
   "cell_type": "code",
   "execution_count": 11,
   "id": "32462a49-f102-4f75-9e01-b14504dd7383",
   "metadata": {
    "slideshow": {
     "slide_type": "slide"
    }
   },
   "outputs": [],
   "source": [
    "from sklearn.compose import ColumnTransformer, make_column_transformer\n",
    "from sklearn.impute import SimpleImputer\n",
    "from sklearn.preprocessing import OneHotEncoder, OrdinalEncoder, StandardScaler\n",
    "\n",
    "numeric_transformer = make_pipeline(StandardScaler())\n",
    "\n",
    "ordinal_transformer = OrdinalEncoder(categories=[education_levels], dtype=int)\n",
    "\n",
    "categorical_transformer = make_pipeline(\n",
    "    SimpleImputer(strategy=\"constant\", fill_value=\"missing\"),\n",
    "    OneHotEncoder(handle_unknown=\"ignore\", sparse=False),\n",
    ")\n",
    "\n",
    "binary_transformer = make_pipeline(\n",
    "    SimpleImputer(strategy=\"constant\", fill_value=\"missing\"),\n",
    "    OneHotEncoder(drop=\"if_binary\", dtype=int),\n",
    ")\n",
    "\n",
    "preprocessor = make_column_transformer(\n",
    "    (numeric_transformer, numeric_features),\n",
    "    (ordinal_transformer, ordinal_features),\n",
    "    (binary_transformer, binary_features),\n",
    "    (categorical_transformer, categorical_features),\n",
    "    (\"drop\", drop_features),\n",
    ")"
   ]
  },
  {
   "cell_type": "code",
   "execution_count": 12,
   "id": "d232920e-d04c-477d-9b8c-c3f6c21c9ae7",
   "metadata": {
    "slideshow": {
     "slide_type": "slide"
    }
   },
   "outputs": [
    {
     "data": {
      "text/html": [
       "<div>\n",
       "<style scoped>\n",
       "    .dataframe tbody tr th:only-of-type {\n",
       "        vertical-align: middle;\n",
       "    }\n",
       "\n",
       "    .dataframe tbody tr th {\n",
       "        vertical-align: top;\n",
       "    }\n",
       "\n",
       "    .dataframe thead th {\n",
       "        text-align: right;\n",
       "    }\n",
       "</style>\n",
       "<table border=\"1\" class=\"dataframe\">\n",
       "  <thead>\n",
       "    <tr style=\"text-align: right;\">\n",
       "      <th></th>\n",
       "      <th>income</th>\n",
       "      <th>ratio</th>\n",
       "    </tr>\n",
       "  </thead>\n",
       "  <tbody>\n",
       "    <tr>\n",
       "      <th>&lt;=50K</th>\n",
       "      <td>14841</td>\n",
       "      <td>0.759674</td>\n",
       "    </tr>\n",
       "    <tr>\n",
       "      <th>&gt;50K</th>\n",
       "      <td>4695</td>\n",
       "      <td>0.240326</td>\n",
       "    </tr>\n",
       "  </tbody>\n",
       "</table>\n",
       "</div>"
      ],
      "text/plain": [
       "       income     ratio\n",
       "<=50K   14841  0.759674\n",
       ">50K     4695  0.240326"
      ]
     },
     "execution_count": 12,
     "metadata": {},
     "output_type": "execute_result"
    }
   ],
   "source": [
    "y_train.value_counts().to_frame().assign(ratio=y_train.value_counts(normalize=True))"
   ]
  },
  {
   "cell_type": "code",
   "execution_count": 13,
   "id": "4f2c353d-cc7f-48bf-9c01-5426016cc5e6",
   "metadata": {
    "slideshow": {
     "slide_type": "-"
    }
   },
   "outputs": [],
   "source": [
    "pipe_lr = make_pipeline(\n",
    "    preprocessor, LogisticRegression(class_weight=\"balanced\", max_iter=1000)\n",
    ")"
   ]
  },
  {
   "cell_type": "code",
   "execution_count": 14,
   "id": "f448d107-4e03-4930-974c-f4de9b0a1881",
   "metadata": {},
   "outputs": [],
   "source": [
    "pipe_lr.fit(X_train, y_train);"
   ]
  },
  {
   "cell_type": "code",
   "execution_count": 15,
   "id": "e783bb41-113b-405b-9728-14cdb0d9e21e",
   "metadata": {
    "slideshow": {
     "slide_type": "slide"
    }
   },
   "outputs": [
    {
     "data": {
      "text/plain": [
       "{'normalize': 'true',\n",
       " 'cmap': <matplotlib.colors.LinearSegmentedColormap at 0x7f91e9071390>}"
      ]
     },
     "execution_count": 15,
     "metadata": {},
     "output_type": "execute_result"
    }
   ],
   "source": [
    "from sklearn.metrics import ConfusionMatrixDisplay\n",
    "\n",
    "kw_cm = dict(normalize=\"true\", cmap=plt.cm.Blues) # key-word arguments for all confusion matrices\n",
    "kw_cm"
   ]
  },
  {
   "cell_type": "code",
   "execution_count": 16,
   "id": "cde2126c-b355-41c1-bca7-b323d5686276",
   "metadata": {
    "slideshow": {
     "slide_type": "slide"
    }
   },
   "outputs": [
    {
     "data": {
      "image/png": "[encoded data removed]",
      "text/plain": [
       "<Figure size 432x288 with 2 Axes>"
      ]
     },
     "metadata": {
      "needs_background": "light"
     },
     "output_type": "display_data"
    }
   ],
   "source": [
    "ConfusionMatrixDisplay.from_estimator(pipe_lr, X_test, y_test, **kw_cm);"
   ]
  },
  {
   "cell_type": "markdown",
   "id": "1a347f96-839a-46ac-889e-cfb984a37804",
   "metadata": {
    "slideshow": {
     "slide_type": "slide"
    }
   },
   "source": [
    "Let's examine confusion matrix separately for the two genders we have in the data. "
   ]
  },
  {
   "cell_type": "code",
   "execution_count": 17,
   "id": "0bc58a3b-5d56-411a-adaf-64b8670174e9",
   "metadata": {},
   "outputs": [
    {
     "data": {
      "text/plain": [
       "array(['sex_Male'], dtype=object)"
      ]
     },
     "execution_count": 17,
     "metadata": {},
     "output_type": "execute_result"
    }
   ],
   "source": [
    "pipe_lr[0].named_transformers_['pipeline-2']['onehotencoder'].get_feature_names_out(['sex'])"
   ]
  },
  {
   "cell_type": "code",
   "execution_count": 18,
   "id": "88f6e898-a68d-4c31-beca-e7ec90f0f2ff",
   "metadata": {},
   "outputs": [
    {
     "data": {
      "text/html": [
       "<div>\n",
       "<style scoped>\n",
       "    .dataframe tbody tr th:only-of-type {\n",
       "        vertical-align: middle;\n",
       "    }\n",
       "\n",
       "    .dataframe tbody tr th {\n",
       "        vertical-align: top;\n",
       "    }\n",
       "\n",
       "    .dataframe thead th {\n",
       "        text-align: right;\n",
       "    }\n",
       "</style>\n",
       "<table border=\"1\" class=\"dataframe\">\n",
       "  <thead>\n",
       "    <tr style=\"text-align: right;\">\n",
       "      <th></th>\n",
       "      <th>age</th>\n",
       "      <th>workclass</th>\n",
       "      <th>fnlwgt</th>\n",
       "      <th>education</th>\n",
       "      <th>education.num</th>\n",
       "      <th>marital.status</th>\n",
       "      <th>occupation</th>\n",
       "      <th>relationship</th>\n",
       "      <th>race</th>\n",
       "      <th>sex</th>\n",
       "      <th>capital.gain</th>\n",
       "      <th>capital.loss</th>\n",
       "      <th>hours.per.week</th>\n",
       "      <th>native.country</th>\n",
       "    </tr>\n",
       "  </thead>\n",
       "  <tbody>\n",
       "    <tr>\n",
       "      <th>14160</th>\n",
       "      <td>29</td>\n",
       "      <td>Private</td>\n",
       "      <td>280618</td>\n",
       "      <td>Some-college</td>\n",
       "      <td>10</td>\n",
       "      <td>Married-civ-spouse</td>\n",
       "      <td>Handlers-cleaners</td>\n",
       "      <td>Husband</td>\n",
       "      <td>White</td>\n",
       "      <td>Male</td>\n",
       "      <td>0</td>\n",
       "      <td>0</td>\n",
       "      <td>40</td>\n",
       "      <td>United-States</td>\n",
       "    </tr>\n",
       "    <tr>\n",
       "      <th>27048</th>\n",
       "      <td>19</td>\n",
       "      <td>Private</td>\n",
       "      <td>439779</td>\n",
       "      <td>Some-college</td>\n",
       "      <td>10</td>\n",
       "      <td>Never-married</td>\n",
       "      <td>Sales</td>\n",
       "      <td>Own-child</td>\n",
       "      <td>White</td>\n",
       "      <td>Male</td>\n",
       "      <td>0</td>\n",
       "      <td>0</td>\n",
       "      <td>15</td>\n",
       "      <td>United-States</td>\n",
       "    </tr>\n",
       "    <tr>\n",
       "      <th>28868</th>\n",
       "      <td>28</td>\n",
       "      <td>Private</td>\n",
       "      <td>204734</td>\n",
       "      <td>Some-college</td>\n",
       "      <td>10</td>\n",
       "      <td>Married-civ-spouse</td>\n",
       "      <td>Tech-support</td>\n",
       "      <td>Wife</td>\n",
       "      <td>White</td>\n",
       "      <td>Female</td>\n",
       "      <td>0</td>\n",
       "      <td>0</td>\n",
       "      <td>40</td>\n",
       "      <td>United-States</td>\n",
       "    </tr>\n",
       "  </tbody>\n",
       "</table>\n",
       "</div>"
      ],
      "text/plain": [
       "       age workclass  fnlwgt     education  education.num      marital.status  \\\n",
       "14160   29   Private  280618  Some-college             10  Married-civ-spouse   \n",
       "27048   19   Private  439779  Some-college             10       Never-married   \n",
       "28868   28   Private  204734  Some-college             10  Married-civ-spouse   \n",
       "\n",
       "              occupation relationship   race     sex  capital.gain  \\\n",
       "14160  Handlers-cleaners      Husband  White    Male             0   \n",
       "27048              Sales    Own-child  White    Male             0   \n",
       "28868       Tech-support         Wife  White  Female             0   \n",
       "\n",
       "       capital.loss  hours.per.week native.country  \n",
       "14160             0              40  United-States  \n",
       "27048             0              15  United-States  \n",
       "28868             0              40  United-States  "
      ]
     },
     "execution_count": 18,
     "metadata": {},
     "output_type": "execute_result"
    }
   ],
   "source": [
    "X_test.head(3)"
   ]
  },
  {
   "cell_type": "code",
   "execution_count": 19,
   "id": "5d788425-93c6-4f6c-8bbf-e1b5ab786165",
   "metadata": {
    "slideshow": {
     "slide_type": "slide"
    }
   },
   "outputs": [],
   "source": [
    "X_female = X_test.query(\"sex=='Female'\")\n",
    "X_male = X_test.query(\"sex=='Male'\")\n",
    "\n",
    "y_female = y_test[X_female.index]\n",
    "y_male = y_test[X_male.index]\n",
    "\n",
    "female_preds = pipe_lr.predict(X_female)\n",
    "male_preds = pipe_lr.predict(X_male)"
   ]
  },
  {
   "cell_type": "code",
   "execution_count": 20,
   "id": "795b0b34-76c9-44c3-979b-afdbadcda0d8",
   "metadata": {
    "slideshow": {
     "slide_type": "slide"
    }
   },
   "outputs": [
    {
     "data": {
      "image/png": "[encoded data removed]",
      "text/plain": [
       "<Figure size 432x288 with 2 Axes>"
      ]
     },
     "metadata": {
      "needs_background": "light"
     },
     "output_type": "display_data"
    }
   ],
   "source": [
    "ConfusionMatrixDisplay.from_predictions(y_female, female_preds, **kw_cm);"
   ]
  },
  {
   "cell_type": "code",
   "execution_count": 21,
   "id": "001ed187-afaa-4c8a-95ca-3cc7abf17f4b",
   "metadata": {},
   "outputs": [
    {
     "data": {
      "image/png": "[encoded data removed]",
      "text/plain": [
       "<Figure size 432x288 with 2 Axes>"
      ]
     },
     "metadata": {
      "needs_background": "light"
     },
     "output_type": "display_data"
    }
   ],
   "source": [
    "ConfusionMatrixDisplay.from_predictions(y_male, male_preds, **kw_cm);"
   ]
  },
  {
   "cell_type": "markdown",
   "id": "18145ba8-7358-46e0-a470-0f8ab1730650",
   "metadata": {},
   "source": [
    "<br>"
   ]
  },
  {
   "cell_type": "code",
   "execution_count": 22,
   "id": "8ba5c988-e9d3-4d9d-bcbf-82b85e13e7a8",
   "metadata": {},
   "outputs": [],
   "source": [
    "from sklearn.metrics import confusion_matrix\n",
    "\n",
    "f_TN, f_FP, f_FN, f_TP = confusion_matrix(y_female, female_preds).ravel()\n",
    "m_TN, m_FP, m_FN, m_TP = confusion_matrix(y_male, male_preds).ravel()"
   ]
  },
  {
   "cell_type": "markdown",
   "id": "1b0168df-9bf3-40c3-855c-57b5307a4626",
   "metadata": {
    "slideshow": {
     "slide_type": "slide"
    }
   },
   "source": [
    "<br><br>"
   ]
  },
  {
   "cell_type": "markdown",
   "id": "53ce40cf-74d7-41cc-a828-d2e0c1b74371",
   "metadata": {
    "slideshow": {
     "slide_type": "slide"
    }
   },
   "source": [
    "What's the accuracy of this model? "
   ]
  },
  {
   "cell_type": "code",
   "execution_count": 23,
   "id": "b5d310a5-93ce-48bc-86c6-3a3c463ae137",
   "metadata": {},
   "outputs": [],
   "source": [
    "data = {\"male\": {}, \"female\": {}}"
   ]
  },
  {
   "cell_type": "code",
   "execution_count": 24,
   "id": "74693a64-56cb-4cee-9428-125421ae450c",
   "metadata": {},
   "outputs": [
    {
     "name": "stdout",
     "output_type": "stream",
     "text": [
      "Accuracy male: 0.756\n",
      "Accuracy female: 0.910\n"
     ]
    }
   ],
   "source": [
    "accuracy_male = accuracy_score(y_male, male_preds)\n",
    "accuracy_female = accuracy_score(y_female, female_preds)\n",
    "\n",
    "data[\"male\"]['accuracy'] = accuracy_male\n",
    "data[\"female\"]['accuracy'] = accuracy_female\n",
    "\n",
    "print(f\"Accuracy male: {accuracy_male:.3f}\")\n",
    "print(f\"Accuracy female: {accuracy_female:.3f}\")"
   ]
  },
  {
   "cell_type": "markdown",
   "id": "10c4f2d9-09c5-4f65-9a97-128969f89ca5",
   "metadata": {
    "slideshow": {
     "slide_type": "slide"
    }
   },
   "source": [
    "<br>"
   ]
  },
  {
   "cell_type": "code",
   "execution_count": 25,
   "id": "e61869df-32f2-4e8b-9e5f-d45cc73fbbab",
   "metadata": {},
   "outputs": [
    {
     "data": {
      "text/html": [
       "<div>\n",
       "<style scoped>\n",
       "    .dataframe tbody tr th:only-of-type {\n",
       "        vertical-align: middle;\n",
       "    }\n",
       "\n",
       "    .dataframe tbody tr th {\n",
       "        vertical-align: top;\n",
       "    }\n",
       "\n",
       "    .dataframe thead th {\n",
       "        text-align: right;\n",
       "    }\n",
       "</style>\n",
       "<table border=\"1\" class=\"dataframe\">\n",
       "  <thead>\n",
       "    <tr style=\"text-align: right;\">\n",
       "      <th></th>\n",
       "      <th>both</th>\n",
       "      <th>female</th>\n",
       "      <th>male</th>\n",
       "    </tr>\n",
       "  </thead>\n",
       "  <tbody>\n",
       "    <tr>\n",
       "      <th>&lt;=50K</th>\n",
       "      <td>0.758464</td>\n",
       "      <td>0.892675</td>\n",
       "      <td>0.691999</td>\n",
       "    </tr>\n",
       "    <tr>\n",
       "      <th>&gt;50K</th>\n",
       "      <td>0.241536</td>\n",
       "      <td>0.107325</td>\n",
       "      <td>0.308001</td>\n",
       "    </tr>\n",
       "  </tbody>\n",
       "</table>\n",
       "</div>"
      ],
      "text/plain": [
       "           both    female      male\n",
       "<=50K  0.758464  0.892675  0.691999\n",
       ">50K   0.241536  0.107325  0.308001"
      ]
     },
     "execution_count": 25,
     "metadata": {},
     "output_type": "execute_result"
    }
   ],
   "source": [
    "pd.DataFrame({\n",
    "    \"both\": y_test.value_counts(normalize=True),\n",
    "    \"female\": y_female.value_counts(normalize=True),\n",
    "    \"male\": y_male.value_counts(normalize=True)\n",
    "})"
   ]
  },
  {
   "cell_type": "markdown",
   "id": "a8097c99-a97e-44a7-a0c4-a8efe1ce16fa",
   "metadata": {},
   "source": [
    "There is more class imbalance for female! "
   ]
  },
  {
   "cell_type": "markdown",
   "id": "106a9e54-3b71-40b0-90b6-27b1a0502f1c",
   "metadata": {
    "slideshow": {
     "slide_type": "slide"
    }
   },
   "source": [
    "**As an example**, let's assume that a company is using **this classifier for loan approval** with a simple rule that:\n",
    "- if the income is >50K, approve the loan, else reject the loan.\n",
    "\n",
    "**Statistical parity** suggests that the proportion of each segment of a protected class (e.g. sex) should receive the positive outcome at equal rates. For example, the number of loans approved for female should be equal to male."
   ]
  },
  {
   "cell_type": "markdown",
   "id": "070ef40f-9bb2-4e81-aaff-b8c7a732c430",
   "metadata": {
    "slideshow": {
     "slide_type": "-"
    }
   },
   "source": [
    "Calculate the precision for male and female."
   ]
  },
  {
   "cell_type": "code",
   "execution_count": 26,
   "id": "d6cd08df-cb03-4adb-a1af-c894b5e45dbb",
   "metadata": {},
   "outputs": [
    {
     "name": "stdout",
     "output_type": "stream",
     "text": [
      "Precision male: 0.570\n",
      "Precision female: 0.568\n"
     ]
    }
   ],
   "source": [
    "precision_male = precision_score(y_male, male_preds, pos_label=\">50K\")\n",
    "precision_female = precision_score(y_female, female_preds, pos_label=\">50K\")\n",
    "\n",
    "data[\"male\"]['precision'] = precision_male\n",
    "data[\"female\"]['precision'] = precision_female\n",
    "\n",
    "print(\"Precision male: {:.3f}\".format(precision_male))\n",
    "print(\"Precision female: {:.3f}\".format(precision_female))"
   ]
  },
  {
   "cell_type": "markdown",
   "id": "6142af32-87e4-4edf-9abe-67fdf1e151db",
   "metadata": {},
   "source": [
    "<br>"
   ]
  },
  {
   "cell_type": "code",
   "execution_count": 27,
   "id": "274e3cad-f997-4fe7-8bb7-e89ce91f0e9f",
   "metadata": {},
   "outputs": [
    {
     "data": {
      "text/html": [
       "<div>\n",
       "<style scoped>\n",
       "    .dataframe tbody tr th:only-of-type {\n",
       "        vertical-align: middle;\n",
       "    }\n",
       "\n",
       "    .dataframe tbody tr th {\n",
       "        vertical-align: top;\n",
       "    }\n",
       "\n",
       "    .dataframe thead th {\n",
       "        text-align: right;\n",
       "    }\n",
       "</style>\n",
       "<table border=\"1\" class=\"dataframe\">\n",
       "  <thead>\n",
       "    <tr style=\"text-align: right;\">\n",
       "      <th></th>\n",
       "      <th>count</th>\n",
       "      <th>positive outcome</th>\n",
       "      <th>proportion</th>\n",
       "    </tr>\n",
       "  </thead>\n",
       "  <tbody>\n",
       "    <tr>\n",
       "      <th>male</th>\n",
       "      <td>8711</td>\n",
       "      <td>3986</td>\n",
       "      <td>0.457582</td>\n",
       "    </tr>\n",
       "    <tr>\n",
       "      <th>female</th>\n",
       "      <td>4314</td>\n",
       "      <td>535</td>\n",
       "      <td>0.124015</td>\n",
       "    </tr>\n",
       "  </tbody>\n",
       "</table>\n",
       "</div>"
      ],
      "text/plain": [
       "        count  positive outcome  proportion\n",
       "male     8711              3986    0.457582\n",
       "female   4314               535    0.124015"
      ]
     },
     "execution_count": 27,
     "metadata": {},
     "output_type": "execute_result"
    }
   ],
   "source": [
    "pd.DataFrame({\n",
    "    'count': [len(y_male), len(y_female)],\n",
    "    'positive outcome': [m_TP + m_FP, f_TP + f_FP],\n",
    "    'proportion': [(m_TP + m_FP) / len(y_male), (f_TP + f_FP) / len(y_female)],\n",
    "}, index=['male', 'female'])"
   ]
  },
  {
   "cell_type": "markdown",
   "id": "fc882054-044f-4c9d-87f0-f42e22792c78",
   "metadata": {},
   "source": [
    "<br>\n",
    "Based on your results, do you think this income classifier is fair?"
   ]
  },
  {
   "cell_type": "markdown",
   "id": "0d78d4f3-00c8-49e4-b102-c63b62dc8445",
   "metadata": {},
   "source": [
    "<br><br>"
   ]
  },
  {
   "cell_type": "markdown",
   "id": "2e602146-31c4-49af-965a-e5682a735006",
   "metadata": {
    "slideshow": {
     "slide_type": "slide"
    }
   },
   "source": [
    "**Equal opportunity** suggests that each group should get the positive outcome at equal rates, assuming that people in this group qualify for it. For example, if a man and a woman have both a certain level of income, we want them to have the same chance of getting the loan. In other words, the true positive rate (TPR or recall) of both groups should be equal."
   ]
  },
  {
   "cell_type": "code",
   "execution_count": 28,
   "id": "3d4e05be-b6be-4f7a-8c3f-03faa72c60e5",
   "metadata": {},
   "outputs": [
    {
     "name": "stdout",
     "output_type": "stream",
     "text": [
      "Recall male: 0.847\n",
      "Recall female: 0.657\n"
     ]
    }
   ],
   "source": [
    "recall_male = recall_score(y_male, male_preds, pos_label=\">50K\")\n",
    "recall_female = recall_score(y_female, female_preds, pos_label=\">50K\")\n",
    "\n",
    "data[\"male\"]['recall'] = recall_male\n",
    "data[\"female\"]['recall'] = recall_female\n",
    "\n",
    "print(\"Recall male: {:.3f}\".format(recall_male))\n",
    "print(\"Recall female: {:.3f}\".format(recall_female))"
   ]
  },
  {
   "cell_type": "markdown",
   "id": "d3041b89-f6d5-46db-84b3-ac49db028d25",
   "metadata": {},
   "source": [
    "<br><br>"
   ]
  },
  {
   "cell_type": "markdown",
   "id": "89d7fa75-f04f-4f90-8a51-823f4dc8948f",
   "metadata": {
    "slideshow": {
     "slide_type": "slide"
    }
   },
   "source": [
    "There is usually a trade-off between rationality (adopting effective means to achieve your desired outcome) and bias (in system). The desired outcome of banks, for example, is to maximize their profit. So in many circumstances, they not only care about approving as many qualified applications as possible (true positive), but also to avoid approving unqualified applications (false positive) because default loan could have detrimental effects for them. \n",
    "\n",
    "Let's examine false positive rate (FPR) of both groups."
   ]
  },
  {
   "cell_type": "code",
   "execution_count": 29,
   "id": "3200f23e-6221-4d7b-957e-485827c1e07f",
   "metadata": {},
   "outputs": [
    {
     "name": "stdout",
     "output_type": "stream",
     "text": [
      "FPR male: 0.284\n",
      "FPR female: 0.060\n"
     ]
    }
   ],
   "source": [
    "fpr_male = m_FP / (m_FP + m_TN)\n",
    "fpr_female = f_FP / (f_FP + f_TN)\n",
    "\n",
    "data[\"male\"]['FPR'] = fpr_male\n",
    "data[\"female\"]['FPR'] = fpr_female\n",
    "\n",
    "print(\"FPR male: {:.3f}\".format(fpr_male))\n",
    "print(\"FPR female: {:.3f}\".format(fpr_female))"
   ]
  },
  {
   "cell_type": "markdown",
   "id": "14b52097-ee5b-4352-8248-eb206b88fc56",
   "metadata": {},
   "source": [
    "<br>"
   ]
  },
  {
   "cell_type": "code",
   "execution_count": 30,
   "id": "7ed93321-64ce-4ac0-80b2-cd9a761cc30c",
   "metadata": {
    "slideshow": {
     "slide_type": "slide"
    }
   },
   "outputs": [
    {
     "data": {
      "text/html": [
       "<div>\n",
       "<style scoped>\n",
       "    .dataframe tbody tr th:only-of-type {\n",
       "        vertical-align: middle;\n",
       "    }\n",
       "\n",
       "    .dataframe tbody tr th {\n",
       "        vertical-align: top;\n",
       "    }\n",
       "\n",
       "    .dataframe thead th {\n",
       "        text-align: right;\n",
       "    }\n",
       "</style>\n",
       "<table border=\"1\" class=\"dataframe\">\n",
       "  <thead>\n",
       "    <tr style=\"text-align: right;\">\n",
       "      <th></th>\n",
       "      <th>accuracy</th>\n",
       "      <th>precision</th>\n",
       "      <th>recall</th>\n",
       "      <th>FPR</th>\n",
       "    </tr>\n",
       "  </thead>\n",
       "  <tbody>\n",
       "    <tr>\n",
       "      <th>male</th>\n",
       "      <td>0.756285</td>\n",
       "      <td>0.570246</td>\n",
       "      <td>0.847186</td>\n",
       "      <td>0.284174</td>\n",
       "    </tr>\n",
       "    <tr>\n",
       "      <th>female</th>\n",
       "      <td>0.909597</td>\n",
       "      <td>0.568224</td>\n",
       "      <td>0.656587</td>\n",
       "      <td>0.059984</td>\n",
       "    </tr>\n",
       "  </tbody>\n",
       "</table>\n",
       "</div>"
      ],
      "text/plain": [
       "        accuracy  precision    recall       FPR\n",
       "male    0.756285   0.570246  0.847186  0.284174\n",
       "female  0.909597   0.568224  0.656587  0.059984"
      ]
     },
     "execution_count": 30,
     "metadata": {},
     "output_type": "execute_result"
    }
   ],
   "source": [
    "pd.DataFrame(data).T"
   ]
  },
  {
   "cell_type": "markdown",
   "id": "c76579ed-a960-47db-b3f0-b64fbb7120b5",
   "metadata": {
    "slideshow": {
     "slide_type": "-"
    }
   },
   "source": [
    "- Discuss these results with your neighbours. \n",
    "- Does the effect still exist if the sex feature is removed from the model (but you still have it available separately to do the two confusion matrices)? "
   ]
  },
  {
   "cell_type": "markdown",
   "id": "9e6eaf1f-c4cd-4d3e-99fc-beae2f789f42",
   "metadata": {},
   "source": [
    "<br><br><br><br>"
   ]
  },
  {
   "cell_type": "markdown",
   "id": "f677801f-6571-4d78-9b77-bf46c33974e6",
   "metadata": {
    "slideshow": {
     "slide_type": "slide"
    }
   },
   "source": [
    "## Ethical issues in Boston housing dataset"
   ]
  },
  {
   "cell_type": "markdown",
   "id": "513253c7-d43c-42a5-9731-6f3946ef6831",
   "metadata": {},
   "source": [
    "Let us now look at another example dataset with ethical issues which is currently a built in`sklearn` dataset: the Boston Housing dataset. The sklearn documentation says it \"will be removed in 1.2\" (see below).\n",
    "\n",
    "You can read this [Medium article by M Carlisle: \"racist data destruction?\"](https://medium.com/@docintangible/racist-data-destruction-113e3eff54a8)\n",
    "\n",
    "> When I say “systemic racism” here, I mean this mathematically. This is a term, in a statistical model to predict housing prices, that accounts for racism as a factor in pricing. If this is used to predict, or even influence future models by its very existence, then systemic racism will continue to be a pricing factor."
   ]
  },
  {
   "cell_type": "raw",
   "id": "e2d817e9-7260-4f0b-9332-768a4e4444c6",
   "metadata": {
    "slideshow": {
     "slide_type": "slide"
    }
   },
   "source": [
    "from sklearn.datasets import load_boston\n",
    "\n",
    "?load_boston"
   ]
  },
  {
   "cell_type": "markdown",
   "id": "6411b5bc-6139-4cfe-843b-de3c6921b9f7",
   "metadata": {},
   "source": [
    "The following is quoted from `sklearn.datasets.load_boston()` documentation:\n",
    "\n",
    "```\n",
    "Signature: load_boston(*, return_X_y=False)\n",
    "Docstring:\n",
    "DEPRECATED: `load_boston` is deprecated in 1.0 and will be removed in 1.2.\n",
    "\n",
    "The Boston housing prices dataset has an ethical problem. You can refer to\n",
    "the documentation of this function for further details.\n",
    "\n",
    "The scikit-learn maintainers therefore strongly discourage the use of this\n",
    "dataset unless the purpose of the code is to study and educate about\n",
    "ethical issues in data science and machine learning.\n",
    "\n",
    "In this special case, you can fetch the dataset from the original\n",
    "source::\n",
    "\n",
    "    import pandas as pd\n",
    "    import numpy as np\n",
    "\n",
    "\n",
    "    data_url = \"http://lib.stat.cmu.edu/datasets/boston\"\n",
    "    raw_df = pd.read_csv(data_url, sep=\"\\s+\", skiprows=22, header=None)\n",
    "    data = np.hstack([raw_df.values[::2, :], raw_df.values[1::2, :2]])\n",
    "    target = raw_df.values[1::2, 2]\n",
    "\n",
    "Alternative datasets include the California housing dataset (i.e.\n",
    ":func:`~sklearn.datasets.fetch_california_housing`) and the Ames housing\n",
    "dataset. You can load the datasets as follows::\n",
    "\n",
    "    from sklearn.datasets import fetch_california_housing\n",
    "    housing = fetch_california_housing()\n",
    "\n",
    "for the California housing dataset and::\n",
    "\n",
    "    from sklearn.datasets import fetch_openml\n",
    "    housing = fetch_openml(name=\"house_prices\", as_frame=True)\n",
    "\n",
    "for the Ames housing dataset.\n",
    "\n",
    "\n",
    "Load and return the boston house-prices dataset (regression).\n",
    "\n",
    "==============   ==============\n",
    "Samples total               506\n",
    "Dimensionality               13\n",
    "Features         real, positive\n",
    "Targets           real 5. - 50.\n",
    "==============   ==============\n",
    "\n",
    "Read more in the :ref:`User Guide <boston_dataset>`.\n",
    "\n",
    ".. deprecated:: 1.0\n",
    "   This function is deprecated in 1.0 and will be removed in 1.2. See the\n",
    "   warning message below for further details regarding the alternative\n",
    "   datasets.\n",
    "\n",
    ".. warning::\n",
    "    The Boston housing prices dataset has an ethical problem: as\n",
    "    investigated in [1]_, the authors of this dataset engineered a\n",
    "    non-invertible variable \"B\" assuming that racial self-segregation had a\n",
    "    positive impact on house prices [2]_. Furthermore the goal of the\n",
    "    research that led to the creation of this dataset was to study the\n",
    "    impact of air quality but it did not give adequate demonstration of the\n",
    "    validity of this assumption.\n",
    "\n",
    "    The scikit-learn maintainers therefore strongly discourage the use of\n",
    "    this dataset unless the purpose of the code is to study and educate\n",
    "    about ethical issues in data science and machine learning.\n",
    "\n",
    "    In this special case, you can fetch the dataset from the original\n",
    "    source::\n",
    "\n",
    "        import pandas as pd  # doctest: +SKIP\n",
    "        import numpy as np\n",
    "\n",
    "\n",
    "        data_url = \"http://lib.stat.cmu.edu/datasets/boston\"\n",
    "        raw_df = pd.read_csv(data_url, sep=\"s+\", skiprows=22, header=None)\n",
    "        data = np.hstack([raw_df.values[::2, :], raw_df.values[1::2, :2]])\n",
    "        target = raw_df.values[1::2, 2]\n",
    "\n",
    "    Alternative datasets include the California housing dataset [3]_\n",
    "    (i.e. :func:`~sklearn.datasets.fetch_california_housing`) and Ames\n",
    "    housing dataset [4]_. You can load the datasets as follows::\n",
    "\n",
    "        from sklearn.datasets import fetch_california_housing\n",
    "        housing = fetch_california_housing()\n",
    "\n",
    "    for the California housing dataset and::\n",
    "\n",
    "        from sklearn.datasets import fetch_openml\n",
    "        housing = fetch_openml(name=\"house_prices\", as_frame=True)  # noqa\n",
    "\n",
    "    for the Ames housing dataset.\n",
    "\n",
    "Parameters\n",
    "----------\n",
    "return_X_y : bool, default=False\n",
    "    If True, returns ``(data, target)`` instead of a Bunch object.\n",
    "    See below for more information about the `data` and `target` object.\n",
    "\n",
    "    .. versionadded:: 0.18\n",
    "\n",
    "Returns\n",
    "-------\n",
    "data : :class:`~sklearn.utils.Bunch`\n",
    "    Dictionary-like object, with the following attributes.\n",
    "\n",
    "    data : ndarray of shape (506, 13)\n",
    "        The data matrix.\n",
    "    target : ndarray of shape (506,)\n",
    "        The regression target.\n",
    "    filename : str\n",
    "        The physical location of boston csv dataset.\n",
    "\n",
    "        .. versionadded:: 0.20\n",
    "\n",
    "    DESCR : str\n",
    "        The full description of the dataset.\n",
    "    feature_names : ndarray\n",
    "        The names of features\n",
    "\n",
    "(data, target) : tuple if ``return_X_y`` is True\n",
    "\n",
    "    .. versionadded:: 0.18\n",
    "\n",
    "Notes\n",
    "-----\n",
    "    .. versionchanged:: 0.20\n",
    "        Fixed a wrong data point at [445, 0].\n",
    "\n",
    "References\n",
    "----------\n",
    ".. [1] `Racist data destruction? M Carlisle,\n",
    "        <https://medium.com/@docintangible/racist-data-destruction-113e3eff54a8>`_\n",
    ".. [2] `Harrison Jr, David, and Daniel L. Rubinfeld.\n",
    "       \"Hedonic housing prices and the demand for clean air.\"\n",
    "       Journal of environmental economics and management 5.1 (1978): 81-102.\n",
    "       <https://www.researchgate.net/publication/4974606_Hedonic_housing_prices_and_the_demand_for_clean_air>`_\n",
    ".. [3] `California housing dataset\n",
    "        <https://scikit-learn.org/stable/datasets/real_world.html#california-housing-dataset>`_\n",
    ".. [4] `Ames housing dataset\n",
    "        <https://www.openml.org/d/42165>`_\n",
    "\n",
    "Examples\n",
    "--------\n",
    ">>> import warnings\n",
    ">>> from sklearn.datasets import load_boston\n",
    ">>> with warnings.catch_warnings():\n",
    "...     # You should probably not use this dataset.\n",
    "...     warnings.filterwarnings(\"ignore\")\n",
    "...     X, y = load_boston(return_X_y=True)\n",
    ">>> print(X.shape)\n",
    "(506, 13)\n",
    "File:      ~/miniconda3/envs/cpsc330/lib/python3.10/site-packages/sklearn/datasets/_base.py\n",
    "Type:      function\n",
    "```"
   ]
  },
  {
   "cell_type": "markdown",
   "id": "7af1dead-b3df-41ad-a057-2c1dde4d8deb",
   "metadata": {},
   "source": [
    "<br><br>"
   ]
  },
  {
   "cell_type": "markdown",
   "id": "e4ff6658-cefc-4c48-9b14-44de1269116e",
   "metadata": {},
   "source": [
    "The following is quoted from the original dataset URL:\n",
    "\n",
    " &nbsp; &nbsp; http://lib.stat.cmu.edu/datasets/boston\n",
    "\n",
    "```\n",
    " The Boston house-price data of Harrison, D. and Rubinfeld, D.L. 'Hedonic\n",
    " prices and the demand for clean air', J. Environ. Economics & Management,\n",
    " vol.5, 81-102, 1978.   Used in Belsley, Kuh & Welsch, 'Regression diagnostics\n",
    " ...', Wiley, 1980.   N.B. Various transformations are used in the table on\n",
    " pages 244-261 of the latter.\n",
    "\n",
    " Variables in order:\n",
    " CRIM     per capita crime rate by town\n",
    " ZN       proportion of residential land zoned for lots over 25,000 sq.ft.\n",
    " INDUS    proportion of non-retail business acres per town\n",
    " CHAS     Charles River dummy variable (= 1 if tract bounds river; 0 otherwise)\n",
    " NOX      nitric oxides concentration (parts per 10 million)\n",
    " RM       average number of rooms per dwelling\n",
    " AGE      proportion of owner-occupied units built prior to 1940\n",
    " DIS      weighted distances to five Boston employment centres\n",
    " RAD      index of accessibility to radial highways\n",
    " TAX      full-value property-tax rate per $10,000\n",
    " PTRATIO  pupil-teacher ratio by town\n",
    " B        1000(Bk - 0.63)^2 where Bk is the proportion of blacks by town\n",
    " LSTAT    % lower status of the population\n",
    " MEDV     Median value of owner-occupied homes in $1000's\n",
    "```"
   ]
  },
  {
   "cell_type": "markdown",
   "id": "b2b4f6c4-5db8-4f0c-8a2e-1bca85479d61",
   "metadata": {},
   "source": [
    "<br><br>"
   ]
  },
  {
   "cell_type": "markdown",
   "id": "1fe92d57-a900-4be7-89a8-224e1e85be53",
   "metadata": {
    "slideshow": {
     "slide_type": "slide"
    }
   },
   "source": [
    "## Dynamics of Ethical Issues!"
   ]
  },
  {
   "cell_type": "markdown",
   "id": "36d21327-09b0-476d-b7c2-865e389131ac",
   "metadata": {},
   "source": [
    "What are __our__ \"___systemic *isms___\" today?"
   ]
  },
  {
   "cell_type": "markdown",
   "id": "35ff79f2-e3c8-4911-9ee5-46696e9e0dca",
   "metadata": {},
   "source": [
    "<br><br>"
   ]
  }
 ],
 "metadata": {
  "kernelspec": {
   "display_name": "Python [conda env:cpsc330]",
   "language": "python",
   "name": "conda-env-cpsc330-py"
  },
  "language_info": {
   "codemirror_mode": {
    "name": "ipython",
    "version": 3
   },
   "file_extension": ".py",
   "mimetype": "text/x-python",
   "name": "python",
   "nbconvert_exporter": "python",
   "pygments_lexer": "ipython3",
   "version": "3.10.4"
  }
 },
 "nbformat": 4,
 "nbformat_minor": 5
}
