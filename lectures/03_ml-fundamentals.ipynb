{
 "cells": [
  {
   "cell_type": "markdown",
   "metadata": {},
   "source": [
    "![](img/330-banner.png)"
   ]
  },
  {
   "cell_type": "markdown",
   "metadata": {
    "slideshow": {
     "slide_type": "slide"
    }
   },
   "source": [
    "# Lecture 3: Machine Learning Fundamentals \n",
    "\n",
    "UBC 2022 Summer\n",
    "\n",
    "Instructor: Mehrdad Oveisi"
   ]
  },
  {
   "cell_type": "markdown",
   "metadata": {
    "slideshow": {
     "slide_type": "skip"
    }
   },
   "source": [
    "## Imports"
   ]
  },
  {
   "cell_type": "code",
   "execution_count": 12,
   "metadata": {
    "slideshow": {
     "slide_type": "skip"
    }
   },
   "outputs": [],
   "source": [
    "# import the libraries\n",
    "import os\n",
    "import sys\n",
    "\n",
    "import graphviz\n",
    "import IPython\n",
    "import matplotlib.pyplot as plt\n",
    "import numpy as np\n",
    "import pandas as pd\n",
    "from IPython.display import HTML\n",
    "from sklearn.model_selection import train_test_split\n",
    "\n",
    "sys.path.append(\"code/.\")\n",
    "from plotting_functions import *\n",
    "\n",
    "# Classifiers\n",
    "from sklearn.tree import DecisionTreeClassifier, export_graphviz\n",
    "from utils import *\n",
    "\n",
    "%matplotlib inline\n",
    "\n",
    "pd.set_option(\"display.max_colwidth\", 200)"
   ]
  },
  {
   "cell_type": "markdown",
   "metadata": {
    "slideshow": {
     "slide_type": "slide"
    }
   },
   "source": [
    "## Lecture plan for today\n",
    "\n",
    "- Announcements and intro (~5 mins)\n",
    "- Exercises and Q&A on pre-watched videos (~10 mins) \n",
    "- Watch [cross-validation video](https://youtu.be/4cv8VYonepA) (~11 mins)\n",
    "- Exercises and Q&A on cross validation (~5 mins)\n",
    "- Break \n",
    "- Watch [the fundamental tradeoff video](https://youtu.be/Ihay8yE5KTI) (~20 mins)  \n",
    "- Exercises and Q&A on the fundamental tradeoff (~15 mins)\n",
    "- Summary and wrap up (~5 mins)"
   ]
  },
  {
   "cell_type": "markdown",
   "metadata": {
    "slideshow": {
     "slide_type": "skip"
    }
   },
   "source": [
    "<br><br>"
   ]
  },
  {
   "cell_type": "markdown",
   "metadata": {
    "slideshow": {
     "slide_type": "slide"
    }
   },
   "source": [
    "## Announcements\n",
    "\n",
    "- Extension for hw1\n",
    "    - Check [@69 on Piazza](https://piazza.com/class/kt60nrdhu53454?cid=69). \n",
    "- hw2 released. (Due next week Monday at 11:59pm.)\n",
    "    - You are welcome to broadly discuss it with your classmates but final answers and submissions must be your own. \n",
    "- Advice on keeping up with the material \n",
    "    - Practice! You will find some practice questions [here](https://ml-learn.mds.ubc.ca/). \n",
    "    - Start early on homework assignments.     \n",
    "- If you are still on the waitlist, it's your responsibility to keep up with the material and submit assignments. \n",
    "- Try to avoid asking questions in the break. If you have specific questions and you want to talk to me in person, we can do it outside after the class. \n",
    "- Last day to withdraw without a W standing:\tSeptember 20, 2021"
   ]
  },
  {
   "cell_type": "markdown",
   "metadata": {
    "slideshow": {
     "slide_type": "skip"
    }
   },
   "source": [
    "<br><br>"
   ]
  },
  {
   "cell_type": "markdown",
   "metadata": {
    "slideshow": {
     "slide_type": "slide"
    }
   },
   "source": [
    "## Learning outcomes\n",
    "\n",
    "From this lecture, you will be able to \n",
    "\n",
    "- explain how decision boundaries change with the `max_depth` hyperparameter;\n",
    "- explain the concept of generalization;\n",
    "- appropriately split a dataset into train and test sets using `train_test_split` function;\n",
    "- explain the difference between train, validation, test, and \"deployment\" data;\n",
    "- identify the difference between training error, validation error, and test error;\n",
    "- explain cross-validation and use `cross_val_score` and `cross_validate` to calculate cross-validation error;\n",
    "- recognize overfitting and/or underfitting by looking at train and test scores;\n",
    "- explain why it is generally not possible to get a perfect test score (zero test error) on a supervised learning problem;\n",
    "- describe the fundamental tradeoff between training score and the train-test gap;\n",
    "- state the golden rule;\n",
    "- start to build a standard recipe for supervised learning: train/test split, hyperparameter tuning with cross-validation, test on test set."
   ]
  },
  {
   "cell_type": "markdown",
   "metadata": {
    "slideshow": {
     "slide_type": "skip"
    }
   },
   "source": [
    "<br><br><br><br>"
   ]
  },
  {
   "cell_type": "markdown",
   "metadata": {
    "slideshow": {
     "slide_type": "slide"
    }
   },
   "source": [
    "## Generalization [[video](https://youtu.be/iS2hsRRlc2M)]"
   ]
  },
  {
   "cell_type": "markdown",
   "metadata": {
    "slideshow": {
     "slide_type": "-"
    }
   },
   "source": [
    "### Big picture and motivation \n",
    "\n",
    "In machine learning, we want to glean information from labeled data so that we can label **new unlabeled** data. For example, suppose we want to build a spam filtering system.  We will take a large number of spam/non-spam messages from the past, learn patterns associated with spam/non-spam from them, and predict whether **a new incoming message** in someone's inbox is spam or non-spam based on these patterns. \n",
    "\n",
    "So we want to learn from the past but ultimately we want to apply it on the future email messages. "
   ]
  },
  {
   "cell_type": "markdown",
   "metadata": {
    "slideshow": {
     "slide_type": "slide"
    }
   },
   "source": [
    "![](img/eva-think.png)\n",
    "\n",
    "**How can we generalize from what we've seen to what we haven't seen?** \n",
    "\n",
    "In this lecture, we'll see how machine learning tackles this question. "
   ]
  },
  {
   "cell_type": "markdown",
   "metadata": {
    "slideshow": {
     "slide_type": "slide"
    }
   },
   "source": [
    "### Model complexity and training error\n",
    "\n",
    "In the last lecture, we looked at decision boundaries, a way to visualize what sort of examples will be classified as positive and negative. \n",
    "\n",
    "Let's examine how does the decision boundary change for different tree depths. "
   ]
  },
  {
   "cell_type": "code",
   "execution_count": 13,
   "metadata": {
    "slideshow": {
     "slide_type": "slide"
    }
   },
   "outputs": [
    {
     "data": {
      "text/html": [
       "<div>\n",
       "<style scoped>\n",
       "    .dataframe tbody tr th:only-of-type {\n",
       "        vertical-align: middle;\n",
       "    }\n",
       "\n",
       "    .dataframe tbody tr th {\n",
       "        vertical-align: top;\n",
       "    }\n",
       "\n",
       "    .dataframe thead th {\n",
       "        text-align: right;\n",
       "    }\n",
       "</style>\n",
       "<table border=\"1\" class=\"dataframe\">\n",
       "  <thead>\n",
       "    <tr style=\"text-align: right;\">\n",
       "      <th></th>\n",
       "      <th>ml_experience</th>\n",
       "      <th>class_attendance</th>\n",
       "      <th>lab1</th>\n",
       "      <th>lab2</th>\n",
       "      <th>lab3</th>\n",
       "      <th>lab4</th>\n",
       "      <th>quiz1</th>\n",
       "      <th>quiz2</th>\n",
       "    </tr>\n",
       "  </thead>\n",
       "  <tbody>\n",
       "    <tr>\n",
       "      <th>0</th>\n",
       "      <td>1</td>\n",
       "      <td>1</td>\n",
       "      <td>92</td>\n",
       "      <td>93</td>\n",
       "      <td>84</td>\n",
       "      <td>91</td>\n",
       "      <td>92</td>\n",
       "      <td>A+</td>\n",
       "    </tr>\n",
       "    <tr>\n",
       "      <th>1</th>\n",
       "      <td>1</td>\n",
       "      <td>0</td>\n",
       "      <td>94</td>\n",
       "      <td>90</td>\n",
       "      <td>80</td>\n",
       "      <td>83</td>\n",
       "      <td>91</td>\n",
       "      <td>not A+</td>\n",
       "    </tr>\n",
       "    <tr>\n",
       "      <th>2</th>\n",
       "      <td>0</td>\n",
       "      <td>0</td>\n",
       "      <td>78</td>\n",
       "      <td>85</td>\n",
       "      <td>83</td>\n",
       "      <td>80</td>\n",
       "      <td>80</td>\n",
       "      <td>not A+</td>\n",
       "    </tr>\n",
       "    <tr>\n",
       "      <th>3</th>\n",
       "      <td>0</td>\n",
       "      <td>1</td>\n",
       "      <td>91</td>\n",
       "      <td>94</td>\n",
       "      <td>92</td>\n",
       "      <td>91</td>\n",
       "      <td>89</td>\n",
       "      <td>A+</td>\n",
       "    </tr>\n",
       "    <tr>\n",
       "      <th>4</th>\n",
       "      <td>0</td>\n",
       "      <td>1</td>\n",
       "      <td>77</td>\n",
       "      <td>83</td>\n",
       "      <td>90</td>\n",
       "      <td>92</td>\n",
       "      <td>85</td>\n",
       "      <td>A+</td>\n",
       "    </tr>\n",
       "    <tr>\n",
       "      <th>5</th>\n",
       "      <td>1</td>\n",
       "      <td>0</td>\n",
       "      <td>70</td>\n",
       "      <td>73</td>\n",
       "      <td>68</td>\n",
       "      <td>74</td>\n",
       "      <td>71</td>\n",
       "      <td>not A+</td>\n",
       "    </tr>\n",
       "    <tr>\n",
       "      <th>6</th>\n",
       "      <td>1</td>\n",
       "      <td>0</td>\n",
       "      <td>80</td>\n",
       "      <td>88</td>\n",
       "      <td>89</td>\n",
       "      <td>88</td>\n",
       "      <td>91</td>\n",
       "      <td>A+</td>\n",
       "    </tr>\n",
       "    <tr>\n",
       "      <th>7</th>\n",
       "      <td>0</td>\n",
       "      <td>1</td>\n",
       "      <td>95</td>\n",
       "      <td>93</td>\n",
       "      <td>69</td>\n",
       "      <td>79</td>\n",
       "      <td>75</td>\n",
       "      <td>not A+</td>\n",
       "    </tr>\n",
       "    <tr>\n",
       "      <th>8</th>\n",
       "      <td>0</td>\n",
       "      <td>0</td>\n",
       "      <td>97</td>\n",
       "      <td>90</td>\n",
       "      <td>94</td>\n",
       "      <td>99</td>\n",
       "      <td>80</td>\n",
       "      <td>not A+</td>\n",
       "    </tr>\n",
       "    <tr>\n",
       "      <th>9</th>\n",
       "      <td>1</td>\n",
       "      <td>1</td>\n",
       "      <td>95</td>\n",
       "      <td>95</td>\n",
       "      <td>94</td>\n",
       "      <td>94</td>\n",
       "      <td>85</td>\n",
       "      <td>not A+</td>\n",
       "    </tr>\n",
       "  </tbody>\n",
       "</table>\n",
       "</div>"
      ],
      "text/plain": [
       "   ml_experience  class_attendance  lab1  lab2  lab3  lab4  quiz1   quiz2\n",
       "0              1                 1    92    93    84    91     92      A+\n",
       "1              1                 0    94    90    80    83     91  not A+\n",
       "2              0                 0    78    85    83    80     80  not A+\n",
       "3              0                 1    91    94    92    91     89      A+\n",
       "4              0                 1    77    83    90    92     85      A+\n",
       "5              1                 0    70    73    68    74     71  not A+\n",
       "6              1                 0    80    88    89    88     91      A+\n",
       "7              0                 1    95    93    69    79     75  not A+\n",
       "8              0                 0    97    90    94    99     80  not A+\n",
       "9              1                 1    95    95    94    94     85  not A+"
      ]
     },
     "execution_count": 13,
     "metadata": {},
     "output_type": "execute_result"
    }
   ],
   "source": [
    "# Toy quiz2 grade data\n",
    "classification_df = pd.read_csv(\"data/quiz2-grade-toy-classification.csv\")\n",
    "classification_df.head(10)"
   ]
  },
  {
   "cell_type": "code",
   "execution_count": 14,
   "metadata": {
    "slideshow": {
     "slide_type": "slide"
    }
   },
   "outputs": [],
   "source": [
    "X = classification_df.drop([\"quiz2\"], axis=1)\n",
    "y = classification_df[\"quiz2\"]"
   ]
  },
  {
   "cell_type": "code",
   "execution_count": 15,
   "metadata": {
    "slideshow": {
     "slide_type": "-"
    }
   },
   "outputs": [
    {
     "data": {
      "text/html": [
       "<div>\n",
       "<style scoped>\n",
       "    .dataframe tbody tr th:only-of-type {\n",
       "        vertical-align: middle;\n",
       "    }\n",
       "\n",
       "    .dataframe tbody tr th {\n",
       "        vertical-align: top;\n",
       "    }\n",
       "\n",
       "    .dataframe thead th {\n",
       "        text-align: right;\n",
       "    }\n",
       "</style>\n",
       "<table border=\"1\" class=\"dataframe\">\n",
       "  <thead>\n",
       "    <tr style=\"text-align: right;\">\n",
       "      <th></th>\n",
       "      <th>lab4</th>\n",
       "      <th>quiz1</th>\n",
       "    </tr>\n",
       "  </thead>\n",
       "  <tbody>\n",
       "    <tr>\n",
       "      <th>0</th>\n",
       "      <td>91</td>\n",
       "      <td>92</td>\n",
       "    </tr>\n",
       "    <tr>\n",
       "      <th>1</th>\n",
       "      <td>83</td>\n",
       "      <td>91</td>\n",
       "    </tr>\n",
       "    <tr>\n",
       "      <th>2</th>\n",
       "      <td>80</td>\n",
       "      <td>80</td>\n",
       "    </tr>\n",
       "    <tr>\n",
       "      <th>3</th>\n",
       "      <td>91</td>\n",
       "      <td>89</td>\n",
       "    </tr>\n",
       "    <tr>\n",
       "      <th>4</th>\n",
       "      <td>92</td>\n",
       "      <td>85</td>\n",
       "    </tr>\n",
       "  </tbody>\n",
       "</table>\n",
       "</div>"
      ],
      "text/plain": [
       "   lab4  quiz1\n",
       "0    91     92\n",
       "1    83     91\n",
       "2    80     80\n",
       "3    91     89\n",
       "4    92     85"
      ]
     },
     "execution_count": 15,
     "metadata": {},
     "output_type": "execute_result"
    }
   ],
   "source": [
    "X_subset = X[[\"lab4\", \"quiz1\"]]  # Let's consider a subset of the data for visualization\n",
    "X_subset.head()"
   ]
  },
  {
   "cell_type": "markdown",
   "metadata": {
    "slideshow": {
     "slide_type": "slide"
    }
   },
   "source": [
    "In the following model, this decision boundary is created by asking one question. "
   ]
  },
  {
   "cell_type": "code",
   "execution_count": 16,
   "metadata": {
    "scrolled": true
   },
   "outputs": [
    {
     "name": "stdout",
     "output_type": "stream",
     "text": [
      "Error:   0.286\n"
     ]
    },
    {
     "name": "stderr",
     "output_type": "stream",
     "text": [
      "C:\\Users\\chunq\\miniconda3\\envs\\cpsc330\\lib\\site-packages\\sklearn\\base.py:450: UserWarning: X does not have valid feature names, but DecisionTreeClassifier was fitted with feature names\n",
      "  warnings.warn(\n"
     ]
    },
    {
     "data": {
      "image/png": "[encoded data removed]",
      "text/plain": [
       "<Figure size 1152x432 with 2 Axes>"
      ]
     },
     "metadata": {},
     "output_type": "display_data"
    }
   ],
   "source": [
    "depth = 1\n",
    "model = DecisionTreeClassifier(max_depth=depth)\n",
    "model.fit(X_subset, y)\n",
    "model.score(X_subset, y)\n",
    "print(\"Error:   %0.3f\" % (1 - model.score(X_subset, y)))\n",
    "plot_tree_decision_boundary_and_tree(\n",
    "    model, X_subset, y, x_label=\"lab4\", y_label=\"quiz1\"\n",
    ")"
   ]
  },
  {
   "cell_type": "markdown",
   "metadata": {
    "slideshow": {
     "slide_type": "slide"
    }
   },
   "source": [
    "In the following model, this decision boundary is created by asking two questions. "
   ]
  },
  {
   "cell_type": "code",
   "execution_count": 17,
   "metadata": {},
   "outputs": [
    {
     "name": "stdout",
     "output_type": "stream",
     "text": [
      "Error:   0.190\n"
     ]
    },
    {
     "name": "stderr",
     "output_type": "stream",
     "text": [
      "C:\\Users\\chunq\\miniconda3\\envs\\cpsc330\\lib\\site-packages\\sklearn\\base.py:450: UserWarning: X does not have valid feature names, but DecisionTreeClassifier was fitted with feature names\n",
      "  warnings.warn(\n"
     ]
    },
    {
     "data": {
      "image/png": "[encoded data removed]",
      "text/plain": [
       "<Figure size 1152x432 with 2 Axes>"
      ]
     },
     "metadata": {},
     "output_type": "display_data"
    }
   ],
   "source": [
    "depth = 2\n",
    "model = DecisionTreeClassifier(max_depth=depth)\n",
    "model.fit(X_subset, y)\n",
    "model.score(X_subset, y)\n",
    "print(\"Error:   %0.3f\" % (1 - model.score(X_subset, y)))\n",
    "plot_tree_decision_boundary_and_tree(\n",
    "    model, X_subset, y, x_label=\"lab4\", y_label=\"quiz1\"\n",
    ")"
   ]
  },
  {
   "cell_type": "markdown",
   "metadata": {
    "slideshow": {
     "slide_type": "slide"
    }
   },
   "source": [
    "Let's look at the decision boundary with depth = 4. "
   ]
  },
  {
   "cell_type": "code",
   "execution_count": 18,
   "metadata": {
    "slideshow": {
     "slide_type": "-"
    }
   },
   "outputs": [
    {
     "name": "stdout",
     "output_type": "stream",
     "text": [
      "Error:   0.048\n"
     ]
    },
    {
     "name": "stderr",
     "output_type": "stream",
     "text": [
      "C:\\Users\\chunq\\miniconda3\\envs\\cpsc330\\lib\\site-packages\\sklearn\\base.py:450: UserWarning: X does not have valid feature names, but DecisionTreeClassifier was fitted with feature names\n",
      "  warnings.warn(\n"
     ]
    },
    {
     "data": {
      "image/png": "[encoded data removed]",
      "text/plain": [
       "<Figure size 1152x432 with 2 Axes>"
      ]
     },
     "metadata": {},
     "output_type": "display_data"
    }
   ],
   "source": [
    "depth = 4\n",
    "model = DecisionTreeClassifier(max_depth=depth)\n",
    "model.fit(X_subset, y)\n",
    "model.score(X_subset, y)\n",
    "print(\"Error:   %0.3f\" % (1 - model.score(X_subset, y)))\n",
    "plot_tree_decision_boundary_and_tree(\n",
    "    model, X_subset, y, x_label=\"lab4\", y_label=\"quiz1\"\n",
    ")"
   ]
  },
  {
   "cell_type": "markdown",
   "metadata": {
    "slideshow": {
     "slide_type": "slide"
    }
   },
   "source": [
    "Let's look at the decision boundary with depth = 6. "
   ]
  },
  {
   "cell_type": "code",
   "execution_count": 19,
   "metadata": {
    "slideshow": {
     "slide_type": "-"
    }
   },
   "outputs": [
    {
     "name": "stdout",
     "output_type": "stream",
     "text": [
      "Error:   0.000\n"
     ]
    },
    {
     "name": "stderr",
     "output_type": "stream",
     "text": [
      "C:\\Users\\chunq\\miniconda3\\envs\\cpsc330\\lib\\site-packages\\sklearn\\base.py:450: UserWarning: X does not have valid feature names, but DecisionTreeClassifier was fitted with feature names\n",
      "  warnings.warn(\n"
     ]
    },
    {
     "data": {
      "image/png": "[encoded data removed]",
      "text/plain": [
       "<Figure size 1152x432 with 2 Axes>"
      ]
     },
     "metadata": {},
     "output_type": "display_data"
    }
   ],
   "source": [
    "depth = 6\n",
    "model = DecisionTreeClassifier(max_depth=depth)\n",
    "model.fit(X_subset, y)\n",
    "model.score(X_subset, y)\n",
    "print(\"Error:   %0.3f\" % (1 - model.score(X_subset, y)))\n",
    "plot_tree_decision_boundary_and_tree(\n",
    "    model, X_subset, y, x_label=\"lab4\", y_label=\"quiz1\"\n",
    ")"
   ]
  },
  {
   "cell_type": "code",
   "execution_count": 20,
   "metadata": {
    "slideshow": {
     "slide_type": "slide"
    }
   },
   "outputs": [
    {
     "data": {
      "image/png": "[encoded data removed]",
      "text/plain": [
       "<Figure size 432x288 with 1 Axes>"
      ]
     },
     "metadata": {
      "needs_background": "light"
     },
     "output_type": "display_data"
    }
   ],
   "source": [
    "max_depths = np.arange(1, 18)\n",
    "errors = []\n",
    "for max_depth in max_depths:\n",
    "    error = 1 - DecisionTreeClassifier(max_depth=max_depth).fit(X_subset, y).score(\n",
    "        X_subset, y\n",
    "    )\n",
    "    errors.append(error)\n",
    "plt.plot(max_depths, errors)\n",
    "plt.xlabel(\"max depth\")\n",
    "plt.ylabel(\"error\");"
   ]
  },
  {
   "cell_type": "markdown",
   "metadata": {
    "slideshow": {
     "slide_type": "-"
    }
   },
   "source": [
    "- Our model has 0% error for depths >= 6!! \n",
    "- But it's also becoming more and more specific and sensitive to the training data.  \n",
    "- Is it good or bad?"
   ]
  },
  {
   "cell_type": "markdown",
   "metadata": {},
   "source": [
    "```{admonition} Note \n",
    ":class: note\n",
    "Although the plot above (complexity hyperparameter vs error) is more popular, we could also look at the same plot flip the $y$-axis, i.e., consider accuracy instead of error. \n",
    "```"
   ]
  },
  {
   "cell_type": "code",
   "execution_count": 21,
   "metadata": {},
   "outputs": [
    {
     "data": {
      "image/png": "[encoded data removed]",
      "text/plain": [
       "<Figure size 432x288 with 1 Axes>"
      ]
     },
     "metadata": {
      "needs_background": "light"
     },
     "output_type": "display_data"
    }
   ],
   "source": [
    "max_depths = np.arange(1, 18)\n",
    "accuracies = []\n",
    "for max_depth in max_depths:\n",
    "    accuracy = (\n",
    "        DecisionTreeClassifier(max_depth=max_depth).fit(X_subset, y).score(X_subset, y)\n",
    "    )\n",
    "    accuracies.append(accuracy)\n",
    "plt.plot(max_depths, accuracies)\n",
    "plt.xlabel(\"max depth\")\n",
    "plt.ylabel(\"accuracy\");"
   ]
  },
  {
   "cell_type": "markdown",
   "metadata": {
    "slideshow": {
     "slide_type": "slide"
    }
   },
   "source": [
    "### 🤔 Eva's questions\n",
    "\n",
    "![](img/eva-think.png)\n"
   ]
  },
  {
   "cell_type": "markdown",
   "metadata": {
    "slideshow": {
     "slide_type": "slide"
    }
   },
   "source": [
    "At this point Eva is wondering about the following questions. \n",
    "\n",
    "- How to pick the best depth? \n",
    "- How can we make sure that the model we have built would do reasonably well on new data in the wild when it's deployed? \n",
    "- Which of the following rules learned by the decision tree algorithm are likely to generalize better to new data? \n",
    "\n",
    "> Rule 1: If class_attendance == 1 then grade is A+. \n",
    "\n",
    "> Rule 2: If lab3 > 83.5 and quiz1 <= 83.5 and lab2 <= 88 then quiz2 grade is A+\n",
    "\n",
    "To better understand the material in the next sections, think about these questions on your own or discuss them with your friend/neighbour before proceeding. "
   ]
  },
  {
   "cell_type": "markdown",
   "metadata": {
    "slideshow": {
     "slide_type": "skip"
    }
   },
   "source": [
    "<br><br><br><br>"
   ]
  },
  {
   "cell_type": "markdown",
   "metadata": {
    "slideshow": {
     "slide_type": "slide"
    }
   },
   "source": [
    "### Generalization: Fundamental goal of ML\n",
    "\n",
    "> **To generalize beyond what we see in the training examples**\n",
    "\n",
    "We only have access to limited amount of training data and we want to learn a mapping function which would predict targets reasonably well for examples beyond this training data. "
   ]
  },
  {
   "cell_type": "markdown",
   "metadata": {
    "slideshow": {
     "slide_type": "slide"
    }
   },
   "source": [
    "- Example: Imagine that a learner sees the following images and corresponding labels. \n",
    "\n",
    "![](img/generalization-train.png)\n",
    "<!-- <center>\n",
    "<img src='img/generalization-train.png' width=\"600\" height=\"600\" />\n",
    "</center>     -->"
   ]
  },
  {
   "cell_type": "markdown",
   "metadata": {
    "slideshow": {
     "slide_type": "slide"
    }
   },
   "source": [
    "### Generalizing to unseen data\n",
    "\n",
    "- Now the learner is presented with new images (1 to 4) for prediction. \n",
    "- What prediction would you expect for each image?   \n",
    "\n",
    "![](img/generalization-predict.png)\n",
    "\n",
    "<!-- <center>\n",
    "<img src='img/generalization-predict.png' width=\"1000\" height=\"1000\" />\n",
    "</center>     -->"
   ]
  },
  {
   "cell_type": "markdown",
   "metadata": {
    "slideshow": {
     "slide_type": "slide"
    }
   },
   "source": [
    "- Goal: We want the learner to be able to generalize beyond what it has seen in the training data.\n",
    "- But these new examples should be representative of the training data. That is they should have the same characteristics as the training data. \n",
    "- In this example, we would like the leaner to be able to predict labels for test examples 1, 2, and 3 accurately. Although 2, 3 don't exactly occur in the training data, they are very much similar to the images in the training data. That said, is it fair to expect the learner to label image 4 correctly? "
   ]
  },
  {
   "cell_type": "markdown",
   "metadata": {
    "slideshow": {
     "slide_type": "slide"
    }
   },
   "source": [
    "### Training error vs. Generalization error \n",
    "\n",
    "- Given a model $M$, in ML, people usually talk about two kinds of errors of $M$. \n",
    "    1. Error on the training data: $error_{training}(M)$ \n",
    "    2. Error on the entire distribution $D$ of data: $error_{D}(M)$\n",
    "- We are interested in the error on the entire distribution     \n",
    "    - ... But we do not have access to the entire distribution 😞"
   ]
  },
  {
   "cell_type": "markdown",
   "metadata": {},
   "source": [
    "<br><br><br><br>"
   ]
  },
  {
   "cell_type": "markdown",
   "metadata": {
    "slideshow": {
     "slide_type": "slide"
    }
   },
   "source": [
    "## Data Splitting [[video](https://youtu.be/h2AEobwcUQw)]"
   ]
  },
  {
   "cell_type": "markdown",
   "metadata": {
    "slideshow": {
     "slide_type": "slide"
    }
   },
   "source": [
    "### How to approximate generalization error? \n",
    "\n",
    "A common way is **data splitting**. \n",
    "- Keep aside some randomly selected portion from the training data.\n",
    "- `fit` (train) a model on the training portion only. \n",
    "- `score` (assess) the trained model on this set aside data to get a sense of how well the model would be able to generalize.\n",
    "- Pretend that the kept aside data is representative of the real distribution $D$ of data. "
   ]
  },
  {
   "cell_type": "markdown",
   "metadata": {
    "slideshow": {
     "slide_type": "slide"
    }
   },
   "source": [
    "![](img/eva-good-idea.png)"
   ]
  },
  {
   "cell_type": "code",
   "execution_count": 22,
   "metadata": {
    "scrolled": true,
    "slideshow": {
     "slide_type": "slide"
    }
   },
   "outputs": [
    {
     "name": "stderr",
     "output_type": "stream",
     "text": [
      "C:\\Users\\chunq\\miniconda3\\envs\\cpsc330\\lib\\site-packages\\IPython\\core\\display.py:419: UserWarning: Consider using IPython.display.IFrame instead\n",
      "  warnings.warn(\"Consider using IPython.display.IFrame instead\")\n"
     ]
    },
    {
     "data": {
      "text/html": [
       "<iframe src=https://scikit-learn.org/stable/modules/generated/sklearn.model_selection.train_test_split.html width=1000 height=800></iframe>"
      ],
      "text/plain": [
       "<IPython.core.display.HTML object>"
      ]
     },
     "execution_count": 22,
     "metadata": {},
     "output_type": "execute_result"
    }
   ],
   "source": [
    "# scikit-learn train_test_split\n",
    "url = \"https://scikit-learn.org/stable/modules/generated/sklearn.model_selection.train_test_split.html\"\n",
    "HTML(\"<iframe src=%s width=1000 height=800></iframe>\" % url)"
   ]
  },
  {
   "cell_type": "markdown",
   "metadata": {
    "slideshow": {
     "slide_type": "-"
    }
   },
   "source": [
    "- We can pass `X` and `y` or a dataframe with both `X` and `y` in it. \n",
    "- We can also specify the train or test split sizes. "
   ]
  },
  {
   "cell_type": "markdown",
   "metadata": {
    "slideshow": {
     "slide_type": "slide"
    },
    "tags": []
   },
   "source": [
    "### Simple train/test split \n",
    "\n",
    "- The picture shows an 80%-20% split of a toy dataset with 10 examples. \n",
    "- The data is shuffled before splitting. \n",
    "- Usually when we do machine learning we split the data before doing anything and put the test data in an imaginary chest lock. \n",
    "\n",
    "![](img/train-test-split.png)\n",
    "\n",
    "<!-- <img src='img/train-test-split.png' width=\"1500\" height=\"1500\" /> -->"
   ]
  },
  {
   "cell_type": "code",
   "execution_count": 23,
   "metadata": {
    "slideshow": {
     "slide_type": "slide"
    }
   },
   "outputs": [],
   "source": [
    "# Let's demonstrate this with the canada usa cities data\n",
    "# The data is available in the data directory\n",
    "df = pd.read_csv(\"data/canada_usa_cities.csv\")\n",
    "X = df.drop(columns=[\"country\"])\n",
    "y = df[\"country\"]"
   ]
  },
  {
   "cell_type": "code",
   "execution_count": 24,
   "metadata": {
    "slideshow": {
     "slide_type": "slide"
    }
   },
   "outputs": [
    {
     "data": {
      "text/html": [
       "<div>\n",
       "<style scoped>\n",
       "    .dataframe tbody tr th:only-of-type {\n",
       "        vertical-align: middle;\n",
       "    }\n",
       "\n",
       "    .dataframe tbody tr th {\n",
       "        vertical-align: top;\n",
       "    }\n",
       "\n",
       "    .dataframe thead th {\n",
       "        text-align: right;\n",
       "    }\n",
       "</style>\n",
       "<table border=\"1\" class=\"dataframe\">\n",
       "  <thead>\n",
       "    <tr style=\"text-align: right;\">\n",
       "      <th></th>\n",
       "      <th>longitude</th>\n",
       "      <th>latitude</th>\n",
       "    </tr>\n",
       "  </thead>\n",
       "  <tbody>\n",
       "    <tr>\n",
       "      <th>0</th>\n",
       "      <td>-130.0437</td>\n",
       "      <td>55.9773</td>\n",
       "    </tr>\n",
       "    <tr>\n",
       "      <th>1</th>\n",
       "      <td>-134.4197</td>\n",
       "      <td>58.3019</td>\n",
       "    </tr>\n",
       "    <tr>\n",
       "      <th>2</th>\n",
       "      <td>-123.0780</td>\n",
       "      <td>48.9854</td>\n",
       "    </tr>\n",
       "    <tr>\n",
       "      <th>3</th>\n",
       "      <td>-122.7436</td>\n",
       "      <td>48.9881</td>\n",
       "    </tr>\n",
       "    <tr>\n",
       "      <th>4</th>\n",
       "      <td>-122.2691</td>\n",
       "      <td>48.9951</td>\n",
       "    </tr>\n",
       "    <tr>\n",
       "      <th>...</th>\n",
       "      <td>...</td>\n",
       "      <td>...</td>\n",
       "    </tr>\n",
       "    <tr>\n",
       "      <th>204</th>\n",
       "      <td>-72.7218</td>\n",
       "      <td>45.3990</td>\n",
       "    </tr>\n",
       "    <tr>\n",
       "      <th>205</th>\n",
       "      <td>-66.6458</td>\n",
       "      <td>45.9664</td>\n",
       "    </tr>\n",
       "    <tr>\n",
       "      <th>206</th>\n",
       "      <td>-79.2506</td>\n",
       "      <td>42.9931</td>\n",
       "    </tr>\n",
       "    <tr>\n",
       "      <th>207</th>\n",
       "      <td>-72.9406</td>\n",
       "      <td>45.6275</td>\n",
       "    </tr>\n",
       "    <tr>\n",
       "      <th>208</th>\n",
       "      <td>-79.4608</td>\n",
       "      <td>46.3092</td>\n",
       "    </tr>\n",
       "  </tbody>\n",
       "</table>\n",
       "<p>209 rows × 2 columns</p>\n",
       "</div>"
      ],
      "text/plain": [
       "     longitude  latitude\n",
       "0    -130.0437   55.9773\n",
       "1    -134.4197   58.3019\n",
       "2    -123.0780   48.9854\n",
       "3    -122.7436   48.9881\n",
       "4    -122.2691   48.9951\n",
       "..         ...       ...\n",
       "204   -72.7218   45.3990\n",
       "205   -66.6458   45.9664\n",
       "206   -79.2506   42.9931\n",
       "207   -72.9406   45.6275\n",
       "208   -79.4608   46.3092\n",
       "\n",
       "[209 rows x 2 columns]"
      ]
     },
     "execution_count": 24,
     "metadata": {},
     "output_type": "execute_result"
    }
   ],
   "source": [
    "X"
   ]
  },
  {
   "cell_type": "code",
   "execution_count": 25,
   "metadata": {},
   "outputs": [
    {
     "data": {
      "text/plain": [
       "0         USA\n",
       "1         USA\n",
       "2         USA\n",
       "3         USA\n",
       "4         USA\n",
       "        ...  \n",
       "204    Canada\n",
       "205    Canada\n",
       "206    Canada\n",
       "207    Canada\n",
       "208    Canada\n",
       "Name: country, Length: 209, dtype: object"
      ]
     },
     "execution_count": 25,
     "metadata": {},
     "output_type": "execute_result"
    }
   ],
   "source": [
    "y"
   ]
  },
  {
   "cell_type": "code",
   "execution_count": 26,
   "metadata": {
    "slideshow": {
     "slide_type": "slide"
    }
   },
   "outputs": [
    {
     "data": {
      "text/html": [
       "<table border=\"1\" class=\"dataframe\">\n",
       "  <thead>\n",
       "    <tr style=\"text-align: right;\">\n",
       "      <th>Data portion</th>\n",
       "      <th>Shape</th>\n",
       "    </tr>\n",
       "  </thead>\n",
       "  <tbody>\n",
       "    <tr>\n",
       "      <td>X</td>\n",
       "      <td>(209, 2)</td>\n",
       "    </tr>\n",
       "    <tr>\n",
       "      <td>y</td>\n",
       "      <td>(209,)</td>\n",
       "    </tr>\n",
       "    <tr>\n",
       "      <td>X_train</td>\n",
       "      <td>(167, 2)</td>\n",
       "    </tr>\n",
       "    <tr>\n",
       "      <td>y_train</td>\n",
       "      <td>(167,)</td>\n",
       "    </tr>\n",
       "    <tr>\n",
       "      <td>X_test</td>\n",
       "      <td>(42, 2)</td>\n",
       "    </tr>\n",
       "    <tr>\n",
       "      <td>y_test</td>\n",
       "      <td>(42,)</td>\n",
       "    </tr>\n",
       "  </tbody>\n",
       "</table>"
      ],
      "text/plain": [
       "<IPython.core.display.HTML object>"
      ]
     },
     "execution_count": 26,
     "metadata": {},
     "output_type": "execute_result"
    }
   ],
   "source": [
    "from sklearn.model_selection import train_test_split\n",
    "\n",
    "X_train, X_test, y_train, y_test = train_test_split(\n",
    "    X, y, test_size=0.2, random_state=123\n",
    ")  # 80%-20% train test split on X and y\n",
    "\n",
    "# Print shapes\n",
    "shape_dict = {\n",
    "    \"Data portion\": [\"X\", \"y\", \"X_train\", \"y_train\", \"X_test\", \"y_test\"],\n",
    "    \"Shape\": [\n",
    "        X.shape,\n",
    "        y.shape,\n",
    "        X_train.shape,\n",
    "        y_train.shape,\n",
    "        X_test.shape,\n",
    "        y_test.shape,\n",
    "    ],\n",
    "}\n",
    "\n",
    "shape_df = pd.DataFrame(shape_dict)\n",
    "HTML(shape_df.to_html(index=False))"
   ]
  },
  {
   "cell_type": "markdown",
   "metadata": {
    "slideshow": {
     "slide_type": "slide"
    }
   },
   "source": [
    "#### Creating `train_df` and `test_df`\n",
    "\n",
    "- Sometimes we want to keep the target in the train split for EDA or for visualization. "
   ]
  },
  {
   "cell_type": "code",
   "execution_count": 27,
   "metadata": {},
   "outputs": [
    {
     "data": {
      "text/html": [
       "<div>\n",
       "<style scoped>\n",
       "    .dataframe tbody tr th:only-of-type {\n",
       "        vertical-align: middle;\n",
       "    }\n",
       "\n",
       "    .dataframe tbody tr th {\n",
       "        vertical-align: top;\n",
       "    }\n",
       "\n",
       "    .dataframe thead th {\n",
       "        text-align: right;\n",
       "    }\n",
       "</style>\n",
       "<table border=\"1\" class=\"dataframe\">\n",
       "  <thead>\n",
       "    <tr style=\"text-align: right;\">\n",
       "      <th></th>\n",
       "      <th>longitude</th>\n",
       "      <th>latitude</th>\n",
       "      <th>country</th>\n",
       "    </tr>\n",
       "  </thead>\n",
       "  <tbody>\n",
       "    <tr>\n",
       "      <th>160</th>\n",
       "      <td>-76.4813</td>\n",
       "      <td>44.2307</td>\n",
       "      <td>Canada</td>\n",
       "    </tr>\n",
       "    <tr>\n",
       "      <th>127</th>\n",
       "      <td>-81.2496</td>\n",
       "      <td>42.9837</td>\n",
       "      <td>Canada</td>\n",
       "    </tr>\n",
       "    <tr>\n",
       "      <th>169</th>\n",
       "      <td>-66.0580</td>\n",
       "      <td>45.2788</td>\n",
       "      <td>Canada</td>\n",
       "    </tr>\n",
       "    <tr>\n",
       "      <th>188</th>\n",
       "      <td>-73.2533</td>\n",
       "      <td>45.3057</td>\n",
       "      <td>Canada</td>\n",
       "    </tr>\n",
       "    <tr>\n",
       "      <th>187</th>\n",
       "      <td>-67.9245</td>\n",
       "      <td>47.1652</td>\n",
       "      <td>Canada</td>\n",
       "    </tr>\n",
       "  </tbody>\n",
       "</table>\n",
       "</div>"
      ],
      "text/plain": [
       "     longitude  latitude country\n",
       "160   -76.4813   44.2307  Canada\n",
       "127   -81.2496   42.9837  Canada\n",
       "169   -66.0580   45.2788  Canada\n",
       "188   -73.2533   45.3057  Canada\n",
       "187   -67.9245   47.1652  Canada"
      ]
     },
     "execution_count": 27,
     "metadata": {},
     "output_type": "execute_result"
    }
   ],
   "source": [
    "train_df, test_df = train_test_split(\n",
    "    df, test_size=0.2, random_state=123\n",
    ")  # 80%-20% train test split on df\n",
    "X_train, y_train = train_df.drop(columns=[\"country\"]), train_df[\"country\"]\n",
    "X_test, y_test = test_df.drop(columns=[\"country\"]), test_df[\"country\"]\n",
    "train_df.head()"
   ]
  },
  {
   "cell_type": "code",
   "execution_count": 28,
   "metadata": {
    "slideshow": {
     "slide_type": "slide"
    }
   },
   "outputs": [
    {
     "data": {
      "image/png": "[encoded data removed]",
      "text/plain": [
       "<Figure size 432x288 with 1 Axes>"
      ]
     },
     "metadata": {
      "needs_background": "light"
     },
     "output_type": "display_data"
    }
   ],
   "source": [
    "mglearn.discrete_scatter(X.iloc[:, 0], X.iloc[:, 1], y, s=12)\n",
    "plt.xlabel(\"longitude\")\n",
    "plt.ylabel(\"latitude\");"
   ]
  },
  {
   "cell_type": "code",
   "execution_count": 29,
   "metadata": {
    "slideshow": {
     "slide_type": "slide"
    }
   },
   "outputs": [
    {
     "data": {
      "image/svg+xml": [
       "<?xml version=\"1.0\" encoding=\"UTF-8\" standalone=\"no\"?>\n",
       "<!DOCTYPE svg PUBLIC \"-//W3C//DTD SVG 1.1//EN\"\n",
       " \"http://www.w3.org/Graphics/SVG/1.1/DTD/svg11.dtd\">\n",
       "<!-- Generated by graphviz version 3.0.0 (0)\n",
       " -->\n",
       "<!-- Title: Tree Pages: 1 -->\n",
       "<svg width=\"1187pt\" height=\"932pt\"\n",
       " viewBox=\"0.00 0.00 1186.50 932.00\" xmlns=\"http://www.w3.org/2000/svg\" xmlns:xlink=\"http://www.w3.org/1999/xlink\">\n",
       "<g id=\"graph0\" class=\"graph\" transform=\"scale(1 1) rotate(0) translate(4 928)\">\n",
       "<title>Tree</title>\n",
       "<polygon fill=\"white\" stroke=\"transparent\" points=\"-4,4 -4,-928 1182.5,-928 1182.5,4 -4,4\"/>\n",
       "<!-- 0 -->\n",
       "<g id=\"node1\" class=\"node\">\n",
       "<title>0</title>\n",
       "<polygon fill=\"none\" stroke=\"black\" points=\"431.5,-924 321.5,-924 321.5,-886 431.5,-886 431.5,-924\"/>\n",
       "<text text-anchor=\"middle\" x=\"376.5\" y=\"-908.8\" font-family=\"Helvetica,sans-Serif\" font-size=\"14.00\">latitude &lt;= 42.9</text>\n",
       "<text text-anchor=\"middle\" x=\"376.5\" y=\"-893.8\" font-family=\"Helvetica,sans-Serif\" font-size=\"14.00\">class = Canada</text>\n",
       "</g>\n",
       "<!-- 1 -->\n",
       "<g id=\"node2\" class=\"node\">\n",
       "<title>1</title>\n",
       "<polygon fill=\"none\" stroke=\"black\" points=\"368,-850 243,-850 243,-812 368,-812 368,-850\"/>\n",
       "<text text-anchor=\"middle\" x=\"305.5\" y=\"-834.8\" font-family=\"Helvetica,sans-Serif\" font-size=\"14.00\">latitude &lt;= 42.096</text>\n",
       "<text text-anchor=\"middle\" x=\"305.5\" y=\"-819.8\" font-family=\"Helvetica,sans-Serif\" font-size=\"14.00\">class = USA</text>\n",
       "</g>\n",
       "<!-- 0&#45;&gt;1 -->\n",
       "<g id=\"edge1\" class=\"edge\">\n",
       "<title>0&#45;&gt;1</title>\n",
       "<path fill=\"none\" stroke=\"black\" d=\"M358.58,-885.83C350.16,-877.28 339.96,-866.94 330.76,-857.62\"/>\n",
       "<polygon fill=\"black\" stroke=\"black\" points=\"333.17,-855.08 323.66,-850.41 328.19,-859.99 333.17,-855.08\"/>\n",
       "<text text-anchor=\"middle\" x=\"323.48\" y=\"-871.71\" font-family=\"Helvetica,sans-Serif\" font-size=\"14.00\">True</text>\n",
       "</g>\n",
       "<!-- 6 -->\n",
       "<g id=\"node7\" class=\"node\">\n",
       "<title>6</title>\n",
       "<polygon fill=\"none\" stroke=\"black\" points=\"511,-850 386,-850 386,-812 511,-812 511,-850\"/>\n",
       "<text text-anchor=\"middle\" x=\"448.5\" y=\"-834.8\" font-family=\"Helvetica,sans-Serif\" font-size=\"14.00\">latitude &lt;= 55.958</text>\n",
       "<text text-anchor=\"middle\" x=\"448.5\" y=\"-819.8\" font-family=\"Helvetica,sans-Serif\" font-size=\"14.00\">class = Canada</text>\n",
       "</g>\n",
       "<!-- 0&#45;&gt;6 -->\n",
       "<g id=\"edge6\" class=\"edge\">\n",
       "<title>0&#45;&gt;6</title>\n",
       "<path fill=\"none\" stroke=\"black\" d=\"M394.67,-885.83C403.22,-877.28 413.56,-866.94 422.88,-857.62\"/>\n",
       "<polygon fill=\"black\" stroke=\"black\" points=\"425.49,-859.96 430.09,-850.41 420.54,-855.01 425.49,-859.96\"/>\n",
       "<text text-anchor=\"middle\" x=\"430.09\" y=\"-871.71\" font-family=\"Helvetica,sans-Serif\" font-size=\"14.00\">False</text>\n",
       "</g>\n",
       "<!-- 2 -->\n",
       "<g id=\"node3\" class=\"node\">\n",
       "<title>2</title>\n",
       "<polygon fill=\"none\" stroke=\"black\" points=\"227,-775 136,-775 136,-739 227,-739 227,-775\"/>\n",
       "<text text-anchor=\"middle\" x=\"181.5\" y=\"-753.3\" font-family=\"Helvetica,sans-Serif\" font-size=\"14.00\">class = USA</text>\n",
       "</g>\n",
       "<!-- 1&#45;&gt;2 -->\n",
       "<g id=\"edge2\" class=\"edge\">\n",
       "<title>1&#45;&gt;2</title>\n",
       "<path fill=\"none\" stroke=\"black\" d=\"M274.21,-811.83C257.71,-802.25 237.34,-790.42 219.89,-780.29\"/>\n",
       "<polygon fill=\"black\" stroke=\"black\" points=\"221.48,-777.17 211.07,-775.17 217.96,-783.22 221.48,-777.17\"/>\n",
       "</g>\n",
       "<!-- 3 -->\n",
       "<g id=\"node4\" class=\"node\">\n",
       "<title>3</title>\n",
       "<polygon fill=\"none\" stroke=\"black\" points=\"370,-776 245,-776 245,-738 370,-738 370,-776\"/>\n",
       "<text text-anchor=\"middle\" x=\"307.5\" y=\"-760.8\" font-family=\"Helvetica,sans-Serif\" font-size=\"14.00\">latitude &lt;= 42.324</text>\n",
       "<text text-anchor=\"middle\" x=\"307.5\" y=\"-745.8\" font-family=\"Helvetica,sans-Serif\" font-size=\"14.00\">class = USA</text>\n",
       "</g>\n",
       "<!-- 1&#45;&gt;3 -->\n",
       "<g id=\"edge3\" class=\"edge\">\n",
       "<title>1&#45;&gt;3</title>\n",
       "<path fill=\"none\" stroke=\"black\" d=\"M306,-811.83C306.22,-804.13 306.47,-794.97 306.71,-786.42\"/>\n",
       "<polygon fill=\"black\" stroke=\"black\" points=\"310.21,-786.51 306.99,-776.41 303.21,-786.31 310.21,-786.51\"/>\n",
       "</g>\n",
       "<!-- 4 -->\n",
       "<g id=\"node5\" class=\"node\">\n",
       "<title>4</title>\n",
       "<polygon fill=\"none\" stroke=\"black\" points=\"244.5,-701 134.5,-701 134.5,-665 244.5,-665 244.5,-701\"/>\n",
       "<text text-anchor=\"middle\" x=\"189.5\" y=\"-679.3\" font-family=\"Helvetica,sans-Serif\" font-size=\"14.00\">class = Canada</text>\n",
       "</g>\n",
       "<!-- 3&#45;&gt;4 -->\n",
       "<g id=\"edge4\" class=\"edge\">\n",
       "<title>3&#45;&gt;4</title>\n",
       "<path fill=\"none\" stroke=\"black\" d=\"M277.72,-737.83C262.17,-728.34 242.99,-716.64 226.49,-706.57\"/>\n",
       "<polygon fill=\"black\" stroke=\"black\" points=\"228,-703.39 217.64,-701.17 224.36,-709.37 228,-703.39\"/>\n",
       "</g>\n",
       "<!-- 5 -->\n",
       "<g id=\"node6\" class=\"node\">\n",
       "<title>5</title>\n",
       "<polygon fill=\"none\" stroke=\"black\" points=\"354,-701 263,-701 263,-665 354,-665 354,-701\"/>\n",
       "<text text-anchor=\"middle\" x=\"308.5\" y=\"-679.3\" font-family=\"Helvetica,sans-Serif\" font-size=\"14.00\">class = USA</text>\n",
       "</g>\n",
       "<!-- 3&#45;&gt;5 -->\n",
       "<g id=\"edge5\" class=\"edge\">\n",
       "<title>3&#45;&gt;5</title>\n",
       "<path fill=\"none\" stroke=\"black\" d=\"M307.75,-737.83C307.86,-729.89 307.99,-720.41 308.12,-711.63\"/>\n",
       "<polygon fill=\"black\" stroke=\"black\" points=\"311.62,-711.47 308.26,-701.42 304.62,-711.37 311.62,-711.47\"/>\n",
       "</g>\n",
       "<!-- 7 -->\n",
       "<g id=\"node8\" class=\"node\">\n",
       "<title>7</title>\n",
       "<polygon fill=\"none\" stroke=\"black\" points=\"502.5,-776 392.5,-776 392.5,-738 502.5,-738 502.5,-776\"/>\n",
       "<text text-anchor=\"middle\" x=\"447.5\" y=\"-760.8\" font-family=\"Helvetica,sans-Serif\" font-size=\"14.00\">latitude &lt;= 49.0</text>\n",
       "<text text-anchor=\"middle\" x=\"447.5\" y=\"-745.8\" font-family=\"Helvetica,sans-Serif\" font-size=\"14.00\">class = Canada</text>\n",
       "</g>\n",
       "<!-- 6&#45;&gt;7 -->\n",
       "<g id=\"edge7\" class=\"edge\">\n",
       "<title>6&#45;&gt;7</title>\n",
       "<path fill=\"none\" stroke=\"black\" d=\"M448.25,-811.83C448.14,-804.13 448.01,-794.97 447.89,-786.42\"/>\n",
       "<polygon fill=\"black\" stroke=\"black\" points=\"451.39,-786.36 447.76,-776.41 444.4,-786.46 451.39,-786.36\"/>\n",
       "</g>\n",
       "<!-- 56 -->\n",
       "<g id=\"node57\" class=\"node\">\n",
       "<title>56</title>\n",
       "<polygon fill=\"none\" stroke=\"black\" points=\"612,-775 521,-775 521,-739 612,-739 612,-775\"/>\n",
       "<text text-anchor=\"middle\" x=\"566.5\" y=\"-753.3\" font-family=\"Helvetica,sans-Serif\" font-size=\"14.00\">class = USA</text>\n",
       "</g>\n",
       "<!-- 6&#45;&gt;56 -->\n",
       "<g id=\"edge56\" class=\"edge\">\n",
       "<title>6&#45;&gt;56</title>\n",
       "<path fill=\"none\" stroke=\"black\" d=\"M478.28,-811.83C493.83,-802.34 513.01,-790.64 529.51,-780.57\"/>\n",
       "<polygon fill=\"black\" stroke=\"black\" points=\"531.64,-783.37 538.36,-775.17 528,-777.39 531.64,-783.37\"/>\n",
       "</g>\n",
       "<!-- 8 -->\n",
       "<g id=\"node9\" class=\"node\">\n",
       "<title>8</title>\n",
       "<polygon fill=\"none\" stroke=\"black\" points=\"517,-702 376,-702 376,-664 517,-664 517,-702\"/>\n",
       "<text text-anchor=\"middle\" x=\"446.5\" y=\"-686.8\" font-family=\"Helvetica,sans-Serif\" font-size=\"14.00\">longitude &lt;= &#45;94.582</text>\n",
       "<text text-anchor=\"middle\" x=\"446.5\" y=\"-671.8\" font-family=\"Helvetica,sans-Serif\" font-size=\"14.00\">class = Canada</text>\n",
       "</g>\n",
       "<!-- 7&#45;&gt;8 -->\n",
       "<g id=\"edge8\" class=\"edge\">\n",
       "<title>7&#45;&gt;8</title>\n",
       "<path fill=\"none\" stroke=\"black\" d=\"M447.25,-737.83C447.14,-730.13 447.01,-720.97 446.89,-712.42\"/>\n",
       "<polygon fill=\"black\" stroke=\"black\" points=\"450.39,-712.36 446.76,-702.41 443.4,-712.46 450.39,-712.36\"/>\n",
       "</g>\n",
       "<!-- 55 -->\n",
       "<g id=\"node56\" class=\"node\">\n",
       "<title>55</title>\n",
       "<polygon fill=\"none\" stroke=\"black\" points=\"645.5,-701 535.5,-701 535.5,-665 645.5,-665 645.5,-701\"/>\n",
       "<text text-anchor=\"middle\" x=\"590.5\" y=\"-679.3\" font-family=\"Helvetica,sans-Serif\" font-size=\"14.00\">class = Canada</text>\n",
       "</g>\n",
       "<!-- 7&#45;&gt;55 -->\n",
       "<g id=\"edge55\" class=\"edge\">\n",
       "<title>7&#45;&gt;55</title>\n",
       "<path fill=\"none\" stroke=\"black\" d=\"M483.58,-737.83C502.96,-728.08 526.97,-715.99 547.33,-705.74\"/>\n",
       "<polygon fill=\"black\" stroke=\"black\" points=\"549.04,-708.79 556.4,-701.17 545.89,-702.54 549.04,-708.79\"/>\n",
       "</g>\n",
       "<!-- 9 -->\n",
       "<g id=\"node10\" class=\"node\">\n",
       "<title>9</title>\n",
       "<polygon fill=\"none\" stroke=\"black\" points=\"440,-628 291,-628 291,-590 440,-590 440,-628\"/>\n",
       "<text text-anchor=\"middle\" x=\"365.5\" y=\"-612.8\" font-family=\"Helvetica,sans-Serif\" font-size=\"14.00\">longitude &lt;= &#45;123.222</text>\n",
       "<text text-anchor=\"middle\" x=\"365.5\" y=\"-597.8\" font-family=\"Helvetica,sans-Serif\" font-size=\"14.00\">class = USA</text>\n",
       "</g>\n",
       "<!-- 8&#45;&gt;9 -->\n",
       "<g id=\"edge9\" class=\"edge\">\n",
       "<title>8&#45;&gt;9</title>\n",
       "<path fill=\"none\" stroke=\"black\" d=\"M426.06,-663.83C416.18,-655.05 404.17,-644.37 393.45,-634.85\"/>\n",
       "<polygon fill=\"black\" stroke=\"black\" points=\"395.73,-632.19 385.93,-628.16 391.08,-637.42 395.73,-632.19\"/>\n",
       "</g>\n",
       "<!-- 12 -->\n",
       "<g id=\"node13\" class=\"node\">\n",
       "<title>12</title>\n",
       "<polygon fill=\"none\" stroke=\"black\" points=\"599,-628 458,-628 458,-590 599,-590 599,-628\"/>\n",
       "<text text-anchor=\"middle\" x=\"528.5\" y=\"-612.8\" font-family=\"Helvetica,sans-Serif\" font-size=\"14.00\">longitude &lt;= &#45;69.246</text>\n",
       "<text text-anchor=\"middle\" x=\"528.5\" y=\"-597.8\" font-family=\"Helvetica,sans-Serif\" font-size=\"14.00\">class = Canada</text>\n",
       "</g>\n",
       "<!-- 8&#45;&gt;12 -->\n",
       "<g id=\"edge12\" class=\"edge\">\n",
       "<title>8&#45;&gt;12</title>\n",
       "<path fill=\"none\" stroke=\"black\" d=\"M467.19,-663.83C477.19,-655.05 489.36,-644.37 500.2,-634.85\"/>\n",
       "<polygon fill=\"black\" stroke=\"black\" points=\"502.61,-637.39 507.81,-628.16 497.99,-632.13 502.61,-637.39\"/>\n",
       "</g>\n",
       "<!-- 10 -->\n",
       "<g id=\"node11\" class=\"node\">\n",
       "<title>10</title>\n",
       "<polygon fill=\"none\" stroke=\"black\" points=\"311.5,-553 201.5,-553 201.5,-517 311.5,-517 311.5,-553\"/>\n",
       "<text text-anchor=\"middle\" x=\"256.5\" y=\"-531.3\" font-family=\"Helvetica,sans-Serif\" font-size=\"14.00\">class = Canada</text>\n",
       "</g>\n",
       "<!-- 9&#45;&gt;10 -->\n",
       "<g id=\"edge10\" class=\"edge\">\n",
       "<title>9&#45;&gt;10</title>\n",
       "<path fill=\"none\" stroke=\"black\" d=\"M337.99,-589.83C323.76,-580.43 306.24,-568.86 291.09,-558.85\"/>\n",
       "<polygon fill=\"black\" stroke=\"black\" points=\"292.77,-555.76 282.5,-553.17 288.91,-561.6 292.77,-555.76\"/>\n",
       "</g>\n",
       "<!-- 11 -->\n",
       "<g id=\"node12\" class=\"node\">\n",
       "<title>11</title>\n",
       "<polygon fill=\"none\" stroke=\"black\" points=\"421,-553 330,-553 330,-517 421,-517 421,-553\"/>\n",
       "<text text-anchor=\"middle\" x=\"375.5\" y=\"-531.3\" font-family=\"Helvetica,sans-Serif\" font-size=\"14.00\">class = USA</text>\n",
       "</g>\n",
       "<!-- 9&#45;&gt;11 -->\n",
       "<g id=\"edge11\" class=\"edge\">\n",
       "<title>9&#45;&gt;11</title>\n",
       "<path fill=\"none\" stroke=\"black\" d=\"M368.02,-589.83C369.14,-581.81 370.47,-572.2 371.7,-563.34\"/>\n",
       "<polygon fill=\"black\" stroke=\"black\" points=\"375.17,-563.8 373.08,-553.42 368.24,-562.84 375.17,-563.8\"/>\n",
       "</g>\n",
       "<!-- 13 -->\n",
       "<g id=\"node14\" class=\"node\">\n",
       "<title>13</title>\n",
       "<polygon fill=\"none\" stroke=\"black\" points=\"582,-554 457,-554 457,-516 582,-516 582,-554\"/>\n",
       "<text text-anchor=\"middle\" x=\"519.5\" y=\"-538.8\" font-family=\"Helvetica,sans-Serif\" font-size=\"14.00\">latitude &lt;= 43.093</text>\n",
       "<text text-anchor=\"middle\" x=\"519.5\" y=\"-523.8\" font-family=\"Helvetica,sans-Serif\" font-size=\"14.00\">class = Canada</text>\n",
       "</g>\n",
       "<!-- 12&#45;&gt;13 -->\n",
       "<g id=\"edge13\" class=\"edge\">\n",
       "<title>12&#45;&gt;13</title>\n",
       "<path fill=\"none\" stroke=\"black\" d=\"M526.23,-589.83C525.27,-582.13 524.12,-572.97 523.05,-564.42\"/>\n",
       "<polygon fill=\"black\" stroke=\"black\" points=\"526.52,-563.9 521.8,-554.41 519.57,-564.77 526.52,-563.9\"/>\n",
       "</g>\n",
       "<!-- 36 -->\n",
       "<g id=\"node37\" class=\"node\">\n",
       "<title>36</title>\n",
       "<polygon fill=\"none\" stroke=\"black\" points=\"799,-554 658,-554 658,-516 799,-516 799,-554\"/>\n",
       "<text text-anchor=\"middle\" x=\"728.5\" y=\"-538.8\" font-family=\"Helvetica,sans-Serif\" font-size=\"14.00\">longitude &lt;= &#45;66.952</text>\n",
       "<text text-anchor=\"middle\" x=\"728.5\" y=\"-523.8\" font-family=\"Helvetica,sans-Serif\" font-size=\"14.00\">class = Canada</text>\n",
       "</g>\n",
       "<!-- 12&#45;&gt;36 -->\n",
       "<g id=\"edge36\" class=\"edge\">\n",
       "<title>12&#45;&gt;36</title>\n",
       "<path fill=\"none\" stroke=\"black\" d=\"M578.71,-589.92C606.05,-580.08 640.06,-567.84 668.76,-557.51\"/>\n",
       "<polygon fill=\"black\" stroke=\"black\" points=\"670.05,-560.76 678.27,-554.08 667.67,-554.18 670.05,-560.76\"/>\n",
       "</g>\n",
       "<!-- 14 -->\n",
       "<g id=\"node15\" class=\"node\">\n",
       "<title>14</title>\n",
       "<polygon fill=\"none\" stroke=\"black\" points=\"381,-480 256,-480 256,-442 381,-442 381,-480\"/>\n",
       "<text text-anchor=\"middle\" x=\"318.5\" y=\"-464.8\" font-family=\"Helvetica,sans-Serif\" font-size=\"14.00\">latitude &lt;= 43.014</text>\n",
       "<text text-anchor=\"middle\" x=\"318.5\" y=\"-449.8\" font-family=\"Helvetica,sans-Serif\" font-size=\"14.00\">class = Canada</text>\n",
       "</g>\n",
       "<!-- 13&#45;&gt;14 -->\n",
       "<g id=\"edge14\" class=\"edge\">\n",
       "<title>13&#45;&gt;14</title>\n",
       "<path fill=\"none\" stroke=\"black\" d=\"M469.04,-515.92C441.56,-506.08 407.38,-493.84 378.54,-483.51\"/>\n",
       "<polygon fill=\"black\" stroke=\"black\" points=\"379.58,-480.16 368.98,-480.08 377.22,-486.75 379.58,-480.16\"/>\n",
       "</g>\n",
       "<!-- 19 -->\n",
       "<g id=\"node20\" class=\"node\">\n",
       "<title>19</title>\n",
       "<polygon fill=\"none\" stroke=\"black\" points=\"582,-480 457,-480 457,-442 582,-442 582,-480\"/>\n",
       "<text text-anchor=\"middle\" x=\"519.5\" y=\"-464.8\" font-family=\"Helvetica,sans-Serif\" font-size=\"14.00\">latitude &lt;= 44.992</text>\n",
       "<text text-anchor=\"middle\" x=\"519.5\" y=\"-449.8\" font-family=\"Helvetica,sans-Serif\" font-size=\"14.00\">class = Canada</text>\n",
       "</g>\n",
       "<!-- 13&#45;&gt;19 -->\n",
       "<g id=\"edge19\" class=\"edge\">\n",
       "<title>13&#45;&gt;19</title>\n",
       "<path fill=\"none\" stroke=\"black\" d=\"M519.5,-515.83C519.5,-508.13 519.5,-498.97 519.5,-490.42\"/>\n",
       "<polygon fill=\"black\" stroke=\"black\" points=\"523,-490.41 519.5,-480.41 516,-490.41 523,-490.41\"/>\n",
       "</g>\n",
       "<!-- 15 -->\n",
       "<g id=\"node16\" class=\"node\">\n",
       "<title>15</title>\n",
       "<polygon fill=\"none\" stroke=\"black\" points=\"235,-406 94,-406 94,-368 235,-368 235,-406\"/>\n",
       "<text text-anchor=\"middle\" x=\"164.5\" y=\"-390.8\" font-family=\"Helvetica,sans-Serif\" font-size=\"14.00\">longitude &lt;= &#45;81.845</text>\n",
       "<text text-anchor=\"middle\" x=\"164.5\" y=\"-375.8\" font-family=\"Helvetica,sans-Serif\" font-size=\"14.00\">class = Canada</text>\n",
       "</g>\n",
       "<!-- 14&#45;&gt;15 -->\n",
       "<g id=\"edge15\" class=\"edge\">\n",
       "<title>14&#45;&gt;15</title>\n",
       "<path fill=\"none\" stroke=\"black\" d=\"M279.64,-441.83C259.23,-432.29 234.03,-420.51 212.41,-410.4\"/>\n",
       "<polygon fill=\"black\" stroke=\"black\" points=\"213.62,-407.1 203.08,-406.04 210.66,-413.44 213.62,-407.1\"/>\n",
       "</g>\n",
       "<!-- 18 -->\n",
       "<g id=\"node19\" class=\"node\">\n",
       "<title>18</title>\n",
       "<polygon fill=\"none\" stroke=\"black\" points=\"364,-405 273,-405 273,-369 364,-369 364,-405\"/>\n",
       "<text text-anchor=\"middle\" x=\"318.5\" y=\"-383.3\" font-family=\"Helvetica,sans-Serif\" font-size=\"14.00\">class = USA</text>\n",
       "</g>\n",
       "<!-- 14&#45;&gt;18 -->\n",
       "<g id=\"edge18\" class=\"edge\">\n",
       "<title>14&#45;&gt;18</title>\n",
       "<path fill=\"none\" stroke=\"black\" d=\"M318.5,-441.83C318.5,-433.89 318.5,-424.41 318.5,-415.63\"/>\n",
       "<polygon fill=\"black\" stroke=\"black\" points=\"322,-415.42 318.5,-405.42 315,-415.42 322,-415.42\"/>\n",
       "</g>\n",
       "<!-- 16 -->\n",
       "<g id=\"node17\" class=\"node\">\n",
       "<title>16</title>\n",
       "<polygon fill=\"none\" stroke=\"black\" points=\"91,-331 0,-331 0,-295 91,-295 91,-331\"/>\n",
       "<text text-anchor=\"middle\" x=\"45.5\" y=\"-309.3\" font-family=\"Helvetica,sans-Serif\" font-size=\"14.00\">class = USA</text>\n",
       "</g>\n",
       "<!-- 15&#45;&gt;16 -->\n",
       "<g id=\"edge16\" class=\"edge\">\n",
       "<title>15&#45;&gt;16</title>\n",
       "<path fill=\"none\" stroke=\"black\" d=\"M134.47,-367.83C118.79,-358.34 99.44,-346.64 82.81,-336.57\"/>\n",
       "<polygon fill=\"black\" stroke=\"black\" points=\"84.25,-333.35 73.88,-331.17 80.62,-339.34 84.25,-333.35\"/>\n",
       "</g>\n",
       "<!-- 17 -->\n",
       "<g id=\"node18\" class=\"node\">\n",
       "<title>17</title>\n",
       "<polygon fill=\"none\" stroke=\"black\" points=\"219.5,-331 109.5,-331 109.5,-295 219.5,-295 219.5,-331\"/>\n",
       "<text text-anchor=\"middle\" x=\"164.5\" y=\"-309.3\" font-family=\"Helvetica,sans-Serif\" font-size=\"14.00\">class = Canada</text>\n",
       "</g>\n",
       "<!-- 15&#45;&gt;17 -->\n",
       "<g id=\"edge17\" class=\"edge\">\n",
       "<title>15&#45;&gt;17</title>\n",
       "<path fill=\"none\" stroke=\"black\" d=\"M164.5,-367.83C164.5,-359.89 164.5,-350.41 164.5,-341.63\"/>\n",
       "<polygon fill=\"black\" stroke=\"black\" points=\"168,-341.42 164.5,-331.42 161,-341.42 168,-341.42\"/>\n",
       "</g>\n",
       "<!-- 20 -->\n",
       "<g id=\"node21\" class=\"node\">\n",
       "<title>20</title>\n",
       "<polygon fill=\"none\" stroke=\"black\" points=\"512,-406 387,-406 387,-368 512,-368 512,-406\"/>\n",
       "<text text-anchor=\"middle\" x=\"449.5\" y=\"-390.8\" font-family=\"Helvetica,sans-Serif\" font-size=\"14.00\">latitude &lt;= 44.542</text>\n",
       "<text text-anchor=\"middle\" x=\"449.5\" y=\"-375.8\" font-family=\"Helvetica,sans-Serif\" font-size=\"14.00\">class = Canada</text>\n",
       "</g>\n",
       "<!-- 19&#45;&gt;20 -->\n",
       "<g id=\"edge20\" class=\"edge\">\n",
       "<title>19&#45;&gt;20</title>\n",
       "<path fill=\"none\" stroke=\"black\" d=\"M501.84,-441.83C493.53,-433.28 483.47,-422.94 474.41,-413.62\"/>\n",
       "<polygon fill=\"black\" stroke=\"black\" points=\"476.88,-411.14 467.4,-406.41 471.86,-416.02 476.88,-411.14\"/>\n",
       "</g>\n",
       "<!-- 35 -->\n",
       "<g id=\"node36\" class=\"node\">\n",
       "<title>35</title>\n",
       "<polygon fill=\"none\" stroke=\"black\" points=\"640.5,-405 530.5,-405 530.5,-369 640.5,-369 640.5,-405\"/>\n",
       "<text text-anchor=\"middle\" x=\"585.5\" y=\"-383.3\" font-family=\"Helvetica,sans-Serif\" font-size=\"14.00\">class = Canada</text>\n",
       "</g>\n",
       "<!-- 19&#45;&gt;35 -->\n",
       "<g id=\"edge35\" class=\"edge\">\n",
       "<title>19&#45;&gt;35</title>\n",
       "<path fill=\"none\" stroke=\"black\" d=\"M536.15,-441.83C544.15,-433.11 553.86,-422.52 562.54,-413.05\"/>\n",
       "<polygon fill=\"black\" stroke=\"black\" points=\"565.36,-415.15 569.53,-405.42 560.2,-410.42 565.36,-415.15\"/>\n",
       "</g>\n",
       "<!-- 21 -->\n",
       "<g id=\"node22\" class=\"node\">\n",
       "<title>21</title>\n",
       "<polygon fill=\"none\" stroke=\"black\" points=\"379,-332 238,-332 238,-294 379,-294 379,-332\"/>\n",
       "<text text-anchor=\"middle\" x=\"308.5\" y=\"-316.8\" font-family=\"Helvetica,sans-Serif\" font-size=\"14.00\">longitude &lt;= &#45;79.076</text>\n",
       "<text text-anchor=\"middle\" x=\"308.5\" y=\"-301.8\" font-family=\"Helvetica,sans-Serif\" font-size=\"14.00\">class = Canada</text>\n",
       "</g>\n",
       "<!-- 20&#45;&gt;21 -->\n",
       "<g id=\"edge21\" class=\"edge\">\n",
       "<title>20&#45;&gt;21</title>\n",
       "<path fill=\"none\" stroke=\"black\" d=\"M413.92,-367.83C395.47,-358.41 372.75,-346.81 353.13,-336.79\"/>\n",
       "<polygon fill=\"black\" stroke=\"black\" points=\"354.57,-333.59 344.07,-332.16 351.38,-339.83 354.57,-333.59\"/>\n",
       "</g>\n",
       "<!-- 30 -->\n",
       "<g id=\"node31\" class=\"node\">\n",
       "<title>30</title>\n",
       "<polygon fill=\"none\" stroke=\"black\" points=\"538,-332 397,-332 397,-294 538,-294 538,-332\"/>\n",
       "<text text-anchor=\"middle\" x=\"467.5\" y=\"-316.8\" font-family=\"Helvetica,sans-Serif\" font-size=\"14.00\">longitude &lt;= &#45;84.392</text>\n",
       "<text text-anchor=\"middle\" x=\"467.5\" y=\"-301.8\" font-family=\"Helvetica,sans-Serif\" font-size=\"14.00\">class = USA</text>\n",
       "</g>\n",
       "<!-- 20&#45;&gt;30 -->\n",
       "<g id=\"edge30\" class=\"edge\">\n",
       "<title>20&#45;&gt;30</title>\n",
       "<path fill=\"none\" stroke=\"black\" d=\"M454.04,-367.83C455.99,-360.05 458.31,-350.77 460.47,-342.13\"/>\n",
       "<polygon fill=\"black\" stroke=\"black\" points=\"463.87,-342.96 462.9,-332.41 457.08,-341.27 463.87,-342.96\"/>\n",
       "</g>\n",
       "<!-- 22 -->\n",
       "<g id=\"node23\" class=\"node\">\n",
       "<title>22</title>\n",
       "<polygon fill=\"none\" stroke=\"black\" points=\"227.5,-257 117.5,-257 117.5,-221 227.5,-221 227.5,-257\"/>\n",
       "<text text-anchor=\"middle\" x=\"172.5\" y=\"-235.3\" font-family=\"Helvetica,sans-Serif\" font-size=\"14.00\">class = Canada</text>\n",
       "</g>\n",
       "<!-- 21&#45;&gt;22 -->\n",
       "<g id=\"edge22\" class=\"edge\">\n",
       "<title>21&#45;&gt;22</title>\n",
       "<path fill=\"none\" stroke=\"black\" d=\"M274.18,-293.83C255.84,-284.12 233.13,-272.1 213.82,-261.88\"/>\n",
       "<polygon fill=\"black\" stroke=\"black\" points=\"215.41,-258.76 204.93,-257.17 212.14,-264.94 215.41,-258.76\"/>\n",
       "</g>\n",
       "<!-- 23 -->\n",
       "<g id=\"node24\" class=\"node\">\n",
       "<title>23</title>\n",
       "<polygon fill=\"none\" stroke=\"black\" points=\"371,-258 246,-258 246,-220 371,-220 371,-258\"/>\n",
       "<text text-anchor=\"middle\" x=\"308.5\" y=\"-242.8\" font-family=\"Helvetica,sans-Serif\" font-size=\"14.00\">latitude &lt;= 44.168</text>\n",
       "<text text-anchor=\"middle\" x=\"308.5\" y=\"-227.8\" font-family=\"Helvetica,sans-Serif\" font-size=\"14.00\">class = Canada</text>\n",
       "</g>\n",
       "<!-- 21&#45;&gt;23 -->\n",
       "<g id=\"edge23\" class=\"edge\">\n",
       "<title>21&#45;&gt;23</title>\n",
       "<path fill=\"none\" stroke=\"black\" d=\"M308.5,-293.83C308.5,-286.13 308.5,-276.97 308.5,-268.42\"/>\n",
       "<polygon fill=\"black\" stroke=\"black\" points=\"312,-268.41 308.5,-258.41 305,-268.41 312,-268.41\"/>\n",
       "</g>\n",
       "<!-- 24 -->\n",
       "<g id=\"node25\" class=\"node\">\n",
       "<title>24</title>\n",
       "<polygon fill=\"none\" stroke=\"black\" points=\"242.5,-184 108.5,-184 108.5,-146 242.5,-146 242.5,-184\"/>\n",
       "<text text-anchor=\"middle\" x=\"175.5\" y=\"-168.8\" font-family=\"Helvetica,sans-Serif\" font-size=\"14.00\">longitude &lt;= &#45;79.03</text>\n",
       "<text text-anchor=\"middle\" x=\"175.5\" y=\"-153.8\" font-family=\"Helvetica,sans-Serif\" font-size=\"14.00\">class = USA</text>\n",
       "</g>\n",
       "<!-- 23&#45;&gt;24 -->\n",
       "<g id=\"edge24\" class=\"edge\">\n",
       "<title>23&#45;&gt;24</title>\n",
       "<path fill=\"none\" stroke=\"black\" d=\"M274.94,-219.83C257.61,-210.45 236.29,-198.91 217.85,-188.92\"/>\n",
       "<polygon fill=\"black\" stroke=\"black\" points=\"219.51,-185.85 209.05,-184.16 216.18,-192 219.51,-185.85\"/>\n",
       "</g>\n",
       "<!-- 29 -->\n",
       "<g id=\"node30\" class=\"node\">\n",
       "<title>29</title>\n",
       "<polygon fill=\"none\" stroke=\"black\" points=\"370.5,-183 260.5,-183 260.5,-147 370.5,-147 370.5,-183\"/>\n",
       "<text text-anchor=\"middle\" x=\"315.5\" y=\"-161.3\" font-family=\"Helvetica,sans-Serif\" font-size=\"14.00\">class = Canada</text>\n",
       "</g>\n",
       "<!-- 23&#45;&gt;29 -->\n",
       "<g id=\"edge29\" class=\"edge\">\n",
       "<title>23&#45;&gt;29</title>\n",
       "<path fill=\"none\" stroke=\"black\" d=\"M310.27,-219.83C311.04,-211.89 311.96,-202.41 312.81,-193.63\"/>\n",
       "<polygon fill=\"black\" stroke=\"black\" points=\"316.32,-193.71 313.81,-183.42 309.36,-193.03 316.32,-193.71\"/>\n",
       "</g>\n",
       "<!-- 25 -->\n",
       "<g id=\"node26\" class=\"node\">\n",
       "<title>25</title>\n",
       "<polygon fill=\"none\" stroke=\"black\" points=\"158,-109 67,-109 67,-73 158,-73 158,-109\"/>\n",
       "<text text-anchor=\"middle\" x=\"112.5\" y=\"-87.3\" font-family=\"Helvetica,sans-Serif\" font-size=\"14.00\">class = USA</text>\n",
       "</g>\n",
       "<!-- 24&#45;&gt;25 -->\n",
       "<g id=\"edge25\" class=\"edge\">\n",
       "<title>24&#45;&gt;25</title>\n",
       "<path fill=\"none\" stroke=\"black\" d=\"M159.6,-145.83C151.97,-137.11 142.7,-126.52 134.42,-117.05\"/>\n",
       "<polygon fill=\"black\" stroke=\"black\" points=\"136.96,-114.64 127.74,-109.42 131.69,-119.25 136.96,-114.64\"/>\n",
       "</g>\n",
       "<!-- 26 -->\n",
       "<g id=\"node27\" class=\"node\">\n",
       "<title>26</title>\n",
       "<polygon fill=\"none\" stroke=\"black\" points=\"301,-110 176,-110 176,-72 301,-72 301,-110\"/>\n",
       "<text text-anchor=\"middle\" x=\"238.5\" y=\"-94.8\" font-family=\"Helvetica,sans-Serif\" font-size=\"14.00\">latitude &lt;= 43.988</text>\n",
       "<text text-anchor=\"middle\" x=\"238.5\" y=\"-79.8\" font-family=\"Helvetica,sans-Serif\" font-size=\"14.00\">class = Canada</text>\n",
       "</g>\n",
       "<!-- 24&#45;&gt;26 -->\n",
       "<g id=\"edge26\" class=\"edge\">\n",
       "<title>24&#45;&gt;26</title>\n",
       "<path fill=\"none\" stroke=\"black\" d=\"M191.4,-145.83C198.73,-137.45 207.57,-127.35 215.6,-118.17\"/>\n",
       "<polygon fill=\"black\" stroke=\"black\" points=\"218.44,-120.24 222.39,-110.41 213.17,-115.63 218.44,-120.24\"/>\n",
       "</g>\n",
       "<!-- 27 -->\n",
       "<g id=\"node28\" class=\"node\">\n",
       "<title>27</title>\n",
       "<polygon fill=\"none\" stroke=\"black\" points=\"233.5,-36 123.5,-36 123.5,0 233.5,0 233.5,-36\"/>\n",
       "<text text-anchor=\"middle\" x=\"178.5\" y=\"-14.3\" font-family=\"Helvetica,sans-Serif\" font-size=\"14.00\">class = Canada</text>\n",
       "</g>\n",
       "<!-- 26&#45;&gt;27 -->\n",
       "<g id=\"edge27\" class=\"edge\">\n",
       "<title>26&#45;&gt;27</title>\n",
       "<path fill=\"none\" stroke=\"black\" d=\"M223.05,-71.72C215.85,-63.2 207.18,-52.94 199.41,-43.74\"/>\n",
       "<polygon fill=\"black\" stroke=\"black\" points=\"202,-41.38 192.87,-36 196.65,-45.9 202,-41.38\"/>\n",
       "</g>\n",
       "<!-- 28 -->\n",
       "<g id=\"node29\" class=\"node\">\n",
       "<title>28</title>\n",
       "<polygon fill=\"none\" stroke=\"black\" points=\"343,-36 252,-36 252,0 343,0 343,-36\"/>\n",
       "<text text-anchor=\"middle\" x=\"297.5\" y=\"-14.3\" font-family=\"Helvetica,sans-Serif\" font-size=\"14.00\">class = USA</text>\n",
       "</g>\n",
       "<!-- 26&#45;&gt;28 -->\n",
       "<g id=\"edge28\" class=\"edge\">\n",
       "<title>26&#45;&gt;28</title>\n",
       "<path fill=\"none\" stroke=\"black\" d=\"M253.69,-71.72C260.77,-63.2 269.3,-52.94 276.94,-43.74\"/>\n",
       "<polygon fill=\"black\" stroke=\"black\" points=\"279.67,-45.93 283.37,-36 274.29,-41.46 279.67,-45.93\"/>\n",
       "</g>\n",
       "<!-- 31 -->\n",
       "<g id=\"node32\" class=\"node\">\n",
       "<title>31</title>\n",
       "<polygon fill=\"none\" stroke=\"black\" points=\"480,-257 389,-257 389,-221 480,-221 480,-257\"/>\n",
       "<text text-anchor=\"middle\" x=\"434.5\" y=\"-235.3\" font-family=\"Helvetica,sans-Serif\" font-size=\"14.00\">class = USA</text>\n",
       "</g>\n",
       "<!-- 30&#45;&gt;31 -->\n",
       "<g id=\"edge31\" class=\"edge\">\n",
       "<title>30&#45;&gt;31</title>\n",
       "<path fill=\"none\" stroke=\"black\" d=\"M459.17,-293.83C455.41,-285.63 450.9,-275.78 446.77,-266.76\"/>\n",
       "<polygon fill=\"black\" stroke=\"black\" points=\"449.83,-265.05 442.48,-257.42 443.47,-267.97 449.83,-265.05\"/>\n",
       "</g>\n",
       "<!-- 32 -->\n",
       "<g id=\"node33\" class=\"node\">\n",
       "<title>32</title>\n",
       "<polygon fill=\"none\" stroke=\"black\" points=\"623,-258 498,-258 498,-220 623,-220 623,-258\"/>\n",
       "<text text-anchor=\"middle\" x=\"560.5\" y=\"-242.8\" font-family=\"Helvetica,sans-Serif\" font-size=\"14.00\">latitude &lt;= 44.706</text>\n",
       "<text text-anchor=\"middle\" x=\"560.5\" y=\"-227.8\" font-family=\"Helvetica,sans-Serif\" font-size=\"14.00\">class = Canada</text>\n",
       "</g>\n",
       "<!-- 30&#45;&gt;32 -->\n",
       "<g id=\"edge32\" class=\"edge\">\n",
       "<title>30&#45;&gt;32</title>\n",
       "<path fill=\"none\" stroke=\"black\" d=\"M490.97,-293.83C502.53,-284.88 516.64,-273.96 529.12,-264.3\"/>\n",
       "<polygon fill=\"black\" stroke=\"black\" points=\"531.28,-267.05 537.04,-258.16 526.99,-261.52 531.28,-267.05\"/>\n",
       "</g>\n",
       "<!-- 33 -->\n",
       "<g id=\"node34\" class=\"node\">\n",
       "<title>33</title>\n",
       "<polygon fill=\"none\" stroke=\"black\" points=\"491,-183 400,-183 400,-147 491,-147 491,-183\"/>\n",
       "<text text-anchor=\"middle\" x=\"445.5\" y=\"-161.3\" font-family=\"Helvetica,sans-Serif\" font-size=\"14.00\">class = USA</text>\n",
       "</g>\n",
       "<!-- 32&#45;&gt;33 -->\n",
       "<g id=\"edge33\" class=\"edge\">\n",
       "<title>32&#45;&gt;33</title>\n",
       "<path fill=\"none\" stroke=\"black\" d=\"M531.48,-219.83C516.32,-210.34 497.63,-198.64 481.55,-188.57\"/>\n",
       "<polygon fill=\"black\" stroke=\"black\" points=\"483.26,-185.51 472.93,-183.17 479.55,-191.44 483.26,-185.51\"/>\n",
       "</g>\n",
       "<!-- 34 -->\n",
       "<g id=\"node35\" class=\"node\">\n",
       "<title>34</title>\n",
       "<polygon fill=\"none\" stroke=\"black\" points=\"619.5,-183 509.5,-183 509.5,-147 619.5,-147 619.5,-183\"/>\n",
       "<text text-anchor=\"middle\" x=\"564.5\" y=\"-161.3\" font-family=\"Helvetica,sans-Serif\" font-size=\"14.00\">class = Canada</text>\n",
       "</g>\n",
       "<!-- 32&#45;&gt;34 -->\n",
       "<g id=\"edge34\" class=\"edge\">\n",
       "<title>32&#45;&gt;34</title>\n",
       "<path fill=\"none\" stroke=\"black\" d=\"M561.51,-219.83C561.95,-211.89 562.48,-202.41 562.97,-193.63\"/>\n",
       "<polygon fill=\"black\" stroke=\"black\" points=\"566.47,-193.6 563.53,-183.42 559.48,-193.21 566.47,-193.6\"/>\n",
       "</g>\n",
       "<!-- 37 -->\n",
       "<g id=\"node38\" class=\"node\">\n",
       "<title>37</title>\n",
       "<polygon fill=\"none\" stroke=\"black\" points=\"799,-480 658,-480 658,-442 799,-442 799,-480\"/>\n",
       "<text text-anchor=\"middle\" x=\"728.5\" y=\"-464.8\" font-family=\"Helvetica,sans-Serif\" font-size=\"14.00\">longitude &lt;= &#45;67.279</text>\n",
       "<text text-anchor=\"middle\" x=\"728.5\" y=\"-449.8\" font-family=\"Helvetica,sans-Serif\" font-size=\"14.00\">class = USA</text>\n",
       "</g>\n",
       "<!-- 36&#45;&gt;37 -->\n",
       "<g id=\"edge37\" class=\"edge\">\n",
       "<title>36&#45;&gt;37</title>\n",
       "<path fill=\"none\" stroke=\"black\" d=\"M728.5,-515.83C728.5,-508.13 728.5,-498.97 728.5,-490.42\"/>\n",
       "<polygon fill=\"black\" stroke=\"black\" points=\"732,-490.41 728.5,-480.41 725,-490.41 732,-490.41\"/>\n",
       "</g>\n",
       "<!-- 54 -->\n",
       "<g id=\"node55\" class=\"node\">\n",
       "<title>54</title>\n",
       "<polygon fill=\"none\" stroke=\"black\" points=\"927.5,-479 817.5,-479 817.5,-443 927.5,-443 927.5,-479\"/>\n",
       "<text text-anchor=\"middle\" x=\"872.5\" y=\"-457.3\" font-family=\"Helvetica,sans-Serif\" font-size=\"14.00\">class = Canada</text>\n",
       "</g>\n",
       "<!-- 36&#45;&gt;54 -->\n",
       "<g id=\"edge54\" class=\"edge\">\n",
       "<title>36&#45;&gt;54</title>\n",
       "<path fill=\"none\" stroke=\"black\" d=\"M764.84,-515.83C784.35,-506.08 808.53,-493.99 829.03,-483.74\"/>\n",
       "<polygon fill=\"black\" stroke=\"black\" points=\"830.78,-486.77 838.16,-479.17 827.65,-480.51 830.78,-486.77\"/>\n",
       "</g>\n",
       "<!-- 38 -->\n",
       "<g id=\"node39\" class=\"node\">\n",
       "<title>38</title>\n",
       "<polygon fill=\"none\" stroke=\"black\" points=\"795.5,-406 661.5,-406 661.5,-368 795.5,-368 795.5,-406\"/>\n",
       "<text text-anchor=\"middle\" x=\"728.5\" y=\"-390.8\" font-family=\"Helvetica,sans-Serif\" font-size=\"14.00\">longitude &lt;= &#45;67.93</text>\n",
       "<text text-anchor=\"middle\" x=\"728.5\" y=\"-375.8\" font-family=\"Helvetica,sans-Serif\" font-size=\"14.00\">class = Canada</text>\n",
       "</g>\n",
       "<!-- 37&#45;&gt;38 -->\n",
       "<g id=\"edge38\" class=\"edge\">\n",
       "<title>37&#45;&gt;38</title>\n",
       "<path fill=\"none\" stroke=\"black\" d=\"M728.5,-441.83C728.5,-434.13 728.5,-424.97 728.5,-416.42\"/>\n",
       "<polygon fill=\"black\" stroke=\"black\" points=\"732,-416.41 728.5,-406.41 725,-416.41 732,-416.41\"/>\n",
       "</g>\n",
       "<!-- 53 -->\n",
       "<g id=\"node54\" class=\"node\">\n",
       "<title>53</title>\n",
       "<polygon fill=\"none\" stroke=\"black\" points=\"905,-405 814,-405 814,-369 905,-369 905,-405\"/>\n",
       "<text text-anchor=\"middle\" x=\"859.5\" y=\"-383.3\" font-family=\"Helvetica,sans-Serif\" font-size=\"14.00\">class = USA</text>\n",
       "</g>\n",
       "<!-- 37&#45;&gt;53 -->\n",
       "<g id=\"edge53\" class=\"edge\">\n",
       "<title>37&#45;&gt;53</title>\n",
       "<path fill=\"none\" stroke=\"black\" d=\"M761.56,-441.83C779.14,-432.17 800.91,-420.2 819.45,-410.01\"/>\n",
       "<polygon fill=\"black\" stroke=\"black\" points=\"821.18,-413.06 828.26,-405.17 817.81,-406.92 821.18,-413.06\"/>\n",
       "</g>\n",
       "<!-- 39 -->\n",
       "<g id=\"node40\" class=\"node\">\n",
       "<title>39</title>\n",
       "<polygon fill=\"none\" stroke=\"black\" points=\"799,-332 658,-332 658,-294 799,-294 799,-332\"/>\n",
       "<text text-anchor=\"middle\" x=\"728.5\" y=\"-316.8\" font-family=\"Helvetica,sans-Serif\" font-size=\"14.00\">longitude &lt;= &#45;68.325</text>\n",
       "<text text-anchor=\"middle\" x=\"728.5\" y=\"-301.8\" font-family=\"Helvetica,sans-Serif\" font-size=\"14.00\">class = USA</text>\n",
       "</g>\n",
       "<!-- 38&#45;&gt;39 -->\n",
       "<g id=\"edge39\" class=\"edge\">\n",
       "<title>38&#45;&gt;39</title>\n",
       "<path fill=\"none\" stroke=\"black\" d=\"M728.5,-367.83C728.5,-360.13 728.5,-350.97 728.5,-342.42\"/>\n",
       "<polygon fill=\"black\" stroke=\"black\" points=\"732,-342.41 728.5,-332.41 725,-342.41 732,-342.41\"/>\n",
       "</g>\n",
       "<!-- 48 -->\n",
       "<g id=\"node49\" class=\"node\">\n",
       "<title>48</title>\n",
       "<polygon fill=\"none\" stroke=\"black\" points=\"1042,-332 917,-332 917,-294 1042,-294 1042,-332\"/>\n",
       "<text text-anchor=\"middle\" x=\"979.5\" y=\"-316.8\" font-family=\"Helvetica,sans-Serif\" font-size=\"14.00\">latitude &lt;= 45.565</text>\n",
       "<text text-anchor=\"middle\" x=\"979.5\" y=\"-301.8\" font-family=\"Helvetica,sans-Serif\" font-size=\"14.00\">class = Canada</text>\n",
       "</g>\n",
       "<!-- 38&#45;&gt;48 -->\n",
       "<g id=\"edge48\" class=\"edge\">\n",
       "<title>38&#45;&gt;48</title>\n",
       "<path fill=\"none\" stroke=\"black\" d=\"M791.51,-367.92C826.71,-357.83 870.7,-345.21 907.28,-334.72\"/>\n",
       "<polygon fill=\"black\" stroke=\"black\" points=\"908.25,-338.08 916.9,-331.96 906.32,-331.35 908.25,-338.08\"/>\n",
       "</g>\n",
       "<!-- 40 -->\n",
       "<g id=\"node41\" class=\"node\">\n",
       "<title>40</title>\n",
       "<polygon fill=\"none\" stroke=\"black\" points=\"782,-258 641,-258 641,-220 782,-220 782,-258\"/>\n",
       "<text text-anchor=\"middle\" x=\"711.5\" y=\"-242.8\" font-family=\"Helvetica,sans-Serif\" font-size=\"14.00\">longitude &lt;= &#45;68.915</text>\n",
       "<text text-anchor=\"middle\" x=\"711.5\" y=\"-227.8\" font-family=\"Helvetica,sans-Serif\" font-size=\"14.00\">class = Canada</text>\n",
       "</g>\n",
       "<!-- 39&#45;&gt;40 -->\n",
       "<g id=\"edge40\" class=\"edge\">\n",
       "<title>39&#45;&gt;40</title>\n",
       "<path fill=\"none\" stroke=\"black\" d=\"M724.21,-293.83C722.39,-286.13 720.23,-276.97 718.21,-268.42\"/>\n",
       "<polygon fill=\"black\" stroke=\"black\" points=\"721.55,-267.34 715.85,-258.41 714.74,-268.95 721.55,-267.34\"/>\n",
       "</g>\n",
       "<!-- 47 -->\n",
       "<g id=\"node48\" class=\"node\">\n",
       "<title>47</title>\n",
       "<polygon fill=\"none\" stroke=\"black\" points=\"891,-257 800,-257 800,-221 891,-221 891,-257\"/>\n",
       "<text text-anchor=\"middle\" x=\"845.5\" y=\"-235.3\" font-family=\"Helvetica,sans-Serif\" font-size=\"14.00\">class = USA</text>\n",
       "</g>\n",
       "<!-- 39&#45;&gt;47 -->\n",
       "<g id=\"edge47\" class=\"edge\">\n",
       "<title>39&#45;&gt;47</title>\n",
       "<path fill=\"none\" stroke=\"black\" d=\"M758.02,-293.83C773.45,-284.34 792.46,-272.64 808.82,-262.57\"/>\n",
       "<polygon fill=\"black\" stroke=\"black\" points=\"810.91,-265.39 817.6,-257.17 807.25,-259.43 810.91,-265.39\"/>\n",
       "</g>\n",
       "<!-- 41 -->\n",
       "<g id=\"node42\" class=\"node\">\n",
       "<title>41</title>\n",
       "<polygon fill=\"none\" stroke=\"black\" points=\"745,-183 654,-183 654,-147 745,-147 745,-183\"/>\n",
       "<text text-anchor=\"middle\" x=\"699.5\" y=\"-161.3\" font-family=\"Helvetica,sans-Serif\" font-size=\"14.00\">class = USA</text>\n",
       "</g>\n",
       "<!-- 40&#45;&gt;41 -->\n",
       "<g id=\"edge41\" class=\"edge\">\n",
       "<title>40&#45;&gt;41</title>\n",
       "<path fill=\"none\" stroke=\"black\" d=\"M708.47,-219.83C707.13,-211.81 705.53,-202.2 704.06,-193.34\"/>\n",
       "<polygon fill=\"black\" stroke=\"black\" points=\"707.5,-192.71 702.4,-183.42 700.59,-193.86 707.5,-192.71\"/>\n",
       "</g>\n",
       "<!-- 42 -->\n",
       "<g id=\"node43\" class=\"node\">\n",
       "<title>42</title>\n",
       "<polygon fill=\"none\" stroke=\"black\" points=\"904,-184 763,-184 763,-146 904,-146 904,-184\"/>\n",
       "<text text-anchor=\"middle\" x=\"833.5\" y=\"-168.8\" font-family=\"Helvetica,sans-Serif\" font-size=\"14.00\">longitude &lt;= &#45;68.597</text>\n",
       "<text text-anchor=\"middle\" x=\"833.5\" y=\"-153.8\" font-family=\"Helvetica,sans-Serif\" font-size=\"14.00\">class = Canada</text>\n",
       "</g>\n",
       "<!-- 40&#45;&gt;42 -->\n",
       "<g id=\"edge42\" class=\"edge\">\n",
       "<title>40&#45;&gt;42</title>\n",
       "<path fill=\"none\" stroke=\"black\" d=\"M742.29,-219.83C757.89,-210.62 777.02,-199.33 793.73,-189.47\"/>\n",
       "<polygon fill=\"black\" stroke=\"black\" points=\"795.89,-192.26 802.72,-184.16 792.33,-186.23 795.89,-192.26\"/>\n",
       "</g>\n",
       "<!-- 43 -->\n",
       "<g id=\"node44\" class=\"node\">\n",
       "<title>43</title>\n",
       "<polygon fill=\"none\" stroke=\"black\" points=\"816.5,-109 706.5,-109 706.5,-73 816.5,-73 816.5,-109\"/>\n",
       "<text text-anchor=\"middle\" x=\"761.5\" y=\"-87.3\" font-family=\"Helvetica,sans-Serif\" font-size=\"14.00\">class = Canada</text>\n",
       "</g>\n",
       "<!-- 42&#45;&gt;43 -->\n",
       "<g id=\"edge43\" class=\"edge\">\n",
       "<title>42&#45;&gt;43</title>\n",
       "<path fill=\"none\" stroke=\"black\" d=\"M815.33,-145.83C806.52,-137.02 795.81,-126.31 786.26,-116.76\"/>\n",
       "<polygon fill=\"black\" stroke=\"black\" points=\"788.46,-114.01 778.92,-109.42 783.51,-118.96 788.46,-114.01\"/>\n",
       "</g>\n",
       "<!-- 44 -->\n",
       "<g id=\"node45\" class=\"node\">\n",
       "<title>44</title>\n",
       "<polygon fill=\"none\" stroke=\"black\" points=\"976,-110 835,-110 835,-72 976,-72 976,-110\"/>\n",
       "<text text-anchor=\"middle\" x=\"905.5\" y=\"-94.8\" font-family=\"Helvetica,sans-Serif\" font-size=\"14.00\">longitude &lt;= &#45;68.459</text>\n",
       "<text text-anchor=\"middle\" x=\"905.5\" y=\"-79.8\" font-family=\"Helvetica,sans-Serif\" font-size=\"14.00\">class = Canada</text>\n",
       "</g>\n",
       "<!-- 42&#45;&gt;44 -->\n",
       "<g id=\"edge44\" class=\"edge\">\n",
       "<title>42&#45;&gt;44</title>\n",
       "<path fill=\"none\" stroke=\"black\" d=\"M851.67,-145.83C860.22,-137.28 870.56,-126.94 879.88,-117.62\"/>\n",
       "<polygon fill=\"black\" stroke=\"black\" points=\"882.49,-119.96 887.09,-110.41 877.54,-115.01 882.49,-119.96\"/>\n",
       "</g>\n",
       "<!-- 45 -->\n",
       "<g id=\"node46\" class=\"node\">\n",
       "<title>45</title>\n",
       "<polygon fill=\"none\" stroke=\"black\" points=\"891,-36 800,-36 800,0 891,0 891,-36\"/>\n",
       "<text text-anchor=\"middle\" x=\"845.5\" y=\"-14.3\" font-family=\"Helvetica,sans-Serif\" font-size=\"14.00\">class = USA</text>\n",
       "</g>\n",
       "<!-- 44&#45;&gt;45 -->\n",
       "<g id=\"edge45\" class=\"edge\">\n",
       "<title>44&#45;&gt;45</title>\n",
       "<path fill=\"none\" stroke=\"black\" d=\"M890.05,-71.72C882.85,-63.2 874.18,-52.94 866.41,-43.74\"/>\n",
       "<polygon fill=\"black\" stroke=\"black\" points=\"869,-41.38 859.87,-36 863.65,-45.9 869,-41.38\"/>\n",
       "</g>\n",
       "<!-- 46 -->\n",
       "<g id=\"node47\" class=\"node\">\n",
       "<title>46</title>\n",
       "<polygon fill=\"none\" stroke=\"black\" points=\"1019.5,-36 909.5,-36 909.5,0 1019.5,0 1019.5,-36\"/>\n",
       "<text text-anchor=\"middle\" x=\"964.5\" y=\"-14.3\" font-family=\"Helvetica,sans-Serif\" font-size=\"14.00\">class = Canada</text>\n",
       "</g>\n",
       "<!-- 44&#45;&gt;46 -->\n",
       "<g id=\"edge46\" class=\"edge\">\n",
       "<title>44&#45;&gt;46</title>\n",
       "<path fill=\"none\" stroke=\"black\" d=\"M920.69,-71.72C927.77,-63.2 936.3,-52.94 943.94,-43.74\"/>\n",
       "<polygon fill=\"black\" stroke=\"black\" points=\"946.67,-45.93 950.37,-36 941.29,-41.46 946.67,-45.93\"/>\n",
       "</g>\n",
       "<!-- 49 -->\n",
       "<g id=\"node50\" class=\"node\">\n",
       "<title>49</title>\n",
       "<polygon fill=\"none\" stroke=\"black\" points=\"1050,-258 909,-258 909,-220 1050,-220 1050,-258\"/>\n",
       "<text text-anchor=\"middle\" x=\"979.5\" y=\"-242.8\" font-family=\"Helvetica,sans-Serif\" font-size=\"14.00\">longitude &lt;= &#45;67.355</text>\n",
       "<text text-anchor=\"middle\" x=\"979.5\" y=\"-227.8\" font-family=\"Helvetica,sans-Serif\" font-size=\"14.00\">class = Canada</text>\n",
       "</g>\n",
       "<!-- 48&#45;&gt;49 -->\n",
       "<g id=\"edge49\" class=\"edge\">\n",
       "<title>48&#45;&gt;49</title>\n",
       "<path fill=\"none\" stroke=\"black\" d=\"M979.5,-293.83C979.5,-286.13 979.5,-276.97 979.5,-268.42\"/>\n",
       "<polygon fill=\"black\" stroke=\"black\" points=\"983,-268.41 979.5,-258.41 976,-268.41 983,-268.41\"/>\n",
       "</g>\n",
       "<!-- 52 -->\n",
       "<g id=\"node53\" class=\"node\">\n",
       "<title>52</title>\n",
       "<polygon fill=\"none\" stroke=\"black\" points=\"1178.5,-257 1068.5,-257 1068.5,-221 1178.5,-221 1178.5,-257\"/>\n",
       "<text text-anchor=\"middle\" x=\"1123.5\" y=\"-235.3\" font-family=\"Helvetica,sans-Serif\" font-size=\"14.00\">class = Canada</text>\n",
       "</g>\n",
       "<!-- 48&#45;&gt;52 -->\n",
       "<g id=\"edge52\" class=\"edge\">\n",
       "<title>48&#45;&gt;52</title>\n",
       "<path fill=\"none\" stroke=\"black\" d=\"M1015.84,-293.83C1035.35,-284.08 1059.53,-271.99 1080.03,-261.74\"/>\n",
       "<polygon fill=\"black\" stroke=\"black\" points=\"1081.78,-264.77 1089.16,-257.17 1078.65,-258.51 1081.78,-264.77\"/>\n",
       "</g>\n",
       "<!-- 50 -->\n",
       "<g id=\"node51\" class=\"node\">\n",
       "<title>50</title>\n",
       "<polygon fill=\"none\" stroke=\"black\" points=\"1021,-183 930,-183 930,-147 1021,-147 1021,-183\"/>\n",
       "<text text-anchor=\"middle\" x=\"975.5\" y=\"-161.3\" font-family=\"Helvetica,sans-Serif\" font-size=\"14.00\">class = USA</text>\n",
       "</g>\n",
       "<!-- 49&#45;&gt;50 -->\n",
       "<g id=\"edge50\" class=\"edge\">\n",
       "<title>49&#45;&gt;50</title>\n",
       "<path fill=\"none\" stroke=\"black\" d=\"M978.49,-219.83C978.05,-211.89 977.52,-202.41 977.03,-193.63\"/>\n",
       "<polygon fill=\"black\" stroke=\"black\" points=\"980.52,-193.21 976.47,-183.42 973.53,-193.6 980.52,-193.21\"/>\n",
       "</g>\n",
       "<!-- 51 -->\n",
       "<g id=\"node52\" class=\"node\">\n",
       "<title>51</title>\n",
       "<polygon fill=\"none\" stroke=\"black\" points=\"1149.5,-183 1039.5,-183 1039.5,-147 1149.5,-147 1149.5,-183\"/>\n",
       "<text text-anchor=\"middle\" x=\"1094.5\" y=\"-161.3\" font-family=\"Helvetica,sans-Serif\" font-size=\"14.00\">class = Canada</text>\n",
       "</g>\n",
       "<!-- 49&#45;&gt;51 -->\n",
       "<g id=\"edge51\" class=\"edge\">\n",
       "<title>49&#45;&gt;51</title>\n",
       "<path fill=\"none\" stroke=\"black\" d=\"M1008.52,-219.83C1023.68,-210.34 1042.37,-198.64 1058.45,-188.57\"/>\n",
       "<polygon fill=\"black\" stroke=\"black\" points=\"1060.45,-191.44 1067.07,-183.17 1056.74,-185.51 1060.45,-191.44\"/>\n",
       "</g>\n",
       "</g>\n",
       "</svg>\n"
      ],
      "text/plain": [
       "<graphviz.sources.Source at 0x1c15cf0b0a0>"
      ]
     },
     "execution_count": 29,
     "metadata": {},
     "output_type": "execute_result"
    }
   ],
   "source": [
    "model = DecisionTreeClassifier()\n",
    "model.fit(X_train, y_train)\n",
    "display_tree(X_train.columns, model)"
   ]
  },
  {
   "cell_type": "markdown",
   "metadata": {
    "slideshow": {
     "slide_type": "slide"
    }
   },
   "source": [
    "Let's examine the train and test accuracies with the split now."
   ]
  },
  {
   "cell_type": "code",
   "execution_count": 30,
   "metadata": {
    "slideshow": {
     "slide_type": "-"
    }
   },
   "outputs": [
    {
     "name": "stdout",
     "output_type": "stream",
     "text": [
      "Train accuracy:   1.000\n",
      "Test accuracy:   0.714\n"
     ]
    }
   ],
   "source": [
    "print(\"Train accuracy:   %0.3f\" % model.score(X_train, y_train))\n",
    "print(\"Test accuracy:   %0.3f\" % model.score(X_test, y_test))"
   ]
  },
  {
   "cell_type": "code",
   "execution_count": 31,
   "metadata": {},
   "outputs": [
    {
     "name": "stderr",
     "output_type": "stream",
     "text": [
      "C:\\Users\\chunq\\miniconda3\\envs\\cpsc330\\lib\\site-packages\\sklearn\\base.py:450: UserWarning: X does not have valid feature names, but DecisionTreeClassifier was fitted with feature names\n",
      "  warnings.warn(\n"
     ]
    },
    {
     "data": {
      "image/png": "[encoded data removed]",
      "text/plain": [
       "<Figure size 1152x432 with 2 Axes>"
      ]
     },
     "metadata": {},
     "output_type": "display_data"
    }
   ],
   "source": [
    "plot_tree_decision_boundary_and_tree(model, X, y, height=6, width=16, eps=10)"
   ]
  },
  {
   "cell_type": "code",
   "execution_count": 32,
   "metadata": {
    "slideshow": {
     "slide_type": "slide"
    }
   },
   "outputs": [
    {
     "name": "stderr",
     "output_type": "stream",
     "text": [
      "C:\\Users\\chunq\\miniconda3\\envs\\cpsc330\\lib\\site-packages\\sklearn\\base.py:450: UserWarning: X does not have valid feature names, but DecisionTreeClassifier was fitted with feature names\n",
      "  warnings.warn(\n",
      "C:\\Users\\chunq\\miniconda3\\envs\\cpsc330\\lib\\site-packages\\sklearn\\base.py:450: UserWarning: X does not have valid feature names, but DecisionTreeClassifier was fitted with feature names\n",
      "  warnings.warn(\n"
     ]
    },
    {
     "data": {
      "image/png": "[encoded data removed]",
      "text/plain": [
       "<Figure size 1152x432 with 2 Axes>"
      ]
     },
     "metadata": {},
     "output_type": "display_data"
    }
   ],
   "source": [
    "fig, ax = plt.subplots(1, 2, figsize=(16, 6), subplot_kw={\"xticks\": (), \"yticks\": ()})\n",
    "plot_tree_decision_boundary(\n",
    "    model,\n",
    "    X_train,\n",
    "    y_train,\n",
    "    eps=10,\n",
    "    x_label=\"longitude\",\n",
    "    y_label=\"latitude\",\n",
    "    ax=ax[0],\n",
    "    title=\"Decision tree model on the train data\",\n",
    ")\n",
    "plot_tree_decision_boundary(\n",
    "    model,\n",
    "    X_test,\n",
    "    y_test,\n",
    "    eps=10,\n",
    "    x_label=\"longitude\",\n",
    "    y_label=\"latitude\",\n",
    "    ax=ax[1],\n",
    "    title=\"Decision tree model on the test data\",\n",
    ")"
   ]
  },
  {
   "cell_type": "markdown",
   "metadata": {
    "slideshow": {
     "slide_type": "slide"
    }
   },
   "source": [
    "- Useful arguments of `train_test_split`: \n",
    "    - `test_size`\n",
    "    - `train_size` \n",
    "    - `random_state`"
   ]
  },
  {
   "cell_type": "markdown",
   "metadata": {
    "slideshow": {
     "slide_type": "slide"
    }
   },
   "source": [
    "#### `test_size`, `train_size` arguments\n",
    "\n",
    "- Let's us specify how we want to split the data. \n",
    "- We can specify either of the two. See the documentation [here](https://scikit-learn.org/stable/modules/generated/sklearn.model_selection.train_test_split.html).\n",
    "- There is no hard and fast rule on what split sizes should we use. \n",
    "    - It depends upon how much data is available to you. \n",
    "- Some common splits are 90/10, 80/20, 70/30 (training/test).\n",
    "- In the above example, we used 80/20 split. "
   ]
  },
  {
   "cell_type": "markdown",
   "metadata": {
    "slideshow": {
     "slide_type": "slide"
    }
   },
   "source": [
    "#### `random_state` argument\n",
    "\n",
    "- The data is shuffled before splitting which is crucial step. (You will explore this in the lab.) \n",
    "- The `random_state` argument controls this shuffling. \n",
    "- In the example above we used `random_state=123`. If you run this notebook with the same `random_state` it should give you exactly the same split. \n",
    "    - Useful when you want reproducible results. "
   ]
  },
  {
   "cell_type": "markdown",
   "metadata": {
    "slideshow": {
     "slide_type": "slide"
    }
   },
   "source": [
    "### Train/validation/test split\n",
    "\n",
    "- Some of you may have heard of \"validation\" data.\n",
    "- Sometimes it's a good idea to have a separate data for hyperparameter tuning. \n",
    "\n",
    "![](img/train-valid-test-split.png)\n",
    "\n",
    "<!-- <img src='img/train-valid-test-split.png' width=\"1500\" height=\"1500\" /> -->"
   ]
  },
  {
   "cell_type": "markdown",
   "metadata": {
    "slideshow": {
     "slide_type": "slide"
    }
   },
   "source": [
    "- We will try to use \"validation\" to refer to data where we have access to the target values.\n",
    "  - But, unlike the training data, we only use this for hyperparameter tuning and model assessment; we don't pass these into `fit`.  \n",
    "- We will try to use \"test\" to refer to data where we have access to the target values \n",
    "  - But, unlike training and validation data, we neither use it in training nor hyperparameter optimization. \n",
    "  - We only use it **once** to evaluate the performance of the best performing model on the validation set.   \n",
    "  - We lock it in a \"vault\" until we're ready to evaluate. \n",
    "\n",
    "Note that there isn't good concensus on the terminology of what is validation and what is test. "
   ]
  },
  {
   "cell_type": "markdown",
   "metadata": {
    "slideshow": {
     "slide_type": "skip"
    }
   },
   "source": [
    "```{admonition} Note \n",
    ":class: note\n",
    "Validation data is also referred to as **development data** or **dev set** for short.  \n",
    "```"
   ]
  },
  {
   "cell_type": "markdown",
   "metadata": {
    "slideshow": {
     "slide_type": "slide"
    }
   },
   "source": [
    "### \"Deployment\" data\n",
    "\n",
    "- After we build and finalize a model, we deploy it, and then the model deals with the data in the wild. \n",
    "- We will use \"deployment\" to refer to this data, where we do **not** have access to the target values.\n",
    "- Deployment error is what we _really_ care about.\n",
    "- We use validation and test errors as proxies for deployment error, and we hope they are similar.\n",
    "- So, if our model does well on the validation and test data, we hope it will do well on deployment data."
   ]
  },
  {
   "cell_type": "markdown",
   "metadata": {
    "slideshow": {
     "slide_type": "slide"
    }
   },
   "source": [
    "### Summary of train, validation, test, and deployment data\n",
    "\n",
    "|         | `fit` | `score` | `predict` |\n",
    "|----------|-------|---------|-----------|\n",
    "| Train    | ✔️      | ✔️      | ✔️         |\n",
    "| Validation |      | ✔️      | ✔️         |\n",
    "| Test    |       |  once   | once         |\n",
    "| Deployment    |       |       | ✔️         |\n",
    "\n",
    "You can typically expect $E_{train} < E_{validation} < E_{test} < E_{deployment}$."
   ]
  },
  {
   "cell_type": "markdown",
   "metadata": {
    "slideshow": {
     "slide_type": "slide"
    }
   },
   "source": [
    "### ❓❓ Questions on generalization and data splitting"
   ]
  },
  {
   "cell_type": "markdown",
   "metadata": {
    "slideshow": {
     "slide_type": "slide"
    },
    "tags": []
   },
   "source": [
    "```{admonition} Exercise 3.1: True or False\n",
    "1. A decision tree model with no depth is likely to perform very well on the deployment data. \n",
    "2. Data splitting helps us generalize our model better. \n",
    "3. Deployment data is used at the very end and only scored once.  \n",
    "4. Validation data could be used for hyperparameter optimization. \n",
    "```    "
   ]
  },
  {
   "cell_type": "markdown",
   "metadata": {
    "slideshow": {
     "slide_type": "skip"
    },
    "tags": []
   },
   "source": [
    "```{admonition} Exercise 3.1: V's Solutions!\n",
    ":class: tip, dropdown\n",
    "1. False\n",
    "2. False. Data splitting helps us **assess** how well our model would generalize. \n",
    "3. False. You cannot score on the deployment data as there are no labels available.\n",
    "4. True\n",
    "```"
   ]
  },
  {
   "cell_type": "markdown",
   "metadata": {
    "slideshow": {
     "slide_type": "slide"
    },
    "tags": []
   },
   "source": [
    "```{admonition} Exercise 3.2: Questions for discussion\n",
    "1. Why you can typically expect $E_{train} < E_{validation} < E_{test} < E_{deployment}$. (From Piazza.)\n",
    "2. Discuss the consequences of not shuffling before splitting the data in `train_test_split`. \n",
    "```    "
   ]
  },
  {
   "cell_type": "markdown",
   "metadata": {
    "slideshow": {
     "slide_type": "skip"
    }
   },
   "source": [
    "<br><br><br><br>"
   ]
  },
  {
   "cell_type": "markdown",
   "metadata": {
    "slideshow": {
     "slide_type": "slide"
    }
   },
   "source": [
    "## Cross-validation [[video](https://youtu.be/4cv8VYonepA)]"
   ]
  },
  {
   "cell_type": "markdown",
   "metadata": {
    "slideshow": {
     "slide_type": "slide"
    }
   },
   "source": [
    "### Problems with single train/validation split\n",
    "\n",
    "- Only using a portion of your data for training and only a portion for validation.\n",
    "- If your dataset is small you might end up with a tiny training and/or validation set.\n",
    "- You might be unlucky with your splits such that they don't align well or don't well represent your test data.\n",
    "\n",
    "![](img/train-valid-test-split.png)\n",
    "\n",
    "<!-- <img src='img/train-valid-test-split.png' width=\"1500\" height=\"1500\" /> -->"
   ]
  },
  {
   "cell_type": "markdown",
   "metadata": {
    "slideshow": {
     "slide_type": "slide"
    }
   },
   "source": [
    "### Cross-validation to the rescue!! \n",
    "\n",
    "- Cross-validation provides a solution to this problem. \n",
    "- Split the data into $k$ folds ($k>2$, often $k=10$). In the picture below $k=4$.\n",
    "- Each \"fold\" gets a turn at being the validation set.\n",
    "- Note that cross-validation doesn't shuffle the data; it's done in `train_test_split`.\n",
    "\n",
    "![](img/cross-validation.png)\n",
    "<!-- <img src='img/cross-validation.png' width=\"1500\"> -->"
   ]
  },
  {
   "cell_type": "markdown",
   "metadata": {
    "slideshow": {
     "slide_type": "slide"
    }
   },
   "source": [
    "- Each fold gives a score and we usually average our $k$ results. \n",
    "- It's better to examine the variation in the scores across folds.  \n",
    "- Gives a more **robust** measure of error on unseen data."
   ]
  },
  {
   "cell_type": "markdown",
   "metadata": {
    "slideshow": {
     "slide_type": "slide"
    }
   },
   "source": [
    "### Cross-validation using `scikit-learn`"
   ]
  },
  {
   "cell_type": "code",
   "execution_count": 33,
   "metadata": {},
   "outputs": [],
   "source": [
    "from sklearn.model_selection import cross_val_score, cross_validate"
   ]
  },
  {
   "cell_type": "markdown",
   "metadata": {},
   "source": [
    "#### `cross_val_score`"
   ]
  },
  {
   "cell_type": "code",
   "execution_count": 34,
   "metadata": {},
   "outputs": [
    {
     "data": {
      "text/plain": [
       "array([0.76470588, 0.82352941, 0.70588235, 0.94117647, 0.82352941,\n",
       "       0.82352941, 0.70588235, 0.9375    , 0.9375    , 0.9375    ])"
      ]
     },
     "execution_count": 34,
     "metadata": {},
     "output_type": "execute_result"
    }
   ],
   "source": [
    "model = DecisionTreeClassifier(max_depth=4)\n",
    "cv_scores = cross_val_score(model, X_train, y_train, cv=10)\n",
    "cv_scores"
   ]
  },
  {
   "cell_type": "code",
   "execution_count": 35,
   "metadata": {},
   "outputs": [
    {
     "name": "stdout",
     "output_type": "stream",
     "text": [
      "Average cross-validation score = 0.84\n",
      "Standard deviation of cross-validation score = 0.09\n"
     ]
    }
   ],
   "source": [
    "print(f\"Average cross-validation score = {np.mean(cv_scores):.2f}\")\n",
    "print(f\"Standard deviation of cross-validation score = {np.std(cv_scores):.2f}\")"
   ]
  },
  {
   "cell_type": "markdown",
   "metadata": {
    "slideshow": {
     "slide_type": "slide"
    }
   },
   "source": [
    "Under the hood\n",
    "\n",
    "- It creates `cv` folds on the data.\n",
    "- In each fold, it fits the model on the training portion and scores on the validation portion. \n",
    "- The output is a list of validation scores in each fold."
   ]
  },
  {
   "cell_type": "markdown",
   "metadata": {
    "slideshow": {
     "slide_type": "slide"
    }
   },
   "source": [
    "#### `cross_validate`\n",
    "\n",
    "- Similar to `cross_val_score` but more powerful.\n",
    "- Let's us access training and validation scores.  "
   ]
  },
  {
   "cell_type": "code",
   "execution_count": 76,
   "metadata": {},
   "outputs": [
    {
     "data": {
      "text/html": [
       "<div>\n",
       "<style scoped>\n",
       "    .dataframe tbody tr th:only-of-type {\n",
       "        vertical-align: middle;\n",
       "    }\n",
       "\n",
       "    .dataframe tbody tr th {\n",
       "        vertical-align: top;\n",
       "    }\n",
       "\n",
       "    .dataframe thead th {\n",
       "        text-align: right;\n",
       "    }\n",
       "</style>\n",
       "<table border=\"1\" class=\"dataframe\">\n",
       "  <thead>\n",
       "    <tr style=\"text-align: right;\">\n",
       "      <th></th>\n",
       "      <th>fit_time</th>\n",
       "      <th>score_time</th>\n",
       "      <th>test_score</th>\n",
       "      <th>train_score</th>\n",
       "    </tr>\n",
       "  </thead>\n",
       "  <tbody>\n",
       "    <tr>\n",
       "      <th>0</th>\n",
       "      <td>0.001999</td>\n",
       "      <td>0.001033</td>\n",
       "      <td>0.764706</td>\n",
       "      <td>0.913333</td>\n",
       "    </tr>\n",
       "    <tr>\n",
       "      <th>1</th>\n",
       "      <td>0.000996</td>\n",
       "      <td>0.001000</td>\n",
       "      <td>0.823529</td>\n",
       "      <td>0.906667</td>\n",
       "    </tr>\n",
       "    <tr>\n",
       "      <th>2</th>\n",
       "      <td>0.001965</td>\n",
       "      <td>0.001996</td>\n",
       "      <td>0.705882</td>\n",
       "      <td>0.906667</td>\n",
       "    </tr>\n",
       "    <tr>\n",
       "      <th>3</th>\n",
       "      <td>0.001996</td>\n",
       "      <td>0.001001</td>\n",
       "      <td>0.941176</td>\n",
       "      <td>0.900000</td>\n",
       "    </tr>\n",
       "    <tr>\n",
       "      <th>4</th>\n",
       "      <td>0.002000</td>\n",
       "      <td>0.001000</td>\n",
       "      <td>0.823529</td>\n",
       "      <td>0.906667</td>\n",
       "    </tr>\n",
       "    <tr>\n",
       "      <th>5</th>\n",
       "      <td>0.002000</td>\n",
       "      <td>0.000999</td>\n",
       "      <td>0.823529</td>\n",
       "      <td>0.913333</td>\n",
       "    </tr>\n",
       "    <tr>\n",
       "      <th>6</th>\n",
       "      <td>0.001000</td>\n",
       "      <td>0.001000</td>\n",
       "      <td>0.705882</td>\n",
       "      <td>0.920000</td>\n",
       "    </tr>\n",
       "    <tr>\n",
       "      <th>7</th>\n",
       "      <td>0.000999</td>\n",
       "      <td>0.001000</td>\n",
       "      <td>0.937500</td>\n",
       "      <td>0.900662</td>\n",
       "    </tr>\n",
       "    <tr>\n",
       "      <th>8</th>\n",
       "      <td>0.001034</td>\n",
       "      <td>0.000996</td>\n",
       "      <td>0.937500</td>\n",
       "      <td>0.900662</td>\n",
       "    </tr>\n",
       "    <tr>\n",
       "      <th>9</th>\n",
       "      <td>0.002003</td>\n",
       "      <td>0.001003</td>\n",
       "      <td>0.937500</td>\n",
       "      <td>0.900662</td>\n",
       "    </tr>\n",
       "  </tbody>\n",
       "</table>\n",
       "</div>"
      ],
      "text/plain": [
       "   fit_time  score_time  test_score  train_score\n",
       "0  0.001999    0.001033    0.764706     0.913333\n",
       "1  0.000996    0.001000    0.823529     0.906667\n",
       "2  0.001965    0.001996    0.705882     0.906667\n",
       "3  0.001996    0.001001    0.941176     0.900000\n",
       "4  0.002000    0.001000    0.823529     0.906667\n",
       "5  0.002000    0.000999    0.823529     0.913333\n",
       "6  0.001000    0.001000    0.705882     0.920000\n",
       "7  0.000999    0.001000    0.937500     0.900662\n",
       "8  0.001034    0.000996    0.937500     0.900662\n",
       "9  0.002003    0.001003    0.937500     0.900662"
      ]
     },
     "execution_count": 76,
     "metadata": {},
     "output_type": "execute_result"
    }
   ],
   "source": [
    "scores = cross_validate(model, X_train, y_train, cv=10, return_train_score=True)\n",
    "pd.DataFrame(scores)"
   ]
  },
  {
   "cell_type": "code",
   "execution_count": 77,
   "metadata": {},
   "outputs": [
    {
     "data": {
      "text/html": [
       "<div>\n",
       "<style scoped>\n",
       "    .dataframe tbody tr th:only-of-type {\n",
       "        vertical-align: middle;\n",
       "    }\n",
       "\n",
       "    .dataframe tbody tr th {\n",
       "        vertical-align: top;\n",
       "    }\n",
       "\n",
       "    .dataframe thead th {\n",
       "        text-align: right;\n",
       "    }\n",
       "</style>\n",
       "<table border=\"1\" class=\"dataframe\">\n",
       "  <thead>\n",
       "    <tr style=\"text-align: right;\">\n",
       "      <th></th>\n",
       "      <th>0</th>\n",
       "    </tr>\n",
       "  </thead>\n",
       "  <tbody>\n",
       "    <tr>\n",
       "      <th>fit_time</th>\n",
       "      <td>0.001599</td>\n",
       "    </tr>\n",
       "    <tr>\n",
       "      <th>score_time</th>\n",
       "      <td>0.001103</td>\n",
       "    </tr>\n",
       "    <tr>\n",
       "      <th>test_score</th>\n",
       "      <td>0.840074</td>\n",
       "    </tr>\n",
       "    <tr>\n",
       "      <th>train_score</th>\n",
       "      <td>0.906865</td>\n",
       "    </tr>\n",
       "  </tbody>\n",
       "</table>\n",
       "</div>"
      ],
      "text/plain": [
       "                    0\n",
       "fit_time     0.001599\n",
       "score_time   0.001103\n",
       "test_score   0.840074\n",
       "train_score  0.906865"
      ]
     },
     "execution_count": 77,
     "metadata": {},
     "output_type": "execute_result"
    }
   ],
   "source": [
    "pd.DataFrame(pd.DataFrame(scores).mean())"
   ]
  },
  {
   "cell_type": "markdown",
   "metadata": {
    "slideshow": {
     "slide_type": "skip"
    }
   },
   "source": [
    "```{important}\n",
    "Keep in mind that cross-validation does not return a model. It is not a way to build a model that can be applied to new data. The purpose of cross-validation is to **evaluate** how well the model will generalize to unseen data. \n",
    "```"
   ]
  },
  {
   "cell_type": "markdown",
   "metadata": {
    "slideshow": {
     "slide_type": "skip"
    }
   },
   "source": [
    "```{seealso}\n",
    "Note that both `cross_val_score` and `cross_validate` functions do not shuffle the data. Check out [`StratifiedKFold`](https://scikit-learn.org/stable/modules/generated/sklearn.model_selection.StratifiedKFold.html#sklearn.model_selection.StratifiedKFold), where proportions of classes is the same in each fold as they are in the whole dataset. By default, `sklearn` uses `StratifiedKFold` when carrying out cross-validation for classification problems. \n",
    "```"
   ]
  },
  {
   "cell_type": "code",
   "execution_count": 78,
   "metadata": {
    "slideshow": {
     "slide_type": "skip"
    }
   },
   "outputs": [
    {
     "data": {
      "image/png": "[encoded data removed]",
      "text/plain": [
       "<Figure size 864x144 with 1 Axes>"
      ]
     },
     "metadata": {
      "needs_background": "light"
     },
     "output_type": "display_data"
    }
   ],
   "source": [
    "mglearn.plots.plot_cross_validation()"
   ]
  },
  {
   "cell_type": "markdown",
   "metadata": {
    "slideshow": {
     "slide_type": "slide"
    }
   },
   "source": [
    "#### Our typical supervised learning set up is as follows: \n",
    "\n",
    "- We are given training data with features `X` and target `y`\n",
    "- We split the data into train and test portions: `X_train, y_train, X_test, y_test`\n",
    "- We carry out hyperparameter optimization using cross-validation on the train portion: `X_train` and `y_train`. \n",
    "- We assess our best performing model on the test portion: `X_test` and `y_test`.  \n",
    "- What we care about is the **test error**, which tells us how well our model can be generalized.\n",
    "- If this test error is \"reasonable\" we deploy the model which will be used on new unseen examples."
   ]
  },
  {
   "cell_type": "code",
   "execution_count": 83,
   "metadata": {
    "slideshow": {
     "slide_type": "slide"
    }
   },
   "outputs": [
    {
     "data": {
      "text/html": [
       "<div>\n",
       "<style scoped>\n",
       "    .dataframe tbody tr th:only-of-type {\n",
       "        vertical-align: middle;\n",
       "    }\n",
       "\n",
       "    .dataframe tbody tr th {\n",
       "        vertical-align: top;\n",
       "    }\n",
       "\n",
       "    .dataframe thead th {\n",
       "        text-align: right;\n",
       "    }\n",
       "</style>\n",
       "<table border=\"1\" class=\"dataframe\">\n",
       "  <thead>\n",
       "    <tr style=\"text-align: right;\">\n",
       "      <th></th>\n",
       "      <th>fit_time</th>\n",
       "      <th>score_time</th>\n",
       "      <th>test_score</th>\n",
       "      <th>train_score</th>\n",
       "    </tr>\n",
       "  </thead>\n",
       "  <tbody>\n",
       "    <tr>\n",
       "      <th>0</th>\n",
       "      <td>0.002030</td>\n",
       "      <td>0.001974</td>\n",
       "      <td>0.875000</td>\n",
       "      <td>1.000000</td>\n",
       "    </tr>\n",
       "    <tr>\n",
       "      <th>1</th>\n",
       "      <td>0.001998</td>\n",
       "      <td>0.001002</td>\n",
       "      <td>0.875000</td>\n",
       "      <td>0.992857</td>\n",
       "    </tr>\n",
       "    <tr>\n",
       "      <th>2</th>\n",
       "      <td>0.002001</td>\n",
       "      <td>0.001030</td>\n",
       "      <td>0.875000</td>\n",
       "      <td>1.000000</td>\n",
       "    </tr>\n",
       "    <tr>\n",
       "      <th>3</th>\n",
       "      <td>0.000990</td>\n",
       "      <td>0.000998</td>\n",
       "      <td>0.687500</td>\n",
       "      <td>1.000000</td>\n",
       "    </tr>\n",
       "    <tr>\n",
       "      <th>4</th>\n",
       "      <td>0.001971</td>\n",
       "      <td>0.001002</td>\n",
       "      <td>0.812500</td>\n",
       "      <td>1.000000</td>\n",
       "    </tr>\n",
       "    <tr>\n",
       "      <th>5</th>\n",
       "      <td>0.002009</td>\n",
       "      <td>0.000961</td>\n",
       "      <td>0.812500</td>\n",
       "      <td>1.000000</td>\n",
       "    </tr>\n",
       "    <tr>\n",
       "      <th>6</th>\n",
       "      <td>0.002030</td>\n",
       "      <td>0.001000</td>\n",
       "      <td>0.866667</td>\n",
       "      <td>0.985816</td>\n",
       "    </tr>\n",
       "    <tr>\n",
       "      <th>7</th>\n",
       "      <td>0.001001</td>\n",
       "      <td>0.000998</td>\n",
       "      <td>0.600000</td>\n",
       "      <td>0.992908</td>\n",
       "    </tr>\n",
       "    <tr>\n",
       "      <th>8</th>\n",
       "      <td>0.002001</td>\n",
       "      <td>0.001003</td>\n",
       "      <td>0.666667</td>\n",
       "      <td>1.000000</td>\n",
       "    </tr>\n",
       "    <tr>\n",
       "      <th>9</th>\n",
       "      <td>0.000967</td>\n",
       "      <td>0.001002</td>\n",
       "      <td>0.733333</td>\n",
       "      <td>1.000000</td>\n",
       "    </tr>\n",
       "  </tbody>\n",
       "</table>\n",
       "</div>"
      ],
      "text/plain": [
       "   fit_time  score_time  test_score  train_score\n",
       "0  0.002030    0.001974    0.875000     1.000000\n",
       "1  0.001998    0.001002    0.875000     0.992857\n",
       "2  0.002001    0.001030    0.875000     1.000000\n",
       "3  0.000990    0.000998    0.687500     1.000000\n",
       "4  0.001971    0.001002    0.812500     1.000000\n",
       "5  0.002009    0.000961    0.812500     1.000000\n",
       "6  0.002030    0.001000    0.866667     0.985816\n",
       "7  0.001001    0.000998    0.600000     0.992908\n",
       "8  0.002001    0.001003    0.666667     1.000000\n",
       "9  0.000967    0.001002    0.733333     1.000000"
      ]
     },
     "execution_count": 83,
     "metadata": {},
     "output_type": "execute_result"
    }
   ],
   "source": [
    "X_train, X_test, y_train, y_test = train_test_split(X, y, random_state=42)\n",
    "model = DecisionTreeClassifier(max_depth=10)\n",
    "scores = cross_validate(model, X_train, y_train, cv=10, return_train_score=True)\n",
    "pd.DataFrame(scores)"
   ]
  },
  {
   "cell_type": "code",
   "execution_count": 84,
   "metadata": {
    "slideshow": {
     "slide_type": "skip"
    }
   },
   "outputs": [],
   "source": [
    "def mean_std_cross_val_scores(model, X_train, y_train, **kwargs):\n",
    "    \"\"\"\n",
    "    Returns mean and std of cross validation\n",
    "    \"\"\"\n",
    "    scores = cross_validate(model, X_train, y_train, **kwargs)\n",
    "\n",
    "    mean_scores = pd.DataFrame(scores).mean()\n",
    "    std_scores = pd.DataFrame(scores).std()\n",
    "    out_col = []\n",
    "\n",
    "    for i in range(len(mean_scores)):\n",
    "        out_col.append((f\"%0.3f (+/- %0.3f)\" % (mean_scores[i], std_scores[i])))\n",
    "\n",
    "    return pd.Series(data=out_col, index=mean_scores.index)"
   ]
  },
  {
   "cell_type": "code",
   "execution_count": 90,
   "metadata": {
    "slideshow": {
     "slide_type": "skip"
    }
   },
   "outputs": [
    {
     "data": {
      "text/html": [
       "<div>\n",
       "<style scoped>\n",
       "    .dataframe tbody tr th:only-of-type {\n",
       "        vertical-align: middle;\n",
       "    }\n",
       "\n",
       "    .dataframe tbody tr th {\n",
       "        vertical-align: top;\n",
       "    }\n",
       "\n",
       "    .dataframe thead th {\n",
       "        text-align: right;\n",
       "    }\n",
       "</style>\n",
       "<table border=\"1\" class=\"dataframe\">\n",
       "  <thead>\n",
       "    <tr style=\"text-align: right;\">\n",
       "      <th></th>\n",
       "      <th>fit_time</th>\n",
       "      <th>score_time</th>\n",
       "      <th>test_score</th>\n",
       "      <th>train_score</th>\n",
       "    </tr>\n",
       "  </thead>\n",
       "  <tbody>\n",
       "    <tr>\n",
       "      <th>Decision tree</th>\n",
       "      <td>0.002 (+/- 0.001)</td>\n",
       "      <td>0.001 (+/- 0.000)</td>\n",
       "      <td>0.782 (+/- 0.059)</td>\n",
       "      <td>0.994 (+/- 0.014)</td>\n",
       "    </tr>\n",
       "  </tbody>\n",
       "</table>\n",
       "</div>"
      ],
      "text/plain": [
       "                        fit_time         score_time         test_score  \\\n",
       "Decision tree  0.002 (+/- 0.001)  0.001 (+/- 0.000)  0.782 (+/- 0.059)   \n",
       "\n",
       "                     train_score  \n",
       "Decision tree  0.994 (+/- 0.014)  "
      ]
     },
     "execution_count": 90,
     "metadata": {},
     "output_type": "execute_result"
    }
   ],
   "source": [
    "results = {}\n",
    "results[\"Decision tree\"] = mean_std_cross_val_scores(\n",
    "    model, X_train, y_train, return_train_score=True\n",
    ")\n",
    "pd.DataFrame(results).T"
   ]
  },
  {
   "cell_type": "markdown",
   "metadata": {},
   "source": [
    "- How do we know whether this test score is reasonable? "
   ]
  },
  {
   "cell_type": "markdown",
   "metadata": {
    "slideshow": {
     "slide_type": "slide"
    }
   },
   "source": [
    "### ❓❓ Questions on cross-validation"
   ]
  },
  {
   "cell_type": "markdown",
   "metadata": {
    "slideshow": {
     "slide_type": "skip"
    }
   },
   "source": [
    "```{admonition} Exercise 3.3: Cross-validation\n",
    "1. $k$-fold cross-validation calls fit $k$. True or False? \n",
    "2. We use cross-validation to improve model performance. True or False? \n",
    "3. Discuss advantages and disadvantages of cross-validation. \n",
    "```"
   ]
  },
  {
   "cell_type": "markdown",
   "metadata": {
    "slideshow": {
     "slide_type": "skip"
    }
   },
   "source": [
    "```{admonition} Exercise 3.3: V's Solutions!\n",
    ":class: tip, dropdown\n",
    "1. True \n",
    "2. False. We can use it to assess model performance.\n",
    "```"
   ]
  },
  {
   "cell_type": "markdown",
   "metadata": {
    "slideshow": {
     "slide_type": "slide"
    }
   },
   "source": [
    "## Break (5 min)\n",
    "\n",
    "![](img/eva-coffee.png)\n"
   ]
  },
  {
   "cell_type": "markdown",
   "metadata": {
    "slideshow": {
     "slide_type": "slide"
    }
   },
   "source": [
    "## Underfitting, overfitting, the fundamental trade-off, the golden rule [[video](https://youtu.be/Ihay8yE5KTI)]"
   ]
  },
  {
   "cell_type": "markdown",
   "metadata": {
    "slideshow": {
     "slide_type": "slide"
    }
   },
   "source": [
    "### Types of errors\n",
    "\n",
    "Imagine that your train and validation errors do not align with each other. How do you diagnose the problem?  \n",
    "\n",
    "We're going to think about 4 types of errors:\n",
    "\n",
    "- $E_\\textrm{train}$ is your training error (or mean train error from cross-validation).\n",
    "- $E_\\textrm{valid}$ is your validation error (or mean validation error from cross-validation).\n",
    "- $E_\\textrm{test}$ is your test error.\n",
    "- $E_\\textrm{best}$ is the best possible error you could get for a given problem."
   ]
  },
  {
   "cell_type": "markdown",
   "metadata": {
    "slideshow": {
     "slide_type": "slide"
    }
   },
   "source": [
    "### Underfitting "
   ]
  },
  {
   "cell_type": "code",
   "execution_count": 31,
   "metadata": {
    "slideshow": {
     "slide_type": "-"
    }
   },
   "outputs": [
    {
     "name": "stdout",
     "output_type": "stream",
     "text": [
      "Train error:   0.188\n",
      "Validation error:   0.212\n"
     ]
    }
   ],
   "source": [
    "model = DecisionTreeClassifier(max_depth=1)  # decision stump\n",
    "scores = cross_validate(model, X_train, y_train, cv=10, return_train_score=True)\n",
    "print(\"Train error:   %0.3f\" % (1 - np.mean(scores[\"train_score\"])))\n",
    "print(\"Validation error:   %0.3f\" % (1 - np.mean(scores[\"test_score\"])))"
   ]
  },
  {
   "cell_type": "markdown",
   "metadata": {
    "slideshow": {
     "slide_type": "slide"
    }
   },
   "source": [
    "- If your model is too simple, like `DummyClassifier` or `DecisionTreeClassifier` with `max_depth=1`, it's not going to pick up on some random quirks in the data but it won't even capture useful patterns in the training data.\n",
    "- The model won't be very good in general. Both train and validation errors would be high. This is **underfitting**.\n",
    "- The gap between train and validation error is going to be lower.\n",
    "- $E_\\textrm{best} \\lt E_\\textrm{train} \\lesssim E_\\textrm{valid}$"
   ]
  },
  {
   "cell_type": "markdown",
   "metadata": {
    "slideshow": {
     "slide_type": "slide"
    }
   },
   "source": [
    "### Overfitting "
   ]
  },
  {
   "cell_type": "code",
   "execution_count": 32,
   "metadata": {
    "slideshow": {
     "slide_type": "-"
    }
   },
   "outputs": [
    {
     "name": "stdout",
     "output_type": "stream",
     "text": [
      "Train error:   0.000\n",
      "Validation error:   0.213\n"
     ]
    }
   ],
   "source": [
    "model = DecisionTreeClassifier(max_depth=None)\n",
    "scores = cross_validate(model, X_train, y_train, cv=10, return_train_score=True)\n",
    "print(\"Train error:   %0.3f\" % (1 - np.mean(scores[\"train_score\"])))\n",
    "print(\"Validation error:   %0.3f\" % (1 - np.mean(scores[\"test_score\"])))"
   ]
  },
  {
   "cell_type": "markdown",
   "metadata": {
    "slideshow": {
     "slide_type": "slide"
    }
   },
   "source": [
    "- If your model is very complex, like a `DecisionTreeClassifier(max_depth=None)`, then you will learn unreliable patterns in order to get every single training example correct.\n",
    "- The training error is going to be very low but there will be a big gap between the training error and the validation error. This is **overfitting**.\n",
    "- In overfitting scenario, usually we'll see: \n",
    "$E_\\textrm{train} \\lt E_\\textrm{best}  \\lt E_\\textrm{valid}$\n",
    "- In general, if $E_\\textrm{train}$ is low, we are likely to be in the overfitting scenario. It is fairly common to have at least a bit of this."
   ]
  },
  {
   "cell_type": "markdown",
   "metadata": {
    "slideshow": {
     "slide_type": "slide"
    }
   },
   "source": [
    "- So the validation error does not necessarily decrease with the training error. "
   ]
  },
  {
   "cell_type": "code",
   "execution_count": 33,
   "metadata": {
    "slideshow": {
     "slide_type": "-"
    }
   },
   "outputs": [],
   "source": [
    "X_train, X_test, y_train, y_test = train_test_split(X, y, random_state=1)\n",
    "results_dict = {\n",
    "    \"depth\": [],\n",
    "    \"mean_train_error\": [],\n",
    "    \"mean_cv_error\": [],\n",
    "    \"std_cv_error\": [],\n",
    "    \"std_train_error\": [],\n",
    "}\n",
    "param_grid = {\"max_depth\": np.arange(1, 16)}\n",
    "\n",
    "for depth in param_grid[\"max_depth\"]:\n",
    "    model = DecisionTreeClassifier(max_depth=depth)\n",
    "    scores = cross_validate(model, X_train, y_train, cv=10, return_train_score=True)\n",
    "    results_dict[\"depth\"].append(depth)\n",
    "    results_dict[\"mean_cv_error\"].append(1 - np.mean(scores[\"test_score\"]))\n",
    "    results_dict[\"mean_train_error\"].append(1 - np.mean(scores[\"train_score\"]))\n",
    "    results_dict[\"std_cv_error\"].append(scores[\"test_score\"].std())\n",
    "    results_dict[\"std_train_error\"].append(scores[\"train_score\"].std())\n",
    "\n",
    "results_df = pd.DataFrame(results_dict)\n",
    "results_df = results_df.set_index(\"depth\")"
   ]
  },
  {
   "cell_type": "code",
   "execution_count": 34,
   "metadata": {
    "slideshow": {
     "slide_type": "slide"
    }
   },
   "outputs": [
    {
     "data": {
      "image/png": "[encoded data removed]",
      "text/plain": [
       "<Figure size 432x288 with 1 Axes>"
      ]
     },
     "metadata": {
      "needs_background": "light"
     },
     "output_type": "display_data"
    }
   ],
   "source": [
    "results_df[[\"mean_train_error\", \"mean_cv_error\"]].plot();"
   ]
  },
  {
   "cell_type": "markdown",
   "metadata": {
    "slideshow": {
     "slide_type": "-"
    }
   },
   "source": [
    "- Here, for larger depths we observe that the training error is close to 0 but validation error goes up and down. \n",
    "- As we make more complex models we start encoding random quirks in the data, which are not grounded in reality.  \n",
    "- These random quirks do not generalize well to new data. \n",
    "- This problem of failing to be able to generalize to the validation data or test data is called **overfitting**."
   ]
  },
  {
   "cell_type": "markdown",
   "metadata": {
    "slideshow": {
     "slide_type": "slide"
    }
   },
   "source": [
    "### The \"fundamental tradeoff\" of supervised learning:\n",
    "\n",
    "\n",
    "**As you increase model complexity, $E_\\textrm{train}$ tends to go down but $E_\\textrm{valid}-E_\\textrm{train}$ tends to go up.**\n"
   ]
  },
  {
   "cell_type": "markdown",
   "metadata": {
    "slideshow": {
     "slide_type": "slide"
    }
   },
   "source": [
    "### Bias vs variance tradeoff \n",
    "\n",
    "- The fundamental trade-off is also called the bias/variance tradeoff in supervised machine learning.\n",
    "\n",
    "**Bias**\n",
    ": the tendency to consistently learn the same wrong thing (high bias corresponds to underfitting)\n",
    "\n",
    "**Variance** \n",
    ": the tendency to learn random things irrespective of the real signal (high variance corresponds to overfitting)"
   ]
  },
  {
   "cell_type": "markdown",
   "metadata": {
    "slideshow": {
     "slide_type": "skip"
    }
   },
   "source": [
    "```{seealso} \n",
    "Check out [this article by Pedro Domingos](https://homes.cs.washington.edu/~pedrod/papers/cacm12.pdf) for some approachable explanation on machine learning fundamentals and bias-variance tradeoff. \n",
    "```"
   ]
  },
  {
   "cell_type": "markdown",
   "metadata": {
    "slideshow": {
     "slide_type": "slide"
    }
   },
   "source": [
    "### How to pick a model that would generalize better?\n",
    "\n",
    "- We want to avoid both underfitting and overfitting. \n",
    "- We want to be consistent with the training data but we don't to rely too much on it. \n",
    "\n",
    "<!-- <center>\n",
    "<img src='img/malp_0201.png' width=\"800\" height=\"800\" />\n",
    "</center>    \n",
    " -->\n",
    "![](img/malp_0201.png)\n",
    "\n",
    "[source](https://learning.oreilly.com/library/view/introduction-to-machine/9781449369880/ch02.html#relation-of-model-complexity-to-dataset-size)"
   ]
  },
  {
   "cell_type": "markdown",
   "metadata": {
    "slideshow": {
     "slide_type": "slide"
    }
   },
   "source": [
    "- There are many subtleties here and there is no perfect answer but a  common practice is to pick the model with minimum cross-validation error. "
   ]
  },
  {
   "cell_type": "code",
   "execution_count": 35,
   "metadata": {
    "slideshow": {
     "slide_type": "skip"
    }
   },
   "outputs": [],
   "source": [
    "def cross_validate_std(*args, **kwargs):\n",
    "    \"\"\"Like cross_validate, except also gives the standard deviation of the score\"\"\"\n",
    "    res = pd.DataFrame(cross_validate(*args, **kwargs))\n",
    "    res_mean = res.mean()\n",
    "    res_mean[\"std_test_score\"] = res[\"test_score\"].std()\n",
    "    if \"train_score\" in res:\n",
    "        res_mean[\"std_train_score\"] = res[\"train_score\"].std()\n",
    "    return res_mean"
   ]
  },
  {
   "cell_type": "code",
   "execution_count": 36,
   "metadata": {
    "slideshow": {
     "slide_type": "-"
    }
   },
   "outputs": [
    {
     "data": {
      "text/html": [
       "<div>\n",
       "<style scoped>\n",
       "    .dataframe tbody tr th:only-of-type {\n",
       "        vertical-align: middle;\n",
       "    }\n",
       "\n",
       "    .dataframe tbody tr th {\n",
       "        vertical-align: top;\n",
       "    }\n",
       "\n",
       "    .dataframe thead th {\n",
       "        text-align: right;\n",
       "    }\n",
       "</style>\n",
       "<table border=\"1\" class=\"dataframe\">\n",
       "  <thead>\n",
       "    <tr style=\"text-align: right;\">\n",
       "      <th></th>\n",
       "      <th>mean_train_error</th>\n",
       "      <th>mean_cv_error</th>\n",
       "      <th>std_cv_error</th>\n",
       "      <th>std_train_error</th>\n",
       "    </tr>\n",
       "    <tr>\n",
       "      <th>depth</th>\n",
       "      <th></th>\n",
       "      <th></th>\n",
       "      <th></th>\n",
       "      <th></th>\n",
       "    </tr>\n",
       "  </thead>\n",
       "  <tbody>\n",
       "    <tr>\n",
       "      <th>1</th>\n",
       "      <td>0.171657</td>\n",
       "      <td>0.211250</td>\n",
       "      <td>0.048378</td>\n",
       "      <td>0.006805</td>\n",
       "    </tr>\n",
       "    <tr>\n",
       "      <th>2</th>\n",
       "      <td>0.160258</td>\n",
       "      <td>0.223750</td>\n",
       "      <td>0.062723</td>\n",
       "      <td>0.007316</td>\n",
       "    </tr>\n",
       "    <tr>\n",
       "      <th>3</th>\n",
       "      <td>0.142467</td>\n",
       "      <td>0.210833</td>\n",
       "      <td>0.067757</td>\n",
       "      <td>0.022848</td>\n",
       "    </tr>\n",
       "    <tr>\n",
       "      <th>4</th>\n",
       "      <td>0.092604</td>\n",
       "      <td>0.204167</td>\n",
       "      <td>0.070907</td>\n",
       "      <td>0.006531</td>\n",
       "    </tr>\n",
       "    <tr>\n",
       "      <th>5</th>\n",
       "      <td>0.083338</td>\n",
       "      <td>0.191250</td>\n",
       "      <td>0.067120</td>\n",
       "      <td>0.010650</td>\n",
       "    </tr>\n",
       "    <tr>\n",
       "      <th>6</th>\n",
       "      <td>0.066960</td>\n",
       "      <td>0.191250</td>\n",
       "      <td>0.072707</td>\n",
       "      <td>0.012065</td>\n",
       "    </tr>\n",
       "    <tr>\n",
       "      <th>7</th>\n",
       "      <td>0.044873</td>\n",
       "      <td>0.210417</td>\n",
       "      <td>0.089136</td>\n",
       "      <td>0.009059</td>\n",
       "    </tr>\n",
       "    <tr>\n",
       "      <th>8</th>\n",
       "      <td>0.029909</td>\n",
       "      <td>0.210000</td>\n",
       "      <td>0.092331</td>\n",
       "      <td>0.009422</td>\n",
       "    </tr>\n",
       "    <tr>\n",
       "      <th>9</th>\n",
       "      <td>0.020653</td>\n",
       "      <td>0.209583</td>\n",
       "      <td>0.091819</td>\n",
       "      <td>0.010294</td>\n",
       "    </tr>\n",
       "    <tr>\n",
       "      <th>10</th>\n",
       "      <td>0.010679</td>\n",
       "      <td>0.216250</td>\n",
       "      <td>0.088397</td>\n",
       "      <td>0.007938</td>\n",
       "    </tr>\n",
       "    <tr>\n",
       "      <th>11</th>\n",
       "      <td>0.005699</td>\n",
       "      <td>0.222083</td>\n",
       "      <td>0.109323</td>\n",
       "      <td>0.004264</td>\n",
       "    </tr>\n",
       "    <tr>\n",
       "      <th>12</th>\n",
       "      <td>0.003561</td>\n",
       "      <td>0.235833</td>\n",
       "      <td>0.083836</td>\n",
       "      <td>0.004769</td>\n",
       "    </tr>\n",
       "    <tr>\n",
       "      <th>13</th>\n",
       "      <td>0.000000</td>\n",
       "      <td>0.229583</td>\n",
       "      <td>0.089354</td>\n",
       "      <td>0.000000</td>\n",
       "    </tr>\n",
       "    <tr>\n",
       "      <th>14</th>\n",
       "      <td>0.000000</td>\n",
       "      <td>0.242083</td>\n",
       "      <td>0.086932</td>\n",
       "      <td>0.000000</td>\n",
       "    </tr>\n",
       "    <tr>\n",
       "      <th>15</th>\n",
       "      <td>0.000000</td>\n",
       "      <td>0.235833</td>\n",
       "      <td>0.092687</td>\n",
       "      <td>0.000000</td>\n",
       "    </tr>\n",
       "  </tbody>\n",
       "</table>\n",
       "</div>"
      ],
      "text/plain": [
       "       mean_train_error  mean_cv_error  std_cv_error  std_train_error\n",
       "depth                                                                \n",
       "1              0.171657       0.211250      0.048378         0.006805\n",
       "2              0.160258       0.223750      0.062723         0.007316\n",
       "3              0.142467       0.210833      0.067757         0.022848\n",
       "4              0.092604       0.204167      0.070907         0.006531\n",
       "5              0.083338       0.191250      0.067120         0.010650\n",
       "6              0.066960       0.191250      0.072707         0.012065\n",
       "7              0.044873       0.210417      0.089136         0.009059\n",
       "8              0.029909       0.210000      0.092331         0.009422\n",
       "9              0.020653       0.209583      0.091819         0.010294\n",
       "10             0.010679       0.216250      0.088397         0.007938\n",
       "11             0.005699       0.222083      0.109323         0.004264\n",
       "12             0.003561       0.235833      0.083836         0.004769\n",
       "13             0.000000       0.229583      0.089354         0.000000\n",
       "14             0.000000       0.242083      0.086932         0.000000\n",
       "15             0.000000       0.235833      0.092687         0.000000"
      ]
     },
     "execution_count": 36,
     "metadata": {},
     "output_type": "execute_result"
    }
   ],
   "source": [
    "results_df"
   ]
  },
  {
   "cell_type": "markdown",
   "metadata": {
    "slideshow": {
     "slide_type": "slide"
    }
   },
   "source": [
    "### test score vs. cross-validation score"
   ]
  },
  {
   "cell_type": "code",
   "execution_count": 37,
   "metadata": {
    "slideshow": {
     "slide_type": "-"
    }
   },
   "outputs": [
    {
     "name": "stdout",
     "output_type": "stream",
     "text": [
      "The minimum validation error is 0.191 at max_depth = 5 \n"
     ]
    }
   ],
   "source": [
    "best_depth = results_df.index.values[np.argmin(results_df[\"mean_cv_error\"])]\n",
    "print(\n",
    "    \"The minimum validation error is %0.3f at max_depth = %d \"\n",
    "    % (\n",
    "        np.min(results_df[\"mean_cv_error\"]),\n",
    "        best_depth,\n",
    "    )\n",
    ")"
   ]
  },
  {
   "cell_type": "markdown",
   "metadata": {
    "slideshow": {
     "slide_type": "-"
    }
   },
   "source": [
    "- Let's pick `max_depth`= 5 and try this model on the test set. "
   ]
  },
  {
   "cell_type": "code",
   "execution_count": 38,
   "metadata": {
    "slideshow": {
     "slide_type": "-"
    }
   },
   "outputs": [
    {
     "name": "stdout",
     "output_type": "stream",
     "text": [
      "Error on test set: 0.19\n"
     ]
    }
   ],
   "source": [
    "model = DecisionTreeClassifier(max_depth=best_depth)\n",
    "model.fit(X_train, y_train)\n",
    "print(f\"Error on test set: {1 - model.score(X_test, y_test):.2f}\")"
   ]
  },
  {
   "cell_type": "markdown",
   "metadata": {
    "slideshow": {
     "slide_type": "slide"
    }
   },
   "source": [
    "- The test error is comparable with the cross-validation error. \n",
    "- Do we feel confident that this model would give similar performace when deployed? "
   ]
  },
  {
   "cell_type": "markdown",
   "metadata": {
    "slideshow": {
     "slide_type": "slide"
    }
   },
   "source": [
    "### The golden rule <a name=\"4\"></a>\n",
    "\n",
    "- Even though we care the most about test error **THE TEST DATA CANNOT INFLUENCE THE TRAINING PHASE IN ANY WAY**. \n",
    "- We have to be very careful not to violate it while developing our ML pipeline. \n",
    "- Even experts end up breaking it sometimes which leads to misleading results and lack of generalization on the real data. "
   ]
  },
  {
   "cell_type": "markdown",
   "metadata": {
    "slideshow": {
     "slide_type": "slide"
    }
   },
   "source": [
    "#### Golden rule violation: Example 1  \n",
    "\n",
    "![](img/golden_rule_violation.png)\n",
    "\n",
    "<!-- <center>\n",
    "<img src='img/golden_rule_violation.png' width=\"500\" height=\"500\" />\n",
    "</center>    \n",
    " -->\n",
    " \n",
    "<blockquote>\n",
    "   ... He attempted to reproduce the research, and found a major flaw: there was some overlap in the data used to both train and test the model. \n",
    "</blockquote>    "
   ]
  },
  {
   "cell_type": "markdown",
   "metadata": {
    "slideshow": {
     "slide_type": "slide"
    }
   },
   "source": [
    "#### Golden rule violation: Example 2  \n",
    "\n",
    "<!-- <center>\n",
    "<img src='img/golden_rule_violation_2.png' width=\"500\" height=\"500\" />\n",
    "</center>    \n",
    " -->\n",
    " \n",
    "![](img/golden_rule_violation_2.png)\n",
    "\n",
    "<blockquote>\n",
    "  ... The Challenge rules state that you must only test your code twice a week, because there’s an element of chance to the results. Baidu has admitted that it used multiple email accounts to test its code roughly 200 times in just under six months – over four times what the rules allow.\n",
    "</blockquote>\n"
   ]
  },
  {
   "cell_type": "markdown",
   "metadata": {
    "slideshow": {
     "slide_type": "slide"
    }
   },
   "source": [
    "### How can we avoid violating golden rule? \n",
    "\n",
    "- Recall that when we split data, we put our test set in an imaginary vault.\n",
    "\n",
    "<!-- <center>\n",
    "<img src='img/train-test-split.png' width=\"1500\" height=\"1500\" />\n",
    "</center>    \n",
    " -->\n",
    " \n",
    "![](img/train-test-split.png)"
   ]
  },
  {
   "cell_type": "markdown",
   "metadata": {
    "slideshow": {
     "slide_type": "slide"
    }
   },
   "source": [
    "### Here is the workflow we'll generally follow. \n",
    "\n",
    "- **Splitting**: Before doing anything, split the data `X` and `y` into `X_train`, `X_test`, `y_train`, `y_test` or `train_df` and `test_df` using `train_test_split`. \n",
    "- **Select the best model using cross-validation**: Use `cross_validate` with `return_train_score = True` so that we can get access to training scores in each fold. (If we want to plot train vs validation error plots, for instance.) \n",
    "- **Scoring on test data**: Finally score on the test data with the chosen hyperparameters to examine the generalization performance.\n",
    "\n",
    "**Again, there are many subtleties here we'll discuss the golden rule multiple times throughout the course and in the program.**  "
   ]
  },
  {
   "cell_type": "markdown",
   "metadata": {},
   "source": [
    "<br><br><br><br>"
   ]
  },
  {
   "cell_type": "markdown",
   "metadata": {
    "slideshow": {
     "slide_type": "skip"
    }
   },
   "source": [
    "### ❓❓ Questions for you"
   ]
  },
  {
   "cell_type": "markdown",
   "metadata": {
    "slideshow": {
     "slide_type": "skip"
    }
   },
   "source": [
    "```{admonition} Exercise 3.4\n",
    "\n",
    "Underfitting or overfitting? \n",
    "1. If the mean train accuracy is much higher than the mean cross-validation accuracy.\n",
    "2. If the mean train accuracy and the mean cross-validation accuracy are both low and relatively similar in value.\n",
    "3. Decision tree with no limit on the depth. \n",
    "4. Decision stump on a complicated classification problem. \n",
    "```"
   ]
  },
  {
   "cell_type": "markdown",
   "metadata": {
    "slideshow": {
     "slide_type": "skip"
    }
   },
   "source": [
    "```{admonition} Exercise 3.4: V's Solutions!\n",
    ":class: tip, dropdown\n",
    "1. Overfitting\n",
    "2. Underfitting\n",
    "3. Overfitting\n",
    "4. Underfitting\n",
    "```"
   ]
  },
  {
   "cell_type": "markdown",
   "metadata": {
    "slideshow": {
     "slide_type": "skip"
    }
   },
   "source": [
    "```{admonition} Exercise 3.5\n",
    " \n",
    "State whether True/False. \n",
    "\n",
    "1. In supervised learning, the training error is always lower than the validation error.\n",
    "2. The fundamental tradeoff of ML states that as training error goes down, validation error goes up.\n",
    "3. More \"complicated\" models are more likely to overfit than \"simple\" ones.\n",
    "4. If we had an infinite amount of training data, overfitting would not be a problem.\n",
    "5. If our training error is extremely low, we are likely to be overfitting.\n",
    "```"
   ]
  },
  {
   "cell_type": "markdown",
   "metadata": {
    "slideshow": {
     "slide_type": "skip"
    }
   },
   "source": [
    "```{admonition} Exercise 3.5: V's Solutions!\n",
    ":class: tip, dropdown\n",
    "1. False\n",
    "2. False\n",
    "3. True\n",
    "4. True\n",
    "5. True\n",
    "```"
   ]
  },
  {
   "cell_type": "markdown",
   "metadata": {
    "slideshow": {
     "slide_type": "slide"
    }
   },
   "source": [
    "## What did we learn today? \n",
    "\n",
    "- Importance of generalization in supervised machine learning \n",
    "- Data splitting as a way to approximate generalization error \n",
    "- Train, test, validation, deployment data\n",
    "- Cross-validation\n",
    "- A typical sequence of steps to train supervised machine learning models\n",
    "    - training the model on the train split\n",
    "    - tuning hyperparamters using the validation split\n",
    "    - checking the generalization performance on the test split \n",
    "- Overfitting, underfitting, the fundamental tradeoff, and the golden rule.   "
   ]
  },
  {
   "cell_type": "markdown",
   "metadata": {},
   "source": [
    "### Coming up ...  \n",
    "\n",
    "- KNNs, SVM RBFs \n",
    "- Preprocessing\n",
    "    - Imputation\n",
    "    - Scaling\n",
    "    - One-hot encoding\n",
    "    - `sklearn` pipelines"
   ]
  },
  {
   "cell_type": "markdown",
   "metadata": {},
   "source": [
    "![](img/eva-seeyou.png)"
   ]
  }
 ],
 "metadata": {
  "celltoolbar": "Slideshow",
  "kernelspec": {
   "display_name": "Python [conda env:cpsc330]",
   "language": "python",
   "name": "conda-env-cpsc330-py"
  },
  "language_info": {
   "codemirror_mode": {
    "name": "ipython",
    "version": 3
   },
   "file_extension": ".py",
   "mimetype": "text/x-python",
   "name": "python",
   "nbconvert_exporter": "python",
   "pygments_lexer": "ipython3",
   "version": "3.10.4"
  }
 },
 "nbformat": 4,
 "nbformat_minor": 4
}
