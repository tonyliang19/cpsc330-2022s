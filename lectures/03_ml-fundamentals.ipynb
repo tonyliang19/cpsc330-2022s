{
 "cells": [
  {
   "cell_type": "markdown",
   "metadata": {},
   "source": [
    "![](img/330-banner.png)"
   ]
  },
  {
   "cell_type": "markdown",
   "metadata": {
    "slideshow": {
     "slide_type": "slide"
    }
   },
   "source": [
    "# Lecture 3: Machine Learning Fundamentals \n",
    "\n",
    "UBC 2022 Summer\n",
    "\n",
    "Instructor: Mehrdad Oveisi"
   ]
  },
  {
   "cell_type": "markdown",
   "metadata": {
    "slideshow": {
     "slide_type": "skip"
    }
   },
   "source": [
    "## Imports"
   ]
  },
  {
   "cell_type": "code",
   "execution_count": 2,
   "metadata": {
    "slideshow": {
     "slide_type": "skip"
    }
   },
   "outputs": [],
   "source": [
    "# import the libraries\n",
    "import os\n",
    "import sys\n",
    "\n",
    "import graphviz\n",
    "import IPython\n",
    "import matplotlib.pyplot as plt\n",
    "import numpy as np\n",
    "import pandas as pd\n",
    "from IPython.display import HTML\n",
    "from sklearn.model_selection import train_test_split\n",
    "\n",
    "sys.path.append(\"code/.\")\n",
    "from plotting_functions import *\n",
    "\n",
    "# # Classifiers\n",
    "from sklearn.tree import DecisionTreeClassifier, export_graphviz\n",
    "from utils import *\n",
    "\n",
    "%matplotlib inline\n",
    "\n",
    "pd.set_option(\"display.max_colwidth\", 200)"
   ]
  },
  {
   "cell_type": "markdown",
   "metadata": {
    "slideshow": {
     "slide_type": "skip"
    }
   },
   "source": [
    "<br><br>"
   ]
  },
  {
   "cell_type": "markdown",
   "metadata": {
    "slideshow": {
     "slide_type": "slide"
    }
   },
   "source": [
    "## Learning outcomes\n",
    "\n",
    "From this lecture, you will be able to \n",
    "\n",
    "- explain how decision boundaries change with the `max_depth` hyperparameter;\n",
    "- explain the concept of generalization;\n",
    "- appropriately split a dataset into train and test sets using `train_test_split` function;\n",
    "- explain the difference between train, validation, test, and \"deployment\" data;\n",
    "- identify the difference between training error, validation error, and test error;\n",
    "- explain cross-validation and use `cross_val_score` and `cross_validate` to calculate cross-validation error;\n",
    "- recognize overfitting and/or underfitting by looking at train and test scores;\n",
    "- explain why it is generally not possible to get a perfect test score (zero test error) on a supervised learning problem;\n",
    "- describe the fundamental tradeoff between training score and the train-test gap;\n",
    "- state the golden rule;\n",
    "- start to build a standard recipe for supervised learning: train/test split, hyperparameter tuning with cross-validation, test on test set."
   ]
  },
  {
   "cell_type": "markdown",
   "metadata": {
    "slideshow": {
     "slide_type": "skip"
    }
   },
   "source": [
    "<br><br><br><br>"
   ]
  },
  {
   "cell_type": "markdown",
   "metadata": {
    "slideshow": {
     "slide_type": "slide"
    }
   },
   "source": [
    "## Generalization [[video](https://youtu.be/iS2hsRRlc2M)]"
   ]
  },
  {
   "cell_type": "markdown",
   "metadata": {
    "slideshow": {
     "slide_type": "-"
    }
   },
   "source": [
    "### Big picture and motivation \n",
    "\n",
    "In machine learning, we want to glean information from labeled data so that we can label **new unlabeled** data. For example, suppose we want to build a spam filtering system.  We will take a large number of spam/non-spam messages from the past, learn patterns associated with spam/non-spam from them, and predict whether **a new incoming message** in someone's inbox is spam or non-spam based on these patterns. \n",
    "\n",
    "So we want to learn from the past but ultimately we want to apply it on the future email messages. "
   ]
  },
  {
   "cell_type": "markdown",
   "metadata": {
    "slideshow": {
     "slide_type": "slide"
    }
   },
   "source": [
    "![](img/eva-think.png)\n",
    "\n",
    "**How can we generalize from what we've seen to what we haven't seen?** \n",
    "\n",
    "In this lecture, we'll see how machine learning tackles this question. "
   ]
  },
  {
   "cell_type": "markdown",
   "metadata": {
    "slideshow": {
     "slide_type": "slide"
    }
   },
   "source": [
    "### Model complexity and training error\n",
    "\n",
    "In the last lecture, we looked at **decision boundaries**, a way to visualize what sort of examples will be classified as positive and negative. \n",
    "\n",
    "Let's examine how does the decision boundary change for different tree depths. "
   ]
  },
  {
   "cell_type": "code",
   "execution_count": 3,
   "metadata": {
    "slideshow": {
     "slide_type": "slide"
    }
   },
   "outputs": [
    {
     "data": {
      "text/html": [
       "<div>\n",
       "<style scoped>\n",
       "    .dataframe tbody tr th:only-of-type {\n",
       "        vertical-align: middle;\n",
       "    }\n",
       "\n",
       "    .dataframe tbody tr th {\n",
       "        vertical-align: top;\n",
       "    }\n",
       "\n",
       "    .dataframe thead th {\n",
       "        text-align: right;\n",
       "    }\n",
       "</style>\n",
       "<table border=\"1\" class=\"dataframe\">\n",
       "  <thead>\n",
       "    <tr style=\"text-align: right;\">\n",
       "      <th></th>\n",
       "      <th>ml_experience</th>\n",
       "      <th>class_attendance</th>\n",
       "      <th>lab1</th>\n",
       "      <th>lab2</th>\n",
       "      <th>lab3</th>\n",
       "      <th>lab4</th>\n",
       "      <th>quiz1</th>\n",
       "      <th>quiz2</th>\n",
       "    </tr>\n",
       "  </thead>\n",
       "  <tbody>\n",
       "    <tr>\n",
       "      <th>0</th>\n",
       "      <td>1</td>\n",
       "      <td>1</td>\n",
       "      <td>92</td>\n",
       "      <td>93</td>\n",
       "      <td>84</td>\n",
       "      <td>91</td>\n",
       "      <td>92</td>\n",
       "      <td>A+</td>\n",
       "    </tr>\n",
       "    <tr>\n",
       "      <th>1</th>\n",
       "      <td>1</td>\n",
       "      <td>0</td>\n",
       "      <td>94</td>\n",
       "      <td>90</td>\n",
       "      <td>80</td>\n",
       "      <td>83</td>\n",
       "      <td>91</td>\n",
       "      <td>not A+</td>\n",
       "    </tr>\n",
       "    <tr>\n",
       "      <th>2</th>\n",
       "      <td>0</td>\n",
       "      <td>0</td>\n",
       "      <td>78</td>\n",
       "      <td>85</td>\n",
       "      <td>83</td>\n",
       "      <td>80</td>\n",
       "      <td>80</td>\n",
       "      <td>not A+</td>\n",
       "    </tr>\n",
       "    <tr>\n",
       "      <th>3</th>\n",
       "      <td>0</td>\n",
       "      <td>1</td>\n",
       "      <td>91</td>\n",
       "      <td>94</td>\n",
       "      <td>92</td>\n",
       "      <td>91</td>\n",
       "      <td>89</td>\n",
       "      <td>A+</td>\n",
       "    </tr>\n",
       "    <tr>\n",
       "      <th>4</th>\n",
       "      <td>0</td>\n",
       "      <td>1</td>\n",
       "      <td>77</td>\n",
       "      <td>83</td>\n",
       "      <td>90</td>\n",
       "      <td>92</td>\n",
       "      <td>85</td>\n",
       "      <td>A+</td>\n",
       "    </tr>\n",
       "    <tr>\n",
       "      <th>5</th>\n",
       "      <td>1</td>\n",
       "      <td>0</td>\n",
       "      <td>70</td>\n",
       "      <td>73</td>\n",
       "      <td>68</td>\n",
       "      <td>74</td>\n",
       "      <td>71</td>\n",
       "      <td>not A+</td>\n",
       "    </tr>\n",
       "    <tr>\n",
       "      <th>6</th>\n",
       "      <td>1</td>\n",
       "      <td>0</td>\n",
       "      <td>80</td>\n",
       "      <td>88</td>\n",
       "      <td>89</td>\n",
       "      <td>88</td>\n",
       "      <td>91</td>\n",
       "      <td>A+</td>\n",
       "    </tr>\n",
       "    <tr>\n",
       "      <th>7</th>\n",
       "      <td>0</td>\n",
       "      <td>1</td>\n",
       "      <td>95</td>\n",
       "      <td>93</td>\n",
       "      <td>69</td>\n",
       "      <td>79</td>\n",
       "      <td>75</td>\n",
       "      <td>not A+</td>\n",
       "    </tr>\n",
       "    <tr>\n",
       "      <th>8</th>\n",
       "      <td>0</td>\n",
       "      <td>0</td>\n",
       "      <td>97</td>\n",
       "      <td>90</td>\n",
       "      <td>94</td>\n",
       "      <td>99</td>\n",
       "      <td>80</td>\n",
       "      <td>not A+</td>\n",
       "    </tr>\n",
       "    <tr>\n",
       "      <th>9</th>\n",
       "      <td>1</td>\n",
       "      <td>1</td>\n",
       "      <td>95</td>\n",
       "      <td>95</td>\n",
       "      <td>94</td>\n",
       "      <td>94</td>\n",
       "      <td>85</td>\n",
       "      <td>not A+</td>\n",
       "    </tr>\n",
       "  </tbody>\n",
       "</table>\n",
       "</div>"
      ],
      "text/plain": [
       "   ml_experience  class_attendance  lab1  lab2  lab3  lab4  quiz1   quiz2\n",
       "0              1                 1    92    93    84    91     92      A+\n",
       "1              1                 0    94    90    80    83     91  not A+\n",
       "2              0                 0    78    85    83    80     80  not A+\n",
       "3              0                 1    91    94    92    91     89      A+\n",
       "4              0                 1    77    83    90    92     85      A+\n",
       "5              1                 0    70    73    68    74     71  not A+\n",
       "6              1                 0    80    88    89    88     91      A+\n",
       "7              0                 1    95    93    69    79     75  not A+\n",
       "8              0                 0    97    90    94    99     80  not A+\n",
       "9              1                 1    95    95    94    94     85  not A+"
      ]
     },
     "execution_count": 3,
     "metadata": {},
     "output_type": "execute_result"
    }
   ],
   "source": [
    "# Toy quiz2 grade data\n",
    "classification_df = pd.read_csv(\"data/quiz2-grade-toy-classification.csv\")\n",
    "classification_df.head(10)"
   ]
  },
  {
   "cell_type": "code",
   "execution_count": 4,
   "metadata": {
    "slideshow": {
     "slide_type": "slide"
    }
   },
   "outputs": [],
   "source": [
    "X = classification_df.drop([\"quiz2\"], axis=1)\n",
    "y = classification_df[\"quiz2\"]"
   ]
  },
  {
   "cell_type": "code",
   "execution_count": 5,
   "metadata": {
    "slideshow": {
     "slide_type": "-"
    }
   },
   "outputs": [
    {
     "data": {
      "text/html": [
       "<div>\n",
       "<style scoped>\n",
       "    .dataframe tbody tr th:only-of-type {\n",
       "        vertical-align: middle;\n",
       "    }\n",
       "\n",
       "    .dataframe tbody tr th {\n",
       "        vertical-align: top;\n",
       "    }\n",
       "\n",
       "    .dataframe thead th {\n",
       "        text-align: right;\n",
       "    }\n",
       "</style>\n",
       "<table border=\"1\" class=\"dataframe\">\n",
       "  <thead>\n",
       "    <tr style=\"text-align: right;\">\n",
       "      <th></th>\n",
       "      <th>lab4</th>\n",
       "      <th>quiz1</th>\n",
       "    </tr>\n",
       "  </thead>\n",
       "  <tbody>\n",
       "    <tr>\n",
       "      <th>0</th>\n",
       "      <td>91</td>\n",
       "      <td>92</td>\n",
       "    </tr>\n",
       "    <tr>\n",
       "      <th>1</th>\n",
       "      <td>83</td>\n",
       "      <td>91</td>\n",
       "    </tr>\n",
       "    <tr>\n",
       "      <th>2</th>\n",
       "      <td>80</td>\n",
       "      <td>80</td>\n",
       "    </tr>\n",
       "    <tr>\n",
       "      <th>3</th>\n",
       "      <td>91</td>\n",
       "      <td>89</td>\n",
       "    </tr>\n",
       "    <tr>\n",
       "      <th>4</th>\n",
       "      <td>92</td>\n",
       "      <td>85</td>\n",
       "    </tr>\n",
       "  </tbody>\n",
       "</table>\n",
       "</div>"
      ],
      "text/plain": [
       "   lab4  quiz1\n",
       "0    91     92\n",
       "1    83     91\n",
       "2    80     80\n",
       "3    91     89\n",
       "4    92     85"
      ]
     },
     "execution_count": 5,
     "metadata": {},
     "output_type": "execute_result"
    }
   ],
   "source": [
    "X_subset = X[[\"lab4\", \"quiz1\"]]  # Let's consider a subset of the data for visualization\n",
    "X_subset.head()"
   ]
  },
  {
   "cell_type": "markdown",
   "metadata": {
    "slideshow": {
     "slide_type": "slide"
    }
   },
   "source": [
    "In the following model, this decision boundary is created by asking one question. "
   ]
  },
  {
   "cell_type": "code",
   "execution_count": 6,
   "metadata": {},
   "outputs": [
    {
     "name": "stdout",
     "output_type": "stream",
     "text": [
      "Accuracy:  0.714\n",
      "Error:     0.286\n"
     ]
    }
   ],
   "source": [
    "depth = 1\n",
    "model = DecisionTreeClassifier(max_depth=depth)\n",
    "model.fit(X_subset, y)\n",
    "print(\"Accuracy:  %0.3f\" % model.score(X_subset, y))\n",
    "print(\"Error:     %0.3f\" % (1 - model.score(X_subset, y)))"
   ]
  },
  {
   "cell_type": "code",
   "execution_count": 7,
   "metadata": {},
   "outputs": [
    {
     "name": "stderr",
     "output_type": "stream",
     "text": [
      "/home/moveisi/miniconda3/envs/cpsc330/lib/python3.10/site-packages/sklearn/base.py:450: UserWarning: X does not have valid feature names, but DecisionTreeClassifier was fitted with feature names\n",
      "  warnings.warn(\n"
     ]
    },
    {
     "data": {
      "image/png": "[encoded data removed]",
      "text/plain": [
       "<Figure size 1152x432 with 2 Axes>"
      ]
     },
     "metadata": {},
     "output_type": "display_data"
    }
   ],
   "source": [
    "plot_tree_decision_boundary_and_tree(\n",
    "    model, X_subset, y, x_label=\"lab4\", y_label=\"quiz1\"\n",
    ")"
   ]
  },
  {
   "cell_type": "markdown",
   "metadata": {
    "slideshow": {
     "slide_type": "slide"
    }
   },
   "source": [
    "In the following model, this decision boundary is created by asking two questions. "
   ]
  },
  {
   "cell_type": "code",
   "execution_count": 8,
   "metadata": {},
   "outputs": [
    {
     "name": "stdout",
     "output_type": "stream",
     "text": [
      "Accuracy:  0.810\n",
      "Error:     0.190\n"
     ]
    }
   ],
   "source": [
    "depth = 2\n",
    "model = DecisionTreeClassifier(max_depth=depth)\n",
    "model.fit(X_subset, y)\n",
    "print(\"Accuracy:  %0.3f\" % model.score(X_subset, y))\n",
    "print(\"Error:     %0.3f\" % (1 - model.score(X_subset, y)))"
   ]
  },
  {
   "cell_type": "code",
   "execution_count": 9,
   "metadata": {},
   "outputs": [
    {
     "name": "stderr",
     "output_type": "stream",
     "text": [
      "/home/moveisi/miniconda3/envs/cpsc330/lib/python3.10/site-packages/sklearn/base.py:450: UserWarning: X does not have valid feature names, but DecisionTreeClassifier was fitted with feature names\n",
      "  warnings.warn(\n"
     ]
    },
    {
     "data": {
      "image/png": "[encoded data removed]",
      "text/plain": [
       "<Figure size 1152x432 with 2 Axes>"
      ]
     },
     "metadata": {},
     "output_type": "display_data"
    }
   ],
   "source": [
    "plot_tree_decision_boundary_and_tree(\n",
    "    model, X_subset, y, x_label=\"lab4\", y_label=\"quiz1\"\n",
    ")"
   ]
  },
  {
   "cell_type": "markdown",
   "metadata": {
    "slideshow": {
     "slide_type": "slide"
    }
   },
   "source": [
    "Let's look at the decision boundary with depth = 4. "
   ]
  },
  {
   "cell_type": "code",
   "execution_count": 10,
   "metadata": {
    "slideshow": {
     "slide_type": "-"
    }
   },
   "outputs": [
    {
     "name": "stdout",
     "output_type": "stream",
     "text": [
      "Accuracy:  0.952\n",
      "Error:     0.048\n"
     ]
    }
   ],
   "source": [
    "depth = 4\n",
    "model = DecisionTreeClassifier(max_depth=depth)\n",
    "model.fit(X_subset, y)\n",
    "print(\"Accuracy:  %0.3f\" % model.score(X_subset, y))\n",
    "print(\"Error:     %0.3f\" % (1 - model.score(X_subset, y)))"
   ]
  },
  {
   "cell_type": "code",
   "execution_count": 11,
   "metadata": {
    "slideshow": {
     "slide_type": "-"
    }
   },
   "outputs": [
    {
     "name": "stderr",
     "output_type": "stream",
     "text": [
      "/home/moveisi/miniconda3/envs/cpsc330/lib/python3.10/site-packages/sklearn/base.py:450: UserWarning: X does not have valid feature names, but DecisionTreeClassifier was fitted with feature names\n",
      "  warnings.warn(\n"
     ]
    },
    {
     "data": {
      "image/png": "[encoded data removed]",
      "text/plain": [
       "<Figure size 1152x432 with 2 Axes>"
      ]
     },
     "metadata": {},
     "output_type": "display_data"
    }
   ],
   "source": [
    "plot_tree_decision_boundary_and_tree(\n",
    "    model, X_subset, y, x_label=\"lab4\", y_label=\"quiz1\"\n",
    ")"
   ]
  },
  {
   "cell_type": "markdown",
   "metadata": {
    "slideshow": {
     "slide_type": "slide"
    }
   },
   "source": [
    "Let's look at the decision boundary with depth = 6. "
   ]
  },
  {
   "cell_type": "code",
   "execution_count": 12,
   "metadata": {
    "slideshow": {
     "slide_type": "-"
    }
   },
   "outputs": [
    {
     "name": "stdout",
     "output_type": "stream",
     "text": [
      "Accuracy:  1.000\n",
      "Error:     0.000\n"
     ]
    }
   ],
   "source": [
    "depth = 6\n",
    "model = DecisionTreeClassifier(max_depth=depth)\n",
    "model.fit(X_subset, y)\n",
    "print(\"Accuracy:  %0.3f\" % model.score(X_subset, y))\n",
    "print(\"Error:     %0.3f\" % (1 - model.score(X_subset, y)))"
   ]
  },
  {
   "cell_type": "code",
   "execution_count": 13,
   "metadata": {
    "slideshow": {
     "slide_type": "-"
    }
   },
   "outputs": [
    {
     "name": "stderr",
     "output_type": "stream",
     "text": [
      "/home/moveisi/miniconda3/envs/cpsc330/lib/python3.10/site-packages/sklearn/base.py:450: UserWarning: X does not have valid feature names, but DecisionTreeClassifier was fitted with feature names\n",
      "  warnings.warn(\n"
     ]
    },
    {
     "data": {
      "image/png": "[encoded data removed]",
      "text/plain": [
       "<Figure size 1152x432 with 2 Axes>"
      ]
     },
     "metadata": {},
     "output_type": "display_data"
    }
   ],
   "source": [
    "plot_tree_decision_boundary_and_tree(\n",
    "    model, X_subset, y, x_label=\"lab4\", y_label=\"quiz1\"\n",
    ")"
   ]
  },
  {
   "cell_type": "code",
   "execution_count": 14,
   "metadata": {
    "slideshow": {
     "slide_type": "slide"
    }
   },
   "outputs": [
    {
     "data": {
      "image/png": "[encoded data removed]",
      "text/plain": [
       "<Figure size 432x288 with 1 Axes>"
      ]
     },
     "metadata": {
      "needs_background": "light"
     },
     "output_type": "display_data"
    }
   ],
   "source": [
    "max_depths = np.arange(1, 18)\n",
    "errors = []\n",
    "for max_depth in max_depths:\n",
    "    error = 1 - DecisionTreeClassifier(max_depth=max_depth).fit(X_subset, y).score(\n",
    "        X_subset, y\n",
    "    )\n",
    "    errors.append(error)\n",
    "plt.plot(max_depths, errors)\n",
    "plt.xlabel(\"max depth\")\n",
    "plt.ylabel(\"error\");"
   ]
  },
  {
   "cell_type": "markdown",
   "metadata": {
    "slideshow": {
     "slide_type": "-"
    }
   },
   "source": [
    "- Our model has 0% error for depths >= 6!! \n",
    "- But it's also becoming more and more specific and sensitive to the training data.  \n",
    "- Is it good or bad?"
   ]
  },
  {
   "cell_type": "markdown",
   "metadata": {},
   "source": [
    " Note \n",
    "Although the plot above (complexity hyperparameter vs error) is more popular, we could also look at the same plot flip the $y$-axis, i.e., consider accuracy instead of error. \n"
   ]
  },
  {
   "cell_type": "code",
   "execution_count": 15,
   "metadata": {},
   "outputs": [
    {
     "data": {
      "image/png": "[encoded data removed]",
      "text/plain": [
       "<Figure size 432x288 with 1 Axes>"
      ]
     },
     "metadata": {
      "needs_background": "light"
     },
     "output_type": "display_data"
    }
   ],
   "source": [
    "max_depths = np.arange(1, 18)\n",
    "accuracies = []\n",
    "for max_depth in max_depths:\n",
    "    accuracy = DecisionTreeClassifier(max_depth=max_depth).fit(X_subset, y).score(\n",
    "        X_subset, y\n",
    "    )\n",
    "    accuracies.append(accuracy)\n",
    "plt.plot(max_depths, accuracies)\n",
    "plt.xlabel(\"max depth\")\n",
    "plt.ylabel(\"accuracy\");"
   ]
  },
  {
   "cell_type": "markdown",
   "metadata": {
    "slideshow": {
     "slide_type": "slide"
    }
   },
   "source": [
    "### 🤔 Eva's questions\n",
    "\n",
    "![](img/eva-think.png)\n"
   ]
  },
  {
   "cell_type": "markdown",
   "metadata": {
    "slideshow": {
     "slide_type": "slide"
    }
   },
   "source": [
    "At this point Eva is wondering about the following questions. \n",
    "\n",
    "- How to pick the best depth? \n",
    "- How can we make sure that the model we have built would do reasonably well on new data in the wild when it's deployed? \n",
    "- Which of the following rules learned by the decision tree algorithm are likely to generalize better to new data? \n",
    "\n",
    "> Rule 1: If class_attendance == 1 then grade is A+. \n",
    "\n",
    "> Rule 2: If lab3 > 83.5 and quiz1 <= 83.5 and lab2 <= 88 then quiz2 grade is A+\n",
    "\n",
    "To better understand the material in the next sections, think about these questions on your own or discuss them with your friend/neighbour before proceeding. "
   ]
  },
  {
   "cell_type": "markdown",
   "metadata": {
    "slideshow": {
     "slide_type": "skip"
    }
   },
   "source": [
    "<br><br><br><br>"
   ]
  },
  {
   "cell_type": "markdown",
   "metadata": {
    "slideshow": {
     "slide_type": "slide"
    }
   },
   "source": [
    "### Generalization: Fundamental goal of ML\n",
    "\n",
    "> **To generalize beyond what we see in the training examples**\n",
    "\n",
    "We only have access to limited amount of training data and we want to learn a mapping function which would predict targets reasonably well for examples beyond this training data. "
   ]
  },
  {
   "cell_type": "markdown",
   "metadata": {
    "slideshow": {
     "slide_type": "slide"
    }
   },
   "source": [
    "- Example: Imagine that a learner sees the following images and corresponding labels. \n",
    "\n",
    "![](img/generalization-train.png)\n",
    "<!-- <center>\n",
    "<img src='img/generalization-train.png' width=\"600\" height=\"600\" />\n",
    "</center>     -->"
   ]
  },
  {
   "cell_type": "markdown",
   "metadata": {
    "slideshow": {
     "slide_type": "slide"
    }
   },
   "source": [
    "### Generalizing to unseen data\n",
    "\n",
    "- Now the learner is presented with new images (1 to 4) for prediction. \n",
    "- What prediction would you expect for each image?   \n",
    "\n",
    "![](img/generalization-predict.png)\n",
    "\n",
    "<!-- <center>\n",
    "<img src='img/generalization-predict.png' width=\"1000\" height=\"1000\" />\n",
    "</center>     -->"
   ]
  },
  {
   "cell_type": "markdown",
   "metadata": {
    "slideshow": {
     "slide_type": "slide"
    }
   },
   "source": [
    "- Goal: We want the learner to be able to generalize beyond what it has seen in the training data.\n",
    "- But these new examples should be representative of the training data. That is they should have the same characteristics as the training data. \n",
    "- In this example, we would like the leaner to be able to predict labels for test examples 1, 2, and 3 accurately. Although 2, 3 don't exactly occur in the training data, they are very much similar to the images in the training data. That said, is it fair to expect the learner to label image 4 correctly? "
   ]
  },
  {
   "cell_type": "markdown",
   "metadata": {
    "slideshow": {
     "slide_type": "slide"
    }
   },
   "source": [
    "### Training error vs. Generalization error \n",
    "\n",
    "- Given a model $M$, in ML, people usually talk about two kinds of errors of $M$. \n",
    "    1. Error on the training data: $error_{training}(M)$ \n",
    "    2. Error on the entire distribution $D$ of data: $error_{D}(M)$\n",
    "- We are interested in the error on the entire distribution     \n",
    "    - ... But we do not have access to the entire distribution 😞"
   ]
  },
  {
   "cell_type": "markdown",
   "metadata": {},
   "source": [
    "<br><br><br><br>"
   ]
  },
  {
   "cell_type": "markdown",
   "metadata": {
    "slideshow": {
     "slide_type": "slide"
    }
   },
   "source": [
    "## Data Splitting [[video](https://youtu.be/h2AEobwcUQw)]"
   ]
  },
  {
   "cell_type": "markdown",
   "metadata": {
    "slideshow": {
     "slide_type": "slide"
    },
    "tags": []
   },
   "source": [
    "### How to approximate generalization error? \n",
    "\n",
    "A common way is **data splitting**. \n",
    "- Keep aside some randomly selected portion from the training data.\n",
    "- `fit` (train) a model on the training portion only. \n",
    "- `score` (assess) the trained model on this set aside data to get a sense of how well the model would be able to generalize.\n",
    "- Pretend that the kept aside data is representative of the real distribution $D$ of data. "
   ]
  },
  {
   "cell_type": "markdown",
   "metadata": {
    "slideshow": {
     "slide_type": "slide"
    }
   },
   "source": [
    "![](img/eva-good-idea.png)"
   ]
  },
  {
   "cell_type": "code",
   "execution_count": 16,
   "metadata": {
    "scrolled": true,
    "slideshow": {
     "slide_type": "slide"
    },
    "tags": []
   },
   "outputs": [
    {
     "name": "stderr",
     "output_type": "stream",
     "text": [
      "/home/moveisi/miniconda3/envs/cpsc330/lib/python3.10/site-packages/IPython/core/display.py:419: UserWarning: Consider using IPython.display.IFrame instead\n",
      "  warnings.warn(\"Consider using IPython.display.IFrame instead\")\n"
     ]
    },
    {
     "data": {
      "text/html": [
       "<iframe src=https://scikit-learn.org/stable/modules/generated/sklearn.model_selection.train_test_split.html width=1000 height=800></iframe>"
      ],
      "text/plain": [
       "<IPython.core.display.HTML object>"
      ]
     },
     "execution_count": 16,
     "metadata": {},
     "output_type": "execute_result"
    }
   ],
   "source": [
    "# scikit-learn train_test_split\n",
    "url = \"https://scikit-learn.org/stable/modules/generated/sklearn.model_selection.train_test_split.html\"\n",
    "HTML(\"<iframe src=%s width=1000 height=800></iframe>\" % url)"
   ]
  },
  {
   "cell_type": "markdown",
   "metadata": {
    "slideshow": {
     "slide_type": "-"
    }
   },
   "source": [
    "- We can pass `X` and `y` or a dataframe with both `X` and `y` in it. \n",
    "- We can also specify the train or test split sizes. "
   ]
  },
  {
   "cell_type": "markdown",
   "metadata": {
    "slideshow": {
     "slide_type": "slide"
    },
    "tags": []
   },
   "source": [
    "### Simple train/test split \n",
    "\n",
    "- The picture shows an 80%-20% split of a toy dataset with 10 examples. \n",
    "- The data is shuffled before splitting. \n",
    "- Usually when we do machine learning we split the data before doing anything and put the test data in an imaginary chest lock. \n",
    "\n",
    "![](img/train-test-split.png)\n",
    "\n",
    "<!-- <img src='img/train-test-split.png' width=\"1500\" height=\"1500\" /> -->"
   ]
  },
  {
   "cell_type": "code",
   "execution_count": 17,
   "metadata": {
    "slideshow": {
     "slide_type": "slide"
    }
   },
   "outputs": [],
   "source": [
    "# Let's demonstrate this with the canada usa cities data\n",
    "# The data is available in the data directory\n",
    "df = pd.read_csv(\"data/canada_usa_cities.csv\")\n",
    "X = df.drop(columns=[\"country\"])\n",
    "y = df[\"country\"]"
   ]
  },
  {
   "cell_type": "code",
   "execution_count": 18,
   "metadata": {
    "slideshow": {
     "slide_type": "slide"
    }
   },
   "outputs": [
    {
     "data": {
      "text/html": [
       "<div>\n",
       "<style scoped>\n",
       "    .dataframe tbody tr th:only-of-type {\n",
       "        vertical-align: middle;\n",
       "    }\n",
       "\n",
       "    .dataframe tbody tr th {\n",
       "        vertical-align: top;\n",
       "    }\n",
       "\n",
       "    .dataframe thead th {\n",
       "        text-align: right;\n",
       "    }\n",
       "</style>\n",
       "<table border=\"1\" class=\"dataframe\">\n",
       "  <thead>\n",
       "    <tr style=\"text-align: right;\">\n",
       "      <th></th>\n",
       "      <th>longitude</th>\n",
       "      <th>latitude</th>\n",
       "    </tr>\n",
       "  </thead>\n",
       "  <tbody>\n",
       "    <tr>\n",
       "      <th>0</th>\n",
       "      <td>-130.0437</td>\n",
       "      <td>55.9773</td>\n",
       "    </tr>\n",
       "    <tr>\n",
       "      <th>1</th>\n",
       "      <td>-134.4197</td>\n",
       "      <td>58.3019</td>\n",
       "    </tr>\n",
       "    <tr>\n",
       "      <th>2</th>\n",
       "      <td>-123.0780</td>\n",
       "      <td>48.9854</td>\n",
       "    </tr>\n",
       "    <tr>\n",
       "      <th>3</th>\n",
       "      <td>-122.7436</td>\n",
       "      <td>48.9881</td>\n",
       "    </tr>\n",
       "    <tr>\n",
       "      <th>4</th>\n",
       "      <td>-122.2691</td>\n",
       "      <td>48.9951</td>\n",
       "    </tr>\n",
       "    <tr>\n",
       "      <th>...</th>\n",
       "      <td>...</td>\n",
       "      <td>...</td>\n",
       "    </tr>\n",
       "    <tr>\n",
       "      <th>204</th>\n",
       "      <td>-72.7218</td>\n",
       "      <td>45.3990</td>\n",
       "    </tr>\n",
       "    <tr>\n",
       "      <th>205</th>\n",
       "      <td>-66.6458</td>\n",
       "      <td>45.9664</td>\n",
       "    </tr>\n",
       "    <tr>\n",
       "      <th>206</th>\n",
       "      <td>-79.2506</td>\n",
       "      <td>42.9931</td>\n",
       "    </tr>\n",
       "    <tr>\n",
       "      <th>207</th>\n",
       "      <td>-72.9406</td>\n",
       "      <td>45.6275</td>\n",
       "    </tr>\n",
       "    <tr>\n",
       "      <th>208</th>\n",
       "      <td>-79.4608</td>\n",
       "      <td>46.3092</td>\n",
       "    </tr>\n",
       "  </tbody>\n",
       "</table>\n",
       "<p>209 rows × 2 columns</p>\n",
       "</div>"
      ],
      "text/plain": [
       "     longitude  latitude\n",
       "0    -130.0437   55.9773\n",
       "1    -134.4197   58.3019\n",
       "2    -123.0780   48.9854\n",
       "3    -122.7436   48.9881\n",
       "4    -122.2691   48.9951\n",
       "..         ...       ...\n",
       "204   -72.7218   45.3990\n",
       "205   -66.6458   45.9664\n",
       "206   -79.2506   42.9931\n",
       "207   -72.9406   45.6275\n",
       "208   -79.4608   46.3092\n",
       "\n",
       "[209 rows x 2 columns]"
      ]
     },
     "execution_count": 18,
     "metadata": {},
     "output_type": "execute_result"
    }
   ],
   "source": [
    "X"
   ]
  },
  {
   "cell_type": "code",
   "execution_count": 19,
   "metadata": {},
   "outputs": [
    {
     "data": {
      "text/plain": [
       "0         USA\n",
       "1         USA\n",
       "2         USA\n",
       "3         USA\n",
       "4         USA\n",
       "        ...  \n",
       "204    Canada\n",
       "205    Canada\n",
       "206    Canada\n",
       "207    Canada\n",
       "208    Canada\n",
       "Name: country, Length: 209, dtype: object"
      ]
     },
     "execution_count": 19,
     "metadata": {},
     "output_type": "execute_result"
    }
   ],
   "source": [
    "y"
   ]
  },
  {
   "cell_type": "code",
   "execution_count": 20,
   "metadata": {
    "slideshow": {
     "slide_type": "slide"
    }
   },
   "outputs": [
    {
     "data": {
      "text/html": [
       "<table border=\"1\" class=\"dataframe\">\n",
       "  <thead>\n",
       "    <tr style=\"text-align: right;\">\n",
       "      <th>Data portion</th>\n",
       "      <th>Shape</th>\n",
       "    </tr>\n",
       "  </thead>\n",
       "  <tbody>\n",
       "    <tr>\n",
       "      <td>X</td>\n",
       "      <td>(209, 2)</td>\n",
       "    </tr>\n",
       "    <tr>\n",
       "      <td>y</td>\n",
       "      <td>(209,)</td>\n",
       "    </tr>\n",
       "    <tr>\n",
       "      <td>X_train</td>\n",
       "      <td>(167, 2)</td>\n",
       "    </tr>\n",
       "    <tr>\n",
       "      <td>y_train</td>\n",
       "      <td>(167,)</td>\n",
       "    </tr>\n",
       "    <tr>\n",
       "      <td>X_test</td>\n",
       "      <td>(42, 2)</td>\n",
       "    </tr>\n",
       "    <tr>\n",
       "      <td>y_test</td>\n",
       "      <td>(42,)</td>\n",
       "    </tr>\n",
       "  </tbody>\n",
       "</table>"
      ],
      "text/plain": [
       "<IPython.core.display.HTML object>"
      ]
     },
     "execution_count": 20,
     "metadata": {},
     "output_type": "execute_result"
    }
   ],
   "source": [
    "from sklearn.model_selection import train_test_split\n",
    "\n",
    "X_train, X_test, y_train, y_test = train_test_split(\n",
    "    X, y, test_size=0.2, random_state=123\n",
    ")  # 80%-20% train test split on X and y\n",
    "\n",
    "# Print shapes\n",
    "shape_dict = {\n",
    "    \"Data portion\": [\"X\", \"y\", \"X_train\", \"y_train\", \"X_test\", \"y_test\"],\n",
    "    \"Shape\": [\n",
    "        X.shape,\n",
    "        y.shape,\n",
    "        X_train.shape,\n",
    "        y_train.shape,\n",
    "        X_test.shape,\n",
    "        y_test.shape,\n",
    "    ],\n",
    "}\n",
    "\n",
    "shape_df = pd.DataFrame(shape_dict)\n",
    "HTML(shape_df.to_html(index=False))"
   ]
  },
  {
   "cell_type": "markdown",
   "metadata": {
    "slideshow": {
     "slide_type": "slide"
    }
   },
   "source": [
    "#### Creating `train_df` and `test_df`\n",
    "\n",
    "- Sometimes we want to keep the target in the train split for EDA or for visualization. "
   ]
  },
  {
   "cell_type": "code",
   "execution_count": 21,
   "metadata": {},
   "outputs": [
    {
     "data": {
      "text/html": [
       "<div>\n",
       "<style scoped>\n",
       "    .dataframe tbody tr th:only-of-type {\n",
       "        vertical-align: middle;\n",
       "    }\n",
       "\n",
       "    .dataframe tbody tr th {\n",
       "        vertical-align: top;\n",
       "    }\n",
       "\n",
       "    .dataframe thead th {\n",
       "        text-align: right;\n",
       "    }\n",
       "</style>\n",
       "<table border=\"1\" class=\"dataframe\">\n",
       "  <thead>\n",
       "    <tr style=\"text-align: right;\">\n",
       "      <th></th>\n",
       "      <th>longitude</th>\n",
       "      <th>latitude</th>\n",
       "      <th>country</th>\n",
       "    </tr>\n",
       "  </thead>\n",
       "  <tbody>\n",
       "    <tr>\n",
       "      <th>160</th>\n",
       "      <td>-76.4813</td>\n",
       "      <td>44.2307</td>\n",
       "      <td>Canada</td>\n",
       "    </tr>\n",
       "    <tr>\n",
       "      <th>127</th>\n",
       "      <td>-81.2496</td>\n",
       "      <td>42.9837</td>\n",
       "      <td>Canada</td>\n",
       "    </tr>\n",
       "    <tr>\n",
       "      <th>169</th>\n",
       "      <td>-66.0580</td>\n",
       "      <td>45.2788</td>\n",
       "      <td>Canada</td>\n",
       "    </tr>\n",
       "    <tr>\n",
       "      <th>188</th>\n",
       "      <td>-73.2533</td>\n",
       "      <td>45.3057</td>\n",
       "      <td>Canada</td>\n",
       "    </tr>\n",
       "    <tr>\n",
       "      <th>187</th>\n",
       "      <td>-67.9245</td>\n",
       "      <td>47.1652</td>\n",
       "      <td>Canada</td>\n",
       "    </tr>\n",
       "  </tbody>\n",
       "</table>\n",
       "</div>"
      ],
      "text/plain": [
       "     longitude  latitude country\n",
       "160   -76.4813   44.2307  Canada\n",
       "127   -81.2496   42.9837  Canada\n",
       "169   -66.0580   45.2788  Canada\n",
       "188   -73.2533   45.3057  Canada\n",
       "187   -67.9245   47.1652  Canada"
      ]
     },
     "execution_count": 21,
     "metadata": {},
     "output_type": "execute_result"
    }
   ],
   "source": [
    "train_df, test_df = train_test_split(\n",
    "    df, test_size=0.2, random_state=123\n",
    ")  # 80%-20% train test split on df\n",
    "X_train, y_train = train_df.drop(columns=[\"country\"]), train_df[\"country\"]\n",
    "X_test, y_test = test_df.drop(columns=[\"country\"]), test_df[\"country\"]\n",
    "train_df.head()"
   ]
  },
  {
   "cell_type": "code",
   "execution_count": 22,
   "metadata": {
    "slideshow": {
     "slide_type": "slide"
    }
   },
   "outputs": [
    {
     "data": {
      "image/png": "[encoded data removed]",
      "text/plain": [
       "<Figure size 432x288 with 1 Axes>"
      ]
     },
     "metadata": {
      "needs_background": "light"
     },
     "output_type": "display_data"
    }
   ],
   "source": [
    "mglearn.discrete_scatter(X.iloc[:, 0], X.iloc[:, 1], y, s=12)\n",
    "plt.xlabel(\"longitude\")\n",
    "plt.ylabel(\"latitude\");"
   ]
  },
  {
   "cell_type": "code",
   "execution_count": 23,
   "metadata": {
    "slideshow": {
     "slide_type": "slide"
    }
   },
   "outputs": [
    {
     "data": {
      "image/svg+xml": [
       "<?xml version=\"1.0\" encoding=\"UTF-8\" standalone=\"no\"?>\n",
       "<!DOCTYPE svg PUBLIC \"-//W3C//DTD SVG 1.1//EN\"\n",
       " \"http://www.w3.org/Graphics/SVG/1.1/DTD/svg11.dtd\">\n",
       "<!-- Generated by graphviz version 3.0.0 (20220315.2325)\n",
       " -->\n",
       "<!-- Title: Tree Pages: 1 -->\n",
       "<svg width=\"1361pt\" height=\"932pt\"\n",
       " viewBox=\"0.00 0.00 1361.00 932.00\" xmlns=\"http://www.w3.org/2000/svg\" xmlns:xlink=\"http://www.w3.org/1999/xlink\">\n",
       "<g id=\"graph0\" class=\"graph\" transform=\"scale(1 1) rotate(0) translate(4 928)\">\n",
       "<title>Tree</title>\n",
       "<polygon fill=\"white\" stroke=\"transparent\" points=\"-4,4 -4,-928 1357,-928 1357,4 -4,4\"/>\n",
       "<!-- 0 -->\n",
       "<g id=\"node1\" class=\"node\">\n",
       "<title>0</title>\n",
       "<polygon fill=\"none\" stroke=\"black\" points=\"347.5,-924 213.5,-924 213.5,-886 347.5,-886 347.5,-924\"/>\n",
       "<text text-anchor=\"middle\" x=\"280.5\" y=\"-908.8\" font-family=\"Helvetica,sans-Serif\" font-size=\"14.00\">latitude &lt;= 42.9</text>\n",
       "<text text-anchor=\"middle\" x=\"280.5\" y=\"-893.8\" font-family=\"Helvetica,sans-Serif\" font-size=\"14.00\">class = Canada</text>\n",
       "</g>\n",
       "<!-- 1 -->\n",
       "<g id=\"node2\" class=\"node\">\n",
       "<title>1</title>\n",
       "<polygon fill=\"none\" stroke=\"black\" points=\"264.5,-850 112.5,-850 112.5,-812 264.5,-812 264.5,-850\"/>\n",
       "<text text-anchor=\"middle\" x=\"188.5\" y=\"-834.8\" font-family=\"Helvetica,sans-Serif\" font-size=\"14.00\">latitude &lt;= 42.096</text>\n",
       "<text text-anchor=\"middle\" x=\"188.5\" y=\"-819.8\" font-family=\"Helvetica,sans-Serif\" font-size=\"14.00\">class = USA</text>\n",
       "</g>\n",
       "<!-- 0&#45;&gt;1 -->\n",
       "<g id=\"edge1\" class=\"edge\">\n",
       "<title>0&#45;&gt;1</title>\n",
       "<path fill=\"none\" stroke=\"black\" d=\"M257.28,-885.83C245.95,-876.96 232.15,-866.16 219.9,-856.57\"/>\n",
       "<polygon fill=\"black\" stroke=\"black\" points=\"221.74,-853.57 211.71,-850.16 217.43,-859.08 221.74,-853.57\"/>\n",
       "<text text-anchor=\"middle\" x=\"214.73\" y=\"-871.28\" font-family=\"Helvetica,sans-Serif\" font-size=\"14.00\">True</text>\n",
       "</g>\n",
       "<!-- 6 -->\n",
       "<g id=\"node7\" class=\"node\">\n",
       "<title>6</title>\n",
       "<polygon fill=\"none\" stroke=\"black\" points=\"462,-850 283,-850 283,-812 462,-812 462,-850\"/>\n",
       "<text text-anchor=\"middle\" x=\"372.5\" y=\"-834.8\" font-family=\"Helvetica,sans-Serif\" font-size=\"14.00\">longitude &lt;= &#45;130.017</text>\n",
       "<text text-anchor=\"middle\" x=\"372.5\" y=\"-819.8\" font-family=\"Helvetica,sans-Serif\" font-size=\"14.00\">class = Canada</text>\n",
       "</g>\n",
       "<!-- 0&#45;&gt;6 -->\n",
       "<g id=\"edge6\" class=\"edge\">\n",
       "<title>0&#45;&gt;6</title>\n",
       "<path fill=\"none\" stroke=\"black\" d=\"M303.72,-885.83C315.05,-876.96 328.85,-866.16 341.1,-856.57\"/>\n",
       "<polygon fill=\"black\" stroke=\"black\" points=\"343.57,-859.08 349.29,-850.16 339.26,-853.57 343.57,-859.08\"/>\n",
       "<text text-anchor=\"middle\" x=\"346.27\" y=\"-871.28\" font-family=\"Helvetica,sans-Serif\" font-size=\"14.00\">False</text>\n",
       "</g>\n",
       "<!-- 2 -->\n",
       "<g id=\"node3\" class=\"node\">\n",
       "<title>2</title>\n",
       "<polygon fill=\"none\" stroke=\"black\" points=\"101,-775 0,-775 0,-739 101,-739 101,-775\"/>\n",
       "<text text-anchor=\"middle\" x=\"50.5\" y=\"-753.3\" font-family=\"Helvetica,sans-Serif\" font-size=\"14.00\">class = USA</text>\n",
       "</g>\n",
       "<!-- 1&#45;&gt;2 -->\n",
       "<g id=\"edge2\" class=\"edge\">\n",
       "<title>1&#45;&gt;2</title>\n",
       "<path fill=\"none\" stroke=\"black\" d=\"M153.68,-811.83C135.07,-802.12 112.02,-790.1 92.43,-779.88\"/>\n",
       "<polygon fill=\"black\" stroke=\"black\" points=\"93.9,-776.69 83.41,-775.17 90.66,-782.9 93.9,-776.69\"/>\n",
       "</g>\n",
       "<!-- 3 -->\n",
       "<g id=\"node4\" class=\"node\">\n",
       "<title>3</title>\n",
       "<polygon fill=\"none\" stroke=\"black\" points=\"271.5,-776 119.5,-776 119.5,-738 271.5,-738 271.5,-776\"/>\n",
       "<text text-anchor=\"middle\" x=\"195.5\" y=\"-760.8\" font-family=\"Helvetica,sans-Serif\" font-size=\"14.00\">latitude &lt;= 42.324</text>\n",
       "<text text-anchor=\"middle\" x=\"195.5\" y=\"-745.8\" font-family=\"Helvetica,sans-Serif\" font-size=\"14.00\">class = USA</text>\n",
       "</g>\n",
       "<!-- 1&#45;&gt;3 -->\n",
       "<g id=\"edge3\" class=\"edge\">\n",
       "<title>1&#45;&gt;3</title>\n",
       "<path fill=\"none\" stroke=\"black\" d=\"M190.27,-811.83C191.02,-804.13 191.91,-794.97 192.74,-786.42\"/>\n",
       "<polygon fill=\"black\" stroke=\"black\" points=\"196.23,-786.71 193.71,-776.41 189.26,-786.03 196.23,-786.71\"/>\n",
       "</g>\n",
       "<!-- 4 -->\n",
       "<g id=\"node5\" class=\"node\">\n",
       "<title>4</title>\n",
       "<polygon fill=\"none\" stroke=\"black\" points=\"248,-701 123,-701 123,-665 248,-665 248,-701\"/>\n",
       "<text text-anchor=\"middle\" x=\"185.5\" y=\"-679.3\" font-family=\"Helvetica,sans-Serif\" font-size=\"14.00\">class = Canada</text>\n",
       "</g>\n",
       "<!-- 3&#45;&gt;4 -->\n",
       "<g id=\"edge4\" class=\"edge\">\n",
       "<title>3&#45;&gt;4</title>\n",
       "<path fill=\"none\" stroke=\"black\" d=\"M192.98,-737.83C191.86,-729.81 190.53,-720.2 189.3,-711.34\"/>\n",
       "<polygon fill=\"black\" stroke=\"black\" points=\"192.76,-710.84 187.92,-701.42 185.83,-711.8 192.76,-710.84\"/>\n",
       "</g>\n",
       "<!-- 5 -->\n",
       "<g id=\"node6\" class=\"node\">\n",
       "<title>5</title>\n",
       "<polygon fill=\"none\" stroke=\"black\" points=\"367,-701 266,-701 266,-665 367,-665 367,-701\"/>\n",
       "<text text-anchor=\"middle\" x=\"316.5\" y=\"-679.3\" font-family=\"Helvetica,sans-Serif\" font-size=\"14.00\">class = USA</text>\n",
       "</g>\n",
       "<!-- 3&#45;&gt;5 -->\n",
       "<g id=\"edge5\" class=\"edge\">\n",
       "<title>3&#45;&gt;5</title>\n",
       "<path fill=\"none\" stroke=\"black\" d=\"M226.03,-737.83C242.13,-728.25 262.01,-716.42 279.04,-706.29\"/>\n",
       "<polygon fill=\"black\" stroke=\"black\" points=\"280.84,-709.29 287.64,-701.17 277.26,-703.28 280.84,-709.29\"/>\n",
       "</g>\n",
       "<!-- 7 -->\n",
       "<g id=\"node8\" class=\"node\">\n",
       "<title>7</title>\n",
       "<polygon fill=\"none\" stroke=\"black\" points=\"409,-775 308,-775 308,-739 409,-739 409,-775\"/>\n",
       "<text text-anchor=\"middle\" x=\"358.5\" y=\"-753.3\" font-family=\"Helvetica,sans-Serif\" font-size=\"14.00\">class = USA</text>\n",
       "</g>\n",
       "<!-- 6&#45;&gt;7 -->\n",
       "<g id=\"edge7\" class=\"edge\">\n",
       "<title>6&#45;&gt;7</title>\n",
       "<path fill=\"none\" stroke=\"black\" d=\"M368.97,-811.83C367.41,-803.81 365.54,-794.2 363.82,-785.34\"/>\n",
       "<polygon fill=\"black\" stroke=\"black\" points=\"367.23,-784.57 361.89,-775.42 360.36,-785.9 367.23,-784.57\"/>\n",
       "</g>\n",
       "<!-- 8 -->\n",
       "<g id=\"node9\" class=\"node\">\n",
       "<title>8</title>\n",
       "<polygon fill=\"none\" stroke=\"black\" points=\"561.5,-776 427.5,-776 427.5,-738 561.5,-738 561.5,-776\"/>\n",
       "<text text-anchor=\"middle\" x=\"494.5\" y=\"-760.8\" font-family=\"Helvetica,sans-Serif\" font-size=\"14.00\">latitude &lt;= 49.0</text>\n",
       "<text text-anchor=\"middle\" x=\"494.5\" y=\"-745.8\" font-family=\"Helvetica,sans-Serif\" font-size=\"14.00\">class = Canada</text>\n",
       "</g>\n",
       "<!-- 6&#45;&gt;8 -->\n",
       "<g id=\"edge8\" class=\"edge\">\n",
       "<title>6&#45;&gt;8</title>\n",
       "<path fill=\"none\" stroke=\"black\" d=\"M403.29,-811.83C418.89,-802.62 438.02,-791.33 454.73,-781.47\"/>\n",
       "<polygon fill=\"black\" stroke=\"black\" points=\"456.89,-784.26 463.72,-776.16 453.33,-778.23 456.89,-784.26\"/>\n",
       "</g>\n",
       "<!-- 9 -->\n",
       "<g id=\"node10\" class=\"node\">\n",
       "<title>9</title>\n",
       "<polygon fill=\"none\" stroke=\"black\" points=\"572.5,-702 402.5,-702 402.5,-664 572.5,-664 572.5,-702\"/>\n",
       "<text text-anchor=\"middle\" x=\"487.5\" y=\"-686.8\" font-family=\"Helvetica,sans-Serif\" font-size=\"14.00\">longitude &lt;= &#45;94.582</text>\n",
       "<text text-anchor=\"middle\" x=\"487.5\" y=\"-671.8\" font-family=\"Helvetica,sans-Serif\" font-size=\"14.00\">class = Canada</text>\n",
       "</g>\n",
       "<!-- 8&#45;&gt;9 -->\n",
       "<g id=\"edge9\" class=\"edge\">\n",
       "<title>8&#45;&gt;9</title>\n",
       "<path fill=\"none\" stroke=\"black\" d=\"M492.73,-737.83C491.98,-730.13 491.09,-720.97 490.26,-712.42\"/>\n",
       "<polygon fill=\"black\" stroke=\"black\" points=\"493.74,-712.03 489.29,-702.41 486.77,-712.71 493.74,-712.03\"/>\n",
       "</g>\n",
       "<!-- 54 -->\n",
       "<g id=\"node55\" class=\"node\">\n",
       "<title>54</title>\n",
       "<polygon fill=\"none\" stroke=\"black\" points=\"716,-701 591,-701 591,-665 716,-665 716,-701\"/>\n",
       "<text text-anchor=\"middle\" x=\"653.5\" y=\"-679.3\" font-family=\"Helvetica,sans-Serif\" font-size=\"14.00\">class = Canada</text>\n",
       "</g>\n",
       "<!-- 8&#45;&gt;54 -->\n",
       "<g id=\"edge54\" class=\"edge\">\n",
       "<title>8&#45;&gt;54</title>\n",
       "<path fill=\"none\" stroke=\"black\" d=\"M534.62,-737.83C556.53,-727.91 583.79,-715.57 606.67,-705.21\"/>\n",
       "<polygon fill=\"black\" stroke=\"black\" points=\"608.18,-708.36 615.85,-701.05 605.3,-701.99 608.18,-708.36\"/>\n",
       "</g>\n",
       "<!-- 10 -->\n",
       "<g id=\"node11\" class=\"node\">\n",
       "<title>10</title>\n",
       "<polygon fill=\"none\" stroke=\"black\" points=\"481,-628 302,-628 302,-590 481,-590 481,-628\"/>\n",
       "<text text-anchor=\"middle\" x=\"391.5\" y=\"-612.8\" font-family=\"Helvetica,sans-Serif\" font-size=\"14.00\">longitude &lt;= &#45;123.222</text>\n",
       "<text text-anchor=\"middle\" x=\"391.5\" y=\"-597.8\" font-family=\"Helvetica,sans-Serif\" font-size=\"14.00\">class = USA</text>\n",
       "</g>\n",
       "<!-- 9&#45;&gt;10 -->\n",
       "<g id=\"edge10\" class=\"edge\">\n",
       "<title>9&#45;&gt;10</title>\n",
       "<path fill=\"none\" stroke=\"black\" d=\"M463.28,-663.83C451.34,-654.88 436.77,-643.96 423.89,-634.3\"/>\n",
       "<polygon fill=\"black\" stroke=\"black\" points=\"425.82,-631.36 415.72,-628.16 421.62,-636.96 425.82,-631.36\"/>\n",
       "</g>\n",
       "<!-- 13 -->\n",
       "<g id=\"node14\" class=\"node\">\n",
       "<title>13</title>\n",
       "<polygon fill=\"none\" stroke=\"black\" points=\"669.5,-628 499.5,-628 499.5,-590 669.5,-590 669.5,-628\"/>\n",
       "<text text-anchor=\"middle\" x=\"584.5\" y=\"-612.8\" font-family=\"Helvetica,sans-Serif\" font-size=\"14.00\">longitude &lt;= &#45;69.246</text>\n",
       "<text text-anchor=\"middle\" x=\"584.5\" y=\"-597.8\" font-family=\"Helvetica,sans-Serif\" font-size=\"14.00\">class = Canada</text>\n",
       "</g>\n",
       "<!-- 9&#45;&gt;13 -->\n",
       "<g id=\"edge13\" class=\"edge\">\n",
       "<title>9&#45;&gt;13</title>\n",
       "<path fill=\"none\" stroke=\"black\" d=\"M511.98,-663.83C524.04,-654.88 538.75,-643.96 551.77,-634.3\"/>\n",
       "<polygon fill=\"black\" stroke=\"black\" points=\"554.09,-636.93 560.03,-628.16 549.91,-631.31 554.09,-636.93\"/>\n",
       "</g>\n",
       "<!-- 11 -->\n",
       "<g id=\"node12\" class=\"node\">\n",
       "<title>11</title>\n",
       "<polygon fill=\"none\" stroke=\"black\" points=\"335,-553 210,-553 210,-517 335,-517 335,-553\"/>\n",
       "<text text-anchor=\"middle\" x=\"272.5\" y=\"-531.3\" font-family=\"Helvetica,sans-Serif\" font-size=\"14.00\">class = Canada</text>\n",
       "</g>\n",
       "<!-- 10&#45;&gt;11 -->\n",
       "<g id=\"edge11\" class=\"edge\">\n",
       "<title>10&#45;&gt;11</title>\n",
       "<path fill=\"none\" stroke=\"black\" d=\"M361.47,-589.83C345.79,-580.34 326.44,-568.64 309.81,-558.57\"/>\n",
       "<polygon fill=\"black\" stroke=\"black\" points=\"311.25,-555.35 300.88,-553.17 307.62,-561.34 311.25,-555.35\"/>\n",
       "</g>\n",
       "<!-- 12 -->\n",
       "<g id=\"node13\" class=\"node\">\n",
       "<title>12</title>\n",
       "<polygon fill=\"none\" stroke=\"black\" points=\"454,-553 353,-553 353,-517 454,-517 454,-553\"/>\n",
       "<text text-anchor=\"middle\" x=\"403.5\" y=\"-531.3\" font-family=\"Helvetica,sans-Serif\" font-size=\"14.00\">class = USA</text>\n",
       "</g>\n",
       "<!-- 10&#45;&gt;12 -->\n",
       "<g id=\"edge12\" class=\"edge\">\n",
       "<title>10&#45;&gt;12</title>\n",
       "<path fill=\"none\" stroke=\"black\" d=\"M394.53,-589.83C395.87,-581.81 397.47,-572.2 398.94,-563.34\"/>\n",
       "<polygon fill=\"black\" stroke=\"black\" points=\"402.41,-563.86 400.6,-553.42 395.5,-562.71 402.41,-563.86\"/>\n",
       "</g>\n",
       "<!-- 14 -->\n",
       "<g id=\"node15\" class=\"node\">\n",
       "<title>14</title>\n",
       "<polygon fill=\"none\" stroke=\"black\" points=\"648.5,-554 496.5,-554 496.5,-516 648.5,-516 648.5,-554\"/>\n",
       "<text text-anchor=\"middle\" x=\"572.5\" y=\"-538.8\" font-family=\"Helvetica,sans-Serif\" font-size=\"14.00\">latitude &lt;= 43.093</text>\n",
       "<text text-anchor=\"middle\" x=\"572.5\" y=\"-523.8\" font-family=\"Helvetica,sans-Serif\" font-size=\"14.00\">class = Canada</text>\n",
       "</g>\n",
       "<!-- 13&#45;&gt;14 -->\n",
       "<g id=\"edge14\" class=\"edge\">\n",
       "<title>13&#45;&gt;14</title>\n",
       "<path fill=\"none\" stroke=\"black\" d=\"M581.47,-589.83C580.19,-582.13 578.66,-572.97 577.24,-564.42\"/>\n",
       "<polygon fill=\"black\" stroke=\"black\" points=\"580.67,-563.7 575.57,-554.41 573.76,-564.85 580.67,-563.7\"/>\n",
       "</g>\n",
       "<!-- 37 -->\n",
       "<g id=\"node38\" class=\"node\">\n",
       "<title>37</title>\n",
       "<polygon fill=\"none\" stroke=\"black\" points=\"879.5,-554 709.5,-554 709.5,-516 879.5,-516 879.5,-554\"/>\n",
       "<text text-anchor=\"middle\" x=\"794.5\" y=\"-538.8\" font-family=\"Helvetica,sans-Serif\" font-size=\"14.00\">longitude &lt;= &#45;66.952</text>\n",
       "<text text-anchor=\"middle\" x=\"794.5\" y=\"-523.8\" font-family=\"Helvetica,sans-Serif\" font-size=\"14.00\">class = Canada</text>\n",
       "</g>\n",
       "<!-- 13&#45;&gt;37 -->\n",
       "<g id=\"edge37\" class=\"edge\">\n",
       "<title>13&#45;&gt;37</title>\n",
       "<path fill=\"none\" stroke=\"black\" d=\"M637.22,-589.92C666.05,-580.04 701.95,-567.73 732.16,-557.37\"/>\n",
       "<polygon fill=\"black\" stroke=\"black\" points=\"733.43,-560.64 741.76,-554.08 731.16,-554.02 733.43,-560.64\"/>\n",
       "</g>\n",
       "<!-- 15 -->\n",
       "<g id=\"node16\" class=\"node\">\n",
       "<title>15</title>\n",
       "<polygon fill=\"none\" stroke=\"black\" points=\"434.5,-480 282.5,-480 282.5,-442 434.5,-442 434.5,-480\"/>\n",
       "<text text-anchor=\"middle\" x=\"358.5\" y=\"-464.8\" font-family=\"Helvetica,sans-Serif\" font-size=\"14.00\">latitude &lt;= 43.014</text>\n",
       "<text text-anchor=\"middle\" x=\"358.5\" y=\"-449.8\" font-family=\"Helvetica,sans-Serif\" font-size=\"14.00\">class = Canada</text>\n",
       "</g>\n",
       "<!-- 14&#45;&gt;15 -->\n",
       "<g id=\"edge15\" class=\"edge\">\n",
       "<title>14&#45;&gt;15</title>\n",
       "<path fill=\"none\" stroke=\"black\" d=\"M518.77,-515.92C489.39,-506.04 452.81,-493.73 422.02,-483.37\"/>\n",
       "<polygon fill=\"black\" stroke=\"black\" points=\"422.84,-479.95 412.25,-480.08 420.61,-486.59 422.84,-479.95\"/>\n",
       "</g>\n",
       "<!-- 20 -->\n",
       "<g id=\"node21\" class=\"node\">\n",
       "<title>20</title>\n",
       "<polygon fill=\"none\" stroke=\"black\" points=\"648.5,-480 496.5,-480 496.5,-442 648.5,-442 648.5,-480\"/>\n",
       "<text text-anchor=\"middle\" x=\"572.5\" y=\"-464.8\" font-family=\"Helvetica,sans-Serif\" font-size=\"14.00\">latitude &lt;= 44.992</text>\n",
       "<text text-anchor=\"middle\" x=\"572.5\" y=\"-449.8\" font-family=\"Helvetica,sans-Serif\" font-size=\"14.00\">class = Canada</text>\n",
       "</g>\n",
       "<!-- 14&#45;&gt;20 -->\n",
       "<g id=\"edge20\" class=\"edge\">\n",
       "<title>14&#45;&gt;20</title>\n",
       "<path fill=\"none\" stroke=\"black\" d=\"M572.5,-515.83C572.5,-508.13 572.5,-498.97 572.5,-490.42\"/>\n",
       "<polygon fill=\"black\" stroke=\"black\" points=\"576,-490.41 572.5,-480.41 569,-490.41 576,-490.41\"/>\n",
       "</g>\n",
       "<!-- 16 -->\n",
       "<g id=\"node17\" class=\"node\">\n",
       "<title>16</title>\n",
       "<polygon fill=\"none\" stroke=\"black\" points=\"284.5,-406 114.5,-406 114.5,-368 284.5,-368 284.5,-406\"/>\n",
       "<text text-anchor=\"middle\" x=\"199.5\" y=\"-390.8\" font-family=\"Helvetica,sans-Serif\" font-size=\"14.00\">longitude &lt;= &#45;81.845</text>\n",
       "<text text-anchor=\"middle\" x=\"199.5\" y=\"-375.8\" font-family=\"Helvetica,sans-Serif\" font-size=\"14.00\">class = Canada</text>\n",
       "</g>\n",
       "<!-- 15&#45;&gt;16 -->\n",
       "<g id=\"edge16\" class=\"edge\">\n",
       "<title>15&#45;&gt;16</title>\n",
       "<path fill=\"none\" stroke=\"black\" d=\"M318.38,-441.83C297.21,-432.24 271.05,-420.4 248.67,-410.27\"/>\n",
       "<polygon fill=\"black\" stroke=\"black\" points=\"249.89,-406.97 239.33,-406.04 247,-413.35 249.89,-406.97\"/>\n",
       "</g>\n",
       "<!-- 19 -->\n",
       "<g id=\"node20\" class=\"node\">\n",
       "<title>19</title>\n",
       "<polygon fill=\"none\" stroke=\"black\" points=\"409,-405 308,-405 308,-369 409,-369 409,-405\"/>\n",
       "<text text-anchor=\"middle\" x=\"358.5\" y=\"-383.3\" font-family=\"Helvetica,sans-Serif\" font-size=\"14.00\">class = USA</text>\n",
       "</g>\n",
       "<!-- 15&#45;&gt;19 -->\n",
       "<g id=\"edge19\" class=\"edge\">\n",
       "<title>15&#45;&gt;19</title>\n",
       "<path fill=\"none\" stroke=\"black\" d=\"M358.5,-441.83C358.5,-433.89 358.5,-424.41 358.5,-415.63\"/>\n",
       "<polygon fill=\"black\" stroke=\"black\" points=\"362,-415.42 358.5,-405.42 355,-415.42 362,-415.42\"/>\n",
       "</g>\n",
       "<!-- 17 -->\n",
       "<g id=\"node18\" class=\"node\">\n",
       "<title>17</title>\n",
       "<polygon fill=\"none\" stroke=\"black\" points=\"119,-331 18,-331 18,-295 119,-295 119,-331\"/>\n",
       "<text text-anchor=\"middle\" x=\"68.5\" y=\"-309.3\" font-family=\"Helvetica,sans-Serif\" font-size=\"14.00\">class = USA</text>\n",
       "</g>\n",
       "<!-- 16&#45;&gt;17 -->\n",
       "<g id=\"edge17\" class=\"edge\">\n",
       "<title>16&#45;&gt;17</title>\n",
       "<path fill=\"none\" stroke=\"black\" d=\"M166.44,-367.83C148.86,-358.17 127.09,-346.2 108.55,-336.01\"/>\n",
       "<polygon fill=\"black\" stroke=\"black\" points=\"110.19,-332.92 99.74,-331.17 106.82,-339.06 110.19,-332.92\"/>\n",
       "</g>\n",
       "<!-- 18 -->\n",
       "<g id=\"node19\" class=\"node\">\n",
       "<title>18</title>\n",
       "<polygon fill=\"none\" stroke=\"black\" points=\"262,-331 137,-331 137,-295 262,-295 262,-331\"/>\n",
       "<text text-anchor=\"middle\" x=\"199.5\" y=\"-309.3\" font-family=\"Helvetica,sans-Serif\" font-size=\"14.00\">class = Canada</text>\n",
       "</g>\n",
       "<!-- 16&#45;&gt;18 -->\n",
       "<g id=\"edge18\" class=\"edge\">\n",
       "<title>16&#45;&gt;18</title>\n",
       "<path fill=\"none\" stroke=\"black\" d=\"M199.5,-367.83C199.5,-359.89 199.5,-350.41 199.5,-341.63\"/>\n",
       "<polygon fill=\"black\" stroke=\"black\" points=\"203,-341.42 199.5,-331.42 196,-341.42 203,-341.42\"/>\n",
       "</g>\n",
       "<!-- 21 -->\n",
       "<g id=\"node22\" class=\"node\">\n",
       "<title>21</title>\n",
       "<polygon fill=\"none\" stroke=\"black\" points=\"580.5,-406 428.5,-406 428.5,-368 580.5,-368 580.5,-406\"/>\n",
       "<text text-anchor=\"middle\" x=\"504.5\" y=\"-390.8\" font-family=\"Helvetica,sans-Serif\" font-size=\"14.00\">latitude &lt;= 44.542</text>\n",
       "<text text-anchor=\"middle\" x=\"504.5\" y=\"-375.8\" font-family=\"Helvetica,sans-Serif\" font-size=\"14.00\">class = Canada</text>\n",
       "</g>\n",
       "<!-- 20&#45;&gt;21 -->\n",
       "<g id=\"edge21\" class=\"edge\">\n",
       "<title>20&#45;&gt;21</title>\n",
       "<path fill=\"none\" stroke=\"black\" d=\"M555.34,-441.83C547.35,-433.37 537.7,-423.15 528.96,-413.9\"/>\n",
       "<polygon fill=\"black\" stroke=\"black\" points=\"531.3,-411.28 521.89,-406.41 526.21,-416.09 531.3,-411.28\"/>\n",
       "</g>\n",
       "<!-- 36 -->\n",
       "<g id=\"node37\" class=\"node\">\n",
       "<title>36</title>\n",
       "<polygon fill=\"none\" stroke=\"black\" points=\"724,-405 599,-405 599,-369 724,-369 724,-405\"/>\n",
       "<text text-anchor=\"middle\" x=\"661.5\" y=\"-383.3\" font-family=\"Helvetica,sans-Serif\" font-size=\"14.00\">class = Canada</text>\n",
       "</g>\n",
       "<!-- 20&#45;&gt;36 -->\n",
       "<g id=\"edge36\" class=\"edge\">\n",
       "<title>20&#45;&gt;36</title>\n",
       "<path fill=\"none\" stroke=\"black\" d=\"M594.96,-441.83C606.26,-432.69 620.09,-421.5 632.21,-411.7\"/>\n",
       "<polygon fill=\"black\" stroke=\"black\" points=\"634.7,-414.18 640.27,-405.17 630.3,-408.74 634.7,-414.18\"/>\n",
       "</g>\n",
       "<!-- 22 -->\n",
       "<g id=\"node23\" class=\"node\">\n",
       "<title>22</title>\n",
       "<polygon fill=\"none\" stroke=\"black\" points=\"450.5,-332 280.5,-332 280.5,-294 450.5,-294 450.5,-332\"/>\n",
       "<text text-anchor=\"middle\" x=\"365.5\" y=\"-316.8\" font-family=\"Helvetica,sans-Serif\" font-size=\"14.00\">longitude &lt;= &#45;79.076</text>\n",
       "<text text-anchor=\"middle\" x=\"365.5\" y=\"-301.8\" font-family=\"Helvetica,sans-Serif\" font-size=\"14.00\">class = Canada</text>\n",
       "</g>\n",
       "<!-- 21&#45;&gt;22 -->\n",
       "<g id=\"edge22\" class=\"edge\">\n",
       "<title>21&#45;&gt;22</title>\n",
       "<path fill=\"none\" stroke=\"black\" d=\"M469.42,-367.83C451.23,-358.41 428.83,-346.81 409.49,-336.79\"/>\n",
       "<polygon fill=\"black\" stroke=\"black\" points=\"411.05,-333.65 400.56,-332.16 407.83,-339.87 411.05,-333.65\"/>\n",
       "</g>\n",
       "<!-- 31 -->\n",
       "<g id=\"node32\" class=\"node\">\n",
       "<title>31</title>\n",
       "<polygon fill=\"none\" stroke=\"black\" points=\"620.5,-332 468.5,-332 468.5,-294 620.5,-294 620.5,-332\"/>\n",
       "<text text-anchor=\"middle\" x=\"544.5\" y=\"-316.8\" font-family=\"Helvetica,sans-Serif\" font-size=\"14.00\">latitude &lt;= 44.706</text>\n",
       "<text text-anchor=\"middle\" x=\"544.5\" y=\"-301.8\" font-family=\"Helvetica,sans-Serif\" font-size=\"14.00\">class = USA</text>\n",
       "</g>\n",
       "<!-- 21&#45;&gt;31 -->\n",
       "<g id=\"edge31\" class=\"edge\">\n",
       "<title>21&#45;&gt;31</title>\n",
       "<path fill=\"none\" stroke=\"black\" d=\"M514.59,-367.83C519.06,-359.79 524.41,-350.17 529.34,-341.29\"/>\n",
       "<polygon fill=\"black\" stroke=\"black\" points=\"532.47,-342.85 534.27,-332.41 526.35,-339.46 532.47,-342.85\"/>\n",
       "</g>\n",
       "<!-- 23 -->\n",
       "<g id=\"node24\" class=\"node\">\n",
       "<title>23</title>\n",
       "<polygon fill=\"none\" stroke=\"black\" points=\"271,-257 146,-257 146,-221 271,-221 271,-257\"/>\n",
       "<text text-anchor=\"middle\" x=\"208.5\" y=\"-235.3\" font-family=\"Helvetica,sans-Serif\" font-size=\"14.00\">class = Canada</text>\n",
       "</g>\n",
       "<!-- 22&#45;&gt;23 -->\n",
       "<g id=\"edge23\" class=\"edge\">\n",
       "<title>22&#45;&gt;23</title>\n",
       "<path fill=\"none\" stroke=\"black\" d=\"M325.88,-293.83C304.34,-283.95 277.58,-271.68 255.04,-261.35\"/>\n",
       "<polygon fill=\"black\" stroke=\"black\" points=\"256.22,-258.04 245.68,-257.05 253.31,-264.4 256.22,-258.04\"/>\n",
       "</g>\n",
       "<!-- 24 -->\n",
       "<g id=\"node25\" class=\"node\">\n",
       "<title>24</title>\n",
       "<polygon fill=\"none\" stroke=\"black\" points=\"441.5,-258 289.5,-258 289.5,-220 441.5,-220 441.5,-258\"/>\n",
       "<text text-anchor=\"middle\" x=\"365.5\" y=\"-242.8\" font-family=\"Helvetica,sans-Serif\" font-size=\"14.00\">latitude &lt;= 44.168</text>\n",
       "<text text-anchor=\"middle\" x=\"365.5\" y=\"-227.8\" font-family=\"Helvetica,sans-Serif\" font-size=\"14.00\">class = Canada</text>\n",
       "</g>\n",
       "<!-- 22&#45;&gt;24 -->\n",
       "<g id=\"edge24\" class=\"edge\">\n",
       "<title>22&#45;&gt;24</title>\n",
       "<path fill=\"none\" stroke=\"black\" d=\"M365.5,-293.83C365.5,-286.13 365.5,-276.97 365.5,-268.42\"/>\n",
       "<polygon fill=\"black\" stroke=\"black\" points=\"369,-268.41 365.5,-258.41 362,-268.41 369,-268.41\"/>\n",
       "</g>\n",
       "<!-- 25 -->\n",
       "<g id=\"node26\" class=\"node\">\n",
       "<title>25</title>\n",
       "<polygon fill=\"none\" stroke=\"black\" points=\"293,-184 132,-184 132,-146 293,-146 293,-184\"/>\n",
       "<text text-anchor=\"middle\" x=\"212.5\" y=\"-168.8\" font-family=\"Helvetica,sans-Serif\" font-size=\"14.00\">longitude &lt;= &#45;79.03</text>\n",
       "<text text-anchor=\"middle\" x=\"212.5\" y=\"-153.8\" font-family=\"Helvetica,sans-Serif\" font-size=\"14.00\">class = USA</text>\n",
       "</g>\n",
       "<!-- 24&#45;&gt;25 -->\n",
       "<g id=\"edge25\" class=\"edge\">\n",
       "<title>24&#45;&gt;25</title>\n",
       "<path fill=\"none\" stroke=\"black\" d=\"M326.89,-219.83C306.61,-210.29 281.58,-198.51 260.1,-188.4\"/>\n",
       "<polygon fill=\"black\" stroke=\"black\" points=\"261.37,-185.13 250.83,-184.04 258.39,-191.46 261.37,-185.13\"/>\n",
       "</g>\n",
       "<!-- 30 -->\n",
       "<g id=\"node31\" class=\"node\">\n",
       "<title>30</title>\n",
       "<polygon fill=\"none\" stroke=\"black\" points=\"436,-183 311,-183 311,-147 436,-147 436,-183\"/>\n",
       "<text text-anchor=\"middle\" x=\"373.5\" y=\"-161.3\" font-family=\"Helvetica,sans-Serif\" font-size=\"14.00\">class = Canada</text>\n",
       "</g>\n",
       "<!-- 24&#45;&gt;30 -->\n",
       "<g id=\"edge30\" class=\"edge\">\n",
       "<title>24&#45;&gt;30</title>\n",
       "<path fill=\"none\" stroke=\"black\" d=\"M367.52,-219.83C368.4,-211.89 369.45,-202.41 370.43,-193.63\"/>\n",
       "<polygon fill=\"black\" stroke=\"black\" points=\"373.94,-193.74 371.56,-183.42 366.98,-192.97 373.94,-193.74\"/>\n",
       "</g>\n",
       "<!-- 26 -->\n",
       "<g id=\"node27\" class=\"node\">\n",
       "<title>26</title>\n",
       "<polygon fill=\"none\" stroke=\"black\" points=\"186,-109 85,-109 85,-73 186,-73 186,-109\"/>\n",
       "<text text-anchor=\"middle\" x=\"135.5\" y=\"-87.3\" font-family=\"Helvetica,sans-Serif\" font-size=\"14.00\">class = USA</text>\n",
       "</g>\n",
       "<!-- 25&#45;&gt;26 -->\n",
       "<g id=\"edge26\" class=\"edge\">\n",
       "<title>25&#45;&gt;26</title>\n",
       "<path fill=\"none\" stroke=\"black\" d=\"M193.07,-145.83C183.48,-136.87 171.79,-125.93 161.45,-116.26\"/>\n",
       "<polygon fill=\"black\" stroke=\"black\" points=\"163.56,-113.44 153.86,-109.17 158.78,-118.56 163.56,-113.44\"/>\n",
       "</g>\n",
       "<!-- 27 -->\n",
       "<g id=\"node28\" class=\"node\">\n",
       "<title>27</title>\n",
       "<polygon fill=\"none\" stroke=\"black\" points=\"374.5,-110 204.5,-110 204.5,-72 374.5,-72 374.5,-110\"/>\n",
       "<text text-anchor=\"middle\" x=\"289.5\" y=\"-94.8\" font-family=\"Helvetica,sans-Serif\" font-size=\"14.00\">longitude &lt;= &#45;77.678</text>\n",
       "<text text-anchor=\"middle\" x=\"289.5\" y=\"-79.8\" font-family=\"Helvetica,sans-Serif\" font-size=\"14.00\">class = Canada</text>\n",
       "</g>\n",
       "<!-- 25&#45;&gt;27 -->\n",
       "<g id=\"edge27\" class=\"edge\">\n",
       "<title>25&#45;&gt;27</title>\n",
       "<path fill=\"none\" stroke=\"black\" d=\"M231.93,-145.83C241.23,-137.13 252.52,-126.58 262.63,-117.13\"/>\n",
       "<polygon fill=\"black\" stroke=\"black\" points=\"265.16,-119.55 270.08,-110.16 260.38,-114.44 265.16,-119.55\"/>\n",
       "</g>\n",
       "<!-- 28 -->\n",
       "<g id=\"node29\" class=\"node\">\n",
       "<title>28</title>\n",
       "<polygon fill=\"none\" stroke=\"black\" points=\"286,-36 161,-36 161,0 286,0 286,-36\"/>\n",
       "<text text-anchor=\"middle\" x=\"223.5\" y=\"-14.3\" font-family=\"Helvetica,sans-Serif\" font-size=\"14.00\">class = Canada</text>\n",
       "</g>\n",
       "<!-- 27&#45;&gt;28 -->\n",
       "<g id=\"edge28\" class=\"edge\">\n",
       "<title>27&#45;&gt;28</title>\n",
       "<path fill=\"none\" stroke=\"black\" d=\"M272.5,-71.72C264.51,-63.11 254.86,-52.73 246.24,-43.46\"/>\n",
       "<polygon fill=\"black\" stroke=\"black\" points=\"248.68,-40.94 239.31,-36 243.55,-45.71 248.68,-40.94\"/>\n",
       "</g>\n",
       "<!-- 29 -->\n",
       "<g id=\"node30\" class=\"node\">\n",
       "<title>29</title>\n",
       "<polygon fill=\"none\" stroke=\"black\" points=\"405,-36 304,-36 304,0 405,0 405,-36\"/>\n",
       "<text text-anchor=\"middle\" x=\"354.5\" y=\"-14.3\" font-family=\"Helvetica,sans-Serif\" font-size=\"14.00\">class = USA</text>\n",
       "</g>\n",
       "<!-- 27&#45;&gt;29 -->\n",
       "<g id=\"edge29\" class=\"edge\">\n",
       "<title>27&#45;&gt;29</title>\n",
       "<path fill=\"none\" stroke=\"black\" d=\"M306.24,-71.72C314.11,-63.11 323.62,-52.73 332.1,-43.46\"/>\n",
       "<polygon fill=\"black\" stroke=\"black\" points=\"334.76,-45.74 338.93,-36 329.6,-41.02 334.76,-45.74\"/>\n",
       "</g>\n",
       "<!-- 32 -->\n",
       "<g id=\"node33\" class=\"node\">\n",
       "<title>32</title>\n",
       "<polygon fill=\"none\" stroke=\"black\" points=\"561,-257 460,-257 460,-221 561,-221 561,-257\"/>\n",
       "<text text-anchor=\"middle\" x=\"510.5\" y=\"-235.3\" font-family=\"Helvetica,sans-Serif\" font-size=\"14.00\">class = USA</text>\n",
       "</g>\n",
       "<!-- 31&#45;&gt;32 -->\n",
       "<g id=\"edge32\" class=\"edge\">\n",
       "<title>31&#45;&gt;32</title>\n",
       "<path fill=\"none\" stroke=\"black\" d=\"M535.92,-293.83C532.01,-285.55 527.3,-275.57 523,-266.47\"/>\n",
       "<polygon fill=\"black\" stroke=\"black\" points=\"526.16,-264.97 518.73,-257.42 519.83,-267.95 526.16,-264.97\"/>\n",
       "</g>\n",
       "<!-- 33 -->\n",
       "<g id=\"node34\" class=\"node\">\n",
       "<title>33</title>\n",
       "<polygon fill=\"none\" stroke=\"black\" points=\"731.5,-258 579.5,-258 579.5,-220 731.5,-220 731.5,-258\"/>\n",
       "<text text-anchor=\"middle\" x=\"655.5\" y=\"-242.8\" font-family=\"Helvetica,sans-Serif\" font-size=\"14.00\">latitude &lt;= 44.848</text>\n",
       "<text text-anchor=\"middle\" x=\"655.5\" y=\"-227.8\" font-family=\"Helvetica,sans-Serif\" font-size=\"14.00\">class = Canada</text>\n",
       "</g>\n",
       "<!-- 31&#45;&gt;33 -->\n",
       "<g id=\"edge33\" class=\"edge\">\n",
       "<title>31&#45;&gt;33</title>\n",
       "<path fill=\"none\" stroke=\"black\" d=\"M572.51,-293.83C586.58,-284.71 603.79,-273.54 618.89,-263.74\"/>\n",
       "<polygon fill=\"black\" stroke=\"black\" points=\"621.01,-266.54 627.5,-258.16 617.2,-260.67 621.01,-266.54\"/>\n",
       "</g>\n",
       "<!-- 34 -->\n",
       "<g id=\"node35\" class=\"node\">\n",
       "<title>34</title>\n",
       "<polygon fill=\"none\" stroke=\"black\" points=\"589,-183 464,-183 464,-147 589,-147 589,-183\"/>\n",
       "<text text-anchor=\"middle\" x=\"526.5\" y=\"-161.3\" font-family=\"Helvetica,sans-Serif\" font-size=\"14.00\">class = Canada</text>\n",
       "</g>\n",
       "<!-- 33&#45;&gt;34 -->\n",
       "<g id=\"edge34\" class=\"edge\">\n",
       "<title>33&#45;&gt;34</title>\n",
       "<path fill=\"none\" stroke=\"black\" d=\"M622.95,-219.83C605.79,-210.25 584.59,-198.42 566.44,-188.29\"/>\n",
       "<polygon fill=\"black\" stroke=\"black\" points=\"567.7,-184.99 557.27,-183.17 564.29,-191.1 567.7,-184.99\"/>\n",
       "</g>\n",
       "<!-- 35 -->\n",
       "<g id=\"node36\" class=\"node\">\n",
       "<title>35</title>\n",
       "<polygon fill=\"none\" stroke=\"black\" points=\"708,-183 607,-183 607,-147 708,-147 708,-183\"/>\n",
       "<text text-anchor=\"middle\" x=\"657.5\" y=\"-161.3\" font-family=\"Helvetica,sans-Serif\" font-size=\"14.00\">class = USA</text>\n",
       "</g>\n",
       "<!-- 33&#45;&gt;35 -->\n",
       "<g id=\"edge35\" class=\"edge\">\n",
       "<title>33&#45;&gt;35</title>\n",
       "<path fill=\"none\" stroke=\"black\" d=\"M656,-219.83C656.23,-211.89 656.49,-202.41 656.73,-193.63\"/>\n",
       "<polygon fill=\"black\" stroke=\"black\" points=\"660.24,-193.51 657.02,-183.42 653.24,-193.32 660.24,-193.51\"/>\n",
       "</g>\n",
       "<!-- 38 -->\n",
       "<g id=\"node39\" class=\"node\">\n",
       "<title>38</title>\n",
       "<polygon fill=\"none\" stroke=\"black\" points=\"870.5,-480 718.5,-480 718.5,-442 870.5,-442 870.5,-480\"/>\n",
       "<text text-anchor=\"middle\" x=\"794.5\" y=\"-464.8\" font-family=\"Helvetica,sans-Serif\" font-size=\"14.00\">latitude &lt;= 45.195</text>\n",
       "<text text-anchor=\"middle\" x=\"794.5\" y=\"-449.8\" font-family=\"Helvetica,sans-Serif\" font-size=\"14.00\">class = USA</text>\n",
       "</g>\n",
       "<!-- 37&#45;&gt;38 -->\n",
       "<g id=\"edge38\" class=\"edge\">\n",
       "<title>37&#45;&gt;38</title>\n",
       "<path fill=\"none\" stroke=\"black\" d=\"M794.5,-515.83C794.5,-508.13 794.5,-498.97 794.5,-490.42\"/>\n",
       "<polygon fill=\"black\" stroke=\"black\" points=\"798,-490.41 794.5,-480.41 791,-490.41 798,-490.41\"/>\n",
       "</g>\n",
       "<!-- 53 -->\n",
       "<g id=\"node54\" class=\"node\">\n",
       "<title>53</title>\n",
       "<polygon fill=\"none\" stroke=\"black\" points=\"1014,-479 889,-479 889,-443 1014,-443 1014,-479\"/>\n",
       "<text text-anchor=\"middle\" x=\"951.5\" y=\"-457.3\" font-family=\"Helvetica,sans-Serif\" font-size=\"14.00\">class = Canada</text>\n",
       "</g>\n",
       "<!-- 37&#45;&gt;53 -->\n",
       "<g id=\"edge53\" class=\"edge\">\n",
       "<title>37&#45;&gt;53</title>\n",
       "<path fill=\"none\" stroke=\"black\" d=\"M834.12,-515.83C855.66,-505.95 882.42,-493.68 904.96,-483.35\"/>\n",
       "<polygon fill=\"black\" stroke=\"black\" points=\"906.69,-486.4 914.32,-479.05 903.78,-480.04 906.69,-486.4\"/>\n",
       "</g>\n",
       "<!-- 39 -->\n",
       "<g id=\"node40\" class=\"node\">\n",
       "<title>39</title>\n",
       "<polygon fill=\"none\" stroke=\"black\" points=\"845,-405 744,-405 744,-369 845,-369 845,-405\"/>\n",
       "<text text-anchor=\"middle\" x=\"794.5\" y=\"-383.3\" font-family=\"Helvetica,sans-Serif\" font-size=\"14.00\">class = USA</text>\n",
       "</g>\n",
       "<!-- 38&#45;&gt;39 -->\n",
       "<g id=\"edge39\" class=\"edge\">\n",
       "<title>38&#45;&gt;39</title>\n",
       "<path fill=\"none\" stroke=\"black\" d=\"M794.5,-441.83C794.5,-433.89 794.5,-424.41 794.5,-415.63\"/>\n",
       "<polygon fill=\"black\" stroke=\"black\" points=\"798,-415.42 794.5,-405.42 791,-415.42 798,-415.42\"/>\n",
       "</g>\n",
       "<!-- 40 -->\n",
       "<g id=\"node41\" class=\"node\">\n",
       "<title>40</title>\n",
       "<polygon fill=\"none\" stroke=\"black\" points=\"1025,-406 864,-406 864,-368 1025,-368 1025,-406\"/>\n",
       "<text text-anchor=\"middle\" x=\"944.5\" y=\"-390.8\" font-family=\"Helvetica,sans-Serif\" font-size=\"14.00\">longitude &lt;= &#45;67.93</text>\n",
       "<text text-anchor=\"middle\" x=\"944.5\" y=\"-375.8\" font-family=\"Helvetica,sans-Serif\" font-size=\"14.00\">class = Canada</text>\n",
       "</g>\n",
       "<!-- 38&#45;&gt;40 -->\n",
       "<g id=\"edge40\" class=\"edge\">\n",
       "<title>38&#45;&gt;40</title>\n",
       "<path fill=\"none\" stroke=\"black\" d=\"M832.35,-441.83C852.23,-432.29 876.78,-420.51 897.83,-410.4\"/>\n",
       "<polygon fill=\"black\" stroke=\"black\" points=\"899.42,-413.52 906.92,-406.04 896.39,-407.21 899.42,-413.52\"/>\n",
       "</g>\n",
       "<!-- 41 -->\n",
       "<g id=\"node42\" class=\"node\">\n",
       "<title>41</title>\n",
       "<polygon fill=\"none\" stroke=\"black\" points=\"1029.5,-332 859.5,-332 859.5,-294 1029.5,-294 1029.5,-332\"/>\n",
       "<text text-anchor=\"middle\" x=\"944.5\" y=\"-316.8\" font-family=\"Helvetica,sans-Serif\" font-size=\"14.00\">longitude &lt;= &#45;68.325</text>\n",
       "<text text-anchor=\"middle\" x=\"944.5\" y=\"-301.8\" font-family=\"Helvetica,sans-Serif\" font-size=\"14.00\">class = USA</text>\n",
       "</g>\n",
       "<!-- 40&#45;&gt;41 -->\n",
       "<g id=\"edge41\" class=\"edge\">\n",
       "<title>40&#45;&gt;41</title>\n",
       "<path fill=\"none\" stroke=\"black\" d=\"M944.5,-367.83C944.5,-360.13 944.5,-350.97 944.5,-342.42\"/>\n",
       "<polygon fill=\"black\" stroke=\"black\" points=\"948,-342.41 944.5,-332.41 941,-342.41 948,-342.41\"/>\n",
       "</g>\n",
       "<!-- 48 -->\n",
       "<g id=\"node49\" class=\"node\">\n",
       "<title>48</title>\n",
       "<polygon fill=\"none\" stroke=\"black\" points=\"1200.5,-332 1048.5,-332 1048.5,-294 1200.5,-294 1200.5,-332\"/>\n",
       "<text text-anchor=\"middle\" x=\"1124.5\" y=\"-316.8\" font-family=\"Helvetica,sans-Serif\" font-size=\"14.00\">latitude &lt;= 45.565</text>\n",
       "<text text-anchor=\"middle\" x=\"1124.5\" y=\"-301.8\" font-family=\"Helvetica,sans-Serif\" font-size=\"14.00\">class = Canada</text>\n",
       "</g>\n",
       "<!-- 40&#45;&gt;48 -->\n",
       "<g id=\"edge48\" class=\"edge\">\n",
       "<title>40&#45;&gt;48</title>\n",
       "<path fill=\"none\" stroke=\"black\" d=\"M989.92,-367.83C1014.21,-358.12 1044.29,-346.08 1069.85,-335.86\"/>\n",
       "<polygon fill=\"black\" stroke=\"black\" points=\"1071.42,-339 1079.41,-332.04 1068.82,-332.5 1071.42,-339\"/>\n",
       "</g>\n",
       "<!-- 42 -->\n",
       "<g id=\"node43\" class=\"node\">\n",
       "<title>42</title>\n",
       "<polygon fill=\"none\" stroke=\"black\" points=\"901.5,-258 749.5,-258 749.5,-220 901.5,-220 901.5,-258\"/>\n",
       "<text text-anchor=\"middle\" x=\"825.5\" y=\"-242.8\" font-family=\"Helvetica,sans-Serif\" font-size=\"14.00\">latitude &lt;= 47.256</text>\n",
       "<text text-anchor=\"middle\" x=\"825.5\" y=\"-227.8\" font-family=\"Helvetica,sans-Serif\" font-size=\"14.00\">class = Canada</text>\n",
       "</g>\n",
       "<!-- 41&#45;&gt;42 -->\n",
       "<g id=\"edge42\" class=\"edge\">\n",
       "<title>41&#45;&gt;42</title>\n",
       "<path fill=\"none\" stroke=\"black\" d=\"M914.47,-293.83C899.25,-284.62 880.59,-273.33 864.29,-263.47\"/>\n",
       "<polygon fill=\"black\" stroke=\"black\" points=\"865.89,-260.34 855.52,-258.16 862.26,-266.33 865.89,-260.34\"/>\n",
       "</g>\n",
       "<!-- 47 -->\n",
       "<g id=\"node48\" class=\"node\">\n",
       "<title>47</title>\n",
       "<polygon fill=\"none\" stroke=\"black\" points=\"1021,-257 920,-257 920,-221 1021,-221 1021,-257\"/>\n",
       "<text text-anchor=\"middle\" x=\"970.5\" y=\"-235.3\" font-family=\"Helvetica,sans-Serif\" font-size=\"14.00\">class = USA</text>\n",
       "</g>\n",
       "<!-- 41&#45;&gt;47 -->\n",
       "<g id=\"edge47\" class=\"edge\">\n",
       "<title>41&#45;&gt;47</title>\n",
       "<path fill=\"none\" stroke=\"black\" d=\"M951.06,-293.83C953.99,-285.72 957.5,-275.99 960.73,-267.05\"/>\n",
       "<polygon fill=\"black\" stroke=\"black\" points=\"964.11,-268.01 964.21,-257.42 957.52,-265.63 964.11,-268.01\"/>\n",
       "</g>\n",
       "<!-- 43 -->\n",
       "<g id=\"node44\" class=\"node\">\n",
       "<title>43</title>\n",
       "<polygon fill=\"none\" stroke=\"black\" points=\"860,-183 735,-183 735,-147 860,-147 860,-183\"/>\n",
       "<text text-anchor=\"middle\" x=\"797.5\" y=\"-161.3\" font-family=\"Helvetica,sans-Serif\" font-size=\"14.00\">class = Canada</text>\n",
       "</g>\n",
       "<!-- 42&#45;&gt;43 -->\n",
       "<g id=\"edge43\" class=\"edge\">\n",
       "<title>42&#45;&gt;43</title>\n",
       "<path fill=\"none\" stroke=\"black\" d=\"M818.43,-219.83C815.25,-211.63 811.42,-201.78 807.91,-192.76\"/>\n",
       "<polygon fill=\"black\" stroke=\"black\" points=\"811.16,-191.47 804.27,-183.42 804.64,-194.01 811.16,-191.47\"/>\n",
       "</g>\n",
       "<!-- 44 -->\n",
       "<g id=\"node45\" class=\"node\">\n",
       "<title>44</title>\n",
       "<polygon fill=\"none\" stroke=\"black\" points=\"1048.5,-184 878.5,-184 878.5,-146 1048.5,-146 1048.5,-184\"/>\n",
       "<text text-anchor=\"middle\" x=\"963.5\" y=\"-168.8\" font-family=\"Helvetica,sans-Serif\" font-size=\"14.00\">longitude &lt;= &#45;68.459</text>\n",
       "<text text-anchor=\"middle\" x=\"963.5\" y=\"-153.8\" font-family=\"Helvetica,sans-Serif\" font-size=\"14.00\">class = USA</text>\n",
       "</g>\n",
       "<!-- 42&#45;&gt;44 -->\n",
       "<g id=\"edge44\" class=\"edge\">\n",
       "<title>42&#45;&gt;44</title>\n",
       "<path fill=\"none\" stroke=\"black\" d=\"M860.32,-219.83C878.3,-210.45 900.42,-198.91 919.56,-188.92\"/>\n",
       "<polygon fill=\"black\" stroke=\"black\" points=\"921.44,-191.89 928.69,-184.16 918.2,-185.69 921.44,-191.89\"/>\n",
       "</g>\n",
       "<!-- 45 -->\n",
       "<g id=\"node46\" class=\"node\">\n",
       "<title>45</title>\n",
       "<polygon fill=\"none\" stroke=\"black\" points=\"948,-109 847,-109 847,-73 948,-73 948,-109\"/>\n",
       "<text text-anchor=\"middle\" x=\"897.5\" y=\"-87.3\" font-family=\"Helvetica,sans-Serif\" font-size=\"14.00\">class = USA</text>\n",
       "</g>\n",
       "<!-- 44&#45;&gt;45 -->\n",
       "<g id=\"edge45\" class=\"edge\">\n",
       "<title>44&#45;&gt;45</title>\n",
       "<path fill=\"none\" stroke=\"black\" d=\"M946.85,-145.83C938.85,-137.11 929.14,-126.52 920.46,-117.05\"/>\n",
       "<polygon fill=\"black\" stroke=\"black\" points=\"922.8,-114.42 913.47,-109.42 917.64,-119.15 922.8,-114.42\"/>\n",
       "</g>\n",
       "<!-- 46 -->\n",
       "<g id=\"node47\" class=\"node\">\n",
       "<title>46</title>\n",
       "<polygon fill=\"none\" stroke=\"black\" points=\"1091,-109 966,-109 966,-73 1091,-73 1091,-109\"/>\n",
       "<text text-anchor=\"middle\" x=\"1028.5\" y=\"-87.3\" font-family=\"Helvetica,sans-Serif\" font-size=\"14.00\">class = Canada</text>\n",
       "</g>\n",
       "<!-- 44&#45;&gt;46 -->\n",
       "<g id=\"edge46\" class=\"edge\">\n",
       "<title>44&#45;&gt;46</title>\n",
       "<path fill=\"none\" stroke=\"black\" d=\"M979.9,-145.83C987.78,-137.11 997.34,-126.52 1005.89,-117.05\"/>\n",
       "<polygon fill=\"black\" stroke=\"black\" points=\"1008.67,-119.19 1012.78,-109.42 1003.48,-114.5 1008.67,-119.19\"/>\n",
       "</g>\n",
       "<!-- 49 -->\n",
       "<g id=\"node50\" class=\"node\">\n",
       "<title>49</title>\n",
       "<polygon fill=\"none\" stroke=\"black\" points=\"1209.5,-258 1039.5,-258 1039.5,-220 1209.5,-220 1209.5,-258\"/>\n",
       "<text text-anchor=\"middle\" x=\"1124.5\" y=\"-242.8\" font-family=\"Helvetica,sans-Serif\" font-size=\"14.00\">longitude &lt;= &#45;67.355</text>\n",
       "<text text-anchor=\"middle\" x=\"1124.5\" y=\"-227.8\" font-family=\"Helvetica,sans-Serif\" font-size=\"14.00\">class = Canada</text>\n",
       "</g>\n",
       "<!-- 48&#45;&gt;49 -->\n",
       "<g id=\"edge49\" class=\"edge\">\n",
       "<title>48&#45;&gt;49</title>\n",
       "<path fill=\"none\" stroke=\"black\" d=\"M1124.5,-293.83C1124.5,-286.13 1124.5,-276.97 1124.5,-268.42\"/>\n",
       "<polygon fill=\"black\" stroke=\"black\" points=\"1128,-268.41 1124.5,-258.41 1121,-268.41 1128,-268.41\"/>\n",
       "</g>\n",
       "<!-- 52 -->\n",
       "<g id=\"node53\" class=\"node\">\n",
       "<title>52</title>\n",
       "<polygon fill=\"none\" stroke=\"black\" points=\"1353,-257 1228,-257 1228,-221 1353,-221 1353,-257\"/>\n",
       "<text text-anchor=\"middle\" x=\"1290.5\" y=\"-235.3\" font-family=\"Helvetica,sans-Serif\" font-size=\"14.00\">class = Canada</text>\n",
       "</g>\n",
       "<!-- 48&#45;&gt;52 -->\n",
       "<g id=\"edge52\" class=\"edge\">\n",
       "<title>48&#45;&gt;52</title>\n",
       "<path fill=\"none\" stroke=\"black\" d=\"M1166.39,-293.83C1189.37,-283.86 1217.97,-271.46 1241.92,-261.07\"/>\n",
       "<polygon fill=\"black\" stroke=\"black\" points=\"1243.41,-264.24 1251.19,-257.05 1240.63,-257.82 1243.41,-264.24\"/>\n",
       "</g>\n",
       "<!-- 50 -->\n",
       "<g id=\"node51\" class=\"node\">\n",
       "<title>50</title>\n",
       "<polygon fill=\"none\" stroke=\"black\" points=\"1172,-183 1071,-183 1071,-147 1172,-147 1172,-183\"/>\n",
       "<text text-anchor=\"middle\" x=\"1121.5\" y=\"-161.3\" font-family=\"Helvetica,sans-Serif\" font-size=\"14.00\">class = USA</text>\n",
       "</g>\n",
       "<!-- 49&#45;&gt;50 -->\n",
       "<g id=\"edge50\" class=\"edge\">\n",
       "<title>49&#45;&gt;50</title>\n",
       "<path fill=\"none\" stroke=\"black\" d=\"M1123.74,-219.83C1123.41,-211.89 1123.02,-202.41 1122.65,-193.63\"/>\n",
       "<polygon fill=\"black\" stroke=\"black\" points=\"1126.14,-193.26 1122.23,-183.42 1119.15,-193.55 1126.14,-193.26\"/>\n",
       "</g>\n",
       "<!-- 51 -->\n",
       "<g id=\"node52\" class=\"node\">\n",
       "<title>51</title>\n",
       "<polygon fill=\"none\" stroke=\"black\" points=\"1315,-183 1190,-183 1190,-147 1315,-147 1315,-183\"/>\n",
       "<text text-anchor=\"middle\" x=\"1252.5\" y=\"-161.3\" font-family=\"Helvetica,sans-Serif\" font-size=\"14.00\">class = Canada</text>\n",
       "</g>\n",
       "<!-- 49&#45;&gt;51 -->\n",
       "<g id=\"edge51\" class=\"edge\">\n",
       "<title>49&#45;&gt;51</title>\n",
       "<path fill=\"none\" stroke=\"black\" d=\"M1156.8,-219.83C1173.83,-210.25 1194.86,-198.42 1212.87,-188.29\"/>\n",
       "<polygon fill=\"black\" stroke=\"black\" points=\"1214.97,-191.12 1221.97,-183.17 1211.54,-185.02 1214.97,-191.12\"/>\n",
       "</g>\n",
       "</g>\n",
       "</svg>\n"
      ],
      "text/plain": [
       "<graphviz.sources.Source at 0x7f16ee0123b0>"
      ]
     },
     "execution_count": 23,
     "metadata": {},
     "output_type": "execute_result"
    }
   ],
   "source": [
    "model = DecisionTreeClassifier()\n",
    "model.fit(X_train, y_train)\n",
    "display_tree(X_train.columns, model)"
   ]
  },
  {
   "cell_type": "markdown",
   "metadata": {
    "slideshow": {
     "slide_type": "slide"
    }
   },
   "source": [
    "Let's examine the train and test accuracies with the split now."
   ]
  },
  {
   "cell_type": "code",
   "execution_count": 24,
   "metadata": {
    "slideshow": {
     "slide_type": "-"
    }
   },
   "outputs": [
    {
     "name": "stdout",
     "output_type": "stream",
     "text": [
      "Train accuracy:  1.000\n",
      "Test accuracy:   0.762\n"
     ]
    }
   ],
   "source": [
    "print(\"Train accuracy:  %0.3f\" % model.score(X_train, y_train))\n",
    "print(\"Test accuracy:   %0.3f\" % model.score(X_test, y_test))"
   ]
  },
  {
   "cell_type": "code",
   "execution_count": 25,
   "metadata": {},
   "outputs": [
    {
     "name": "stderr",
     "output_type": "stream",
     "text": [
      "/home/moveisi/miniconda3/envs/cpsc330/lib/python3.10/site-packages/sklearn/base.py:450: UserWarning: X does not have valid feature names, but DecisionTreeClassifier was fitted with feature names\n",
      "  warnings.warn(\n"
     ]
    },
    {
     "data": {
      "image/png": "[encoded data removed]",
      "text/plain": [
       "<Figure size 1152x432 with 2 Axes>"
      ]
     },
     "metadata": {},
     "output_type": "display_data"
    }
   ],
   "source": [
    "plot_tree_decision_boundary_and_tree(model, X, y, height=6, width=16, eps=10)"
   ]
  },
  {
   "cell_type": "code",
   "execution_count": 26,
   "metadata": {
    "slideshow": {
     "slide_type": "slide"
    }
   },
   "outputs": [
    {
     "name": "stderr",
     "output_type": "stream",
     "text": [
      "/home/moveisi/miniconda3/envs/cpsc330/lib/python3.10/site-packages/sklearn/base.py:450: UserWarning: X does not have valid feature names, but DecisionTreeClassifier was fitted with feature names\n",
      "  warnings.warn(\n",
      "/home/moveisi/miniconda3/envs/cpsc330/lib/python3.10/site-packages/sklearn/base.py:450: UserWarning: X does not have valid feature names, but DecisionTreeClassifier was fitted with feature names\n",
      "  warnings.warn(\n"
     ]
    },
    {
     "data": {
      "image/png": "[encoded data removed]",
      "text/plain": [
       "<Figure size 1152x432 with 2 Axes>"
      ]
     },
     "metadata": {},
     "output_type": "display_data"
    }
   ],
   "source": [
    "fig, ax = plt.subplots(1, 2, figsize=(16, 6), subplot_kw={\"xticks\": (), \"yticks\": ()})\n",
    "plot_tree_decision_boundary(\n",
    "    model,\n",
    "    X_train,\n",
    "    y_train,\n",
    "    eps=10,\n",
    "    x_label=\"longitude\",\n",
    "    y_label=\"latitude\",\n",
    "    ax=ax[0],\n",
    "    title=\"Decision tree model on the train data\",\n",
    ")\n",
    "plot_tree_decision_boundary(\n",
    "    model,\n",
    "    X_test,\n",
    "    y_test,\n",
    "    eps=10,\n",
    "    x_label=\"longitude\",\n",
    "    y_label=\"latitude\",\n",
    "    ax=ax[1],\n",
    "    title=\"Decision tree model on the test data\",\n",
    ")"
   ]
  },
  {
   "cell_type": "markdown",
   "metadata": {
    "slideshow": {
     "slide_type": "slide"
    }
   },
   "source": [
    "- Useful arguments of `train_test_split`: \n",
    "    - `test_size`\n",
    "    - `train_size` \n",
    "    - `random_state`"
   ]
  },
  {
   "cell_type": "markdown",
   "metadata": {
    "slideshow": {
     "slide_type": "slide"
    }
   },
   "source": [
    "#### `test_size`, `train_size` arguments\n",
    "\n",
    "- Let's us specify how we want to split the data. \n",
    "- We can specify either of the two. See the documentation [here](https://scikit-learn.org/stable/modules/generated/sklearn.model_selection.train_test_split.html).\n",
    "- There is no hard and fast rule on what split sizes should we use. \n",
    "    - It depends upon how much data is available to you. \n",
    "- Some common splits are 90/10, 80/20, 70/30 (training/test).\n",
    "- In the above example, we used 80/20 split. "
   ]
  },
  {
   "cell_type": "markdown",
   "metadata": {
    "slideshow": {
     "slide_type": "slide"
    }
   },
   "source": [
    "#### `random_state` argument\n",
    "\n",
    "- The data is shuffled before splitting which is crucial step. (You will explore this in the lab.) \n",
    "- The `random_state` argument controls this shuffling. \n",
    "- In the example above we used `random_state=123`. If you run this notebook with the same `random_state` it should give you exactly the same split. \n",
    "    - Useful when you want reproducible results. "
   ]
  },
  {
   "cell_type": "markdown",
   "metadata": {
    "slideshow": {
     "slide_type": "slide"
    }
   },
   "source": [
    "### Train/validation/test split\n",
    "\n",
    "- Some of you may have heard of \"**validation**\" data.\n",
    "- Sometimes it's a good idea to have a separate data for **hyperparameter tuning**.\n",
    "\n",
    "![](img/train-valid-test-split.png)\n",
    "\n",
    "<!-- <img src='img/train-valid-test-split.png' width=\"1500\" height=\"1500\" /> -->"
   ]
  },
  {
   "cell_type": "markdown",
   "metadata": {
    "slideshow": {
     "slide_type": "slide"
    }
   },
   "source": [
    "- We will try to use \"validation\" to refer to data where we have access to the target values.\n",
    "  - But, unlike the training data,\n",
    "    - we only use this for hyperparameter tuning and model assessment; \n",
    "    - we don't pass these into `fit`.\n",
    "- We will try to use \"test\" to refer to data where we have access to the target values \n",
    "  - But, unlike training and validation data,\n",
    "    - we neither use it in training nor hyperparameter optimization. \n",
    "  - We only use it **once** to evaluate the performance of the best performing model on the validation set.   \n",
    "  - We lock it in a \"vault\" until we're ready to evaluate. \n",
    "\n",
    "Note that there isn't good concensus on the terminology of what is validation and what is test. "
   ]
  },
  {
   "cell_type": "markdown",
   "metadata": {
    "slideshow": {
     "slide_type": "skip"
    }
   },
   "source": [
    " Note \n",
    "Validation data is also referred to as **development data** or **dev set** for short.  \n"
   ]
  },
  {
   "cell_type": "markdown",
   "metadata": {
    "slideshow": {
     "slide_type": "slide"
    }
   },
   "source": [
    "### \"Deployment\" data\n",
    "\n",
    "- After we build and finalize a model, we deploy it, and then the model deals with the data in the wild. \n",
    "- We will use \"deployment\" to refer to this data, where we do **not** have access to the target values.\n",
    "- Deployment error is what we _really_ care about.\n",
    "- We use validation and test errors as proxies for deployment error, and we hope they are similar.\n",
    "- So, if our model does well on the validation and test data, we hope it will do well on deployment data."
   ]
  },
  {
   "cell_type": "markdown",
   "metadata": {
    "slideshow": {
     "slide_type": "slide"
    }
   },
   "source": [
    "### Summary of train, validation, test, and deployment data\n",
    "\n",
    "|         | `fit` | `score` | `predict` |\n",
    "|----------|-------|---------|-----------|\n",
    "| Train    | ✔️      | ✔️      | ✔️         |\n",
    "| Validation |      | ✔️      | ✔️         |\n",
    "| Test    |       |  once   | once         |\n",
    "| Deployment    |       |       | ✔️         |\n",
    "\n",
    "You can typically expect $E_{train} < E_{validation} < E_{test} < E_{deployment}$."
   ]
  },
  {
   "cell_type": "markdown",
   "metadata": {
    "slideshow": {
     "slide_type": "slide"
    }
   },
   "source": [
    "### ❓❓ Questions on generalization and data splitting"
   ]
  },
  {
   "cell_type": "markdown",
   "metadata": {
    "slideshow": {
     "slide_type": "slide"
    },
    "tags": []
   },
   "source": [
    " Exercise 3.1: True or False\n",
    "1. A decision tree model with no depth is likely to perform very well on the deployment data. \n",
    "2. Data splitting helps us generalize our model better. \n",
    "3. Deployment data is used at the very end and only scored once.  \n",
    "4. Validation data could be used for hyperparameter optimization. \n",
    "    "
   ]
  },
  {
   "cell_type": "markdown",
   "metadata": {
    "slideshow": {
     "slide_type": "skip"
    },
    "tags": []
   },
   "source": [
    " Exercise 3.1: Solution\n",
    "1. False\n",
    "2. False. Data splitting helps us **assess** how well our model would generalize. \n",
    "3. False. You cannot score on the deployment data as there are no labels available.\n",
    "4. True\n"
   ]
  },
  {
   "cell_type": "markdown",
   "metadata": {
    "slideshow": {
     "slide_type": "slide"
    },
    "tags": []
   },
   "source": [
    " Exercise 3.2: Questions for discussion\n",
    "1. Why you can typically expect $E_{train}\\  < E_{validation}\\  < E_{test}\\  < E_{deployment}\\ $.\n",
    "2. Discuss the consequences of not shuffling before splitting the data in `train_test_split`. \n",
    "    "
   ]
  },
  {
   "cell_type": "markdown",
   "metadata": {
    "slideshow": {
     "slide_type": "skip"
    }
   },
   "source": [
    "<br><br><br><br>"
   ]
  },
  {
   "cell_type": "markdown",
   "metadata": {
    "slideshow": {
     "slide_type": "slide"
    }
   },
   "source": [
    "## Cross-validation [[video](https://youtu.be/4cv8VYonepA)]"
   ]
  },
  {
   "cell_type": "markdown",
   "metadata": {
    "slideshow": {
     "slide_type": "slide"
    }
   },
   "source": [
    "### Problems with single train/validation split\n",
    "\n",
    "- Only using a portion of your data for training and only a portion for validation.\n",
    "- If your dataset is small you might end up with a tiny training and/or validation set.\n",
    "- You might be unlucky with your splits such that they don't align well or don't well represent your test data.\n",
    "\n",
    "![](img/train-valid-test-split.png)\n",
    "\n",
    "<!-- <img src='img/train-valid-test-split.png' width=\"1500\" height=\"1500\" /> -->"
   ]
  },
  {
   "cell_type": "markdown",
   "metadata": {
    "slideshow": {
     "slide_type": "slide"
    }
   },
   "source": [
    "### Cross-validation to the rescue!! \n",
    "\n",
    "- Cross-validation provides a solution to this problem. \n",
    "- Split the data into $k$ folds ($k>2$, often $k=10$). In the picture below $k=4$.\n",
    "- Each \"fold\" gets a turn at being the validation set.\n",
    "- Note that cross-validation doesn't shuffle the data; it's done in `train_test_split`.\n",
    "\n",
    "![](img/cross-validation.png)\n",
    "<!-- <img src='img/cross-validation.png' width=\"1500\"> -->"
   ]
  },
  {
   "cell_type": "markdown",
   "metadata": {
    "slideshow": {
     "slide_type": "slide"
    }
   },
   "source": [
    "- Each fold gives a score and we usually average our $k$ results. \n",
    "- It's better to examine the variation in the scores across folds.  \n",
    "- Gives a more **robust** measure of error on unseen data."
   ]
  },
  {
   "cell_type": "markdown",
   "metadata": {
    "slideshow": {
     "slide_type": "slide"
    }
   },
   "source": [
    "### Cross-validation using `scikit-learn`"
   ]
  },
  {
   "cell_type": "code",
   "execution_count": 27,
   "metadata": {},
   "outputs": [],
   "source": [
    "from sklearn.model_selection import cross_val_score, cross_validate"
   ]
  },
  {
   "cell_type": "markdown",
   "metadata": {},
   "source": [
    "#### `cross_val_score`"
   ]
  },
  {
   "cell_type": "code",
   "execution_count": 28,
   "metadata": {},
   "outputs": [
    {
     "data": {
      "text/plain": [
       "array([0.76470588, 0.82352941, 0.70588235, 0.94117647, 0.82352941,\n",
       "       0.82352941, 0.70588235, 0.9375    , 0.9375    , 0.9375    ])"
      ]
     },
     "execution_count": 28,
     "metadata": {},
     "output_type": "execute_result"
    }
   ],
   "source": [
    "model = DecisionTreeClassifier(max_depth=4)\n",
    "cv_scores = cross_val_score(model, X_train, y_train, cv=10)\n",
    "cv_scores"
   ]
  },
  {
   "cell_type": "code",
   "execution_count": 29,
   "metadata": {},
   "outputs": [
    {
     "name": "stdout",
     "output_type": "stream",
     "text": [
      "Average cross-validation score = 0.84\n",
      "Standard deviation of cross-validation score = 0.09\n"
     ]
    }
   ],
   "source": [
    "print(f\"Average cross-validation score = {np.mean(cv_scores):.2f}\")\n",
    "print(f\"Standard deviation of cross-validation score = {np.std(cv_scores):.2f}\")"
   ]
  },
  {
   "cell_type": "markdown",
   "metadata": {
    "slideshow": {
     "slide_type": "slide"
    }
   },
   "source": [
    "Under the hood\n",
    "\n",
    "- It creates `cv` folds on the data.\n",
    "- In each fold, it fits the model on the training portion and scores on the validation portion. \n",
    "- The output is a list of validation scores in each fold."
   ]
  },
  {
   "cell_type": "markdown",
   "metadata": {
    "slideshow": {
     "slide_type": "slide"
    }
   },
   "source": [
    "#### `cross_validate`\n",
    "\n",
    "- Similar to `cross_val_score` but more powerful.\n",
    "- Let's us access training and validation scores.  "
   ]
  },
  {
   "cell_type": "code",
   "execution_count": 30,
   "metadata": {},
   "outputs": [
    {
     "data": {
      "text/html": [
       "<div>\n",
       "<style scoped>\n",
       "    .dataframe tbody tr th:only-of-type {\n",
       "        vertical-align: middle;\n",
       "    }\n",
       "\n",
       "    .dataframe tbody tr th {\n",
       "        vertical-align: top;\n",
       "    }\n",
       "\n",
       "    .dataframe thead th {\n",
       "        text-align: right;\n",
       "    }\n",
       "</style>\n",
       "<table border=\"1\" class=\"dataframe\">\n",
       "  <thead>\n",
       "    <tr style=\"text-align: right;\">\n",
       "      <th></th>\n",
       "      <th>fit_time</th>\n",
       "      <th>score_time</th>\n",
       "      <th>test_score</th>\n",
       "      <th>train_score</th>\n",
       "    </tr>\n",
       "  </thead>\n",
       "  <tbody>\n",
       "    <tr>\n",
       "      <th>0</th>\n",
       "      <td>0.005807</td>\n",
       "      <td>0.002075</td>\n",
       "      <td>0.764706</td>\n",
       "      <td>0.913333</td>\n",
       "    </tr>\n",
       "    <tr>\n",
       "      <th>1</th>\n",
       "      <td>0.003961</td>\n",
       "      <td>0.002012</td>\n",
       "      <td>0.823529</td>\n",
       "      <td>0.906667</td>\n",
       "    </tr>\n",
       "    <tr>\n",
       "      <th>2</th>\n",
       "      <td>0.002548</td>\n",
       "      <td>0.001966</td>\n",
       "      <td>0.705882</td>\n",
       "      <td>0.906667</td>\n",
       "    </tr>\n",
       "    <tr>\n",
       "      <th>3</th>\n",
       "      <td>0.004474</td>\n",
       "      <td>0.002920</td>\n",
       "      <td>0.941176</td>\n",
       "      <td>0.900000</td>\n",
       "    </tr>\n",
       "    <tr>\n",
       "      <th>4</th>\n",
       "      <td>0.004187</td>\n",
       "      <td>0.002886</td>\n",
       "      <td>0.823529</td>\n",
       "      <td>0.906667</td>\n",
       "    </tr>\n",
       "    <tr>\n",
       "      <th>5</th>\n",
       "      <td>0.005168</td>\n",
       "      <td>0.003767</td>\n",
       "      <td>0.823529</td>\n",
       "      <td>0.913333</td>\n",
       "    </tr>\n",
       "    <tr>\n",
       "      <th>6</th>\n",
       "      <td>0.004471</td>\n",
       "      <td>0.002066</td>\n",
       "      <td>0.705882</td>\n",
       "      <td>0.920000</td>\n",
       "    </tr>\n",
       "    <tr>\n",
       "      <th>7</th>\n",
       "      <td>0.002655</td>\n",
       "      <td>0.002517</td>\n",
       "      <td>0.937500</td>\n",
       "      <td>0.900662</td>\n",
       "    </tr>\n",
       "    <tr>\n",
       "      <th>8</th>\n",
       "      <td>0.004535</td>\n",
       "      <td>0.003036</td>\n",
       "      <td>0.937500</td>\n",
       "      <td>0.900662</td>\n",
       "    </tr>\n",
       "    <tr>\n",
       "      <th>9</th>\n",
       "      <td>0.004654</td>\n",
       "      <td>0.002871</td>\n",
       "      <td>0.937500</td>\n",
       "      <td>0.900662</td>\n",
       "    </tr>\n",
       "  </tbody>\n",
       "</table>\n",
       "</div>"
      ],
      "text/plain": [
       "   fit_time  score_time  test_score  train_score\n",
       "0  0.005807    0.002075    0.764706     0.913333\n",
       "1  0.003961    0.002012    0.823529     0.906667\n",
       "2  0.002548    0.001966    0.705882     0.906667\n",
       "3  0.004474    0.002920    0.941176     0.900000\n",
       "4  0.004187    0.002886    0.823529     0.906667\n",
       "5  0.005168    0.003767    0.823529     0.913333\n",
       "6  0.004471    0.002066    0.705882     0.920000\n",
       "7  0.002655    0.002517    0.937500     0.900662\n",
       "8  0.004535    0.003036    0.937500     0.900662\n",
       "9  0.004654    0.002871    0.937500     0.900662"
      ]
     },
     "execution_count": 30,
     "metadata": {},
     "output_type": "execute_result"
    }
   ],
   "source": [
    "scores = cross_validate(\n",
    "    model, X_train, y_train, cv=10, return_train_score=True)\n",
    "\n",
    "pd.DataFrame(scores)"
   ]
  },
  {
   "cell_type": "code",
   "execution_count": 31,
   "metadata": {},
   "outputs": [
    {
     "data": {
      "text/html": [
       "<div>\n",
       "<style scoped>\n",
       "    .dataframe tbody tr th:only-of-type {\n",
       "        vertical-align: middle;\n",
       "    }\n",
       "\n",
       "    .dataframe tbody tr th {\n",
       "        vertical-align: top;\n",
       "    }\n",
       "\n",
       "    .dataframe thead th {\n",
       "        text-align: right;\n",
       "    }\n",
       "</style>\n",
       "<table border=\"1\" class=\"dataframe\">\n",
       "  <thead>\n",
       "    <tr style=\"text-align: right;\">\n",
       "      <th></th>\n",
       "      <th>0</th>\n",
       "    </tr>\n",
       "  </thead>\n",
       "  <tbody>\n",
       "    <tr>\n",
       "      <th>fit_time</th>\n",
       "      <td>0.004246</td>\n",
       "    </tr>\n",
       "    <tr>\n",
       "      <th>score_time</th>\n",
       "      <td>0.002612</td>\n",
       "    </tr>\n",
       "    <tr>\n",
       "      <th>test_score</th>\n",
       "      <td>0.840074</td>\n",
       "    </tr>\n",
       "    <tr>\n",
       "      <th>train_score</th>\n",
       "      <td>0.906865</td>\n",
       "    </tr>\n",
       "  </tbody>\n",
       "</table>\n",
       "</div>"
      ],
      "text/plain": [
       "                    0\n",
       "fit_time     0.004246\n",
       "score_time   0.002612\n",
       "test_score   0.840074\n",
       "train_score  0.906865"
      ]
     },
     "execution_count": 31,
     "metadata": {},
     "output_type": "execute_result"
    }
   ],
   "source": [
    "pd.DataFrame(pd.DataFrame(scores).mean())"
   ]
  },
  {
   "cell_type": "markdown",
   "metadata": {
    "slideshow": {
     "slide_type": "skip"
    }
   },
   "source": [
    "\n",
    "Keep in mind that cross-validation does not return a model. It is not a way to build a model that can be applied to new data. The purpose of cross-validation is to **evaluate** how well the model will generalize to unseen data. \n"
   ]
  },
  {
   "cell_type": "markdown",
   "metadata": {
    "slideshow": {
     "slide_type": "skip"
    }
   },
   "source": [
    "\n",
    "Note that both `cross_val_score` and `cross_validate` functions do not shuffle the data. Check out [`StratifiedKFold`](https://scikit-learn.org/stable/modules/generated/sklearn.model_selection.StratifiedKFold.html#sklearn.model_selection.StratifiedKFold), where proportions of classes is the same in each fold as they are in the whole dataset. By default, `sklearn` uses `StratifiedKFold` when carrying out cross-validation for classification problems. \n"
   ]
  },
  {
   "cell_type": "code",
   "execution_count": 32,
   "metadata": {
    "slideshow": {
     "slide_type": "skip"
    }
   },
   "outputs": [
    {
     "data": {
      "image/png": "[encoded data removed]",
      "text/plain": [
       "<Figure size 864x144 with 1 Axes>"
      ]
     },
     "metadata": {
      "needs_background": "light"
     },
     "output_type": "display_data"
    }
   ],
   "source": [
    "mglearn.plots.plot_cross_validation()"
   ]
  },
  {
   "cell_type": "markdown",
   "metadata": {
    "slideshow": {
     "slide_type": "slide"
    }
   },
   "source": [
    "### Our **typical supervised learning set up** is as follows: \n",
    "\n",
    "- We are **given** training data with features `X` and target `y`\n",
    "- We **split** the data into train and test portions: `X_train, y_train, X_test, y_test`\n",
    "- We carry out **hyperparameter optimization** using cross-validation on the train portion: `X_train` and `y_train`. \n",
    "- We **assess our best performing model** on the test portion: `X_test` and `y_test`.  \n",
    "- What we care about is the ***test error***, which tells us how well our model can be **generalized**.\n",
    "- If this **test error is \"reasonable\" we deploy** the model which will be used on new unseen examples.\n"
   ]
  },
  {
   "cell_type": "code",
   "execution_count": 33,
   "metadata": {
    "slideshow": {
     "slide_type": "slide"
    }
   },
   "outputs": [
    {
     "data": {
      "text/html": [
       "<div>\n",
       "<style scoped>\n",
       "    .dataframe tbody tr th:only-of-type {\n",
       "        vertical-align: middle;\n",
       "    }\n",
       "\n",
       "    .dataframe tbody tr th {\n",
       "        vertical-align: top;\n",
       "    }\n",
       "\n",
       "    .dataframe thead th {\n",
       "        text-align: right;\n",
       "    }\n",
       "</style>\n",
       "<table border=\"1\" class=\"dataframe\">\n",
       "  <thead>\n",
       "    <tr style=\"text-align: right;\">\n",
       "      <th></th>\n",
       "      <th>fit_time</th>\n",
       "      <th>score_time</th>\n",
       "      <th>test_score</th>\n",
       "      <th>train_score</th>\n",
       "    </tr>\n",
       "  </thead>\n",
       "  <tbody>\n",
       "    <tr>\n",
       "      <th>0</th>\n",
       "      <td>0.005490</td>\n",
       "      <td>0.003122</td>\n",
       "      <td>0.875000</td>\n",
       "      <td>1.000000</td>\n",
       "    </tr>\n",
       "    <tr>\n",
       "      <th>1</th>\n",
       "      <td>0.004841</td>\n",
       "      <td>0.002591</td>\n",
       "      <td>0.875000</td>\n",
       "      <td>0.992857</td>\n",
       "    </tr>\n",
       "    <tr>\n",
       "      <th>2</th>\n",
       "      <td>0.002673</td>\n",
       "      <td>0.002265</td>\n",
       "      <td>0.875000</td>\n",
       "      <td>1.000000</td>\n",
       "    </tr>\n",
       "    <tr>\n",
       "      <th>3</th>\n",
       "      <td>0.003045</td>\n",
       "      <td>0.001836</td>\n",
       "      <td>0.687500</td>\n",
       "      <td>1.000000</td>\n",
       "    </tr>\n",
       "    <tr>\n",
       "      <th>4</th>\n",
       "      <td>0.003526</td>\n",
       "      <td>0.003047</td>\n",
       "      <td>0.812500</td>\n",
       "      <td>1.000000</td>\n",
       "    </tr>\n",
       "    <tr>\n",
       "      <th>5</th>\n",
       "      <td>0.002868</td>\n",
       "      <td>0.001730</td>\n",
       "      <td>0.812500</td>\n",
       "      <td>1.000000</td>\n",
       "    </tr>\n",
       "    <tr>\n",
       "      <th>6</th>\n",
       "      <td>0.003112</td>\n",
       "      <td>0.002041</td>\n",
       "      <td>0.866667</td>\n",
       "      <td>0.985816</td>\n",
       "    </tr>\n",
       "    <tr>\n",
       "      <th>7</th>\n",
       "      <td>0.004167</td>\n",
       "      <td>0.002898</td>\n",
       "      <td>0.533333</td>\n",
       "      <td>1.000000</td>\n",
       "    </tr>\n",
       "    <tr>\n",
       "      <th>8</th>\n",
       "      <td>0.005111</td>\n",
       "      <td>0.002951</td>\n",
       "      <td>0.666667</td>\n",
       "      <td>1.000000</td>\n",
       "    </tr>\n",
       "    <tr>\n",
       "      <th>9</th>\n",
       "      <td>0.003953</td>\n",
       "      <td>0.003131</td>\n",
       "      <td>0.733333</td>\n",
       "      <td>1.000000</td>\n",
       "    </tr>\n",
       "  </tbody>\n",
       "</table>\n",
       "</div>"
      ],
      "text/plain": [
       "   fit_time  score_time  test_score  train_score\n",
       "0  0.005490    0.003122    0.875000     1.000000\n",
       "1  0.004841    0.002591    0.875000     0.992857\n",
       "2  0.002673    0.002265    0.875000     1.000000\n",
       "3  0.003045    0.001836    0.687500     1.000000\n",
       "4  0.003526    0.003047    0.812500     1.000000\n",
       "5  0.002868    0.001730    0.812500     1.000000\n",
       "6  0.003112    0.002041    0.866667     0.985816\n",
       "7  0.004167    0.002898    0.533333     1.000000\n",
       "8  0.005111    0.002951    0.666667     1.000000\n",
       "9  0.003953    0.003131    0.733333     1.000000"
      ]
     },
     "execution_count": 33,
     "metadata": {},
     "output_type": "execute_result"
    }
   ],
   "source": [
    "X_train, X_test, y_train, y_test = train_test_split(X, y, random_state=42)\n",
    "model = DecisionTreeClassifier(max_depth=10)\n",
    "scores = cross_validate(model, X_train, y_train, cv=10, return_train_score=True)\n",
    "pd.DataFrame(scores)"
   ]
  },
  {
   "cell_type": "markdown",
   "metadata": {},
   "source": [
    "Note the *unfortunate naming* above: `test_score`, which should have been *validation score*. We usually leave this as is, but if you insist to be consistent, you could rename by, for example, replacing the key `test_score` with `val_score` in the `scores` dictionary, or by renaming the dataframe columns as follows:"
   ]
  },
  {
   "cell_type": "code",
   "execution_count": 34,
   "metadata": {},
   "outputs": [
    {
     "data": {
      "text/html": [
       "<div>\n",
       "<style scoped>\n",
       "    .dataframe tbody tr th:only-of-type {\n",
       "        vertical-align: middle;\n",
       "    }\n",
       "\n",
       "    .dataframe tbody tr th {\n",
       "        vertical-align: top;\n",
       "    }\n",
       "\n",
       "    .dataframe thead th {\n",
       "        text-align: right;\n",
       "    }\n",
       "</style>\n",
       "<table border=\"1\" class=\"dataframe\">\n",
       "  <thead>\n",
       "    <tr style=\"text-align: right;\">\n",
       "      <th></th>\n",
       "      <th>fit_time</th>\n",
       "      <th>score_time</th>\n",
       "      <th>val_score</th>\n",
       "      <th>train_score</th>\n",
       "    </tr>\n",
       "  </thead>\n",
       "  <tbody>\n",
       "    <tr>\n",
       "      <th>0</th>\n",
       "      <td>0.005490</td>\n",
       "      <td>0.003122</td>\n",
       "      <td>0.875000</td>\n",
       "      <td>1.000000</td>\n",
       "    </tr>\n",
       "    <tr>\n",
       "      <th>1</th>\n",
       "      <td>0.004841</td>\n",
       "      <td>0.002591</td>\n",
       "      <td>0.875000</td>\n",
       "      <td>0.992857</td>\n",
       "    </tr>\n",
       "    <tr>\n",
       "      <th>2</th>\n",
       "      <td>0.002673</td>\n",
       "      <td>0.002265</td>\n",
       "      <td>0.875000</td>\n",
       "      <td>1.000000</td>\n",
       "    </tr>\n",
       "    <tr>\n",
       "      <th>3</th>\n",
       "      <td>0.003045</td>\n",
       "      <td>0.001836</td>\n",
       "      <td>0.687500</td>\n",
       "      <td>1.000000</td>\n",
       "    </tr>\n",
       "    <tr>\n",
       "      <th>4</th>\n",
       "      <td>0.003526</td>\n",
       "      <td>0.003047</td>\n",
       "      <td>0.812500</td>\n",
       "      <td>1.000000</td>\n",
       "    </tr>\n",
       "    <tr>\n",
       "      <th>5</th>\n",
       "      <td>0.002868</td>\n",
       "      <td>0.001730</td>\n",
       "      <td>0.812500</td>\n",
       "      <td>1.000000</td>\n",
       "    </tr>\n",
       "    <tr>\n",
       "      <th>6</th>\n",
       "      <td>0.003112</td>\n",
       "      <td>0.002041</td>\n",
       "      <td>0.866667</td>\n",
       "      <td>0.985816</td>\n",
       "    </tr>\n",
       "    <tr>\n",
       "      <th>7</th>\n",
       "      <td>0.004167</td>\n",
       "      <td>0.002898</td>\n",
       "      <td>0.533333</td>\n",
       "      <td>1.000000</td>\n",
       "    </tr>\n",
       "    <tr>\n",
       "      <th>8</th>\n",
       "      <td>0.005111</td>\n",
       "      <td>0.002951</td>\n",
       "      <td>0.666667</td>\n",
       "      <td>1.000000</td>\n",
       "    </tr>\n",
       "    <tr>\n",
       "      <th>9</th>\n",
       "      <td>0.003953</td>\n",
       "      <td>0.003131</td>\n",
       "      <td>0.733333</td>\n",
       "      <td>1.000000</td>\n",
       "    </tr>\n",
       "  </tbody>\n",
       "</table>\n",
       "</div>"
      ],
      "text/plain": [
       "   fit_time  score_time  val_score  train_score\n",
       "0  0.005490    0.003122   0.875000     1.000000\n",
       "1  0.004841    0.002591   0.875000     0.992857\n",
       "2  0.002673    0.002265   0.875000     1.000000\n",
       "3  0.003045    0.001836   0.687500     1.000000\n",
       "4  0.003526    0.003047   0.812500     1.000000\n",
       "5  0.002868    0.001730   0.812500     1.000000\n",
       "6  0.003112    0.002041   0.866667     0.985816\n",
       "7  0.004167    0.002898   0.533333     1.000000\n",
       "8  0.005111    0.002951   0.666667     1.000000\n",
       "9  0.003953    0.003131   0.733333     1.000000"
      ]
     },
     "execution_count": 34,
     "metadata": {},
     "output_type": "execute_result"
    }
   ],
   "source": [
    "pd.DataFrame(scores).rename({'test_score': 'val_score'}, axis='columns')"
   ]
  },
  {
   "cell_type": "markdown",
   "metadata": {},
   "source": [
    "But given that we need to use `cross_validate` function over and over in different places, it's better to just keep in mind this naming problem, and decide to rename on a case by case basis."
   ]
  },
  {
   "cell_type": "code",
   "execution_count": 35,
   "metadata": {
    "slideshow": {
     "slide_type": "skip"
    }
   },
   "outputs": [],
   "source": [
    "def mean_std_cross_val_scores(model, X_train, y_train, **kwargs):\n",
    "    \"\"\"\n",
    "    Returns mean and std of cross validation\n",
    "    \"\"\"\n",
    "    scores = cross_validate(model, X_train, y_train, **kwargs)\n",
    "\n",
    "    mean_scores = pd.DataFrame(scores).mean()\n",
    "    std_scores = pd.DataFrame(scores).std()\n",
    "    out_col = []\n",
    "\n",
    "    for i in range(len(mean_scores)):\n",
    "        out_col.append((f\"%0.3f (+/- %0.3f)\" % (mean_scores[i], std_scores[i])))\n",
    "\n",
    "    return pd.Series(data=out_col, index=mean_scores.index)"
   ]
  },
  {
   "cell_type": "code",
   "execution_count": 36,
   "metadata": {
    "slideshow": {
     "slide_type": "skip"
    }
   },
   "outputs": [
    {
     "data": {
      "text/html": [
       "<div>\n",
       "<style scoped>\n",
       "    .dataframe tbody tr th:only-of-type {\n",
       "        vertical-align: middle;\n",
       "    }\n",
       "\n",
       "    .dataframe tbody tr th {\n",
       "        vertical-align: top;\n",
       "    }\n",
       "\n",
       "    .dataframe thead th {\n",
       "        text-align: right;\n",
       "    }\n",
       "</style>\n",
       "<table border=\"1\" class=\"dataframe\">\n",
       "  <thead>\n",
       "    <tr style=\"text-align: right;\">\n",
       "      <th></th>\n",
       "      <th>fit_time</th>\n",
       "      <th>score_time</th>\n",
       "      <th>test_score</th>\n",
       "      <th>train_score</th>\n",
       "    </tr>\n",
       "  </thead>\n",
       "  <tbody>\n",
       "    <tr>\n",
       "      <th>Decision tree</th>\n",
       "      <td>0.004 (+/- 0.001)</td>\n",
       "      <td>0.003 (+/- 0.001)</td>\n",
       "      <td>0.769 (+/- 0.050)</td>\n",
       "      <td>0.994 (+/- 0.014)</td>\n",
       "    </tr>\n",
       "  </tbody>\n",
       "</table>\n",
       "</div>"
      ],
      "text/plain": [
       "                        fit_time         score_time         test_score  \\\n",
       "Decision tree  0.004 (+/- 0.001)  0.003 (+/- 0.001)  0.769 (+/- 0.050)   \n",
       "\n",
       "                     train_score  \n",
       "Decision tree  0.994 (+/- 0.014)  "
      ]
     },
     "execution_count": 36,
     "metadata": {},
     "output_type": "execute_result"
    }
   ],
   "source": [
    "results = {}\n",
    "results[\"Decision tree\"] = mean_std_cross_val_scores(\n",
    "    model, X_train, y_train, return_train_score=True\n",
    ")\n",
    "pd.DataFrame(results).T"
   ]
  },
  {
   "cell_type": "markdown",
   "metadata": {},
   "source": [
    "- How do we know whether this test score (validation score) is reasonable? "
   ]
  },
  {
   "cell_type": "markdown",
   "metadata": {
    "slideshow": {
     "slide_type": "slide"
    }
   },
   "source": [
    "### ❓❓ Questions on cross-validation"
   ]
  },
  {
   "cell_type": "markdown",
   "metadata": {
    "slideshow": {
     "slide_type": "skip"
    }
   },
   "source": [
    " Exercise 3.3: Cross-validation\n",
    "1. $k$-fold cross-validation calls fit $k$. True or False? \n",
    "2. We use cross-validation to improve model performance. True or False? \n",
    "3. Discuss advantages and disadvantages of cross-validation. \n"
   ]
  },
  {
   "cell_type": "markdown",
   "metadata": {
    "slideshow": {
     "slide_type": "skip"
    }
   },
   "source": [
    " Exercise 3.3: Solution\n",
    "1. True \n",
    "2. False. We can use it to assess model performance.\n"
   ]
  },
  {
   "cell_type": "markdown",
   "metadata": {
    "slideshow": {
     "slide_type": "slide"
    }
   },
   "source": [
    "## Break (5 min)\n",
    "\n",
    "![](img/eva-coffee.png)\n"
   ]
  },
  {
   "cell_type": "markdown",
   "metadata": {
    "slideshow": {
     "slide_type": "slide"
    }
   },
   "source": [
    "## Underfitting, overfitting, the fundamental trade-off, the golden rule [[video](https://youtu.be/Ihay8yE5KTI)]"
   ]
  },
  {
   "cell_type": "markdown",
   "metadata": {
    "slideshow": {
     "slide_type": "slide"
    }
   },
   "source": [
    "### Types of errors\n",
    "\n",
    "Imagine that your train and validation errors do not align with each other. How do you diagnose the problem?  \n",
    "\n",
    "We're going to think about 4 types of errors:\n",
    "\n",
    "- $E_\\textrm{train}\\ $ is your training error (or mean train error from cross-validation).\n",
    "- $E_\\textrm{valid}\\ $  is your validation error (or mean validation error from cross-validation).\n",
    "- $E_\\textrm{test}\\ $  is your test error.\n",
    "- $E_\\textrm{best}\\ $  is the best possible error you could get for a given problem (often unknown, but desired)."
   ]
  },
  {
   "cell_type": "markdown",
   "metadata": {
    "slideshow": {
     "slide_type": "slide"
    }
   },
   "source": [
    "### Underfitting "
   ]
  },
  {
   "cell_type": "code",
   "execution_count": 37,
   "metadata": {
    "slideshow": {
     "slide_type": "-"
    }
   },
   "outputs": [
    {
     "name": "stdout",
     "output_type": "stream",
     "text": [
      "Train error:   0.188\n",
      "Validation error:   0.212\n"
     ]
    }
   ],
   "source": [
    "model = DecisionTreeClassifier(max_depth=1)  # decision stump\n",
    "scores = cross_validate(model, X_train, y_train, cv=10, return_train_score=True)\n",
    "print(\"Train error:   %0.3f\" % (1 - np.mean(scores[\"train_score\"])))\n",
    "print(\"Validation error:   %0.3f\" % (1 - np.mean(scores[\"test_score\"])))"
   ]
  },
  {
   "cell_type": "markdown",
   "metadata": {
    "slideshow": {
     "slide_type": "slide"
    }
   },
   "source": [
    "- If your **model is too simple**, like `DummyClassifier` or `DecisionTreeClassifier` with `max_depth=1`, it's not going to pick up on some random quirks in the data but it won't even capture useful patterns in the training data.\n",
    "- The model won't be very good in general. Both train and validation errors would be high. This is **underfitting**.\n",
    "- The gap between train and validation error is going to be lower.\n",
    "- $E_\\textrm{best} \\lt E_\\textrm{train} \\lesssim E_\\textrm{valid}$"
   ]
  },
  {
   "cell_type": "markdown",
   "metadata": {
    "slideshow": {
     "slide_type": "slide"
    }
   },
   "source": [
    "### Overfitting "
   ]
  },
  {
   "cell_type": "code",
   "execution_count": 38,
   "metadata": {
    "slideshow": {
     "slide_type": "-"
    }
   },
   "outputs": [
    {
     "name": "stdout",
     "output_type": "stream",
     "text": [
      "Train error:   0.000\n",
      "Validation error:   0.220\n"
     ]
    }
   ],
   "source": [
    "model = DecisionTreeClassifier(max_depth=None)\n",
    "scores = cross_validate(model, X_train, y_train, cv=10, return_train_score=True)\n",
    "print(\"Train error:   %0.3f\" % (1 - np.mean(scores[\"train_score\"])))\n",
    "print(\"Validation error:   %0.3f\" % (1 - np.mean(scores[\"test_score\"])))"
   ]
  },
  {
   "cell_type": "markdown",
   "metadata": {
    "slideshow": {
     "slide_type": "slide"
    }
   },
   "source": [
    "- If your **model is very complex**, like a `DecisionTreeClassifier(max_depth=None)`, then you will learn unreliable patterns in order to get every single training example correct.\n",
    "- The training error is going to be very low but there will be a big gap between the training error and the validation error. This is **overfitting**.\n",
    "- In overfitting scenario, usually we'll see: \n",
    "$E_\\textrm{train} \\lt E_\\textrm{best}  \\lt E_\\textrm{valid}$\n",
    "- In general, if $E_\\textrm{train}\\ $ is low, we are likely to be in the overfitting scenario. It is fairly common to have at least a bit of this."
   ]
  },
  {
   "cell_type": "markdown",
   "metadata": {
    "slideshow": {
     "slide_type": "slide"
    }
   },
   "source": [
    "- So the validation error does not necessarily decrease with the training error. "
   ]
  },
  {
   "cell_type": "code",
   "execution_count": 39,
   "metadata": {
    "slideshow": {
     "slide_type": "-"
    }
   },
   "outputs": [],
   "source": [
    "X_train, X_test, y_train, y_test = train_test_split(X, y, random_state=1)\n",
    "results_dict = {\n",
    "    \"depth\": [],\n",
    "    \"mean_train_error\": [],\n",
    "    \"mean_cv_error\": [],\n",
    "    \"std_cv_error\": [],\n",
    "    \"std_train_error\": [],\n",
    "}\n",
    "param_grid = {\"max_depth\": np.arange(1, 16)}\n",
    "\n",
    "for depth in param_grid[\"max_depth\"]:\n",
    "    model = DecisionTreeClassifier(max_depth=depth)\n",
    "    scores = cross_validate(model, X_train, y_train, cv=10, return_train_score=True)\n",
    "    results_dict[\"depth\"].append(depth)\n",
    "    results_dict[\"mean_cv_error\"].append(1 - np.mean(scores[\"test_score\"]))\n",
    "    results_dict[\"mean_train_error\"].append(1 - np.mean(scores[\"train_score\"]))\n",
    "    results_dict[\"std_cv_error\"].append(scores[\"test_score\"].std())\n",
    "    results_dict[\"std_train_error\"].append(scores[\"train_score\"].std())\n",
    "\n",
    "results_df = pd.DataFrame(results_dict)\n",
    "results_df = results_df.set_index(\"depth\")"
   ]
  },
  {
   "cell_type": "code",
   "execution_count": 40,
   "metadata": {
    "slideshow": {
     "slide_type": "-"
    }
   },
   "outputs": [
    {
     "data": {
      "text/html": [
       "<div>\n",
       "<style scoped>\n",
       "    .dataframe tbody tr th:only-of-type {\n",
       "        vertical-align: middle;\n",
       "    }\n",
       "\n",
       "    .dataframe tbody tr th {\n",
       "        vertical-align: top;\n",
       "    }\n",
       "\n",
       "    .dataframe thead th {\n",
       "        text-align: right;\n",
       "    }\n",
       "</style>\n",
       "<table border=\"1\" class=\"dataframe\">\n",
       "  <thead>\n",
       "    <tr style=\"text-align: right;\">\n",
       "      <th></th>\n",
       "      <th>mean_train_error</th>\n",
       "      <th>mean_cv_error</th>\n",
       "      <th>std_cv_error</th>\n",
       "      <th>std_train_error</th>\n",
       "    </tr>\n",
       "    <tr>\n",
       "      <th>depth</th>\n",
       "      <th></th>\n",
       "      <th></th>\n",
       "      <th></th>\n",
       "      <th></th>\n",
       "    </tr>\n",
       "  </thead>\n",
       "  <tbody>\n",
       "    <tr>\n",
       "      <th>1</th>\n",
       "      <td>0.171657</td>\n",
       "      <td>0.211250</td>\n",
       "      <td>0.048378</td>\n",
       "      <td>0.006805</td>\n",
       "    </tr>\n",
       "    <tr>\n",
       "      <th>2</th>\n",
       "      <td>0.160258</td>\n",
       "      <td>0.223750</td>\n",
       "      <td>0.062723</td>\n",
       "      <td>0.007316</td>\n",
       "    </tr>\n",
       "    <tr>\n",
       "      <th>3</th>\n",
       "      <td>0.142467</td>\n",
       "      <td>0.210833</td>\n",
       "      <td>0.067757</td>\n",
       "      <td>0.022848</td>\n",
       "    </tr>\n",
       "    <tr>\n",
       "      <th>4</th>\n",
       "      <td>0.092604</td>\n",
       "      <td>0.204167</td>\n",
       "      <td>0.070907</td>\n",
       "      <td>0.006531</td>\n",
       "    </tr>\n",
       "    <tr>\n",
       "      <th>5</th>\n",
       "      <td>0.083338</td>\n",
       "      <td>0.185000</td>\n",
       "      <td>0.064205</td>\n",
       "      <td>0.010650</td>\n",
       "    </tr>\n",
       "    <tr>\n",
       "      <th>6</th>\n",
       "      <td>0.066251</td>\n",
       "      <td>0.191250</td>\n",
       "      <td>0.072707</td>\n",
       "      <td>0.012019</td>\n",
       "    </tr>\n",
       "    <tr>\n",
       "      <th>7</th>\n",
       "      <td>0.044873</td>\n",
       "      <td>0.210833</td>\n",
       "      <td>0.085192</td>\n",
       "      <td>0.009059</td>\n",
       "    </tr>\n",
       "    <tr>\n",
       "      <th>8</th>\n",
       "      <td>0.030618</td>\n",
       "      <td>0.222500</td>\n",
       "      <td>0.092669</td>\n",
       "      <td>0.010547</td>\n",
       "    </tr>\n",
       "    <tr>\n",
       "      <th>9</th>\n",
       "      <td>0.020653</td>\n",
       "      <td>0.203333</td>\n",
       "      <td>0.090978</td>\n",
       "      <td>0.010294</td>\n",
       "    </tr>\n",
       "    <tr>\n",
       "      <th>10</th>\n",
       "      <td>0.010679</td>\n",
       "      <td>0.235417</td>\n",
       "      <td>0.096990</td>\n",
       "      <td>0.007938</td>\n",
       "    </tr>\n",
       "    <tr>\n",
       "      <th>11</th>\n",
       "      <td>0.005699</td>\n",
       "      <td>0.235417</td>\n",
       "      <td>0.096990</td>\n",
       "      <td>0.004264</td>\n",
       "    </tr>\n",
       "    <tr>\n",
       "      <th>12</th>\n",
       "      <td>0.003561</td>\n",
       "      <td>0.242083</td>\n",
       "      <td>0.095497</td>\n",
       "      <td>0.004769</td>\n",
       "    </tr>\n",
       "    <tr>\n",
       "      <th>13</th>\n",
       "      <td>0.000000</td>\n",
       "      <td>0.229583</td>\n",
       "      <td>0.084870</td>\n",
       "      <td>0.000000</td>\n",
       "    </tr>\n",
       "    <tr>\n",
       "      <th>14</th>\n",
       "      <td>0.000000</td>\n",
       "      <td>0.242083</td>\n",
       "      <td>0.086932</td>\n",
       "      <td>0.000000</td>\n",
       "    </tr>\n",
       "    <tr>\n",
       "      <th>15</th>\n",
       "      <td>0.000000</td>\n",
       "      <td>0.235833</td>\n",
       "      <td>0.083836</td>\n",
       "      <td>0.000000</td>\n",
       "    </tr>\n",
       "  </tbody>\n",
       "</table>\n",
       "</div>"
      ],
      "text/plain": [
       "       mean_train_error  mean_cv_error  std_cv_error  std_train_error\n",
       "depth                                                                \n",
       "1              0.171657       0.211250      0.048378         0.006805\n",
       "2              0.160258       0.223750      0.062723         0.007316\n",
       "3              0.142467       0.210833      0.067757         0.022848\n",
       "4              0.092604       0.204167      0.070907         0.006531\n",
       "5              0.083338       0.185000      0.064205         0.010650\n",
       "6              0.066251       0.191250      0.072707         0.012019\n",
       "7              0.044873       0.210833      0.085192         0.009059\n",
       "8              0.030618       0.222500      0.092669         0.010547\n",
       "9              0.020653       0.203333      0.090978         0.010294\n",
       "10             0.010679       0.235417      0.096990         0.007938\n",
       "11             0.005699       0.235417      0.096990         0.004264\n",
       "12             0.003561       0.242083      0.095497         0.004769\n",
       "13             0.000000       0.229583      0.084870         0.000000\n",
       "14             0.000000       0.242083      0.086932         0.000000\n",
       "15             0.000000       0.235833      0.083836         0.000000"
      ]
     },
     "execution_count": 40,
     "metadata": {},
     "output_type": "execute_result"
    }
   ],
   "source": [
    "results_df"
   ]
  },
  {
   "cell_type": "code",
   "execution_count": 41,
   "metadata": {
    "slideshow": {
     "slide_type": "slide"
    }
   },
   "outputs": [
    {
     "data": {
      "image/png": "[encoded data removed]",
      "text/plain": [
       "<Figure size 432x288 with 1 Axes>"
      ]
     },
     "metadata": {
      "needs_background": "light"
     },
     "output_type": "display_data"
    }
   ],
   "source": [
    "results_df[[\"mean_train_error\", \"mean_cv_error\"]].plot();"
   ]
  },
  {
   "cell_type": "markdown",
   "metadata": {
    "slideshow": {
     "slide_type": "-"
    }
   },
   "source": [
    "- Here, for larger depths we observe that the training error is close to 0 but validation error goes up and down. \n",
    "- As we make **more complex models we start encoding random quirks** in the data, which are not grounded in reality.  \n",
    "- These **random quirks do not generalize** well to new data. \n",
    "- This problem of failing to be able to generalize to the validation data or test data is called **overfitting**."
   ]
  },
  {
   "cell_type": "markdown",
   "metadata": {
    "slideshow": {
     "slide_type": "slide"
    }
   },
   "source": [
    "### The \"fundamental tradeoff\" of supervised learning:\n",
    "\n",
    "\n",
    "**As you increase model complexity, $E_\\textrm{train}\\ $ tends to go down but $E_\\textrm{valid}-E_\\textrm{train}\\ $ tends to go up.**\n"
   ]
  },
  {
   "cell_type": "markdown",
   "metadata": {
    "slideshow": {
     "slide_type": "slide"
    }
   },
   "source": [
    "### Bias vs variance tradeoff \n",
    "\n",
    "- The fundamental trade-off is also called the bias/variance tradeoff in supervised machine learning.\n",
    "\n",
    "**Bias**\n",
    ": the tendency to consistently learn the same wrong thing (high bias corresponds to underfitting)\n",
    "\n",
    "**Variance** \n",
    ": the tendency to learn random things irrespective of the real signal (high variance corresponds to overfitting)"
   ]
  },
  {
   "cell_type": "markdown",
   "metadata": {
    "slideshow": {
     "slide_type": "skip"
    }
   },
   "source": [
    " \n",
    "Check out [this article by Pedro Domingos](https://homes.cs.washington.edu/~pedrod/papers/cacm12.pdf) for some approachable explanation on machine learning fundamentals and bias-variance tradeoff. \n"
   ]
  },
  {
   "cell_type": "markdown",
   "metadata": {
    "slideshow": {
     "slide_type": "slide"
    }
   },
   "source": [
    "### How to pick a model that would generalize better?\n",
    "\n",
    "- We want to avoid both underfitting and overfitting. \n",
    "- We want to be consistent with the training data but we don't want to rely too much on it. \n",
    "\n",
    "<!-- <center>\n",
    "<img src='img/malp_0201.png' width=\"800\" height=\"800\" />\n",
    "</center>    \n",
    " -->\n",
    "![](img/malp_0201.png)\n",
    "\n",
    "[source](https://learning.oreilly.com/library/view/introduction-to-machine/9781449369880/ch02.html#relation-of-model-complexity-to-dataset-size)"
   ]
  },
  {
   "cell_type": "markdown",
   "metadata": {
    "slideshow": {
     "slide_type": "slide"
    }
   },
   "source": [
    "- There are many subtleties here, and there is no perfect answer, but a  common practice is to pick the model with minimum cross-validation error. "
   ]
  },
  {
   "cell_type": "code",
   "execution_count": 42,
   "metadata": {
    "slideshow": {
     "slide_type": "skip"
    }
   },
   "outputs": [],
   "source": [
    "def cross_validate_std(*args, **kwargs):\n",
    "    \"\"\"Like cross_validate, except also gives the standard deviation of the score\"\"\"\n",
    "    res = pd.DataFrame(cross_validate(*args, **kwargs))\n",
    "    res_mean = res.mean()\n",
    "    res_mean[\"std_test_score\"] = res[\"test_score\"].std()\n",
    "    if \"train_score\" in res:\n",
    "        res_mean[\"std_train_score\"] = res[\"train_score\"].std()\n",
    "    return res_mean"
   ]
  },
  {
   "cell_type": "markdown",
   "metadata": {},
   "source": [
    "This function makes it more convenient to produce the same results that we already had above:"
   ]
  },
  {
   "cell_type": "code",
   "execution_count": 43,
   "metadata": {
    "slideshow": {
     "slide_type": "-"
    }
   },
   "outputs": [
    {
     "data": {
      "text/html": [
       "<div>\n",
       "<style scoped>\n",
       "    .dataframe tbody tr th:only-of-type {\n",
       "        vertical-align: middle;\n",
       "    }\n",
       "\n",
       "    .dataframe tbody tr th {\n",
       "        vertical-align: top;\n",
       "    }\n",
       "\n",
       "    .dataframe thead th {\n",
       "        text-align: right;\n",
       "    }\n",
       "</style>\n",
       "<table border=\"1\" class=\"dataframe\">\n",
       "  <thead>\n",
       "    <tr style=\"text-align: right;\">\n",
       "      <th></th>\n",
       "      <th>mean_train_error</th>\n",
       "      <th>mean_cv_error</th>\n",
       "      <th>std_cv_error</th>\n",
       "      <th>std_train_error</th>\n",
       "    </tr>\n",
       "    <tr>\n",
       "      <th>depth</th>\n",
       "      <th></th>\n",
       "      <th></th>\n",
       "      <th></th>\n",
       "      <th></th>\n",
       "    </tr>\n",
       "  </thead>\n",
       "  <tbody>\n",
       "    <tr>\n",
       "      <th>1</th>\n",
       "      <td>0.171657</td>\n",
       "      <td>0.211250</td>\n",
       "      <td>0.048378</td>\n",
       "      <td>0.006805</td>\n",
       "    </tr>\n",
       "    <tr>\n",
       "      <th>2</th>\n",
       "      <td>0.160258</td>\n",
       "      <td>0.223750</td>\n",
       "      <td>0.062723</td>\n",
       "      <td>0.007316</td>\n",
       "    </tr>\n",
       "    <tr>\n",
       "      <th>3</th>\n",
       "      <td>0.142467</td>\n",
       "      <td>0.210833</td>\n",
       "      <td>0.067757</td>\n",
       "      <td>0.022848</td>\n",
       "    </tr>\n",
       "    <tr>\n",
       "      <th>4</th>\n",
       "      <td>0.092604</td>\n",
       "      <td>0.204167</td>\n",
       "      <td>0.070907</td>\n",
       "      <td>0.006531</td>\n",
       "    </tr>\n",
       "    <tr>\n",
       "      <th>5</th>\n",
       "      <td>0.083338</td>\n",
       "      <td>0.185000</td>\n",
       "      <td>0.064205</td>\n",
       "      <td>0.010650</td>\n",
       "    </tr>\n",
       "    <tr>\n",
       "      <th>6</th>\n",
       "      <td>0.066251</td>\n",
       "      <td>0.191250</td>\n",
       "      <td>0.072707</td>\n",
       "      <td>0.012019</td>\n",
       "    </tr>\n",
       "    <tr>\n",
       "      <th>7</th>\n",
       "      <td>0.044873</td>\n",
       "      <td>0.210833</td>\n",
       "      <td>0.085192</td>\n",
       "      <td>0.009059</td>\n",
       "    </tr>\n",
       "    <tr>\n",
       "      <th>8</th>\n",
       "      <td>0.030618</td>\n",
       "      <td>0.222500</td>\n",
       "      <td>0.092669</td>\n",
       "      <td>0.010547</td>\n",
       "    </tr>\n",
       "    <tr>\n",
       "      <th>9</th>\n",
       "      <td>0.020653</td>\n",
       "      <td>0.203333</td>\n",
       "      <td>0.090978</td>\n",
       "      <td>0.010294</td>\n",
       "    </tr>\n",
       "    <tr>\n",
       "      <th>10</th>\n",
       "      <td>0.010679</td>\n",
       "      <td>0.235417</td>\n",
       "      <td>0.096990</td>\n",
       "      <td>0.007938</td>\n",
       "    </tr>\n",
       "    <tr>\n",
       "      <th>11</th>\n",
       "      <td>0.005699</td>\n",
       "      <td>0.235417</td>\n",
       "      <td>0.096990</td>\n",
       "      <td>0.004264</td>\n",
       "    </tr>\n",
       "    <tr>\n",
       "      <th>12</th>\n",
       "      <td>0.003561</td>\n",
       "      <td>0.242083</td>\n",
       "      <td>0.095497</td>\n",
       "      <td>0.004769</td>\n",
       "    </tr>\n",
       "    <tr>\n",
       "      <th>13</th>\n",
       "      <td>0.000000</td>\n",
       "      <td>0.229583</td>\n",
       "      <td>0.084870</td>\n",
       "      <td>0.000000</td>\n",
       "    </tr>\n",
       "    <tr>\n",
       "      <th>14</th>\n",
       "      <td>0.000000</td>\n",
       "      <td>0.242083</td>\n",
       "      <td>0.086932</td>\n",
       "      <td>0.000000</td>\n",
       "    </tr>\n",
       "    <tr>\n",
       "      <th>15</th>\n",
       "      <td>0.000000</td>\n",
       "      <td>0.235833</td>\n",
       "      <td>0.083836</td>\n",
       "      <td>0.000000</td>\n",
       "    </tr>\n",
       "  </tbody>\n",
       "</table>\n",
       "</div>"
      ],
      "text/plain": [
       "       mean_train_error  mean_cv_error  std_cv_error  std_train_error\n",
       "depth                                                                \n",
       "1              0.171657       0.211250      0.048378         0.006805\n",
       "2              0.160258       0.223750      0.062723         0.007316\n",
       "3              0.142467       0.210833      0.067757         0.022848\n",
       "4              0.092604       0.204167      0.070907         0.006531\n",
       "5              0.083338       0.185000      0.064205         0.010650\n",
       "6              0.066251       0.191250      0.072707         0.012019\n",
       "7              0.044873       0.210833      0.085192         0.009059\n",
       "8              0.030618       0.222500      0.092669         0.010547\n",
       "9              0.020653       0.203333      0.090978         0.010294\n",
       "10             0.010679       0.235417      0.096990         0.007938\n",
       "11             0.005699       0.235417      0.096990         0.004264\n",
       "12             0.003561       0.242083      0.095497         0.004769\n",
       "13             0.000000       0.229583      0.084870         0.000000\n",
       "14             0.000000       0.242083      0.086932         0.000000\n",
       "15             0.000000       0.235833      0.083836         0.000000"
      ]
     },
     "execution_count": 43,
     "metadata": {},
     "output_type": "execute_result"
    }
   ],
   "source": [
    "results_df"
   ]
  },
  {
   "cell_type": "markdown",
   "metadata": {
    "slideshow": {
     "slide_type": "slide"
    }
   },
   "source": [
    "### test score vs. cross-validation score"
   ]
  },
  {
   "cell_type": "code",
   "execution_count": 44,
   "metadata": {
    "slideshow": {
     "slide_type": "-"
    }
   },
   "outputs": [
    {
     "name": "stdout",
     "output_type": "stream",
     "text": [
      "The minimum validation error is 0.185 at max_depth = 5 \n"
     ]
    }
   ],
   "source": [
    "best_depth_error = np.min(results_df[\"mean_cv_error\"])\n",
    "best_depth_index = np.argmin(results_df[\"mean_cv_error\"])\n",
    "best_depth = results_df.index.values[best_depth_index]\n",
    "\n",
    "print(\"The minimum validation error is %0.3f at max_depth = %d \" % \n",
    "      (best_depth_error, best_depth))"
   ]
  },
  {
   "cell_type": "markdown",
   "metadata": {
    "slideshow": {
     "slide_type": "-"
    }
   },
   "source": [
    "- Let's make a decision tree model with `max_depth`= 5 and try this model on the test set. "
   ]
  },
  {
   "cell_type": "code",
   "execution_count": 45,
   "metadata": {
    "slideshow": {
     "slide_type": "-"
    }
   },
   "outputs": [
    {
     "name": "stdout",
     "output_type": "stream",
     "text": [
      "Error on test set is 0.189 \n",
      "The minimum validation error is 0.185 \n"
     ]
    }
   ],
   "source": [
    "model = DecisionTreeClassifier(max_depth=best_depth)\n",
    "model.fit(X_train, y_train)\n",
    "print(\"Error on test set is %0.3f \" % (1 - model.score(X_test, y_test)))\n",
    "print(\"The minimum validation error is %0.3f \" % best_depth_error)"
   ]
  },
  {
   "cell_type": "markdown",
   "metadata": {
    "slideshow": {
     "slide_type": "slide"
    }
   },
   "source": [
    "- The test error is comparable with the cross-validation error. \n",
    "- Do we feel confident that this model would give similar performace when deployed? "
   ]
  },
  {
   "cell_type": "markdown",
   "metadata": {
    "slideshow": {
     "slide_type": "slide"
    }
   },
   "source": [
    "### The golden rule <a name=\"4\"></a>\n",
    "\n",
    "- Even though we care the most about test error **THE TEST DATA CANNOT INFLUENCE THE TRAINING PHASE IN ANY WAY**. \n",
    "- We have to be very careful not to violate it while developing our ML pipeline. \n",
    "- Even experts end up breaking it sometimes which leads to misleading results and lack of generalization on the real data. "
   ]
  },
  {
   "cell_type": "markdown",
   "metadata": {
    "slideshow": {
     "slide_type": "slide"
    }
   },
   "source": [
    "#### Golden rule violation: Example 1  \n",
    "\n",
    "![](img/golden_rule_violation.png)\n",
    "\n",
    "<!-- <center>\n",
    "<img src='img/golden_rule_violation.png' width=\"500\" height=\"500\" />\n",
    "</center>    \n",
    " -->\n",
    " \n",
    "<blockquote>\n",
    "   ... He attempted to reproduce the research, and found a major flaw: there was some overlap in the data used to both train and test the model. \n",
    "</blockquote>    "
   ]
  },
  {
   "cell_type": "markdown",
   "metadata": {
    "slideshow": {
     "slide_type": "slide"
    }
   },
   "source": [
    "#### Golden rule violation: Example 2  \n",
    "\n",
    "<!-- <center>\n",
    "<img src='img/golden_rule_violation_2.png' width=\"500\" height=\"500\" />\n",
    "</center>    \n",
    " -->\n",
    " \n",
    "![](img/golden_rule_violation_2.png)\n",
    "\n",
    "<blockquote>\n",
    "  ... The Challenge rules state that you must only test your code twice a week, because there’s an element of chance to the results. Baidu has admitted that it used multiple email accounts to test its code roughly 200 times in just under six months – over four times what the rules allow.\n",
    "</blockquote>\n"
   ]
  },
  {
   "cell_type": "markdown",
   "metadata": {
    "slideshow": {
     "slide_type": "slide"
    }
   },
   "source": [
    "### How can we avoid violating golden rule? \n",
    "\n",
    "- Recall that when we split data, we put our test set in an imaginary vault.\n",
    "\n",
    "<!-- <center>\n",
    "<img src='img/train-test-split.png' width=\"1500\" height=\"1500\" />\n",
    "</center>    \n",
    " -->\n",
    " \n",
    "![](img/train-test-split.png)"
   ]
  },
  {
   "cell_type": "markdown",
   "metadata": {
    "slideshow": {
     "slide_type": "slide"
    }
   },
   "source": [
    "### Here is the workflow we'll generally follow. \n",
    "\n",
    "- **Splitting**: Before doing anything, split the data `X` and `y` into `X_train`, `X_test`, `y_train`, `y_test` or `train_df` and `test_df` using `train_test_split`. \n",
    "- **Select the best model using cross-validation**: Use `cross_validate` with `return_train_score = True` so that we can get access to training scores in each fold. (If we want to plot train vs validation error plots, for instance.) \n",
    "- **Scoring on test data**: Finally score on the test data with the chosen hyperparameters to examine the generalization performance.\n",
    "\n",
    "**Again, there are many subtleties here we'll discuss the golden rule multiple times throughout the course and in the program.**  "
   ]
  },
  {
   "cell_type": "markdown",
   "metadata": {},
   "source": [
    "<br><br><br><br>"
   ]
  },
  {
   "cell_type": "markdown",
   "metadata": {
    "slideshow": {
     "slide_type": "skip"
    }
   },
   "source": [
    "### ❓❓ Questions for you"
   ]
  },
  {
   "cell_type": "markdown",
   "metadata": {
    "slideshow": {
     "slide_type": "skip"
    }
   },
   "source": [
    " Exercise 3.4\n",
    "\n",
    "Underfitting or overfitting? \n",
    "1. If the mean train accuracy is much higher than the mean cross-validation accuracy.\n",
    "2. If the mean train accuracy and the mean cross-validation accuracy are both low and relatively similar in value.\n",
    "3. Decision tree with no limit on the depth. \n",
    "4. Decision stump on a complicated classification problem. \n"
   ]
  },
  {
   "cell_type": "markdown",
   "metadata": {
    "slideshow": {
     "slide_type": "skip"
    }
   },
   "source": [
    " Exercise 3.4: Solution\n",
    "1. Overfitting\n",
    "2. Underfitting\n",
    "3. Overfitting\n",
    "4. Underfitting\n"
   ]
  },
  {
   "cell_type": "markdown",
   "metadata": {
    "slideshow": {
     "slide_type": "skip"
    }
   },
   "source": [
    " Exercise 3.5\n",
    " \n",
    "State whether True/False. \n",
    "\n",
    "1. In supervised learning, the training error is always lower than the validation error.\n",
    "2. The fundamental tradeoff of ML states that as training error goes down, validation error goes up.\n",
    "3. More \"complicated\" models are more likely to overfit than \"simple\" ones.\n",
    "4. If we had an infinite amount of training data, overfitting would not be a problem.\n",
    "5. If our training error is extremely low, we are likely to be overfitting.\n"
   ]
  },
  {
   "cell_type": "markdown",
   "metadata": {
    "slideshow": {
     "slide_type": "skip"
    }
   },
   "source": [
    " Exercise 3.5: Solution\n",
    "1. False\n",
    "2. False\n",
    "3. True\n",
    "4. True\n",
    "5. True\n"
   ]
  },
  {
   "cell_type": "markdown",
   "metadata": {
    "slideshow": {
     "slide_type": "slide"
    }
   },
   "source": [
    "## What did we learn today? \n",
    "\n",
    "- Importance of generalization in supervised machine learning \n",
    "- Data splitting as a way to approximate generalization error \n",
    "- Train, test, validation, deployment data\n",
    "- Cross-validation\n",
    "- A typical sequence of steps to train supervised machine learning models\n",
    "    - training the model on the train split\n",
    "    - tuning hyperparamters using the validation split\n",
    "    - checking the generalization performance on the test split \n",
    "- Overfitting, underfitting, the fundamental tradeoff, and the golden rule.   "
   ]
  },
  {
   "cell_type": "markdown",
   "metadata": {},
   "source": [
    "### Coming up ...  \n",
    "\n",
    "- KNNs, SVM RBFs \n",
    "- Preprocessing\n",
    "    - Imputation\n",
    "    - Scaling\n",
    "    - One-hot encoding\n",
    "    - `sklearn` pipelines"
   ]
  },
  {
   "cell_type": "markdown",
   "metadata": {},
   "source": [
    "![](img/eva-seeyou.png)"
   ]
  }
 ],
 "metadata": {
  "celltoolbar": "Slideshow",
  "kernelspec": {
   "display_name": "Python [conda env:cpsc330]",
   "language": "python",
   "name": "conda-env-cpsc330-py"
  },
  "language_info": {
   "codemirror_mode": {
    "name": "ipython",
    "version": 3
   },
   "file_extension": ".py",
   "mimetype": "text/x-python",
   "name": "python",
   "nbconvert_exporter": "python",
   "pygments_lexer": "ipython3",
   "version": "3.10.4"
  }
 },
 "nbformat": 4,
 "nbformat_minor": 4
}
