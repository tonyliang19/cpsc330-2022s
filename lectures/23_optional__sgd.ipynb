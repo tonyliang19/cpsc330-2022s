{
 "cells": [
  {
   "cell_type": "markdown",
   "metadata": {
    "slideshow": {
     "slide_type": "slide"
    }
   },
   "source": [
    "![](img/330-banner.png)"
   ]
  },
  {
   "cell_type": "markdown",
   "metadata": {
    "slideshow": {
     "slide_type": "-"
    }
   },
   "source": [
    "# (Optional)<br>Lecture 23: Stochastic Gradient Descent (SGD)\n",
    "\n",
    "UBC 2022 Summer\n",
    "\n",
    "Instructor: Mehrdad Oveisi"
   ]
  },
  {
   "cell_type": "code",
   "execution_count": 1,
   "metadata": {
    "slideshow": {
     "slide_type": "skip"
    }
   },
   "outputs": [],
   "source": [
    "import numpy as np\n",
    "import pandas as pd\n",
    "import matplotlib.pyplot as plt\n",
    "\n",
    "from sklearn.linear_model import Ridge, LogisticRegression, SGDClassifier, SGDRegressor\n",
    "from sklearn.dummy import DummyClassifier, DummyRegressor\n",
    "from sklearn.model_selection import train_test_split, GridSearchCV\n",
    "from sklearn.feature_extraction.text import CountVectorizer\n",
    "\n",
    "plt.rcParams['font.size'] = 16"
   ]
  },
  {
   "cell_type": "markdown",
   "metadata": {},
   "source": [
    "## For large datasets: `SGDClassifier` and `SGDRegressor`"
   ]
  },
  {
   "cell_type": "markdown",
   "metadata": {},
   "source": [
    "***Note*** \n",
    "Although we speak of very large datasets here, we do *not* mean what has come to be known as *Big Data*. Some say the realm of Big Data starts with at least *1 terabyte* of data! We do not discuss the requirements for handling such datasets here."
   ]
  },
  {
   "cell_type": "markdown",
   "metadata": {},
   "source": [
    "- Something we haven't discussed in this course is huge data sets.\n",
    "- There could be a couple of problems arising from huge data sets:\n",
    "  1. The code is too slow.\n",
    "  2. The dataset doesn't fit in memory - we can't even load it with `pd.read_csv`. "
   ]
  },
  {
   "cell_type": "markdown",
   "metadata": {},
   "source": [
    "Simplest strategy: subset your data for experimentation / hyperparameter tuning, then train your final model on the whole dataset (once)."
   ]
  },
  {
   "cell_type": "markdown",
   "metadata": {},
   "source": [
    "- \"SGD\" (stochastic gradient descent) can help with both of these problems.\n",
    "- But we'll focus on using it to solve problem (1).\n",
    "- There is a fancy way to implement `fit` that can be a lot faster for large datasets.\n",
    "  - You can **think of it as quickly finding \"approximately\" the best coefficients** when calling `fit`.\n",
    "  - That is not quite true but it may be a useful way of thinking.\n",
    "  - Much more on this in CPSC 340 and much, much more on this in CPSC 440/540."
   ]
  },
  {
   "cell_type": "markdown",
   "metadata": {},
   "source": [
    "- SGD can be used in many contexts.\n",
    "- In sklearn, it's built in as follows:"
   ]
  },
  {
   "cell_type": "code",
   "execution_count": 2,
   "metadata": {},
   "outputs": [],
   "source": [
    "from sklearn.linear_model import SGDClassifier, SGDRegressor"
   ]
  },
  {
   "cell_type": "markdown",
   "metadata": {},
   "source": [
    "- `SGDRegressor` is basically equivalent to `Ridge`.\n",
    "- `SGDRegressor(loss='huber')` is basically equivalent to `HuberRegressor`.\n",
    "- `SGDClassifier(loss='log')` is basically equivalent to `LogisticRegression`, except the parameter is called `alpha` instead of `C` (like `Ridge`).\n",
    "- With other settings they are equivalent to other models, but this is good enough."
   ]
  },
  {
   "cell_type": "markdown",
   "metadata": {},
   "source": [
    "- For **regular sized** datasets, use the **original functions**, as these ones can be a bit more finicky. "
   ]
  },
  {
   "cell_type": "markdown",
   "metadata": {},
   "source": [
    "Let's load the [Sentiment140 dataset](http://help.sentiment140.com/home), which contains tweets labeled with sentiment associated with a brand, product, or topic. It is a large dataset. You can download the data from [here](https://www.kaggle.com/ferno2/training1600000processednoemoticoncsv)."
   ]
  },
  {
   "cell_type": "code",
   "execution_count": 3,
   "metadata": {},
   "outputs": [],
   "source": [
    "tweets_df = pd.read_csv('data/training.1600000.processed.noemoticon.csv', \n",
    "                        encoding = \"ISO-8859-1\",\n",
    "                        names=[\"label\", \"id\", \"date\", \"no_query\", \"name\", \"text\"])\n",
    "tweets_df['label'] = tweets_df['label'].map({0: 'neg', 4: 'pos'})\n",
    "tweets_df = tweets_df[tweets_df['label'].str.startswith(('pos','neg'))]"
   ]
  },
  {
   "cell_type": "code",
   "execution_count": 4,
   "metadata": {},
   "outputs": [],
   "source": [
    "tweets_df_train, tweets_df_test = train_test_split(tweets_df)"
   ]
  },
  {
   "cell_type": "code",
   "execution_count": 5,
   "metadata": {},
   "outputs": [
    {
     "data": {
      "text/html": [
       "<div>\n",
       "<style scoped>\n",
       "    .dataframe tbody tr th:only-of-type {\n",
       "        vertical-align: middle;\n",
       "    }\n",
       "\n",
       "    .dataframe tbody tr th {\n",
       "        vertical-align: top;\n",
       "    }\n",
       "\n",
       "    .dataframe thead th {\n",
       "        text-align: right;\n",
       "    }\n",
       "</style>\n",
       "<table border=\"1\" class=\"dataframe\">\n",
       "  <thead>\n",
       "    <tr style=\"text-align: right;\">\n",
       "      <th></th>\n",
       "      <th>label</th>\n",
       "      <th>id</th>\n",
       "      <th>date</th>\n",
       "      <th>no_query</th>\n",
       "      <th>name</th>\n",
       "      <th>text</th>\n",
       "    </tr>\n",
       "  </thead>\n",
       "  <tbody>\n",
       "    <tr>\n",
       "      <th>638487</th>\n",
       "      <td>neg</td>\n",
       "      <td>2234471696</td>\n",
       "      <td>Thu Jun 18 23:07:06 PDT 2009</td>\n",
       "      <td>NO_QUERY</td>\n",
       "      <td>courtlandmeans</td>\n",
       "      <td>I just want this whole feeling to go away! You...</td>\n",
       "    </tr>\n",
       "    <tr>\n",
       "      <th>1321400</th>\n",
       "      <td>pos</td>\n",
       "      <td>2014685283</td>\n",
       "      <td>Wed Jun 03 02:20:50 PDT 2009</td>\n",
       "      <td>NO_QUERY</td>\n",
       "      <td>sashapurse</td>\n",
       "      <td>@rowi_e hehe it's ok..same here, basics lang a...</td>\n",
       "    </tr>\n",
       "    <tr>\n",
       "      <th>913666</th>\n",
       "      <td>pos</td>\n",
       "      <td>1752673597</td>\n",
       "      <td>Sat May 09 22:36:42 PDT 2009</td>\n",
       "      <td>NO_QUERY</td>\n",
       "      <td>sxetravis</td>\n",
       "      <td>had a great day</td>\n",
       "    </tr>\n",
       "    <tr>\n",
       "      <th>478075</th>\n",
       "      <td>neg</td>\n",
       "      <td>2178427301</td>\n",
       "      <td>Mon Jun 15 07:41:09 PDT 2009</td>\n",
       "      <td>NO_QUERY</td>\n",
       "      <td>kiminikrikket</td>\n",
       "      <td>I miss you all!</td>\n",
       "    </tr>\n",
       "    <tr>\n",
       "      <th>1441884</th>\n",
       "      <td>pos</td>\n",
       "      <td>2061892445</td>\n",
       "      <td>Sat Jun 06 21:51:09 PDT 2009</td>\n",
       "      <td>NO_QUERY</td>\n",
       "      <td>DavidBass</td>\n",
       "      <td>@ginamcnew I think she saw in my face that des...</td>\n",
       "    </tr>\n",
       "  </tbody>\n",
       "</table>\n",
       "</div>"
      ],
      "text/plain": [
       "        label          id                          date  no_query  \\\n",
       "638487    neg  2234471696  Thu Jun 18 23:07:06 PDT 2009  NO_QUERY   \n",
       "1321400   pos  2014685283  Wed Jun 03 02:20:50 PDT 2009  NO_QUERY   \n",
       "913666    pos  1752673597  Sat May 09 22:36:42 PDT 2009  NO_QUERY   \n",
       "478075    neg  2178427301  Mon Jun 15 07:41:09 PDT 2009  NO_QUERY   \n",
       "1441884   pos  2061892445  Sat Jun 06 21:51:09 PDT 2009  NO_QUERY   \n",
       "\n",
       "                   name                                               text  \n",
       "638487   courtlandmeans  I just want this whole feeling to go away! You...  \n",
       "1321400      sashapurse  @rowi_e hehe it's ok..same here, basics lang a...  \n",
       "913666        sxetravis                                   had a great day   \n",
       "478075    kiminikrikket                                   I miss you all!   \n",
       "1441884       DavidBass  @ginamcnew I think she saw in my face that des...  "
      ]
     },
     "execution_count": 5,
     "metadata": {},
     "output_type": "execute_result"
    }
   ],
   "source": [
    "tweets_df_train.head()"
   ]
  },
  {
   "cell_type": "code",
   "execution_count": 6,
   "metadata": {},
   "outputs": [
    {
     "data": {
      "text/plain": [
       "(1200000, 6)"
      ]
     },
     "execution_count": 6,
     "metadata": {},
     "output_type": "execute_result"
    }
   ],
   "source": [
    "tweets_df_train.shape"
   ]
  },
  {
   "cell_type": "markdown",
   "metadata": {},
   "source": [
    "Holy cow!"
   ]
  },
  {
   "cell_type": "code",
   "execution_count": 7,
   "metadata": {},
   "outputs": [],
   "source": [
    "vec = CountVectorizer(stop_words='english')\n",
    "\n",
    "X_train = vec.fit_transform(tweets_df_train['text']) \n",
    "y_train = tweets_df_train['label']\n",
    "\n",
    "X_test = vec.transform(tweets_df_test['text']) \n",
    "y_test = tweets_df_test['label']"
   ]
  },
  {
   "cell_type": "code",
   "execution_count": 8,
   "metadata": {},
   "outputs": [
    {
     "data": {
      "text/plain": [
       "(1200000, 563972)"
      ]
     },
     "execution_count": 8,
     "metadata": {},
     "output_type": "execute_result"
    }
   ],
   "source": [
    "X_train.shape"
   ]
  },
  {
   "cell_type": "code",
   "execution_count": 9,
   "metadata": {},
   "outputs": [
    {
     "data": {
      "text/plain": [
       "scipy.sparse._csr.csr_matrix"
      ]
     },
     "execution_count": 9,
     "metadata": {},
     "output_type": "execute_result"
    }
   ],
   "source": [
    "type(X_train)"
   ]
  },
  {
   "cell_type": "markdown",
   "metadata": {},
   "source": [
    "Here is the **fraction of elements that are nonzero**, showing that having a sparse matrix really helps!!"
   ]
  },
  {
   "cell_type": "code",
   "execution_count": 10,
   "metadata": {
    "tags": []
   },
   "outputs": [
    {
     "data": {
      "text/plain": [
       "1.2338687322538471e-05"
      ]
     },
     "execution_count": 10,
     "metadata": {},
     "output_type": "execute_result"
    }
   ],
   "source": [
    "X_train.nnz / np.prod(X_train.shape)"
   ]
  },
  {
   "cell_type": "markdown",
   "metadata": {},
   "source": [
    "Now let's train a classifier. I'll use `%time` instead of `%timeit` because I want to keep the output, and it gets lost with `%timeit`."
   ]
  },
  {
   "cell_type": "code",
   "execution_count": 11,
   "metadata": {},
   "outputs": [
    {
     "data": {
      "text/plain": [
       "0.5002633333333333"
      ]
     },
     "execution_count": 11,
     "metadata": {},
     "output_type": "execute_result"
    }
   ],
   "source": [
    "dc = DummyClassifier()\n",
    "dc.fit(X_train, y_train)\n",
    "dc.score(X_train, y_train)"
   ]
  },
  {
   "cell_type": "code",
   "execution_count": 12,
   "metadata": {},
   "outputs": [],
   "source": [
    "lr = LogisticRegression()"
   ]
  },
  {
   "cell_type": "code",
   "execution_count": 13,
   "metadata": {},
   "outputs": [
    {
     "name": "stdout",
     "output_type": "stream",
     "text": [
      "CPU times: user 1min 47s, sys: 2.97 s, total: 1min 50s\n",
      "Wall time: 30.6 s\n"
     ]
    },
    {
     "name": "stderr",
     "output_type": "stream",
     "text": [
      "/home/moveisi/miniconda3/envs/cpsc330/lib/python3.10/site-packages/sklearn/linear_model/_logistic.py:814: ConvergenceWarning: lbfgs failed to converge (status=1):\n",
      "STOP: TOTAL NO. of ITERATIONS REACHED LIMIT.\n",
      "\n",
      "Increase the number of iterations (max_iter) or scale the data as shown in:\n",
      "    https://scikit-learn.org/stable/modules/preprocessing.html\n",
      "Please also refer to the documentation for alternative solver options:\n",
      "    https://scikit-learn.org/stable/modules/linear_model.html#logistic-regression\n",
      "  n_iter_i = _check_optimize_result(\n"
     ]
    },
    {
     "data": {
      "text/plain": [
       "LogisticRegression()"
      ]
     },
     "execution_count": 13,
     "metadata": {},
     "output_type": "execute_result"
    }
   ],
   "source": [
    "%time lr.fit(X_train, y_train);"
   ]
  },
  {
   "cell_type": "markdown",
   "metadata": {},
   "source": [
    "In `LogisticRegression`, the hyperparameter `max_iter` is set to 100 by default. We could increase it to get rid of this warning, but it would then take even longer to run `fit()`."
   ]
  },
  {
   "cell_type": "code",
   "execution_count": 14,
   "metadata": {},
   "outputs": [
    {
     "data": {
      "text/plain": [
       "0.8108816666666666"
      ]
     },
     "execution_count": 14,
     "metadata": {},
     "output_type": "execute_result"
    }
   ],
   "source": [
    "lr.score(X_train, y_train)"
   ]
  },
  {
   "cell_type": "code",
   "execution_count": 15,
   "metadata": {},
   "outputs": [
    {
     "data": {
      "text/plain": [
       "0.7764"
      ]
     },
     "execution_count": 15,
     "metadata": {},
     "output_type": "execute_result"
    }
   ],
   "source": [
    "lr.score(X_test, y_test)"
   ]
  },
  {
   "cell_type": "code",
   "execution_count": 16,
   "metadata": {},
   "outputs": [
    {
     "data": {
      "text/plain": [
       "array([100], dtype=int32)"
      ]
     },
     "execution_count": 16,
     "metadata": {},
     "output_type": "execute_result"
    }
   ],
   "source": [
    "lr.n_iter_"
   ]
  },
  {
   "cell_type": "markdown",
   "metadata": {},
   "source": [
    "Now, let's try to use `SGDClassifier` on the same data:"
   ]
  },
  {
   "cell_type": "code",
   "execution_count": 17,
   "metadata": {},
   "outputs": [],
   "source": [
    "lr_sgd = SGDClassifier(loss=\"log\")"
   ]
  },
  {
   "cell_type": "code",
   "execution_count": 18,
   "metadata": {},
   "outputs": [
    {
     "name": "stdout",
     "output_type": "stream",
     "text": [
      "CPU times: user 4.23 s, sys: 40.3 ms, total: 4.27 s\n",
      "Wall time: 3.66 s\n"
     ]
    },
    {
     "data": {
      "text/plain": [
       "SGDClassifier(loss='log')"
      ]
     },
     "execution_count": 18,
     "metadata": {},
     "output_type": "execute_result"
    }
   ],
   "source": [
    "%time lr_sgd.fit(X_train, y_train);"
   ]
  },
  {
   "cell_type": "code",
   "execution_count": 19,
   "metadata": {},
   "outputs": [
    {
     "data": {
      "text/plain": [
       "7"
      ]
     },
     "execution_count": 19,
     "metadata": {},
     "output_type": "execute_result"
    }
   ],
   "source": [
    "lr_sgd.n_iter_"
   ]
  },
  {
   "cell_type": "code",
   "execution_count": 20,
   "metadata": {},
   "outputs": [
    {
     "data": {
      "text/plain": [
       "0.7695691666666666"
      ]
     },
     "execution_count": 20,
     "metadata": {},
     "output_type": "execute_result"
    }
   ],
   "source": [
    "lr_sgd.score(X_train, y_train)"
   ]
  },
  {
   "cell_type": "code",
   "execution_count": 21,
   "metadata": {},
   "outputs": [
    {
     "data": {
      "text/plain": [
       "0.7667625"
      ]
     },
     "execution_count": 21,
     "metadata": {},
     "output_type": "execute_result"
    }
   ],
   "source": [
    "lr_sgd.score(X_test, y_test)"
   ]
  },
  {
   "cell_type": "markdown",
   "metadata": {},
   "source": [
    "- `SGDClassifier` was **about 10x faster** than `LogisticRegression`, but the accuracy is slightly lower.\n",
    "- In fact, we can control the speed vs. _train_ accuracy tradeoff in both cases using the hyperparameters.\n",
    "  - The main ones are `max_iter` (higher is slower) and/or `tol` (lower is slower)\n",
    "  - (This is the same for both `LogisticRegression` and `SGDClassifier`)\n",
    "  - This is analogous to `n_iter` in `RandomizedSearchCV` !\n",
    "- In general, `LogisticRegression` will get slightly higher _train_ accuracy (may or may not correspond to better validation/test)\n",
    "- But in some cases your **dataset is so big** that `LogisticRegression` is **not feasible**, and then `SGDClassifier` can save the day."
   ]
  },
  {
   "cell_type": "code",
   "execution_count": 22,
   "metadata": {},
   "outputs": [
    {
     "name": "stdout",
     "output_type": "stream",
     "text": [
      "Fitting 2 folds for each of 4 candidates, totalling 8 fits\n"
     ]
    },
    {
     "name": "stderr",
     "output_type": "stream",
     "text": [
      "/home/moveisi/miniconda3/envs/cpsc330/lib/python3.10/site-packages/sklearn/linear_model/_logistic.py:814: ConvergenceWarning: lbfgs failed to converge (status=1):\n",
      "STOP: TOTAL NO. of ITERATIONS REACHED LIMIT.\n",
      "\n",
      "Increase the number of iterations (max_iter) or scale the data as shown in:\n",
      "    https://scikit-learn.org/stable/modules/preprocessing.html\n",
      "Please also refer to the documentation for alternative solver options:\n",
      "    https://scikit-learn.org/stable/modules/linear_model.html#logistic-regression\n",
      "  n_iter_i = _check_optimize_result(\n",
      "/home/moveisi/miniconda3/envs/cpsc330/lib/python3.10/site-packages/sklearn/linear_model/_logistic.py:814: ConvergenceWarning: lbfgs failed to converge (status=1):\n",
      "STOP: TOTAL NO. of ITERATIONS REACHED LIMIT.\n",
      "\n",
      "Increase the number of iterations (max_iter) or scale the data as shown in:\n",
      "    https://scikit-learn.org/stable/modules/preprocessing.html\n",
      "Please also refer to the documentation for alternative solver options:\n",
      "    https://scikit-learn.org/stable/modules/linear_model.html#logistic-regression\n",
      "  n_iter_i = _check_optimize_result(\n",
      "/home/moveisi/miniconda3/envs/cpsc330/lib/python3.10/site-packages/sklearn/linear_model/_logistic.py:814: ConvergenceWarning: lbfgs failed to converge (status=1):\n",
      "STOP: TOTAL NO. of ITERATIONS REACHED LIMIT.\n",
      "\n",
      "Increase the number of iterations (max_iter) or scale the data as shown in:\n",
      "    https://scikit-learn.org/stable/modules/preprocessing.html\n",
      "Please also refer to the documentation for alternative solver options:\n",
      "    https://scikit-learn.org/stable/modules/linear_model.html#logistic-regression\n",
      "  n_iter_i = _check_optimize_result(\n",
      "/home/moveisi/miniconda3/envs/cpsc330/lib/python3.10/site-packages/sklearn/linear_model/_logistic.py:814: ConvergenceWarning: lbfgs failed to converge (status=1):\n",
      "STOP: TOTAL NO. of ITERATIONS REACHED LIMIT.\n",
      "\n",
      "Increase the number of iterations (max_iter) or scale the data as shown in:\n",
      "    https://scikit-learn.org/stable/modules/preprocessing.html\n",
      "Please also refer to the documentation for alternative solver options:\n",
      "    https://scikit-learn.org/stable/modules/linear_model.html#logistic-regression\n",
      "  n_iter_i = _check_optimize_result(\n",
      "/home/moveisi/miniconda3/envs/cpsc330/lib/python3.10/site-packages/sklearn/linear_model/_logistic.py:814: ConvergenceWarning: lbfgs failed to converge (status=1):\n",
      "STOP: TOTAL NO. of ITERATIONS REACHED LIMIT.\n",
      "\n",
      "Increase the number of iterations (max_iter) or scale the data as shown in:\n",
      "    https://scikit-learn.org/stable/modules/preprocessing.html\n",
      "Please also refer to the documentation for alternative solver options:\n",
      "    https://scikit-learn.org/stable/modules/linear_model.html#logistic-regression\n",
      "  n_iter_i = _check_optimize_result(\n",
      "/home/moveisi/miniconda3/envs/cpsc330/lib/python3.10/site-packages/sklearn/linear_model/_logistic.py:814: ConvergenceWarning: lbfgs failed to converge (status=1):\n",
      "STOP: TOTAL NO. of ITERATIONS REACHED LIMIT.\n",
      "\n",
      "Increase the number of iterations (max_iter) or scale the data as shown in:\n",
      "    https://scikit-learn.org/stable/modules/preprocessing.html\n",
      "Please also refer to the documentation for alternative solver options:\n",
      "    https://scikit-learn.org/stable/modules/linear_model.html#logistic-regression\n",
      "  n_iter_i = _check_optimize_result(\n",
      "/home/moveisi/miniconda3/envs/cpsc330/lib/python3.10/site-packages/sklearn/linear_model/_logistic.py:814: ConvergenceWarning: lbfgs failed to converge (status=1):\n",
      "STOP: TOTAL NO. of ITERATIONS REACHED LIMIT.\n",
      "\n",
      "Increase the number of iterations (max_iter) or scale the data as shown in:\n",
      "    https://scikit-learn.org/stable/modules/preprocessing.html\n",
      "Please also refer to the documentation for alternative solver options:\n",
      "    https://scikit-learn.org/stable/modules/linear_model.html#logistic-regression\n",
      "  n_iter_i = _check_optimize_result(\n",
      "/home/moveisi/miniconda3/envs/cpsc330/lib/python3.10/site-packages/sklearn/linear_model/_logistic.py:814: ConvergenceWarning: lbfgs failed to converge (status=1):\n",
      "STOP: TOTAL NO. of ITERATIONS REACHED LIMIT.\n",
      "\n",
      "Increase the number of iterations (max_iter) or scale the data as shown in:\n",
      "    https://scikit-learn.org/stable/modules/preprocessing.html\n",
      "Please also refer to the documentation for alternative solver options:\n",
      "    https://scikit-learn.org/stable/modules/linear_model.html#logistic-regression\n",
      "  n_iter_i = _check_optimize_result(\n",
      "/home/moveisi/miniconda3/envs/cpsc330/lib/python3.10/site-packages/sklearn/linear_model/_logistic.py:814: ConvergenceWarning: lbfgs failed to converge (status=1):\n",
      "STOP: TOTAL NO. of ITERATIONS REACHED LIMIT.\n",
      "\n",
      "Increase the number of iterations (max_iter) or scale the data as shown in:\n",
      "    https://scikit-learn.org/stable/modules/preprocessing.html\n",
      "Please also refer to the documentation for alternative solver options:\n",
      "    https://scikit-learn.org/stable/modules/linear_model.html#logistic-regression\n",
      "  n_iter_i = _check_optimize_result(\n"
     ]
    }
   ],
   "source": [
    "# from https://scikit-learn.org/stable/auto_examples/linear_model/plot_sgd_early_stopping.html#sphx-glr-auto-examples-linear-model-plot-sgd-early-stopping-py\n",
    "\n",
    "# from sklearn.utils._testing import ignore_warnings\n",
    "# from sklearn.exceptions import ConvergenceWarning\n",
    "\n",
    "# @ignore_warnings(category=ConvergenceWarning)\n",
    "def fit_grid_search_lr(iters):\n",
    "    grid_search_lr = GridSearchCV(\n",
    "        LogisticRegression(), \n",
    "        {\"max_iter\" : iters}, return_train_score=True, verbose=2, cv=2, n_jobs=-1)\n",
    "    # n_jobs=-1 might mess up the timing a bit but otherwise it takes too long\n",
    "    grid_search_lr.fit(X_train, y_train)\n",
    "    return grid_search_lr\n",
    "\n",
    "grid_search_lr = fit_grid_search_lr([3, 10, 30, 100])"
   ]
  },
  {
   "cell_type": "code",
   "execution_count": 23,
   "metadata": {},
   "outputs": [
    {
     "data": {
      "text/html": [
       "<div>\n",
       "<style scoped>\n",
       "    .dataframe tbody tr th:only-of-type {\n",
       "        vertical-align: middle;\n",
       "    }\n",
       "\n",
       "    .dataframe tbody tr th {\n",
       "        vertical-align: top;\n",
       "    }\n",
       "\n",
       "    .dataframe thead th {\n",
       "        text-align: right;\n",
       "    }\n",
       "</style>\n",
       "<table border=\"1\" class=\"dataframe\">\n",
       "  <thead>\n",
       "    <tr style=\"text-align: right;\">\n",
       "      <th></th>\n",
       "      <th>mean_fit_time</th>\n",
       "      <th>std_fit_time</th>\n",
       "      <th>mean_score_time</th>\n",
       "      <th>std_score_time</th>\n",
       "      <th>param_max_iter</th>\n",
       "      <th>params</th>\n",
       "      <th>split0_test_score</th>\n",
       "      <th>split1_test_score</th>\n",
       "      <th>mean_test_score</th>\n",
       "      <th>std_test_score</th>\n",
       "      <th>rank_test_score</th>\n",
       "      <th>split0_train_score</th>\n",
       "      <th>split1_train_score</th>\n",
       "      <th>mean_train_score</th>\n",
       "      <th>std_train_score</th>\n",
       "    </tr>\n",
       "  </thead>\n",
       "  <tbody>\n",
       "    <tr>\n",
       "      <th>0</th>\n",
       "      <td>8.009968</td>\n",
       "      <td>0.742118</td>\n",
       "      <td>4.775916</td>\n",
       "      <td>0.341908</td>\n",
       "      <td>3</td>\n",
       "      <td>{'max_iter': 3}</td>\n",
       "      <td>0.687295</td>\n",
       "      <td>0.687427</td>\n",
       "      <td>0.687361</td>\n",
       "      <td>0.000066</td>\n",
       "      <td>4</td>\n",
       "      <td>0.687573</td>\n",
       "      <td>0.688147</td>\n",
       "      <td>0.687860</td>\n",
       "      <td>0.000287</td>\n",
       "    </tr>\n",
       "    <tr>\n",
       "      <th>1</th>\n",
       "      <td>11.685373</td>\n",
       "      <td>1.088875</td>\n",
       "      <td>3.881189</td>\n",
       "      <td>0.089727</td>\n",
       "      <td>10</td>\n",
       "      <td>{'max_iter': 10}</td>\n",
       "      <td>0.754632</td>\n",
       "      <td>0.753495</td>\n",
       "      <td>0.754063</td>\n",
       "      <td>0.000568</td>\n",
       "      <td>3</td>\n",
       "      <td>0.757448</td>\n",
       "      <td>0.756968</td>\n",
       "      <td>0.757208</td>\n",
       "      <td>0.000240</td>\n",
       "    </tr>\n",
       "    <tr>\n",
       "      <th>2</th>\n",
       "      <td>19.471042</td>\n",
       "      <td>0.636646</td>\n",
       "      <td>2.475081</td>\n",
       "      <td>0.002605</td>\n",
       "      <td>30</td>\n",
       "      <td>{'max_iter': 30}</td>\n",
       "      <td>0.770763</td>\n",
       "      <td>0.771062</td>\n",
       "      <td>0.770913</td>\n",
       "      <td>0.000149</td>\n",
       "      <td>2</td>\n",
       "      <td>0.786268</td>\n",
       "      <td>0.784358</td>\n",
       "      <td>0.785313</td>\n",
       "      <td>0.000955</td>\n",
       "    </tr>\n",
       "    <tr>\n",
       "      <th>3</th>\n",
       "      <td>33.336141</td>\n",
       "      <td>0.401457</td>\n",
       "      <td>2.271428</td>\n",
       "      <td>0.067878</td>\n",
       "      <td>100</td>\n",
       "      <td>{'max_iter': 100}</td>\n",
       "      <td>0.772603</td>\n",
       "      <td>0.770943</td>\n",
       "      <td>0.771773</td>\n",
       "      <td>0.000830</td>\n",
       "      <td>1</td>\n",
       "      <td>0.835227</td>\n",
       "      <td>0.832345</td>\n",
       "      <td>0.833786</td>\n",
       "      <td>0.001441</td>\n",
       "    </tr>\n",
       "  </tbody>\n",
       "</table>\n",
       "</div>"
      ],
      "text/plain": [
       "   mean_fit_time  std_fit_time  mean_score_time  std_score_time  \\\n",
       "0       8.009968      0.742118         4.775916        0.341908   \n",
       "1      11.685373      1.088875         3.881189        0.089727   \n",
       "2      19.471042      0.636646         2.475081        0.002605   \n",
       "3      33.336141      0.401457         2.271428        0.067878   \n",
       "\n",
       "  param_max_iter             params  split0_test_score  split1_test_score  \\\n",
       "0              3    {'max_iter': 3}           0.687295           0.687427   \n",
       "1             10   {'max_iter': 10}           0.754632           0.753495   \n",
       "2             30   {'max_iter': 30}           0.770763           0.771062   \n",
       "3            100  {'max_iter': 100}           0.772603           0.770943   \n",
       "\n",
       "   mean_test_score  std_test_score  rank_test_score  split0_train_score  \\\n",
       "0         0.687361        0.000066                4            0.687573   \n",
       "1         0.754063        0.000568                3            0.757448   \n",
       "2         0.770913        0.000149                2            0.786268   \n",
       "3         0.771773        0.000830                1            0.835227   \n",
       "\n",
       "   split1_train_score  mean_train_score  std_train_score  \n",
       "0            0.688147          0.687860         0.000287  \n",
       "1            0.756968          0.757208         0.000240  \n",
       "2            0.784358          0.785313         0.000955  \n",
       "3            0.832345          0.833786         0.001441  "
      ]
     },
     "execution_count": 23,
     "metadata": {},
     "output_type": "execute_result"
    }
   ],
   "source": [
    "results_lr = pd.DataFrame(grid_search_lr.cv_results_)\n",
    "results_lr"
   ]
  },
  {
   "cell_type": "code",
   "execution_count": 24,
   "metadata": {},
   "outputs": [
    {
     "name": "stdout",
     "output_type": "stream",
     "text": [
      "Fitting 2 folds for each of 3 candidates, totalling 6 fits\n"
     ]
    }
   ],
   "source": [
    "grid_search_sgd = GridSearchCV(\n",
    "    SGDClassifier(loss=\"log\", max_iter=100_000),\n",
    "    {\"tol\" : [1e-3, 1e-4, 1e-5]},\n",
    "    return_train_score=True, verbose=2, cv=2, n_jobs=-1)\n",
    "\n",
    "grid_search_sgd.fit(X_train, y_train);"
   ]
  },
  {
   "cell_type": "code",
   "execution_count": 25,
   "metadata": {},
   "outputs": [
    {
     "data": {
      "text/html": [
       "<div>\n",
       "<style scoped>\n",
       "    .dataframe tbody tr th:only-of-type {\n",
       "        vertical-align: middle;\n",
       "    }\n",
       "\n",
       "    .dataframe tbody tr th {\n",
       "        vertical-align: top;\n",
       "    }\n",
       "\n",
       "    .dataframe thead th {\n",
       "        text-align: right;\n",
       "    }\n",
       "</style>\n",
       "<table border=\"1\" class=\"dataframe\">\n",
       "  <thead>\n",
       "    <tr style=\"text-align: right;\">\n",
       "      <th></th>\n",
       "      <th>mean_fit_time</th>\n",
       "      <th>std_fit_time</th>\n",
       "      <th>mean_score_time</th>\n",
       "      <th>std_score_time</th>\n",
       "      <th>param_tol</th>\n",
       "      <th>params</th>\n",
       "      <th>split0_test_score</th>\n",
       "      <th>split1_test_score</th>\n",
       "      <th>mean_test_score</th>\n",
       "      <th>std_test_score</th>\n",
       "      <th>rank_test_score</th>\n",
       "      <th>split0_train_score</th>\n",
       "      <th>split1_train_score</th>\n",
       "      <th>mean_train_score</th>\n",
       "      <th>std_train_score</th>\n",
       "    </tr>\n",
       "  </thead>\n",
       "  <tbody>\n",
       "    <tr>\n",
       "      <th>0</th>\n",
       "      <td>5.184362</td>\n",
       "      <td>0.053181</td>\n",
       "      <td>3.849718</td>\n",
       "      <td>0.054271</td>\n",
       "      <td>0.001</td>\n",
       "      <td>{'tol': 0.001}</td>\n",
       "      <td>0.765213</td>\n",
       "      <td>0.764945</td>\n",
       "      <td>0.765079</td>\n",
       "      <td>0.000134</td>\n",
       "      <td>3</td>\n",
       "      <td>0.772183</td>\n",
       "      <td>0.772630</td>\n",
       "      <td>0.772407</td>\n",
       "      <td>0.000223</td>\n",
       "    </tr>\n",
       "    <tr>\n",
       "      <th>1</th>\n",
       "      <td>8.374817</td>\n",
       "      <td>0.242586</td>\n",
       "      <td>5.378076</td>\n",
       "      <td>0.235454</td>\n",
       "      <td>0.0001</td>\n",
       "      <td>{'tol': 0.0001}</td>\n",
       "      <td>0.765213</td>\n",
       "      <td>0.765028</td>\n",
       "      <td>0.765121</td>\n",
       "      <td>0.000092</td>\n",
       "      <td>2</td>\n",
       "      <td>0.772127</td>\n",
       "      <td>0.772695</td>\n",
       "      <td>0.772411</td>\n",
       "      <td>0.000284</td>\n",
       "    </tr>\n",
       "    <tr>\n",
       "      <th>2</th>\n",
       "      <td>19.963195</td>\n",
       "      <td>0.089307</td>\n",
       "      <td>1.887105</td>\n",
       "      <td>0.060743</td>\n",
       "      <td>0.00001</td>\n",
       "      <td>{'tol': 1e-05}</td>\n",
       "      <td>0.765393</td>\n",
       "      <td>0.765207</td>\n",
       "      <td>0.765300</td>\n",
       "      <td>0.000093</td>\n",
       "      <td>1</td>\n",
       "      <td>0.772352</td>\n",
       "      <td>0.772847</td>\n",
       "      <td>0.772599</td>\n",
       "      <td>0.000248</td>\n",
       "    </tr>\n",
       "  </tbody>\n",
       "</table>\n",
       "</div>"
      ],
      "text/plain": [
       "   mean_fit_time  std_fit_time  mean_score_time  std_score_time param_tol  \\\n",
       "0       5.184362      0.053181         3.849718        0.054271     0.001   \n",
       "1       8.374817      0.242586         5.378076        0.235454    0.0001   \n",
       "2      19.963195      0.089307         1.887105        0.060743   0.00001   \n",
       "\n",
       "            params  split0_test_score  split1_test_score  mean_test_score  \\\n",
       "0   {'tol': 0.001}           0.765213           0.764945         0.765079   \n",
       "1  {'tol': 0.0001}           0.765213           0.765028         0.765121   \n",
       "2   {'tol': 1e-05}           0.765393           0.765207         0.765300   \n",
       "\n",
       "   std_test_score  rank_test_score  split0_train_score  split1_train_score  \\\n",
       "0        0.000134                3            0.772183            0.772630   \n",
       "1        0.000092                2            0.772127            0.772695   \n",
       "2        0.000093                1            0.772352            0.772847   \n",
       "\n",
       "   mean_train_score  std_train_score  \n",
       "0          0.772407         0.000223  \n",
       "1          0.772411         0.000284  \n",
       "2          0.772599         0.000248  "
      ]
     },
     "execution_count": 25,
     "metadata": {},
     "output_type": "execute_result"
    }
   ],
   "source": [
    "results_sgd = pd.DataFrame(grid_search_sgd.cv_results_)\n",
    "results_sgd"
   ]
  },
  {
   "cell_type": "code",
   "execution_count": 26,
   "metadata": {},
   "outputs": [
    {
     "data": {
      "image/png": "[encoded data removed]",
      "text/plain": [
       "<Figure size 432x288 with 1 Axes>"
      ]
     },
     "metadata": {
      "needs_background": "light"
     },
     "output_type": "display_data"
    }
   ],
   "source": [
    "plt.plot(results_lr[\"mean_fit_time\"], results_lr[\"mean_train_score\"], label=\"lr train\")\n",
    "plt.plot(results_lr[\"mean_fit_time\"], results_lr[\"mean_test_score\"], label=\"lr cv\")\n",
    "plt.plot(results_sgd[\"mean_fit_time\"], results_sgd[\"mean_train_score\"], label=\"sgd train\")\n",
    "plt.plot(results_sgd[\"mean_fit_time\"], results_sgd[\"mean_test_score\"], label=\"sgd cv\")\n",
    "plt.xlabel(\"fit time(s)\");\n",
    "plt.ylabel(\"accuracy score\");\n",
    "plt.legend();"
   ]
  },
  {
   "cell_type": "markdown",
   "metadata": {},
   "source": [
    "<br><br>"
   ]
  },
  {
   "cell_type": "markdown",
   "metadata": {},
   "source": [
    "TL;DR if you don't want to wait that long, `SGDClassifier` will probably do better on a large dataset."
   ]
  }
 ],
 "metadata": {
  "kernelspec": {
   "display_name": "Python [conda env:cpsc330]",
   "language": "python",
   "name": "conda-env-cpsc330-py"
  },
  "language_info": {
   "codemirror_mode": {
    "name": "ipython",
    "version": 3
   },
   "file_extension": ".py",
   "mimetype": "text/x-python",
   "name": "python",
   "nbconvert_exporter": "python",
   "pygments_lexer": "ipython3",
   "version": "3.10.4"
  }
 },
 "nbformat": 4,
 "nbformat_minor": 4
}
