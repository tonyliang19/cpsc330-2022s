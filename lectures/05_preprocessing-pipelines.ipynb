{
 "cells": [
  {
   "cell_type": "markdown",
   "metadata": {
    "slideshow": {
     "slide_type": "slide"
    }
   },
   "source": [
    "![](img/330-banner.png)"
   ]
  },
  {
   "cell_type": "markdown",
   "metadata": {
    "slideshow": {
     "slide_type": "-"
    }
   },
   "source": [
    "# Lecture 5: Preprocessing and `sklearn` pipelines\n",
    "\n",
    "UBC 2022 Summer\n",
    "\n",
    "Instructor: Mehrdad Oveisi"
   ]
  },
  {
   "cell_type": "markdown",
   "metadata": {
    "slideshow": {
     "slide_type": "skip"
    }
   },
   "source": [
    "## Imports"
   ]
  },
  {
   "cell_type": "code",
   "execution_count": 2,
   "metadata": {
    "slideshow": {
     "slide_type": "skip"
    }
   },
   "outputs": [],
   "source": [
    "import sys\n",
    "import time\n",
    "\n",
    "import matplotlib.pyplot as plt\n",
    "\n",
    "%matplotlib inline\n",
    "import numpy as np\n",
    "import pandas as pd\n",
    "from IPython.display import HTML\n",
    "\n",
    "sys.path.append(\"code/.\")\n",
    "\n",
    "import mglearn\n",
    "from IPython.display import display\n",
    "from plotting_functions import *\n",
    "\n",
    "# Classifiers and regressors\n",
    "from sklearn.dummy import DummyClassifier, DummyRegressor\n",
    "\n",
    "# Preprocessing and pipeline\n",
    "from sklearn.impute import SimpleImputer\n",
    "\n",
    "# train test split and cross validation\n",
    "from sklearn.model_selection import cross_val_score, cross_validate, train_test_split\n",
    "from sklearn.neighbors import KNeighborsClassifier, KNeighborsRegressor\n",
    "from sklearn.pipeline import Pipeline\n",
    "from sklearn.preprocessing import (\n",
    "    MinMaxScaler,\n",
    "    OneHotEncoder,\n",
    "    OrdinalEncoder,\n",
    "    StandardScaler,\n",
    ")\n",
    "from sklearn.svm import SVC\n",
    "from sklearn.tree import DecisionTreeClassifier\n",
    "from utils import *\n",
    "\n",
    "pd.set_option(\"display.max_colwidth\", 200)"
   ]
  },
  {
   "cell_type": "markdown",
   "metadata": {
    "slideshow": {
     "slide_type": "slide"
    }
   },
   "source": [
    "## Learning outcomes\n",
    "\n",
    "From this lecture, you will be able to \n",
    "\n",
    "- explain motivation for preprocessing in supervised machine learning;\n",
    "- identify when to implement feature transformations such as imputation, scaling, and one-hot encoding in a machine learning model development pipeline; \n",
    "- use `sklearn` transformers for applying feature transformations on your dataset;\n",
    "- discuss golden rule in the context of feature transformations;\n",
    "- use `sklearn.pipeline.Pipeline` and `sklearn.pipeline.make_pipeline` to build a preliminary machine learning pipeline. "
   ]
  },
  {
   "cell_type": "markdown",
   "metadata": {
    "slideshow": {
     "slide_type": "slide"
    }
   },
   "source": [
    "## Motivation and big picture [[video](https://youtu.be/xx9HlmzORRk)]"
   ]
  },
  {
   "cell_type": "markdown",
   "metadata": {
    "slideshow": {
     "slide_type": "-"
    }
   },
   "source": [
    "- So far we have seen\n",
    "    - Three ML models (decision trees, $k$-NNs, SVMs with RBF kernel)\n",
    "    - ML fundamentals (train-validation-test split, cross-validation, the fundamental tradeoff, the golden rule)\n",
    "- Are we ready to do machine learning on real-world datasets?\n",
    "    - Very often real-world datasets need preprocessing before we use them to build ML models. "
   ]
  },
  {
   "cell_type": "markdown",
   "metadata": {
    "slideshow": {
     "slide_type": "slide"
    },
    "tags": []
   },
   "source": [
    "### Example: $k$-nearest neighbours on the Spotify dataset\n",
    "\n",
    "- In lab1 you used `DecisionTreeClassifier` to predict whether the user would like a particular song or not. \n",
    "- Can we use $k$-NN classifier for this task? \n",
    "- Intuition: To predict whether the user likes a particular song or not (query point) \n",
    "   - find the songs that are closest to the query point\n",
    "   - let them vote on the target\n",
    "   - take the majority vote as the target for the query point\n",
    "   "
   ]
  },
  {
   "cell_type": "code",
   "execution_count": 3,
   "metadata": {
    "slideshow": {
     "slide_type": "slide"
    }
   },
   "outputs": [],
   "source": [
    "spotify_df = pd.read_csv(\"data/spotify.csv\", index_col=0)\n",
    "train_df, test_df = train_test_split(spotify_df, test_size=0.20, random_state=123)\n",
    "X_train, y_train = (\n",
    "    train_df.drop(columns=[\"song_title\", \"artist\", \"target\"]),\n",
    "    train_df[\"target\"],\n",
    ")\n",
    "X_test, y_test = (\n",
    "    test_df.drop(columns=[\"song_title\", \"artist\", \"target\"]),\n",
    "    test_df[\"target\"],\n",
    ")"
   ]
  },
  {
   "cell_type": "code",
   "execution_count": 4,
   "metadata": {},
   "outputs": [
    {
     "name": "stdout",
     "output_type": "stream",
     "text": [
      "Mean validation score 0.508\n"
     ]
    },
    {
     "data": {
      "text/html": [
       "<div>\n",
       "<style scoped>\n",
       "    .dataframe tbody tr th:only-of-type {\n",
       "        vertical-align: middle;\n",
       "    }\n",
       "\n",
       "    .dataframe tbody tr th {\n",
       "        vertical-align: top;\n",
       "    }\n",
       "\n",
       "    .dataframe thead th {\n",
       "        text-align: right;\n",
       "    }\n",
       "</style>\n",
       "<table border=\"1\" class=\"dataframe\">\n",
       "  <thead>\n",
       "    <tr style=\"text-align: right;\">\n",
       "      <th></th>\n",
       "      <th>fit_time</th>\n",
       "      <th>score_time</th>\n",
       "      <th>test_score</th>\n",
       "      <th>train_score</th>\n",
       "    </tr>\n",
       "  </thead>\n",
       "  <tbody>\n",
       "    <tr>\n",
       "      <th>0</th>\n",
       "      <td>0.001393</td>\n",
       "      <td>0.000885</td>\n",
       "      <td>0.507740</td>\n",
       "      <td>0.507752</td>\n",
       "    </tr>\n",
       "    <tr>\n",
       "      <th>1</th>\n",
       "      <td>0.001201</td>\n",
       "      <td>0.000465</td>\n",
       "      <td>0.507740</td>\n",
       "      <td>0.507752</td>\n",
       "    </tr>\n",
       "    <tr>\n",
       "      <th>2</th>\n",
       "      <td>0.001693</td>\n",
       "      <td>0.000444</td>\n",
       "      <td>0.507740</td>\n",
       "      <td>0.507752</td>\n",
       "    </tr>\n",
       "    <tr>\n",
       "      <th>3</th>\n",
       "      <td>0.001152</td>\n",
       "      <td>0.000287</td>\n",
       "      <td>0.506211</td>\n",
       "      <td>0.508133</td>\n",
       "    </tr>\n",
       "    <tr>\n",
       "      <th>4</th>\n",
       "      <td>0.000700</td>\n",
       "      <td>0.000593</td>\n",
       "      <td>0.509317</td>\n",
       "      <td>0.507359</td>\n",
       "    </tr>\n",
       "  </tbody>\n",
       "</table>\n",
       "</div>"
      ],
      "text/plain": [
       "   fit_time  score_time  test_score  train_score\n",
       "0  0.001393    0.000885    0.507740     0.507752\n",
       "1  0.001201    0.000465    0.507740     0.507752\n",
       "2  0.001693    0.000444    0.507740     0.507752\n",
       "3  0.001152    0.000287    0.506211     0.508133\n",
       "4  0.000700    0.000593    0.509317     0.507359"
      ]
     },
     "execution_count": 4,
     "metadata": {},
     "output_type": "execute_result"
    }
   ],
   "source": [
    "dummy = DummyClassifier(strategy=\"most_frequent\")\n",
    "scores = cross_validate(dummy, X_train, y_train, return_train_score=True)\n",
    "print(\"Mean validation score %0.3f\" % (np.mean(scores[\"test_score\"])))\n",
    "pd.DataFrame(scores)"
   ]
  },
  {
   "cell_type": "code",
   "execution_count": 5,
   "metadata": {
    "slideshow": {
     "slide_type": "slide"
    }
   },
   "outputs": [
    {
     "name": "stdout",
     "output_type": "stream",
     "text": [
      "Mean validation score 0.546\n"
     ]
    },
    {
     "data": {
      "text/html": [
       "<div>\n",
       "<style scoped>\n",
       "    .dataframe tbody tr th:only-of-type {\n",
       "        vertical-align: middle;\n",
       "    }\n",
       "\n",
       "    .dataframe tbody tr th {\n",
       "        vertical-align: top;\n",
       "    }\n",
       "\n",
       "    .dataframe thead th {\n",
       "        text-align: right;\n",
       "    }\n",
       "</style>\n",
       "<table border=\"1\" class=\"dataframe\">\n",
       "  <thead>\n",
       "    <tr style=\"text-align: right;\">\n",
       "      <th></th>\n",
       "      <th>fit_time</th>\n",
       "      <th>score_time</th>\n",
       "      <th>test_score</th>\n",
       "      <th>train_score</th>\n",
       "    </tr>\n",
       "  </thead>\n",
       "  <tbody>\n",
       "    <tr>\n",
       "      <th>0</th>\n",
       "      <td>0.006364</td>\n",
       "      <td>0.013621</td>\n",
       "      <td>0.563467</td>\n",
       "      <td>0.717829</td>\n",
       "    </tr>\n",
       "    <tr>\n",
       "      <th>1</th>\n",
       "      <td>0.002828</td>\n",
       "      <td>0.008317</td>\n",
       "      <td>0.535604</td>\n",
       "      <td>0.721705</td>\n",
       "    </tr>\n",
       "    <tr>\n",
       "      <th>2</th>\n",
       "      <td>0.002573</td>\n",
       "      <td>0.008169</td>\n",
       "      <td>0.529412</td>\n",
       "      <td>0.708527</td>\n",
       "    </tr>\n",
       "    <tr>\n",
       "      <th>3</th>\n",
       "      <td>0.002580</td>\n",
       "      <td>0.008737</td>\n",
       "      <td>0.537267</td>\n",
       "      <td>0.721921</td>\n",
       "    </tr>\n",
       "    <tr>\n",
       "      <th>4</th>\n",
       "      <td>0.002859</td>\n",
       "      <td>0.008458</td>\n",
       "      <td>0.562112</td>\n",
       "      <td>0.711077</td>\n",
       "    </tr>\n",
       "  </tbody>\n",
       "</table>\n",
       "</div>"
      ],
      "text/plain": [
       "   fit_time  score_time  test_score  train_score\n",
       "0  0.006364    0.013621    0.563467     0.717829\n",
       "1  0.002828    0.008317    0.535604     0.721705\n",
       "2  0.002573    0.008169    0.529412     0.708527\n",
       "3  0.002580    0.008737    0.537267     0.721921\n",
       "4  0.002859    0.008458    0.562112     0.711077"
      ]
     },
     "execution_count": 5,
     "metadata": {},
     "output_type": "execute_result"
    }
   ],
   "source": [
    "knn = KNeighborsClassifier()\n",
    "scores = cross_validate(knn, X_train, y_train, return_train_score=True)\n",
    "print(\"Mean validation score %0.3f\" % (np.mean(scores[\"test_score\"])))\n",
    "pd.DataFrame(scores)"
   ]
  },
  {
   "cell_type": "code",
   "execution_count": 6,
   "metadata": {
    "slideshow": {
     "slide_type": "slide"
    }
   },
   "outputs": [
    {
     "data": {
      "text/html": [
       "<div>\n",
       "<style scoped>\n",
       "    .dataframe tbody tr th:only-of-type {\n",
       "        vertical-align: middle;\n",
       "    }\n",
       "\n",
       "    .dataframe tbody tr th {\n",
       "        vertical-align: top;\n",
       "    }\n",
       "\n",
       "    .dataframe thead th {\n",
       "        text-align: right;\n",
       "    }\n",
       "</style>\n",
       "<table border=\"1\" class=\"dataframe\">\n",
       "  <thead>\n",
       "    <tr style=\"text-align: right;\">\n",
       "      <th></th>\n",
       "      <th>acousticness</th>\n",
       "      <th>danceability</th>\n",
       "      <th>duration_ms</th>\n",
       "      <th>energy</th>\n",
       "      <th>instrumentalness</th>\n",
       "      <th>key</th>\n",
       "      <th>liveness</th>\n",
       "      <th>loudness</th>\n",
       "      <th>mode</th>\n",
       "      <th>speechiness</th>\n",
       "      <th>tempo</th>\n",
       "      <th>time_signature</th>\n",
       "      <th>valence</th>\n",
       "    </tr>\n",
       "  </thead>\n",
       "  <tbody>\n",
       "    <tr>\n",
       "      <th>842</th>\n",
       "      <td>0.229000</td>\n",
       "      <td>0.494</td>\n",
       "      <td>147893</td>\n",
       "      <td>0.666</td>\n",
       "      <td>0.000057</td>\n",
       "      <td>9</td>\n",
       "      <td>0.0469</td>\n",
       "      <td>-9.743</td>\n",
       "      <td>0</td>\n",
       "      <td>0.0351</td>\n",
       "      <td>140.832</td>\n",
       "      <td>4.0</td>\n",
       "      <td>0.704</td>\n",
       "    </tr>\n",
       "    <tr>\n",
       "      <th>654</th>\n",
       "      <td>0.000289</td>\n",
       "      <td>0.771</td>\n",
       "      <td>227143</td>\n",
       "      <td>0.949</td>\n",
       "      <td>0.602000</td>\n",
       "      <td>8</td>\n",
       "      <td>0.5950</td>\n",
       "      <td>-4.712</td>\n",
       "      <td>1</td>\n",
       "      <td>0.1750</td>\n",
       "      <td>111.959</td>\n",
       "      <td>4.0</td>\n",
       "      <td>0.372</td>\n",
       "    </tr>\n",
       "  </tbody>\n",
       "</table>\n",
       "</div>"
      ],
      "text/plain": [
       "     acousticness  danceability  duration_ms  energy  instrumentalness  key  \\\n",
       "842      0.229000         0.494       147893   0.666          0.000057    9   \n",
       "654      0.000289         0.771       227143   0.949          0.602000    8   \n",
       "\n",
       "     liveness  loudness  mode  speechiness    tempo  time_signature  valence  \n",
       "842    0.0469    -9.743     0       0.0351  140.832             4.0    0.704  \n",
       "654    0.5950    -4.712     1       0.1750  111.959             4.0    0.372  "
      ]
     },
     "execution_count": 6,
     "metadata": {},
     "output_type": "execute_result"
    }
   ],
   "source": [
    "two_songs = X_train.sample(2, random_state=42)\n",
    "two_songs"
   ]
  },
  {
   "cell_type": "code",
   "execution_count": 7,
   "metadata": {
    "slideshow": {
     "slide_type": "slide"
    }
   },
   "outputs": [
    {
     "data": {
      "text/plain": [
       "array([[    0.        , 79250.00543825],\n",
       "       [79250.00543825,     0.        ]])"
      ]
     },
     "execution_count": 7,
     "metadata": {},
     "output_type": "execute_result"
    }
   ],
   "source": [
    "euclidean_distances(two_songs)"
   ]
  },
  {
   "cell_type": "markdown",
   "metadata": {},
   "source": [
    "Let's consider only two features: `duration_ms` and `tempo`."
   ]
  },
  {
   "cell_type": "code",
   "execution_count": 8,
   "metadata": {},
   "outputs": [
    {
     "data": {
      "text/html": [
       "<div>\n",
       "<style scoped>\n",
       "    .dataframe tbody tr th:only-of-type {\n",
       "        vertical-align: middle;\n",
       "    }\n",
       "\n",
       "    .dataframe tbody tr th {\n",
       "        vertical-align: top;\n",
       "    }\n",
       "\n",
       "    .dataframe thead th {\n",
       "        text-align: right;\n",
       "    }\n",
       "</style>\n",
       "<table border=\"1\" class=\"dataframe\">\n",
       "  <thead>\n",
       "    <tr style=\"text-align: right;\">\n",
       "      <th></th>\n",
       "      <th>duration_ms</th>\n",
       "      <th>tempo</th>\n",
       "    </tr>\n",
       "  </thead>\n",
       "  <tbody>\n",
       "    <tr>\n",
       "      <th>842</th>\n",
       "      <td>147893</td>\n",
       "      <td>140.832</td>\n",
       "    </tr>\n",
       "    <tr>\n",
       "      <th>654</th>\n",
       "      <td>227143</td>\n",
       "      <td>111.959</td>\n",
       "    </tr>\n",
       "  </tbody>\n",
       "</table>\n",
       "</div>"
      ],
      "text/plain": [
       "     duration_ms    tempo\n",
       "842       147893  140.832\n",
       "654       227143  111.959"
      ]
     },
     "execution_count": 8,
     "metadata": {},
     "output_type": "execute_result"
    }
   ],
   "source": [
    "two_songs_subset = two_songs[[\"duration_ms\", \"tempo\"]]\n",
    "two_songs_subset"
   ]
  },
  {
   "cell_type": "code",
   "execution_count": 9,
   "metadata": {},
   "outputs": [
    {
     "data": {
      "text/plain": [
       "array([[    0.        , 79250.00525962],\n",
       "       [79250.00525962,     0.        ]])"
      ]
     },
     "execution_count": 9,
     "metadata": {},
     "output_type": "execute_result"
    }
   ],
   "source": [
    "euclidean_distances(two_songs_subset)"
   ]
  },
  {
   "cell_type": "markdown",
   "metadata": {},
   "source": [
    "Do you see any problem? "
   ]
  },
  {
   "cell_type": "markdown",
   "metadata": {
    "slideshow": {
     "slide_type": "slide"
    }
   },
   "source": [
    "- The distance is completely **dominated** by the the features with **larger values**\n",
    "- The features with smaller values are being ignored. \n",
    "- Does it matter? \n",
    "    - Yes! Scale is based on how data was collected. \n",
    "    - Features on a smaller scale can be highly informative and there is no good reason to ignore them.\n",
    "    - We want our model to **be robust and not sensitive to the scale**.\n",
    "- Was this a problem for decision trees?\n"
   ]
  },
  {
   "cell_type": "markdown",
   "metadata": {
    "slideshow": {
     "slide_type": "slide"
    }
   },
   "source": [
    "### Scaling using `scikit-learn`'s [`StandardScaler`](https://scikit-learn.org/stable/modules/generated/sklearn.preprocessing.StandardScaler.html)\n",
    "\n",
    "- We'll use `scikit-learn`'s [`StandardScaler`](https://scikit-learn.org/stable/modules/generated/sklearn.preprocessing.StandardScaler.html), which is a `transformer`.   \n",
    "- Only focus on the syntax for now. We'll talk about scaling in a bit. "
   ]
  },
  {
   "cell_type": "code",
   "execution_count": 10,
   "metadata": {
    "slideshow": {
     "slide_type": "slide"
    }
   },
   "outputs": [
    {
     "data": {
      "text/html": [
       "<div>\n",
       "<style scoped>\n",
       "    .dataframe tbody tr th:only-of-type {\n",
       "        vertical-align: middle;\n",
       "    }\n",
       "\n",
       "    .dataframe tbody tr th {\n",
       "        vertical-align: top;\n",
       "    }\n",
       "\n",
       "    .dataframe thead th {\n",
       "        text-align: right;\n",
       "    }\n",
       "</style>\n",
       "<table border=\"1\" class=\"dataframe\">\n",
       "  <thead>\n",
       "    <tr style=\"text-align: right;\">\n",
       "      <th></th>\n",
       "      <th>acousticness</th>\n",
       "      <th>danceability</th>\n",
       "      <th>duration_ms</th>\n",
       "      <th>energy</th>\n",
       "      <th>instrumentalness</th>\n",
       "      <th>key</th>\n",
       "      <th>liveness</th>\n",
       "      <th>loudness</th>\n",
       "      <th>mode</th>\n",
       "      <th>speechiness</th>\n",
       "      <th>tempo</th>\n",
       "      <th>time_signature</th>\n",
       "      <th>valence</th>\n",
       "    </tr>\n",
       "  </thead>\n",
       "  <tbody>\n",
       "    <tr>\n",
       "      <th>0</th>\n",
       "      <td>-0.697633</td>\n",
       "      <td>-0.194548</td>\n",
       "      <td>-0.398940</td>\n",
       "      <td>-0.318116</td>\n",
       "      <td>-0.492359</td>\n",
       "      <td>1.275623</td>\n",
       "      <td>-0.737898</td>\n",
       "      <td>0.395794</td>\n",
       "      <td>-1.280599</td>\n",
       "      <td>-0.617752</td>\n",
       "      <td>-0.293827</td>\n",
       "      <td>0.138514</td>\n",
       "      <td>-0.908149</td>\n",
       "    </tr>\n",
       "    <tr>\n",
       "      <th>1</th>\n",
       "      <td>-0.276291</td>\n",
       "      <td>0.295726</td>\n",
       "      <td>-0.374443</td>\n",
       "      <td>-0.795552</td>\n",
       "      <td>0.598355</td>\n",
       "      <td>-1.487342</td>\n",
       "      <td>-0.438792</td>\n",
       "      <td>-0.052394</td>\n",
       "      <td>0.780884</td>\n",
       "      <td>2.728394</td>\n",
       "      <td>-0.802595</td>\n",
       "      <td>-3.781179</td>\n",
       "      <td>-1.861238</td>\n",
       "    </tr>\n",
       "    <tr>\n",
       "      <th>2</th>\n",
       "      <td>-0.599540</td>\n",
       "      <td>1.110806</td>\n",
       "      <td>-0.376205</td>\n",
       "      <td>-0.946819</td>\n",
       "      <td>-0.492917</td>\n",
       "      <td>0.446734</td>\n",
       "      <td>-0.399607</td>\n",
       "      <td>-0.879457</td>\n",
       "      <td>0.780884</td>\n",
       "      <td>2.534909</td>\n",
       "      <td>0.191274</td>\n",
       "      <td>0.138514</td>\n",
       "      <td>0.575870</td>\n",
       "    </tr>\n",
       "    <tr>\n",
       "      <th>3</th>\n",
       "      <td>-0.307150</td>\n",
       "      <td>1.809445</td>\n",
       "      <td>-0.654016</td>\n",
       "      <td>-1.722063</td>\n",
       "      <td>-0.492168</td>\n",
       "      <td>0.170437</td>\n",
       "      <td>-0.763368</td>\n",
       "      <td>-1.460798</td>\n",
       "      <td>-1.280599</td>\n",
       "      <td>-0.608647</td>\n",
       "      <td>-0.839616</td>\n",
       "      <td>0.138514</td>\n",
       "      <td>1.825358</td>\n",
       "    </tr>\n",
       "    <tr>\n",
       "      <th>4</th>\n",
       "      <td>-0.634642</td>\n",
       "      <td>0.491835</td>\n",
       "      <td>-0.131344</td>\n",
       "      <td>1.057468</td>\n",
       "      <td>2.723273</td>\n",
       "      <td>0.170437</td>\n",
       "      <td>-0.458384</td>\n",
       "      <td>-0.175645</td>\n",
       "      <td>-1.280599</td>\n",
       "      <td>-0.653035</td>\n",
       "      <td>-0.074294</td>\n",
       "      <td>0.138514</td>\n",
       "      <td>-0.754491</td>\n",
       "    </tr>\n",
       "  </tbody>\n",
       "</table>\n",
       "</div>"
      ],
      "text/plain": [
       "   acousticness  danceability  duration_ms    energy  instrumentalness  \\\n",
       "0     -0.697633     -0.194548    -0.398940 -0.318116         -0.492359   \n",
       "1     -0.276291      0.295726    -0.374443 -0.795552          0.598355   \n",
       "2     -0.599540      1.110806    -0.376205 -0.946819         -0.492917   \n",
       "3     -0.307150      1.809445    -0.654016 -1.722063         -0.492168   \n",
       "4     -0.634642      0.491835    -0.131344  1.057468          2.723273   \n",
       "\n",
       "        key  liveness  loudness      mode  speechiness     tempo  \\\n",
       "0  1.275623 -0.737898  0.395794 -1.280599    -0.617752 -0.293827   \n",
       "1 -1.487342 -0.438792 -0.052394  0.780884     2.728394 -0.802595   \n",
       "2  0.446734 -0.399607 -0.879457  0.780884     2.534909  0.191274   \n",
       "3  0.170437 -0.763368 -1.460798 -1.280599    -0.608647 -0.839616   \n",
       "4  0.170437 -0.458384 -0.175645 -1.280599    -0.653035 -0.074294   \n",
       "\n",
       "   time_signature   valence  \n",
       "0        0.138514 -0.908149  \n",
       "1       -3.781179 -1.861238  \n",
       "2        0.138514  0.575870  \n",
       "3        0.138514  1.825358  \n",
       "4        0.138514 -0.754491  "
      ]
     },
     "execution_count": 10,
     "metadata": {},
     "output_type": "execute_result"
    }
   ],
   "source": [
    "from sklearn.preprocessing import StandardScaler\n",
    "\n",
    "scaler = StandardScaler()  # create feature trasformer object\n",
    "scaler.fit(X_train)  # fitting the transformer on the train split\n",
    "X_train_scaled = scaler.transform(X_train)  # transforming the train split\n",
    "X_test_scaled = scaler.transform(X_test)  # transforming the test split\n",
    "pd.DataFrame(X_train_scaled, columns=X_train.columns).head()"
   ]
  },
  {
   "cell_type": "markdown",
   "metadata": {
    "slideshow": {
     "slide_type": "slide"
    }
   },
   "source": [
    "### `fit` and `transform` paradigm for transformers\n",
    "- `sklearn` uses `fit` and `transform` paradigms for feature transformations. \n",
    "- We `fit` the transformer on the train split and then transform the train split as well as the test split. \n",
    "- We apply the same transformations on the test split. "
   ]
  },
  {
   "cell_type": "markdown",
   "metadata": {
    "slideshow": {
     "slide_type": "slide"
    }
   },
   "source": [
    "### `sklearn` API summary: estimators\n",
    "\n",
    "Suppose `model` is a classification or regression model. \n",
    "\n",
    "```\n",
    "model.fit(X_train, y_train)\n",
    "X_train_predictions = model.predict(X_train)\n",
    "X_test_predictions = model.predict(X_test)\n",
    "```    \n"
   ]
  },
  {
   "cell_type": "markdown",
   "metadata": {
    "slideshow": {
     "slide_type": "slide"
    },
    "tags": []
   },
   "source": [
    "### `sklearn` API summary: transformers\n",
    "\n",
    "Suppose `transformer` is a transformer used to change the input representation, for example, to tackle missing values or to scales numeric features.\n",
    "\n",
    "```\n",
    "transformer.fit(X_train, [y_train])\n",
    "X_train_transformed = transformer.transform(X_train)\n",
    "X_test_transformed = transformer.transform(X_test)\n",
    "```  "
   ]
  },
  {
   "cell_type": "markdown",
   "metadata": {
    "slideshow": {
     "slide_type": "slide"
    }
   },
   "source": [
    "- You can pass `y_train` in `fit` but it's usually ignored. It allows you to pass it just to be consistent with usual usage of `sklearn`'s `fit` method.   \n",
    "- You can also carry out fitting and transforming in one call using `fit_transform`. But be mindful to use it only on the train split and **not** on the test split. "
   ]
  },
  {
   "cell_type": "markdown",
   "metadata": {
    "slideshow": {
     "slide_type": "slide"
    }
   },
   "source": [
    "- Do you expect `DummyClassifier` results to change after scaling the data? \n",
    "- Let's check whether scaling makes any difference for $k$-NNs. "
   ]
  },
  {
   "cell_type": "code",
   "execution_count": 11,
   "metadata": {
    "slideshow": {
     "slide_type": "-"
    }
   },
   "outputs": [
    {
     "name": "stdout",
     "output_type": "stream",
     "text": [
      "Train score: 0.726\n",
      "Test score: 0.552\n"
     ]
    }
   ],
   "source": [
    "knn_unscaled = KNeighborsClassifier()\n",
    "knn_unscaled.fit(X_train, y_train)\n",
    "print(\"Train score: %0.3f\" % (knn_unscaled.score(X_train, y_train)))\n",
    "print(\"Test score: %0.3f\" % (knn_unscaled.score(X_test, y_test)))"
   ]
  },
  {
   "cell_type": "code",
   "execution_count": 12,
   "metadata": {},
   "outputs": [
    {
     "name": "stdout",
     "output_type": "stream",
     "text": [
      "Train score: 0.798\n",
      "Test score: 0.686\n"
     ]
    }
   ],
   "source": [
    "knn_scaled = KNeighborsClassifier()\n",
    "knn_scaled.fit(X_train_scaled, y_train)\n",
    "print(\"Train score: %0.3f\" % (knn_scaled.score(X_train_scaled, y_train)))\n",
    "print(\"Test score: %0.3f\" % (knn_scaled.score(X_test_scaled, y_test)))"
   ]
  },
  {
   "cell_type": "markdown",
   "metadata": {
    "slideshow": {
     "slide_type": "slide"
    }
   },
   "source": [
    "- The scores with scaled data are better compared to the unscaled data in case of $k$-NNs.\n",
    "- I am not carrying out cross-validation here for a reason that we'll look into soon. \n",
    "- Note that I am a bit sloppy here and using the test set several times for teaching purposes. But when you build an ML pipeline, please do assessment on the test set only once.  "
   ]
  },
  {
   "cell_type": "markdown",
   "metadata": {
    "slideshow": {
     "slide_type": "slide"
    }
   },
   "source": [
    "### Common preprocessing techniques\n",
    "\n",
    "Some commonly performed feature transformation include:  \n",
    "- **Imputation**: Tackling missing values\n",
    "- **Scaling**: Scaling of numeric features\n",
    "- **One-hot encoding**: Tackling categorical variables      \n",
    "    \n",
    "\n",
    "We can have one lecture on each of them! In this lesson our goal is to getting familiar with them so that we can use them to build ML pipelines. "
   ]
  },
  {
   "cell_type": "markdown",
   "metadata": {
    "slideshow": {
     "slide_type": "slide"
    }
   },
   "source": [
    "In the next part of this lecture, we'll build an ML pipeline using [California housing prices regression dataset](https://www.kaggle.com/harrywang/housing). In the process, we will talk about different feature transformations and how can we apply them so that we do not violate the golden rule. "
   ]
  },
  {
   "cell_type": "markdown",
   "metadata": {
    "slideshow": {
     "slide_type": "skip"
    }
   },
   "source": [
    "<br><br><br><br>"
   ]
  },
  {
   "cell_type": "markdown",
   "metadata": {
    "slideshow": {
     "slide_type": "slide"
    }
   },
   "source": [
    "## Imputation and scaling [[video](https://youtu.be/G2IXbVzKlt8)]"
   ]
  },
  {
   "cell_type": "markdown",
   "metadata": {
    "slideshow": {
     "slide_type": "slide"
    }
   },
   "source": [
    "### Dataset, splitting, and baseline"
   ]
  },
  {
   "cell_type": "markdown",
   "metadata": {
    "slideshow": {
     "slide_type": "-"
    }
   },
   "source": [
    "We'll be working on [California housing prices regression dataset](https://www.kaggle.com/harrywang/housing) to demonstrate these feature transformation techniques. The task is to predict median house values in Californian districts, given a number of features from these districts. If you are running the notebook on your own, you'll have to download the data and put it in the data directory. "
   ]
  },
  {
   "cell_type": "code",
   "execution_count": 13,
   "metadata": {
    "slideshow": {
     "slide_type": "slide"
    }
   },
   "outputs": [
    {
     "data": {
      "text/html": [
       "<div>\n",
       "<style scoped>\n",
       "    .dataframe tbody tr th:only-of-type {\n",
       "        vertical-align: middle;\n",
       "    }\n",
       "\n",
       "    .dataframe tbody tr th {\n",
       "        vertical-align: top;\n",
       "    }\n",
       "\n",
       "    .dataframe thead th {\n",
       "        text-align: right;\n",
       "    }\n",
       "</style>\n",
       "<table border=\"1\" class=\"dataframe\">\n",
       "  <thead>\n",
       "    <tr style=\"text-align: right;\">\n",
       "      <th></th>\n",
       "      <th>longitude</th>\n",
       "      <th>latitude</th>\n",
       "      <th>housing_median_age</th>\n",
       "      <th>total_rooms</th>\n",
       "      <th>total_bedrooms</th>\n",
       "      <th>population</th>\n",
       "      <th>households</th>\n",
       "      <th>median_income</th>\n",
       "      <th>median_house_value</th>\n",
       "      <th>ocean_proximity</th>\n",
       "    </tr>\n",
       "  </thead>\n",
       "  <tbody>\n",
       "    <tr>\n",
       "      <th>6051</th>\n",
       "      <td>-117.75</td>\n",
       "      <td>34.04</td>\n",
       "      <td>22.0</td>\n",
       "      <td>2948.0</td>\n",
       "      <td>636.0</td>\n",
       "      <td>2600.0</td>\n",
       "      <td>602.0</td>\n",
       "      <td>3.1250</td>\n",
       "      <td>113600.0</td>\n",
       "      <td>INLAND</td>\n",
       "    </tr>\n",
       "    <tr>\n",
       "      <th>20113</th>\n",
       "      <td>-119.57</td>\n",
       "      <td>37.94</td>\n",
       "      <td>17.0</td>\n",
       "      <td>346.0</td>\n",
       "      <td>130.0</td>\n",
       "      <td>51.0</td>\n",
       "      <td>20.0</td>\n",
       "      <td>3.4861</td>\n",
       "      <td>137500.0</td>\n",
       "      <td>INLAND</td>\n",
       "    </tr>\n",
       "    <tr>\n",
       "      <th>14289</th>\n",
       "      <td>-117.13</td>\n",
       "      <td>32.74</td>\n",
       "      <td>46.0</td>\n",
       "      <td>3355.0</td>\n",
       "      <td>768.0</td>\n",
       "      <td>1457.0</td>\n",
       "      <td>708.0</td>\n",
       "      <td>2.6604</td>\n",
       "      <td>170100.0</td>\n",
       "      <td>NEAR OCEAN</td>\n",
       "    </tr>\n",
       "    <tr>\n",
       "      <th>13665</th>\n",
       "      <td>-117.31</td>\n",
       "      <td>34.02</td>\n",
       "      <td>18.0</td>\n",
       "      <td>1634.0</td>\n",
       "      <td>274.0</td>\n",
       "      <td>899.0</td>\n",
       "      <td>285.0</td>\n",
       "      <td>5.2139</td>\n",
       "      <td>129300.0</td>\n",
       "      <td>INLAND</td>\n",
       "    </tr>\n",
       "    <tr>\n",
       "      <th>14471</th>\n",
       "      <td>-117.23</td>\n",
       "      <td>32.88</td>\n",
       "      <td>18.0</td>\n",
       "      <td>5566.0</td>\n",
       "      <td>1465.0</td>\n",
       "      <td>6303.0</td>\n",
       "      <td>1458.0</td>\n",
       "      <td>1.8580</td>\n",
       "      <td>205000.0</td>\n",
       "      <td>NEAR OCEAN</td>\n",
       "    </tr>\n",
       "  </tbody>\n",
       "</table>\n",
       "</div>"
      ],
      "text/plain": [
       "       longitude  latitude  housing_median_age  total_rooms  total_bedrooms  \\\n",
       "6051     -117.75     34.04                22.0       2948.0           636.0   \n",
       "20113    -119.57     37.94                17.0        346.0           130.0   \n",
       "14289    -117.13     32.74                46.0       3355.0           768.0   \n",
       "13665    -117.31     34.02                18.0       1634.0           274.0   \n",
       "14471    -117.23     32.88                18.0       5566.0          1465.0   \n",
       "\n",
       "       population  households  median_income  median_house_value  \\\n",
       "6051       2600.0       602.0         3.1250            113600.0   \n",
       "20113        51.0        20.0         3.4861            137500.0   \n",
       "14289      1457.0       708.0         2.6604            170100.0   \n",
       "13665       899.0       285.0         5.2139            129300.0   \n",
       "14471      6303.0      1458.0         1.8580            205000.0   \n",
       "\n",
       "      ocean_proximity  \n",
       "6051           INLAND  \n",
       "20113          INLAND  \n",
       "14289      NEAR OCEAN  \n",
       "13665          INLAND  \n",
       "14471      NEAR OCEAN  "
      ]
     },
     "execution_count": 13,
     "metadata": {},
     "output_type": "execute_result"
    }
   ],
   "source": [
    "housing_df = pd.read_csv(\"data/housing.csv\")\n",
    "train_df, test_df = train_test_split(housing_df, test_size=0.1, random_state=123)\n",
    "\n",
    "train_df.head()"
   ]
  },
  {
   "cell_type": "markdown",
   "metadata": {
    "slideshow": {
     "slide_type": "-"
    }
   },
   "source": [
    "Some column values are mean/median but some are not. "
   ]
  },
  {
   "cell_type": "markdown",
   "metadata": {
    "slideshow": {
     "slide_type": "slide"
    }
   },
   "source": [
    "Let's add some new features to the dataset which could help predicting the target: `median_house_value`. "
   ]
  },
  {
   "cell_type": "code",
   "execution_count": 14,
   "metadata": {
    "scrolled": true,
    "slideshow": {
     "slide_type": "-"
    }
   },
   "outputs": [],
   "source": [
    "train_df = train_df.assign(\n",
    "    rooms_per_household=train_df[\"total_rooms\"] / train_df[\"households\"]\n",
    ")\n",
    "test_df = test_df.assign(\n",
    "    rooms_per_household=test_df[\"total_rooms\"] / test_df[\"households\"]\n",
    ")\n",
    "\n",
    "train_df = train_df.assign(\n",
    "    bedrooms_per_household=train_df[\"total_bedrooms\"] / train_df[\"households\"]\n",
    ")\n",
    "test_df = test_df.assign(\n",
    "    bedrooms_per_household=test_df[\"total_bedrooms\"] / test_df[\"households\"]\n",
    ")\n",
    "\n",
    "train_df = train_df.assign(\n",
    "    population_per_household=train_df[\"population\"] / train_df[\"households\"]\n",
    ")\n",
    "test_df = test_df.assign(\n",
    "    population_per_household=test_df[\"population\"] / test_df[\"households\"]\n",
    ")"
   ]
  },
  {
   "cell_type": "code",
   "execution_count": 15,
   "metadata": {
    "slideshow": {
     "slide_type": "slide"
    }
   },
   "outputs": [
    {
     "data": {
      "text/html": [
       "<div>\n",
       "<style scoped>\n",
       "    .dataframe tbody tr th:only-of-type {\n",
       "        vertical-align: middle;\n",
       "    }\n",
       "\n",
       "    .dataframe tbody tr th {\n",
       "        vertical-align: top;\n",
       "    }\n",
       "\n",
       "    .dataframe thead th {\n",
       "        text-align: right;\n",
       "    }\n",
       "</style>\n",
       "<table border=\"1\" class=\"dataframe\">\n",
       "  <thead>\n",
       "    <tr style=\"text-align: right;\">\n",
       "      <th></th>\n",
       "      <th>longitude</th>\n",
       "      <th>latitude</th>\n",
       "      <th>housing_median_age</th>\n",
       "      <th>total_rooms</th>\n",
       "      <th>total_bedrooms</th>\n",
       "      <th>population</th>\n",
       "      <th>households</th>\n",
       "      <th>median_income</th>\n",
       "      <th>median_house_value</th>\n",
       "      <th>ocean_proximity</th>\n",
       "      <th>rooms_per_household</th>\n",
       "      <th>bedrooms_per_household</th>\n",
       "      <th>population_per_household</th>\n",
       "    </tr>\n",
       "  </thead>\n",
       "  <tbody>\n",
       "    <tr>\n",
       "      <th>6051</th>\n",
       "      <td>-117.75</td>\n",
       "      <td>34.04</td>\n",
       "      <td>22.0</td>\n",
       "      <td>2948.0</td>\n",
       "      <td>636.0</td>\n",
       "      <td>2600.0</td>\n",
       "      <td>602.0</td>\n",
       "      <td>3.1250</td>\n",
       "      <td>113600.0</td>\n",
       "      <td>INLAND</td>\n",
       "      <td>4.897010</td>\n",
       "      <td>1.056478</td>\n",
       "      <td>4.318937</td>\n",
       "    </tr>\n",
       "    <tr>\n",
       "      <th>20113</th>\n",
       "      <td>-119.57</td>\n",
       "      <td>37.94</td>\n",
       "      <td>17.0</td>\n",
       "      <td>346.0</td>\n",
       "      <td>130.0</td>\n",
       "      <td>51.0</td>\n",
       "      <td>20.0</td>\n",
       "      <td>3.4861</td>\n",
       "      <td>137500.0</td>\n",
       "      <td>INLAND</td>\n",
       "      <td>17.300000</td>\n",
       "      <td>6.500000</td>\n",
       "      <td>2.550000</td>\n",
       "    </tr>\n",
       "    <tr>\n",
       "      <th>14289</th>\n",
       "      <td>-117.13</td>\n",
       "      <td>32.74</td>\n",
       "      <td>46.0</td>\n",
       "      <td>3355.0</td>\n",
       "      <td>768.0</td>\n",
       "      <td>1457.0</td>\n",
       "      <td>708.0</td>\n",
       "      <td>2.6604</td>\n",
       "      <td>170100.0</td>\n",
       "      <td>NEAR OCEAN</td>\n",
       "      <td>4.738701</td>\n",
       "      <td>1.084746</td>\n",
       "      <td>2.057910</td>\n",
       "    </tr>\n",
       "    <tr>\n",
       "      <th>13665</th>\n",
       "      <td>-117.31</td>\n",
       "      <td>34.02</td>\n",
       "      <td>18.0</td>\n",
       "      <td>1634.0</td>\n",
       "      <td>274.0</td>\n",
       "      <td>899.0</td>\n",
       "      <td>285.0</td>\n",
       "      <td>5.2139</td>\n",
       "      <td>129300.0</td>\n",
       "      <td>INLAND</td>\n",
       "      <td>5.733333</td>\n",
       "      <td>0.961404</td>\n",
       "      <td>3.154386</td>\n",
       "    </tr>\n",
       "    <tr>\n",
       "      <th>14471</th>\n",
       "      <td>-117.23</td>\n",
       "      <td>32.88</td>\n",
       "      <td>18.0</td>\n",
       "      <td>5566.0</td>\n",
       "      <td>1465.0</td>\n",
       "      <td>6303.0</td>\n",
       "      <td>1458.0</td>\n",
       "      <td>1.8580</td>\n",
       "      <td>205000.0</td>\n",
       "      <td>NEAR OCEAN</td>\n",
       "      <td>3.817558</td>\n",
       "      <td>1.004801</td>\n",
       "      <td>4.323045</td>\n",
       "    </tr>\n",
       "  </tbody>\n",
       "</table>\n",
       "</div>"
      ],
      "text/plain": [
       "       longitude  latitude  housing_median_age  total_rooms  total_bedrooms  \\\n",
       "6051     -117.75     34.04                22.0       2948.0           636.0   \n",
       "20113    -119.57     37.94                17.0        346.0           130.0   \n",
       "14289    -117.13     32.74                46.0       3355.0           768.0   \n",
       "13665    -117.31     34.02                18.0       1634.0           274.0   \n",
       "14471    -117.23     32.88                18.0       5566.0          1465.0   \n",
       "\n",
       "       population  households  median_income  median_house_value  \\\n",
       "6051       2600.0       602.0         3.1250            113600.0   \n",
       "20113        51.0        20.0         3.4861            137500.0   \n",
       "14289      1457.0       708.0         2.6604            170100.0   \n",
       "13665       899.0       285.0         5.2139            129300.0   \n",
       "14471      6303.0      1458.0         1.8580            205000.0   \n",
       "\n",
       "      ocean_proximity  rooms_per_household  bedrooms_per_household  \\\n",
       "6051           INLAND             4.897010                1.056478   \n",
       "20113          INLAND            17.300000                6.500000   \n",
       "14289      NEAR OCEAN             4.738701                1.084746   \n",
       "13665          INLAND             5.733333                0.961404   \n",
       "14471      NEAR OCEAN             3.817558                1.004801   \n",
       "\n",
       "       population_per_household  \n",
       "6051                   4.318937  \n",
       "20113                  2.550000  \n",
       "14289                  2.057910  \n",
       "13665                  3.154386  \n",
       "14471                  4.323045  "
      ]
     },
     "execution_count": 15,
     "metadata": {},
     "output_type": "execute_result"
    }
   ],
   "source": [
    "train_df.head()"
   ]
  },
  {
   "cell_type": "markdown",
   "metadata": {
    "slideshow": {
     "slide_type": "slide"
    }
   },
   "source": [
    "### When is it OK to do things before splitting? \n",
    "\n",
    "- Here it would have been OK to add new features before splitting because we are not using any **global information** in the data but only looking at **one row at a time**.\n",
    "- But just to be safe and to avoid accidentally breaking the golden rule, it's **better to do it after splitting**.\n",
    "\n",
    "- Question: Should we remove `total_rooms`, `total_bedrooms`, and `population` columns? \n",
    "    - Probably. But I am keeping them in this lecture. You could experiment with removing them and examine whether results change. "
   ]
  },
  {
   "cell_type": "markdown",
   "metadata": {
    "slideshow": {
     "slide_type": "slide"
    }
   },
   "source": [
    "### Exploratory Data Analysis (EDA)"
   ]
  },
  {
   "cell_type": "code",
   "execution_count": 16,
   "metadata": {
    "slideshow": {
     "slide_type": "-"
    }
   },
   "outputs": [
    {
     "data": {
      "text/html": [
       "<div>\n",
       "<style scoped>\n",
       "    .dataframe tbody tr th:only-of-type {\n",
       "        vertical-align: middle;\n",
       "    }\n",
       "\n",
       "    .dataframe tbody tr th {\n",
       "        vertical-align: top;\n",
       "    }\n",
       "\n",
       "    .dataframe thead th {\n",
       "        text-align: right;\n",
       "    }\n",
       "</style>\n",
       "<table border=\"1\" class=\"dataframe\">\n",
       "  <thead>\n",
       "    <tr style=\"text-align: right;\">\n",
       "      <th></th>\n",
       "      <th>longitude</th>\n",
       "      <th>latitude</th>\n",
       "      <th>housing_median_age</th>\n",
       "      <th>total_rooms</th>\n",
       "      <th>total_bedrooms</th>\n",
       "      <th>population</th>\n",
       "      <th>households</th>\n",
       "      <th>median_income</th>\n",
       "      <th>median_house_value</th>\n",
       "      <th>ocean_proximity</th>\n",
       "      <th>rooms_per_household</th>\n",
       "      <th>bedrooms_per_household</th>\n",
       "      <th>population_per_household</th>\n",
       "    </tr>\n",
       "  </thead>\n",
       "  <tbody>\n",
       "    <tr>\n",
       "      <th>6051</th>\n",
       "      <td>-117.75</td>\n",
       "      <td>34.04</td>\n",
       "      <td>22.0</td>\n",
       "      <td>2948.0</td>\n",
       "      <td>636.0</td>\n",
       "      <td>2600.0</td>\n",
       "      <td>602.0</td>\n",
       "      <td>3.1250</td>\n",
       "      <td>113600.0</td>\n",
       "      <td>INLAND</td>\n",
       "      <td>4.897010</td>\n",
       "      <td>1.056478</td>\n",
       "      <td>4.318937</td>\n",
       "    </tr>\n",
       "    <tr>\n",
       "      <th>20113</th>\n",
       "      <td>-119.57</td>\n",
       "      <td>37.94</td>\n",
       "      <td>17.0</td>\n",
       "      <td>346.0</td>\n",
       "      <td>130.0</td>\n",
       "      <td>51.0</td>\n",
       "      <td>20.0</td>\n",
       "      <td>3.4861</td>\n",
       "      <td>137500.0</td>\n",
       "      <td>INLAND</td>\n",
       "      <td>17.300000</td>\n",
       "      <td>6.500000</td>\n",
       "      <td>2.550000</td>\n",
       "    </tr>\n",
       "    <tr>\n",
       "      <th>14289</th>\n",
       "      <td>-117.13</td>\n",
       "      <td>32.74</td>\n",
       "      <td>46.0</td>\n",
       "      <td>3355.0</td>\n",
       "      <td>768.0</td>\n",
       "      <td>1457.0</td>\n",
       "      <td>708.0</td>\n",
       "      <td>2.6604</td>\n",
       "      <td>170100.0</td>\n",
       "      <td>NEAR OCEAN</td>\n",
       "      <td>4.738701</td>\n",
       "      <td>1.084746</td>\n",
       "      <td>2.057910</td>\n",
       "    </tr>\n",
       "    <tr>\n",
       "      <th>13665</th>\n",
       "      <td>-117.31</td>\n",
       "      <td>34.02</td>\n",
       "      <td>18.0</td>\n",
       "      <td>1634.0</td>\n",
       "      <td>274.0</td>\n",
       "      <td>899.0</td>\n",
       "      <td>285.0</td>\n",
       "      <td>5.2139</td>\n",
       "      <td>129300.0</td>\n",
       "      <td>INLAND</td>\n",
       "      <td>5.733333</td>\n",
       "      <td>0.961404</td>\n",
       "      <td>3.154386</td>\n",
       "    </tr>\n",
       "    <tr>\n",
       "      <th>14471</th>\n",
       "      <td>-117.23</td>\n",
       "      <td>32.88</td>\n",
       "      <td>18.0</td>\n",
       "      <td>5566.0</td>\n",
       "      <td>1465.0</td>\n",
       "      <td>6303.0</td>\n",
       "      <td>1458.0</td>\n",
       "      <td>1.8580</td>\n",
       "      <td>205000.0</td>\n",
       "      <td>NEAR OCEAN</td>\n",
       "      <td>3.817558</td>\n",
       "      <td>1.004801</td>\n",
       "      <td>4.323045</td>\n",
       "    </tr>\n",
       "  </tbody>\n",
       "</table>\n",
       "</div>"
      ],
      "text/plain": [
       "       longitude  latitude  housing_median_age  total_rooms  total_bedrooms  \\\n",
       "6051     -117.75     34.04                22.0       2948.0           636.0   \n",
       "20113    -119.57     37.94                17.0        346.0           130.0   \n",
       "14289    -117.13     32.74                46.0       3355.0           768.0   \n",
       "13665    -117.31     34.02                18.0       1634.0           274.0   \n",
       "14471    -117.23     32.88                18.0       5566.0          1465.0   \n",
       "\n",
       "       population  households  median_income  median_house_value  \\\n",
       "6051       2600.0       602.0         3.1250            113600.0   \n",
       "20113        51.0        20.0         3.4861            137500.0   \n",
       "14289      1457.0       708.0         2.6604            170100.0   \n",
       "13665       899.0       285.0         5.2139            129300.0   \n",
       "14471      6303.0      1458.0         1.8580            205000.0   \n",
       "\n",
       "      ocean_proximity  rooms_per_household  bedrooms_per_household  \\\n",
       "6051           INLAND             4.897010                1.056478   \n",
       "20113          INLAND            17.300000                6.500000   \n",
       "14289      NEAR OCEAN             4.738701                1.084746   \n",
       "13665          INLAND             5.733333                0.961404   \n",
       "14471      NEAR OCEAN             3.817558                1.004801   \n",
       "\n",
       "       population_per_household  \n",
       "6051                   4.318937  \n",
       "20113                  2.550000  \n",
       "14289                  2.057910  \n",
       "13665                  3.154386  \n",
       "14471                  4.323045  "
      ]
     },
     "execution_count": 16,
     "metadata": {},
     "output_type": "execute_result"
    }
   ],
   "source": [
    "train_df.head()"
   ]
  },
  {
   "cell_type": "markdown",
   "metadata": {},
   "source": [
    "We see that the feature **scales** are quite different. "
   ]
  },
  {
   "cell_type": "code",
   "execution_count": 17,
   "metadata": {
    "slideshow": {
     "slide_type": "slide"
    }
   },
   "outputs": [
    {
     "name": "stdout",
     "output_type": "stream",
     "text": [
      "<class 'pandas.core.frame.DataFrame'>\n",
      "Int64Index: 18576 entries, 6051 to 19966\n",
      "Data columns (total 13 columns):\n",
      " #   Column                    Non-Null Count  Dtype  \n",
      "---  ------                    --------------  -----  \n",
      " 0   longitude                 18576 non-null  float64\n",
      " 1   latitude                  18576 non-null  float64\n",
      " 2   housing_median_age        18576 non-null  float64\n",
      " 3   total_rooms               18576 non-null  float64\n",
      " 4   total_bedrooms            18391 non-null  float64\n",
      " 5   population                18576 non-null  float64\n",
      " 6   households                18576 non-null  float64\n",
      " 7   median_income             18576 non-null  float64\n",
      " 8   median_house_value        18576 non-null  float64\n",
      " 9   ocean_proximity           18576 non-null  object \n",
      " 10  rooms_per_household       18576 non-null  float64\n",
      " 11  bedrooms_per_household    18391 non-null  float64\n",
      " 12  population_per_household  18576 non-null  float64\n",
      "dtypes: float64(12), object(1)\n",
      "memory usage: 2.0+ MB\n"
     ]
    }
   ],
   "source": [
    "train_df.info()"
   ]
  },
  {
   "cell_type": "markdown",
   "metadata": {},
   "source": [
    "We have one **categorical** feature and all other features are **numeric** features. "
   ]
  },
  {
   "cell_type": "code",
   "execution_count": 18,
   "metadata": {
    "slideshow": {
     "slide_type": "slide"
    },
    "tags": []
   },
   "outputs": [
    {
     "data": {
      "text/html": [
       "<div>\n",
       "<style scoped>\n",
       "    .dataframe tbody tr th:only-of-type {\n",
       "        vertical-align: middle;\n",
       "    }\n",
       "\n",
       "    .dataframe tbody tr th {\n",
       "        vertical-align: top;\n",
       "    }\n",
       "\n",
       "    .dataframe thead th {\n",
       "        text-align: right;\n",
       "    }\n",
       "</style>\n",
       "<table border=\"1\" class=\"dataframe\">\n",
       "  <thead>\n",
       "    <tr style=\"text-align: right;\">\n",
       "      <th></th>\n",
       "      <th>longitude</th>\n",
       "      <th>latitude</th>\n",
       "      <th>housing_median_age</th>\n",
       "      <th>total_rooms</th>\n",
       "      <th>total_bedrooms</th>\n",
       "      <th>population</th>\n",
       "      <th>households</th>\n",
       "      <th>median_income</th>\n",
       "      <th>median_house_value</th>\n",
       "      <th>rooms_per_household</th>\n",
       "      <th>bedrooms_per_household</th>\n",
       "      <th>population_per_household</th>\n",
       "    </tr>\n",
       "  </thead>\n",
       "  <tbody>\n",
       "    <tr>\n",
       "      <th>count</th>\n",
       "      <td>18576.000000</td>\n",
       "      <td>18576.000000</td>\n",
       "      <td>18576.000000</td>\n",
       "      <td>18576.000000</td>\n",
       "      <td>18391.000000</td>\n",
       "      <td>18576.000000</td>\n",
       "      <td>18576.000000</td>\n",
       "      <td>18576.000000</td>\n",
       "      <td>18576.000000</td>\n",
       "      <td>18576.000000</td>\n",
       "      <td>18391.000000</td>\n",
       "      <td>18576.000000</td>\n",
       "    </tr>\n",
       "    <tr>\n",
       "      <th>mean</th>\n",
       "      <td>-119.565888</td>\n",
       "      <td>35.627966</td>\n",
       "      <td>28.622255</td>\n",
       "      <td>2635.749677</td>\n",
       "      <td>538.229786</td>\n",
       "      <td>1428.578165</td>\n",
       "      <td>500.061100</td>\n",
       "      <td>3.862552</td>\n",
       "      <td>206292.067991</td>\n",
       "      <td>5.426067</td>\n",
       "      <td>1.097516</td>\n",
       "      <td>3.052349</td>\n",
       "    </tr>\n",
       "    <tr>\n",
       "      <th>std</th>\n",
       "      <td>1.999622</td>\n",
       "      <td>2.134658</td>\n",
       "      <td>12.588307</td>\n",
       "      <td>2181.789934</td>\n",
       "      <td>421.805266</td>\n",
       "      <td>1141.664801</td>\n",
       "      <td>383.044313</td>\n",
       "      <td>1.892491</td>\n",
       "      <td>115083.856175</td>\n",
       "      <td>2.512319</td>\n",
       "      <td>0.486266</td>\n",
       "      <td>10.020873</td>\n",
       "    </tr>\n",
       "    <tr>\n",
       "      <th>min</th>\n",
       "      <td>-124.350000</td>\n",
       "      <td>32.540000</td>\n",
       "      <td>1.000000</td>\n",
       "      <td>2.000000</td>\n",
       "      <td>1.000000</td>\n",
       "      <td>3.000000</td>\n",
       "      <td>1.000000</td>\n",
       "      <td>0.499900</td>\n",
       "      <td>14999.000000</td>\n",
       "      <td>0.846154</td>\n",
       "      <td>0.333333</td>\n",
       "      <td>0.692308</td>\n",
       "    </tr>\n",
       "    <tr>\n",
       "      <th>25%</th>\n",
       "      <td>-121.790000</td>\n",
       "      <td>33.930000</td>\n",
       "      <td>18.000000</td>\n",
       "      <td>1449.000000</td>\n",
       "      <td>296.000000</td>\n",
       "      <td>788.000000</td>\n",
       "      <td>280.000000</td>\n",
       "      <td>2.560225</td>\n",
       "      <td>119400.000000</td>\n",
       "      <td>4.439360</td>\n",
       "      <td>1.005888</td>\n",
       "      <td>2.430323</td>\n",
       "    </tr>\n",
       "    <tr>\n",
       "      <th>50%</th>\n",
       "      <td>-118.490000</td>\n",
       "      <td>34.250000</td>\n",
       "      <td>29.000000</td>\n",
       "      <td>2127.000000</td>\n",
       "      <td>435.000000</td>\n",
       "      <td>1167.000000</td>\n",
       "      <td>410.000000</td>\n",
       "      <td>3.527500</td>\n",
       "      <td>179300.000000</td>\n",
       "      <td>5.226415</td>\n",
       "      <td>1.048860</td>\n",
       "      <td>2.818868</td>\n",
       "    </tr>\n",
       "    <tr>\n",
       "      <th>75%</th>\n",
       "      <td>-118.010000</td>\n",
       "      <td>37.710000</td>\n",
       "      <td>37.000000</td>\n",
       "      <td>3145.000000</td>\n",
       "      <td>647.000000</td>\n",
       "      <td>1727.000000</td>\n",
       "      <td>606.000000</td>\n",
       "      <td>4.736900</td>\n",
       "      <td>263600.000000</td>\n",
       "      <td>6.051620</td>\n",
       "      <td>1.099723</td>\n",
       "      <td>3.283921</td>\n",
       "    </tr>\n",
       "    <tr>\n",
       "      <th>max</th>\n",
       "      <td>-114.310000</td>\n",
       "      <td>41.950000</td>\n",
       "      <td>52.000000</td>\n",
       "      <td>39320.000000</td>\n",
       "      <td>6445.000000</td>\n",
       "      <td>35682.000000</td>\n",
       "      <td>6082.000000</td>\n",
       "      <td>15.000100</td>\n",
       "      <td>500001.000000</td>\n",
       "      <td>141.909091</td>\n",
       "      <td>34.066667</td>\n",
       "      <td>1243.333333</td>\n",
       "    </tr>\n",
       "  </tbody>\n",
       "</table>\n",
       "</div>"
      ],
      "text/plain": [
       "          longitude      latitude  housing_median_age   total_rooms  \\\n",
       "count  18576.000000  18576.000000        18576.000000  18576.000000   \n",
       "mean    -119.565888     35.627966           28.622255   2635.749677   \n",
       "std        1.999622      2.134658           12.588307   2181.789934   \n",
       "min     -124.350000     32.540000            1.000000      2.000000   \n",
       "25%     -121.790000     33.930000           18.000000   1449.000000   \n",
       "50%     -118.490000     34.250000           29.000000   2127.000000   \n",
       "75%     -118.010000     37.710000           37.000000   3145.000000   \n",
       "max     -114.310000     41.950000           52.000000  39320.000000   \n",
       "\n",
       "       total_bedrooms    population    households  median_income  \\\n",
       "count    18391.000000  18576.000000  18576.000000   18576.000000   \n",
       "mean       538.229786   1428.578165    500.061100       3.862552   \n",
       "std        421.805266   1141.664801    383.044313       1.892491   \n",
       "min          1.000000      3.000000      1.000000       0.499900   \n",
       "25%        296.000000    788.000000    280.000000       2.560225   \n",
       "50%        435.000000   1167.000000    410.000000       3.527500   \n",
       "75%        647.000000   1727.000000    606.000000       4.736900   \n",
       "max       6445.000000  35682.000000   6082.000000      15.000100   \n",
       "\n",
       "       median_house_value  rooms_per_household  bedrooms_per_household  \\\n",
       "count        18576.000000         18576.000000            18391.000000   \n",
       "mean        206292.067991             5.426067                1.097516   \n",
       "std         115083.856175             2.512319                0.486266   \n",
       "min          14999.000000             0.846154                0.333333   \n",
       "25%         119400.000000             4.439360                1.005888   \n",
       "50%         179300.000000             5.226415                1.048860   \n",
       "75%         263600.000000             6.051620                1.099723   \n",
       "max         500001.000000           141.909091               34.066667   \n",
       "\n",
       "       population_per_household  \n",
       "count              18576.000000  \n",
       "mean                   3.052349  \n",
       "std                   10.020873  \n",
       "min                    0.692308  \n",
       "25%                    2.430323  \n",
       "50%                    2.818868  \n",
       "75%                    3.283921  \n",
       "max                 1243.333333  "
      ]
     },
     "execution_count": 18,
     "metadata": {},
     "output_type": "execute_result"
    }
   ],
   "source": [
    "train_df.describe()"
   ]
  },
  {
   "cell_type": "code",
   "execution_count": 19,
   "metadata": {
    "slideshow": {
     "slide_type": "slide"
    },
    "tags": []
   },
   "outputs": [
    {
     "data": {
      "text/plain": [
       "longitude                   18576.0\n",
       "latitude                    18576.0\n",
       "housing_median_age          18576.0\n",
       "total_rooms                 18576.0\n",
       "total_bedrooms              18391.0\n",
       "population                  18576.0\n",
       "households                  18576.0\n",
       "median_income               18576.0\n",
       "median_house_value          18576.0\n",
       "rooms_per_household         18576.0\n",
       "bedrooms_per_household      18391.0\n",
       "population_per_household    18576.0\n",
       "Name: count, dtype: float64"
      ]
     },
     "execution_count": 19,
     "metadata": {},
     "output_type": "execute_result"
    }
   ],
   "source": [
    "train_df.describe().loc['count']"
   ]
  },
  {
   "cell_type": "markdown",
   "metadata": {
    "slideshow": {
     "slide_type": "-"
    }
   },
   "source": [
    "- Seems like `total_bedrooms` column has some missing values. \n",
    "- This must have affected our new feature `bedrooms_per_household` as well. "
   ]
  },
  {
   "cell_type": "code",
   "execution_count": 20,
   "metadata": {},
   "outputs": [
    {
     "data": {
      "text/plain": [
       "207"
      ]
     },
     "execution_count": 20,
     "metadata": {},
     "output_type": "execute_result"
    }
   ],
   "source": [
    "housing_df[\"total_bedrooms\"].isnull().sum()"
   ]
  },
  {
   "cell_type": "code",
   "execution_count": 21,
   "metadata": {
    "slideshow": {
     "slide_type": "skip"
    },
    "tags": []
   },
   "outputs": [
    {
     "data": {
      "image/png": "[encoded data removed]",
      "text/plain": [
       "<Figure size 1440x1080 with 12 Axes>"
      ]
     },
     "metadata": {
      "needs_background": "light"
     },
     "output_type": "display_data"
    }
   ],
   "source": [
    "## (optional)\n",
    "train_df.hist(bins=50, figsize=(20, 15));"
   ]
  },
  {
   "cell_type": "code",
   "execution_count": 22,
   "metadata": {
    "slideshow": {
     "slide_type": "skip"
    },
    "tags": []
   },
   "outputs": [
    {
     "data": {
      "image/png": "[encoded data removed]",
      "text/plain": [
       "<Figure size 720x504 with 2 Axes>"
      ]
     },
     "metadata": {
      "needs_background": "light"
     },
     "output_type": "display_data"
    }
   ],
   "source": [
    "## (optional)\n",
    "train_df.plot(\n",
    "    kind=\"scatter\",\n",
    "    x=\"longitude\",\n",
    "    y=\"latitude\",\n",
    "    alpha=0.4,\n",
    "    s=train_df[\"population\"] / 100,\n",
    "    figsize=(10, 7),\n",
    "    c=\"median_house_value\",\n",
    "    cmap=plt.get_cmap(\"jet\"),\n",
    "    colorbar=True,\n",
    "    sharex=False,\n",
    ");"
   ]
  },
  {
   "cell_type": "markdown",
   "metadata": {
    "slideshow": {
     "slide_type": "slide"
    }
   },
   "source": [
    "### What all transformations we need to apply on the dataset? \n",
    "\n",
    "Here is what we see from the EDA. \n",
    "\n",
    "- Some missing values in `total_bedrooms` column\n",
    "- Scales are quite different across columns. \n",
    "- Categorical variable `ocean_proximity`\n",
    "\n",
    "Read about [preprocessing techniques implemented in `scikit-learn`](https://scikit-learn.org/stable/modules/preprocessing.html).  "
   ]
  },
  {
   "cell_type": "markdown",
   "metadata": {},
   "source": [
    "We are dropping the categorical variable `ocean_proximity` for now. We'll come back to it in a bit."
   ]
  },
  {
   "cell_type": "code",
   "execution_count": 23,
   "metadata": {},
   "outputs": [],
   "source": [
    "X_train = train_df.drop(columns=[\"median_house_value\", \"ocean_proximity\"])\n",
    "y_train = train_df[\"median_house_value\"]\n",
    "\n",
    "X_test = test_df.drop(columns=[\"median_house_value\", \"ocean_proximity\"])\n",
    "y_test = test_df[\"median_house_value\"]"
   ]
  },
  {
   "cell_type": "markdown",
   "metadata": {
    "slideshow": {
     "slide_type": "slide"
    }
   },
   "source": [
    "### Let's first run our baseline model `DummyRegressor`"
   ]
  },
  {
   "cell_type": "code",
   "execution_count": 24,
   "metadata": {},
   "outputs": [],
   "source": [
    "results_dict = {}  # dictionary to store our results for different models"
   ]
  },
  {
   "cell_type": "code",
   "execution_count": 25,
   "metadata": {
    "slideshow": {
     "slide_type": "slide"
    }
   },
   "outputs": [],
   "source": [
    "def mean_std_cross_val_scores(model, X_train, y_train, **kwargs):\n",
    "    \"\"\"\n",
    "    Returns mean and std of cross validation\n",
    "\n",
    "    Parameters\n",
    "    ----------\n",
    "    model :\n",
    "        scikit-learn model\n",
    "    X_train : numpy array or pandas DataFrame\n",
    "        X in the training data\n",
    "    y_train :\n",
    "        y in the training data\n",
    "\n",
    "    Returns\n",
    "    ----------\n",
    "        pandas Series with mean scores from cross_validation\n",
    "    \"\"\"\n",
    "\n",
    "    scores = cross_validate(model, X_train, y_train, **kwargs)\n",
    "\n",
    "    mean_scores = pd.DataFrame(scores).mean()\n",
    "    std_scores = pd.DataFrame(scores).std()\n",
    "    out_col = []\n",
    "\n",
    "    for i in range(len(mean_scores)):\n",
    "        out_col.append((f\"%0.3f (+/- %0.3f)\" % (mean_scores[i], std_scores[i])))\n",
    "\n",
    "    return pd.Series(data=out_col, index=mean_scores.index)"
   ]
  },
  {
   "cell_type": "code",
   "execution_count": 26,
   "metadata": {
    "slideshow": {
     "slide_type": "slide"
    }
   },
   "outputs": [],
   "source": [
    "dummy = DummyRegressor(strategy=\"median\")\n",
    "results_dict[\"dummy\"] = mean_std_cross_val_scores(\n",
    "    dummy, X_train, y_train, return_train_score=True\n",
    ")"
   ]
  },
  {
   "cell_type": "code",
   "execution_count": 27,
   "metadata": {},
   "outputs": [
    {
     "data": {
      "text/html": [
       "<div>\n",
       "<style scoped>\n",
       "    .dataframe tbody tr th:only-of-type {\n",
       "        vertical-align: middle;\n",
       "    }\n",
       "\n",
       "    .dataframe tbody tr th {\n",
       "        vertical-align: top;\n",
       "    }\n",
       "\n",
       "    .dataframe thead th {\n",
       "        text-align: right;\n",
       "    }\n",
       "</style>\n",
       "<table border=\"1\" class=\"dataframe\">\n",
       "  <thead>\n",
       "    <tr style=\"text-align: right;\">\n",
       "      <th></th>\n",
       "      <th>dummy</th>\n",
       "    </tr>\n",
       "  </thead>\n",
       "  <tbody>\n",
       "    <tr>\n",
       "      <th>fit_time</th>\n",
       "      <td>0.002 (+/- 0.000)</td>\n",
       "    </tr>\n",
       "    <tr>\n",
       "      <th>score_time</th>\n",
       "      <td>0.000 (+/- 0.000)</td>\n",
       "    </tr>\n",
       "    <tr>\n",
       "      <th>test_score</th>\n",
       "      <td>-0.055 (+/- 0.012)</td>\n",
       "    </tr>\n",
       "    <tr>\n",
       "      <th>train_score</th>\n",
       "      <td>-0.055 (+/- 0.001)</td>\n",
       "    </tr>\n",
       "  </tbody>\n",
       "</table>\n",
       "</div>"
      ],
      "text/plain": [
       "                          dummy\n",
       "fit_time      0.002 (+/- 0.000)\n",
       "score_time    0.000 (+/- 0.000)\n",
       "test_score   -0.055 (+/- 0.012)\n",
       "train_score  -0.055 (+/- 0.001)"
      ]
     },
     "execution_count": 27,
     "metadata": {},
     "output_type": "execute_result"
    }
   ],
   "source": [
    "pd.DataFrame(results_dict)"
   ]
  },
  {
   "cell_type": "markdown",
   "metadata": {
    "slideshow": {
     "slide_type": "slide"
    }
   },
   "source": [
    "### Imputation "
   ]
  },
  {
   "cell_type": "code",
   "execution_count": 28,
   "metadata": {
    "slideshow": {
     "slide_type": "slide"
    }
   },
   "outputs": [],
   "source": [
    "knn = KNeighborsRegressor()\n",
    "# knn.fit(X_train, y_train)  # This call gives ValueError"
   ]
  },
  {
   "cell_type": "markdown",
   "metadata": {
    "slideshow": {
     "slide_type": "slide"
    }
   },
   "source": [
    "### What's the problem? \n",
    "\n",
    "```\n",
    "ValueError: Input contains NaN, infinity or a value too large for dtype('float64').\n",
    "```\n",
    "\n",
    "- The classifier is not able to deal with **missing values** (NaN).\n",
    "- What are possible ways to deal with the problem?\n",
    "    - **Delete** the rows? \n",
    "    - **Replace** them with some reasonable values?    "
   ]
  },
  {
   "cell_type": "markdown",
   "metadata": {
    "slideshow": {
     "slide_type": "slide"
    }
   },
   "source": [
    "- `SimpleImputer` is a transformer in `sklearn` to deal with this problem. For example, \n",
    "    - You can impute missing values in **categorical** columns with the **most frequent** value.\n",
    "    - You can impute the missing values in **numeric** columns with the **mean** or **median** of the column.    "
   ]
  },
  {
   "cell_type": "code",
   "execution_count": 29,
   "metadata": {
    "slideshow": {
     "slide_type": "slide"
    }
   },
   "outputs": [
    {
     "data": {
      "text/html": [
       "<div>\n",
       "<style scoped>\n",
       "    .dataframe tbody tr th:only-of-type {\n",
       "        vertical-align: middle;\n",
       "    }\n",
       "\n",
       "    .dataframe tbody tr th {\n",
       "        vertical-align: top;\n",
       "    }\n",
       "\n",
       "    .dataframe thead th {\n",
       "        text-align: right;\n",
       "    }\n",
       "</style>\n",
       "<table border=\"1\" class=\"dataframe\">\n",
       "  <thead>\n",
       "    <tr style=\"text-align: right;\">\n",
       "      <th></th>\n",
       "      <th>longitude</th>\n",
       "      <th>latitude</th>\n",
       "      <th>housing_median_age</th>\n",
       "      <th>total_rooms</th>\n",
       "      <th>total_bedrooms</th>\n",
       "      <th>population</th>\n",
       "      <th>households</th>\n",
       "      <th>median_income</th>\n",
       "      <th>rooms_per_household</th>\n",
       "      <th>bedrooms_per_household</th>\n",
       "      <th>population_per_household</th>\n",
       "    </tr>\n",
       "  </thead>\n",
       "  <tbody>\n",
       "    <tr>\n",
       "      <th>20248</th>\n",
       "      <td>-119.23</td>\n",
       "      <td>34.25</td>\n",
       "      <td>28.0</td>\n",
       "      <td>26.0</td>\n",
       "      <td>3.0</td>\n",
       "      <td>29.0</td>\n",
       "      <td>9.0</td>\n",
       "      <td>8.0000</td>\n",
       "      <td>2.888889</td>\n",
       "      <td>0.333333</td>\n",
       "      <td>3.222222</td>\n",
       "    </tr>\n",
       "    <tr>\n",
       "      <th>12649</th>\n",
       "      <td>-121.47</td>\n",
       "      <td>38.51</td>\n",
       "      <td>52.0</td>\n",
       "      <td>20.0</td>\n",
       "      <td>4.0</td>\n",
       "      <td>74.0</td>\n",
       "      <td>9.0</td>\n",
       "      <td>3.6250</td>\n",
       "      <td>2.222222</td>\n",
       "      <td>0.444444</td>\n",
       "      <td>8.222222</td>\n",
       "    </tr>\n",
       "    <tr>\n",
       "      <th>3125</th>\n",
       "      <td>-117.76</td>\n",
       "      <td>35.22</td>\n",
       "      <td>4.0</td>\n",
       "      <td>18.0</td>\n",
       "      <td>3.0</td>\n",
       "      <td>8.0</td>\n",
       "      <td>6.0</td>\n",
       "      <td>1.6250</td>\n",
       "      <td>3.000000</td>\n",
       "      <td>0.500000</td>\n",
       "      <td>1.333333</td>\n",
       "    </tr>\n",
       "    <tr>\n",
       "      <th>12138</th>\n",
       "      <td>-117.22</td>\n",
       "      <td>33.87</td>\n",
       "      <td>16.0</td>\n",
       "      <td>56.0</td>\n",
       "      <td>7.0</td>\n",
       "      <td>39.0</td>\n",
       "      <td>14.0</td>\n",
       "      <td>2.6250</td>\n",
       "      <td>4.000000</td>\n",
       "      <td>0.500000</td>\n",
       "      <td>2.785714</td>\n",
       "    </tr>\n",
       "    <tr>\n",
       "      <th>8219</th>\n",
       "      <td>-118.21</td>\n",
       "      <td>33.79</td>\n",
       "      <td>33.0</td>\n",
       "      <td>32.0</td>\n",
       "      <td>18.0</td>\n",
       "      <td>96.0</td>\n",
       "      <td>36.0</td>\n",
       "      <td>4.5938</td>\n",
       "      <td>0.888889</td>\n",
       "      <td>0.500000</td>\n",
       "      <td>2.666667</td>\n",
       "    </tr>\n",
       "    <tr>\n",
       "      <th>...</th>\n",
       "      <td>...</td>\n",
       "      <td>...</td>\n",
       "      <td>...</td>\n",
       "      <td>...</td>\n",
       "      <td>...</td>\n",
       "      <td>...</td>\n",
       "      <td>...</td>\n",
       "      <td>...</td>\n",
       "      <td>...</td>\n",
       "      <td>...</td>\n",
       "      <td>...</td>\n",
       "    </tr>\n",
       "    <tr>\n",
       "      <th>4591</th>\n",
       "      <td>-118.28</td>\n",
       "      <td>34.06</td>\n",
       "      <td>42.0</td>\n",
       "      <td>2472.0</td>\n",
       "      <td>NaN</td>\n",
       "      <td>3795.0</td>\n",
       "      <td>1179.0</td>\n",
       "      <td>1.2254</td>\n",
       "      <td>2.096692</td>\n",
       "      <td>NaN</td>\n",
       "      <td>3.218830</td>\n",
       "    </tr>\n",
       "    <tr>\n",
       "      <th>19485</th>\n",
       "      <td>-120.98</td>\n",
       "      <td>37.66</td>\n",
       "      <td>10.0</td>\n",
       "      <td>934.0</td>\n",
       "      <td>NaN</td>\n",
       "      <td>401.0</td>\n",
       "      <td>255.0</td>\n",
       "      <td>0.9336</td>\n",
       "      <td>3.662745</td>\n",
       "      <td>NaN</td>\n",
       "      <td>1.572549</td>\n",
       "    </tr>\n",
       "    <tr>\n",
       "      <th>6962</th>\n",
       "      <td>-118.05</td>\n",
       "      <td>33.99</td>\n",
       "      <td>38.0</td>\n",
       "      <td>1619.0</td>\n",
       "      <td>NaN</td>\n",
       "      <td>886.0</td>\n",
       "      <td>357.0</td>\n",
       "      <td>3.7328</td>\n",
       "      <td>4.535014</td>\n",
       "      <td>NaN</td>\n",
       "      <td>2.481793</td>\n",
       "    </tr>\n",
       "    <tr>\n",
       "      <th>14970</th>\n",
       "      <td>-117.01</td>\n",
       "      <td>32.74</td>\n",
       "      <td>31.0</td>\n",
       "      <td>3473.0</td>\n",
       "      <td>NaN</td>\n",
       "      <td>2098.0</td>\n",
       "      <td>677.0</td>\n",
       "      <td>2.6973</td>\n",
       "      <td>5.129985</td>\n",
       "      <td>NaN</td>\n",
       "      <td>3.098966</td>\n",
       "    </tr>\n",
       "    <tr>\n",
       "      <th>7763</th>\n",
       "      <td>-118.10</td>\n",
       "      <td>33.91</td>\n",
       "      <td>36.0</td>\n",
       "      <td>726.0</td>\n",
       "      <td>NaN</td>\n",
       "      <td>490.0</td>\n",
       "      <td>130.0</td>\n",
       "      <td>3.6389</td>\n",
       "      <td>5.584615</td>\n",
       "      <td>NaN</td>\n",
       "      <td>3.769231</td>\n",
       "    </tr>\n",
       "  </tbody>\n",
       "</table>\n",
       "<p>18576 rows × 11 columns</p>\n",
       "</div>"
      ],
      "text/plain": [
       "       longitude  latitude  housing_median_age  total_rooms  total_bedrooms  \\\n",
       "20248    -119.23     34.25                28.0         26.0             3.0   \n",
       "12649    -121.47     38.51                52.0         20.0             4.0   \n",
       "3125     -117.76     35.22                 4.0         18.0             3.0   \n",
       "12138    -117.22     33.87                16.0         56.0             7.0   \n",
       "8219     -118.21     33.79                33.0         32.0            18.0   \n",
       "...          ...       ...                 ...          ...             ...   \n",
       "4591     -118.28     34.06                42.0       2472.0             NaN   \n",
       "19485    -120.98     37.66                10.0        934.0             NaN   \n",
       "6962     -118.05     33.99                38.0       1619.0             NaN   \n",
       "14970    -117.01     32.74                31.0       3473.0             NaN   \n",
       "7763     -118.10     33.91                36.0        726.0             NaN   \n",
       "\n",
       "       population  households  median_income  rooms_per_household  \\\n",
       "20248        29.0         9.0         8.0000             2.888889   \n",
       "12649        74.0         9.0         3.6250             2.222222   \n",
       "3125          8.0         6.0         1.6250             3.000000   \n",
       "12138        39.0        14.0         2.6250             4.000000   \n",
       "8219         96.0        36.0         4.5938             0.888889   \n",
       "...           ...         ...            ...                  ...   \n",
       "4591       3795.0      1179.0         1.2254             2.096692   \n",
       "19485       401.0       255.0         0.9336             3.662745   \n",
       "6962        886.0       357.0         3.7328             4.535014   \n",
       "14970      2098.0       677.0         2.6973             5.129985   \n",
       "7763        490.0       130.0         3.6389             5.584615   \n",
       "\n",
       "       bedrooms_per_household  population_per_household  \n",
       "20248                0.333333                  3.222222  \n",
       "12649                0.444444                  8.222222  \n",
       "3125                 0.500000                  1.333333  \n",
       "12138                0.500000                  2.785714  \n",
       "8219                 0.500000                  2.666667  \n",
       "...                       ...                       ...  \n",
       "4591                      NaN                  3.218830  \n",
       "19485                     NaN                  1.572549  \n",
       "6962                      NaN                  2.481793  \n",
       "14970                     NaN                  3.098966  \n",
       "7763                      NaN                  3.769231  \n",
       "\n",
       "[18576 rows x 11 columns]"
      ]
     },
     "execution_count": 29,
     "metadata": {},
     "output_type": "execute_result"
    }
   ],
   "source": [
    "X_train.sort_values(\"bedrooms_per_household\")"
   ]
  },
  {
   "cell_type": "code",
   "execution_count": 30,
   "metadata": {},
   "outputs": [
    {
     "data": {
      "text/plain": [
       "((18576, 11), (2064, 11))"
      ]
     },
     "execution_count": 30,
     "metadata": {},
     "output_type": "execute_result"
    }
   ],
   "source": [
    "X_train.shape, X_test.shape"
   ]
  },
  {
   "cell_type": "code",
   "execution_count": 31,
   "metadata": {
    "slideshow": {
     "slide_type": "-"
    }
   },
   "outputs": [],
   "source": [
    "imputer = SimpleImputer(strategy=\"median\")\n",
    "imputer.fit(X_train)\n",
    "X_train_imp = imputer.transform(X_train)\n",
    "X_test_imp = imputer.transform(X_test)"
   ]
  },
  {
   "cell_type": "markdown",
   "metadata": {
    "slideshow": {
     "slide_type": "slide"
    }
   },
   "source": [
    "- Let's check whether the NaN values have been replaced or not\n",
    "- Note that `imputer.transform` returns an `numpy` array and not a dataframe"
   ]
  },
  {
   "cell_type": "code",
   "execution_count": 32,
   "metadata": {
    "slideshow": {
     "slide_type": "slide"
    },
    "tags": []
   },
   "outputs": [
    {
     "data": {
      "text/plain": [
       "longitude                   18576.0\n",
       "latitude                    18576.0\n",
       "housing_median_age          18576.0\n",
       "total_rooms                 18576.0\n",
       "total_bedrooms              18576.0\n",
       "population                  18576.0\n",
       "households                  18576.0\n",
       "median_income               18576.0\n",
       "rooms_per_household         18576.0\n",
       "bedrooms_per_household      18576.0\n",
       "population_per_household    18576.0\n",
       "Name: count, dtype: float64"
      ]
     },
     "execution_count": 32,
     "metadata": {},
     "output_type": "execute_result"
    }
   ],
   "source": [
    "pd.DataFrame(X_train_imp, columns=X_train.columns).describe().loc['count']"
   ]
  },
  {
   "cell_type": "markdown",
   "metadata": {},
   "source": [
    "### Scaling "
   ]
  },
  {
   "cell_type": "markdown",
   "metadata": {
    "slideshow": {
     "slide_type": "-"
    }
   },
   "source": [
    "##### - This problem affects a large number of ML methods.\n",
    "- A number of approaches to this problem. We are going to look into **two most popular** ones.\n",
    "\n",
    "| Approach | What it does | How to update $X$ (but see below!) | sklearn implementation | \n",
    "|---------|------------|-----------------------|----------------|\n",
    "| normalization | sets range to $[0,1]$   | `X -= np.min(X,axis=0)`<br>`X /= np.max(X,axis=0)`  | [`MinMaxScaler()`](https://scikit-learn.org/stable/modules/generated/sklearn.preprocessing.MinMaxScaler.html)\n",
    "| standardization | sets sample mean to $0$, s.d. to $1$   | `X -= np.mean(X,axis=0)`<br>`X /=  np.std(X,axis=0)` | [`StandardScaler()`](https://scikit-learn.org/stable/modules/generated/sklearn.preprocessing.StandardScaler.html#sklearn.preprocessing.StandardScaler) |"
   ]
  },
  {
   "cell_type": "markdown",
   "metadata": {
    "slideshow": {
     "slide_type": "slide"
    }
   },
   "source": [
    "There are all sorts of articles on this; see, e.g. [here](http://www.dataminingblog.com/standardization-vs-normalization/) and [here](https://medium.com/@rrfd/standardize-or-normalize-examples-in-python-e3f174b65dfc)."
   ]
  },
  {
   "cell_type": "code",
   "execution_count": 33,
   "metadata": {},
   "outputs": [
    {
     "data": {
      "image/png": "[encoded data removed]",
      "text/plain": [
       "<Figure size 1080x576 with 5 Axes>"
      ]
     },
     "metadata": {
      "needs_background": "light"
     },
     "output_type": "display_data"
    }
   ],
   "source": [
    "# [source](https://amueller.github.io/COMS4995-s19/slides/aml-05-preprocessing/#8)\n",
    "mglearn.plots.plot_scaling()"
   ]
  },
  {
   "cell_type": "code",
   "execution_count": 34,
   "metadata": {
    "slideshow": {
     "slide_type": "slide"
    }
   },
   "outputs": [],
   "source": [
    "from sklearn.preprocessing import MinMaxScaler, StandardScaler"
   ]
  },
  {
   "cell_type": "code",
   "execution_count": 35,
   "metadata": {
    "slideshow": {
     "slide_type": "-"
    }
   },
   "outputs": [
    {
     "data": {
      "text/html": [
       "<div>\n",
       "<style scoped>\n",
       "    .dataframe tbody tr th:only-of-type {\n",
       "        vertical-align: middle;\n",
       "    }\n",
       "\n",
       "    .dataframe tbody tr th {\n",
       "        vertical-align: top;\n",
       "    }\n",
       "\n",
       "    .dataframe thead th {\n",
       "        text-align: right;\n",
       "    }\n",
       "</style>\n",
       "<table border=\"1\" class=\"dataframe\">\n",
       "  <thead>\n",
       "    <tr style=\"text-align: right;\">\n",
       "      <th></th>\n",
       "      <th>longitude</th>\n",
       "      <th>latitude</th>\n",
       "      <th>housing_median_age</th>\n",
       "      <th>total_rooms</th>\n",
       "      <th>total_bedrooms</th>\n",
       "      <th>population</th>\n",
       "      <th>households</th>\n",
       "      <th>median_income</th>\n",
       "      <th>rooms_per_household</th>\n",
       "      <th>bedrooms_per_household</th>\n",
       "      <th>population_per_household</th>\n",
       "    </tr>\n",
       "  </thead>\n",
       "  <tbody>\n",
       "    <tr>\n",
       "      <th>0</th>\n",
       "      <td>0.908140</td>\n",
       "      <td>-0.743917</td>\n",
       "      <td>-0.526078</td>\n",
       "      <td>0.143120</td>\n",
       "      <td>0.235339</td>\n",
       "      <td>1.026092</td>\n",
       "      <td>0.266135</td>\n",
       "      <td>-0.389736</td>\n",
       "      <td>-0.210591</td>\n",
       "      <td>-0.083813</td>\n",
       "      <td>0.126398</td>\n",
       "    </tr>\n",
       "    <tr>\n",
       "      <th>1</th>\n",
       "      <td>-0.002057</td>\n",
       "      <td>1.083123</td>\n",
       "      <td>-0.923283</td>\n",
       "      <td>-1.049510</td>\n",
       "      <td>-0.969959</td>\n",
       "      <td>-1.206672</td>\n",
       "      <td>-1.253312</td>\n",
       "      <td>-0.198924</td>\n",
       "      <td>4.726412</td>\n",
       "      <td>11.166631</td>\n",
       "      <td>-0.050132</td>\n",
       "    </tr>\n",
       "    <tr>\n",
       "      <th>2</th>\n",
       "      <td>1.218207</td>\n",
       "      <td>-1.352930</td>\n",
       "      <td>1.380504</td>\n",
       "      <td>0.329670</td>\n",
       "      <td>0.549764</td>\n",
       "      <td>0.024896</td>\n",
       "      <td>0.542873</td>\n",
       "      <td>-0.635239</td>\n",
       "      <td>-0.273606</td>\n",
       "      <td>-0.025391</td>\n",
       "      <td>-0.099240</td>\n",
       "    </tr>\n",
       "    <tr>\n",
       "      <th>3</th>\n",
       "      <td>1.128188</td>\n",
       "      <td>-0.753286</td>\n",
       "      <td>-0.843842</td>\n",
       "      <td>-0.459154</td>\n",
       "      <td>-0.626949</td>\n",
       "      <td>-0.463877</td>\n",
       "      <td>-0.561467</td>\n",
       "      <td>0.714077</td>\n",
       "      <td>0.122307</td>\n",
       "      <td>-0.280310</td>\n",
       "      <td>0.010183</td>\n",
       "    </tr>\n",
       "    <tr>\n",
       "      <th>4</th>\n",
       "      <td>1.168196</td>\n",
       "      <td>-1.287344</td>\n",
       "      <td>-0.843842</td>\n",
       "      <td>1.343085</td>\n",
       "      <td>2.210026</td>\n",
       "      <td>4.269688</td>\n",
       "      <td>2.500924</td>\n",
       "      <td>-1.059242</td>\n",
       "      <td>-0.640266</td>\n",
       "      <td>-0.190617</td>\n",
       "      <td>0.126808</td>\n",
       "    </tr>\n",
       "    <tr>\n",
       "      <th>...</th>\n",
       "      <td>...</td>\n",
       "      <td>...</td>\n",
       "      <td>...</td>\n",
       "      <td>...</td>\n",
       "      <td>...</td>\n",
       "      <td>...</td>\n",
       "      <td>...</td>\n",
       "      <td>...</td>\n",
       "      <td>...</td>\n",
       "      <td>...</td>\n",
       "      <td>...</td>\n",
       "    </tr>\n",
       "    <tr>\n",
       "      <th>18571</th>\n",
       "      <td>0.733102</td>\n",
       "      <td>-0.804818</td>\n",
       "      <td>0.586095</td>\n",
       "      <td>-0.875337</td>\n",
       "      <td>-0.243446</td>\n",
       "      <td>-0.822136</td>\n",
       "      <td>-0.966131</td>\n",
       "      <td>-0.118182</td>\n",
       "      <td>0.063110</td>\n",
       "      <td>-0.099558</td>\n",
       "      <td>0.071541</td>\n",
       "    </tr>\n",
       "    <tr>\n",
       "      <th>18572</th>\n",
       "      <td>1.163195</td>\n",
       "      <td>-1.057793</td>\n",
       "      <td>-1.161606</td>\n",
       "      <td>0.940194</td>\n",
       "      <td>0.609314</td>\n",
       "      <td>0.882438</td>\n",
       "      <td>0.728235</td>\n",
       "      <td>0.357500</td>\n",
       "      <td>0.235096</td>\n",
       "      <td>-0.163397</td>\n",
       "      <td>0.007458</td>\n",
       "    </tr>\n",
       "    <tr>\n",
       "      <th>18573</th>\n",
       "      <td>-1.097293</td>\n",
       "      <td>0.797355</td>\n",
       "      <td>-1.876574</td>\n",
       "      <td>0.695434</td>\n",
       "      <td>0.433046</td>\n",
       "      <td>0.881563</td>\n",
       "      <td>0.514155</td>\n",
       "      <td>0.934269</td>\n",
       "      <td>0.211892</td>\n",
       "      <td>-0.135305</td>\n",
       "      <td>0.044029</td>\n",
       "    </tr>\n",
       "    <tr>\n",
       "      <th>18574</th>\n",
       "      <td>-1.437367</td>\n",
       "      <td>1.008167</td>\n",
       "      <td>1.221622</td>\n",
       "      <td>-0.499947</td>\n",
       "      <td>-0.484029</td>\n",
       "      <td>-0.759944</td>\n",
       "      <td>-0.454427</td>\n",
       "      <td>0.006578</td>\n",
       "      <td>-0.273382</td>\n",
       "      <td>-0.149822</td>\n",
       "      <td>-0.132875</td>\n",
       "    </tr>\n",
       "    <tr>\n",
       "      <th>18575</th>\n",
       "      <td>0.242996</td>\n",
       "      <td>0.272667</td>\n",
       "      <td>-0.684960</td>\n",
       "      <td>-0.332190</td>\n",
       "      <td>-0.353018</td>\n",
       "      <td>-0.164307</td>\n",
       "      <td>-0.396991</td>\n",
       "      <td>-0.711754</td>\n",
       "      <td>0.025998</td>\n",
       "      <td>0.042957</td>\n",
       "      <td>0.051269</td>\n",
       "    </tr>\n",
       "  </tbody>\n",
       "</table>\n",
       "<p>18576 rows × 11 columns</p>\n",
       "</div>"
      ],
      "text/plain": [
       "       longitude  latitude  housing_median_age  total_rooms  total_bedrooms  \\\n",
       "0       0.908140 -0.743917           -0.526078     0.143120        0.235339   \n",
       "1      -0.002057  1.083123           -0.923283    -1.049510       -0.969959   \n",
       "2       1.218207 -1.352930            1.380504     0.329670        0.549764   \n",
       "3       1.128188 -0.753286           -0.843842    -0.459154       -0.626949   \n",
       "4       1.168196 -1.287344           -0.843842     1.343085        2.210026   \n",
       "...          ...       ...                 ...          ...             ...   \n",
       "18571   0.733102 -0.804818            0.586095    -0.875337       -0.243446   \n",
       "18572   1.163195 -1.057793           -1.161606     0.940194        0.609314   \n",
       "18573  -1.097293  0.797355           -1.876574     0.695434        0.433046   \n",
       "18574  -1.437367  1.008167            1.221622    -0.499947       -0.484029   \n",
       "18575   0.242996  0.272667           -0.684960    -0.332190       -0.353018   \n",
       "\n",
       "       population  households  median_income  rooms_per_household  \\\n",
       "0        1.026092    0.266135      -0.389736            -0.210591   \n",
       "1       -1.206672   -1.253312      -0.198924             4.726412   \n",
       "2        0.024896    0.542873      -0.635239            -0.273606   \n",
       "3       -0.463877   -0.561467       0.714077             0.122307   \n",
       "4        4.269688    2.500924      -1.059242            -0.640266   \n",
       "...           ...         ...            ...                  ...   \n",
       "18571   -0.822136   -0.966131      -0.118182             0.063110   \n",
       "18572    0.882438    0.728235       0.357500             0.235096   \n",
       "18573    0.881563    0.514155       0.934269             0.211892   \n",
       "18574   -0.759944   -0.454427       0.006578            -0.273382   \n",
       "18575   -0.164307   -0.396991      -0.711754             0.025998   \n",
       "\n",
       "       bedrooms_per_household  population_per_household  \n",
       "0                   -0.083813                  0.126398  \n",
       "1                   11.166631                 -0.050132  \n",
       "2                   -0.025391                 -0.099240  \n",
       "3                   -0.280310                  0.010183  \n",
       "4                   -0.190617                  0.126808  \n",
       "...                       ...                       ...  \n",
       "18571               -0.099558                  0.071541  \n",
       "18572               -0.163397                  0.007458  \n",
       "18573               -0.135305                  0.044029  \n",
       "18574               -0.149822                 -0.132875  \n",
       "18575                0.042957                  0.051269  \n",
       "\n",
       "[18576 rows x 11 columns]"
      ]
     },
     "execution_count": 35,
     "metadata": {},
     "output_type": "execute_result"
    }
   ],
   "source": [
    "scaler = StandardScaler()\n",
    "X_train_scaled = scaler.fit_transform(X_train_imp)\n",
    "X_test_scaled = scaler.transform(X_test_imp)\n",
    "pd.DataFrame(X_train_scaled, columns=X_train.columns)"
   ]
  },
  {
   "cell_type": "code",
   "execution_count": 36,
   "metadata": {
    "slideshow": {
     "slide_type": "-"
    }
   },
   "outputs": [
    {
     "data": {
      "text/plain": [
       "0.8090877831586284"
      ]
     },
     "execution_count": 36,
     "metadata": {},
     "output_type": "execute_result"
    }
   ],
   "source": [
    "knn = KNeighborsRegressor()\n",
    "knn.fit(X_train_scaled, y_train)\n",
    "knn.score(X_train_scaled, y_train)"
   ]
  },
  {
   "cell_type": "markdown",
   "metadata": {
    "slideshow": {
     "slide_type": "-"
    }
   },
   "source": [
    "- Big difference in the KNN training performance after scaling the data. \n",
    "- But we saw last week that training score doesn't tell us much. We should look at the cross-validation score."
   ]
  },
  {
   "cell_type": "markdown",
   "metadata": {
    "slideshow": {
     "slide_type": "slide"
    }
   },
   "source": [
    "### ❓❓ Questions for class discussion "
   ]
  },
  {
   "cell_type": "markdown",
   "metadata": {
    "slideshow": {
     "slide_type": "-"
    },
    "tags": []
   },
   "source": [
    "#### True/False on scaling and imputation\n",
    "\n",
    "1. `StandardScaler` ensures a fixed range (i.e., minimum and maximum values) for the features. \n",
    "2. `StandardScaler` calculates mean and standard deviation for each feature separately. \n",
    "3. In general, it's a good idea to apply scaling on numeric features before training $k$-NN or SVM RBF models. \n"
   ]
  },
  {
   "cell_type": "markdown",
   "metadata": {
    "slideshow": {
     "slide_type": "slide"
    }
   },
   "source": [
    "#### More True/False on scaling and imputation\n",
    "\n",
    "4. The transformers such as `StandardScaler` or `SimpleImputer` in `scikit-learn` return a dataframe with transformed features.\n",
    "5. The transformed feature values might be hard to interpret for humans.\n",
    "6. After applying `SimpleImputer` The transformed data has a different shape than the original data.  "
   ]
  },
  {
   "cell_type": "markdown",
   "metadata": {
    "slideshow": {
     "slide_type": "slide"
    }
   },
   "source": [
    "Consider a toy data with the following two columns. If you apply `StandardScaler` on this data, both columns A and B will end up being identical. True or False?  "
   ]
  },
  {
   "cell_type": "code",
   "execution_count": 37,
   "metadata": {},
   "outputs": [
    {
     "data": {
      "text/html": [
       "<div>\n",
       "<style scoped>\n",
       "    .dataframe tbody tr th:only-of-type {\n",
       "        vertical-align: middle;\n",
       "    }\n",
       "\n",
       "    .dataframe tbody tr th {\n",
       "        vertical-align: top;\n",
       "    }\n",
       "\n",
       "    .dataframe thead th {\n",
       "        text-align: right;\n",
       "    }\n",
       "</style>\n",
       "<table border=\"1\" class=\"dataframe\">\n",
       "  <thead>\n",
       "    <tr style=\"text-align: right;\">\n",
       "      <th></th>\n",
       "      <th>A</th>\n",
       "      <th>B</th>\n",
       "    </tr>\n",
       "  </thead>\n",
       "  <tbody>\n",
       "    <tr>\n",
       "      <th>0</th>\n",
       "      <td>10</td>\n",
       "      <td>-2</td>\n",
       "    </tr>\n",
       "    <tr>\n",
       "      <th>1</th>\n",
       "      <td>20</td>\n",
       "      <td>-1</td>\n",
       "    </tr>\n",
       "    <tr>\n",
       "      <th>2</th>\n",
       "      <td>30</td>\n",
       "      <td>0</td>\n",
       "    </tr>\n",
       "    <tr>\n",
       "      <th>3</th>\n",
       "      <td>40</td>\n",
       "      <td>1</td>\n",
       "    </tr>\n",
       "    <tr>\n",
       "      <th>4</th>\n",
       "      <td>50</td>\n",
       "      <td>2</td>\n",
       "    </tr>\n",
       "  </tbody>\n",
       "</table>\n",
       "</div>"
      ],
      "text/plain": [
       "    A  B\n",
       "0  10 -2\n",
       "1  20 -1\n",
       "2  30  0\n",
       "3  40  1\n",
       "4  50  2"
      ]
     },
     "execution_count": 37,
     "metadata": {},
     "output_type": "execute_result"
    }
   ],
   "source": [
    "toy_cols = np.array([[10, -2], [20, -1], [30, 0], [40, 1], [50, 2]])\n",
    "toy_df = pd.DataFrame(data=toy_cols, columns=[\"A\", \"B\"])\n",
    "toy_df"
   ]
  },
  {
   "cell_type": "markdown",
   "metadata": {
    "slideshow": {
     "slide_type": "slide"
    },
    "tags": []
   },
   "source": [
    "Let's create some synthetic data. "
   ]
  },
  {
   "cell_type": "code",
   "execution_count": 38,
   "metadata": {},
   "outputs": [
    {
     "data": {
      "image/png": "[encoded data removed]",
      "text/plain": [
       "<Figure size 432x288 with 1 Axes>"
      ]
     },
     "metadata": {
      "needs_background": "light"
     },
     "output_type": "display_data"
    }
   ],
   "source": [
    "from sklearn.datasets import make_blobs, make_classification\n",
    "\n",
    "# make synthetic data\n",
    "X, y = make_blobs(n_samples=100, centers=3, random_state=12, cluster_std=4)\n",
    "# split it into training and test sets\n",
    "X_train_toy, X_test_toy, y_train_toy, y_test_toy = train_test_split(\n",
    "    X, y, random_state=5, test_size=0.2\n",
    ")\n",
    "plt.scatter(X_train_toy[:, 0], X_train_toy[:, 1], label=\"Training set\", s=60)\n",
    "plt.scatter(\n",
    "    X_test_toy[:, 0], X_test_toy[:, 1], color=mglearn.cm2(1), label=\"Test set\", s=60\n",
    ")\n",
    "plt.legend(loc=\"upper right\");"
   ]
  },
  {
   "cell_type": "markdown",
   "metadata": {
    "slideshow": {
     "slide_type": "slide"
    },
    "tags": []
   },
   "source": [
    "Let's transform the data using `StandardScaler` and examine how the data looks like. "
   ]
  },
  {
   "cell_type": "code",
   "execution_count": 39,
   "metadata": {
    "tags": []
   },
   "outputs": [],
   "source": [
    "scaler = StandardScaler()\n",
    "train_transformed = scaler.fit_transform(X_train_toy)\n",
    "test_transformed = scaler.transform(X_test_toy)"
   ]
  },
  {
   "cell_type": "code",
   "execution_count": 40,
   "metadata": {},
   "outputs": [
    {
     "data": {
      "image/png": "[encoded data removed]",
      "text/plain": [
       "<Figure size 1080x288 with 2 Axes>"
      ]
     },
     "metadata": {
      "needs_background": "light"
     },
     "output_type": "display_data"
    }
   ],
   "source": [
    "plot_original_scaled(X_train_toy, X_test_toy, train_transformed, test_transformed)"
   ]
  },
  {
   "cell_type": "markdown",
   "metadata": {
    "slideshow": {
     "slide_type": "slide"
    },
    "tags": []
   },
   "source": [
    "#### Bad methodology 1: Scaling the data separately (for class discussion)"
   ]
  },
  {
   "cell_type": "code",
   "execution_count": 41,
   "metadata": {
    "slideshow": {
     "slide_type": "-"
    }
   },
   "outputs": [
    {
     "name": "stdout",
     "output_type": "stream",
     "text": [
      "Training score: 0.75\n",
      "Test score: 0.50\n"
     ]
    }
   ],
   "source": [
    "# DO NOT DO THIS! For illustration purposes only.\n",
    "scaler = StandardScaler()\n",
    "scaler.fit(X_train_toy)\n",
    "train_scaled = scaler.transform(X_train_toy)\n",
    "\n",
    "scaler = StandardScaler()  # Creating a separate object for scaling test data\n",
    "scaler.fit(X_test_toy)  # Calling fit on the test data\n",
    "test_scaled = scaler.transform(\n",
    "    X_test_toy\n",
    ")  # Transforming the test data using the scaler fit on test data\n",
    "\n",
    "knn = KNeighborsClassifier()\n",
    "knn.fit(train_scaled, y_train_toy)\n",
    "print(f\"Training score: {knn.score(train_scaled, y_train_toy):.2f}\")\n",
    "print(f\"Test score: {knn.score(test_scaled, y_test_toy):.2f}\")"
   ]
  },
  {
   "cell_type": "markdown",
   "metadata": {
    "tags": []
   },
   "source": [
    "- Is anything wrong in methodology 1? If yes, what is it?  "
   ]
  },
  {
   "cell_type": "code",
   "execution_count": 42,
   "metadata": {
    "slideshow": {
     "slide_type": "slide"
    }
   },
   "outputs": [
    {
     "data": {
      "image/png": "[encoded data removed]",
      "text/plain": [
       "<Figure size 1080x288 with 2 Axes>"
      ]
     },
     "metadata": {
      "needs_background": "light"
     },
     "output_type": "display_data"
    }
   ],
   "source": [
    "plot_original_scaled(\n",
    "    X_train_toy,\n",
    "    X_test_toy,\n",
    "    train_scaled,\n",
    "    test_scaled,\n",
    "    title_transformed=\"Improperly transformed\",\n",
    ")"
   ]
  },
  {
   "cell_type": "markdown",
   "metadata": {
    "slideshow": {
     "slide_type": "slide"
    }
   },
   "source": [
    "#### Bad methodology 2: Scaling the data together (for class discussion)"
   ]
  },
  {
   "cell_type": "code",
   "execution_count": 43,
   "metadata": {
    "slideshow": {
     "slide_type": "-"
    }
   },
   "outputs": [
    {
     "data": {
      "text/plain": [
       "((80, 2), (20, 2))"
      ]
     },
     "execution_count": 43,
     "metadata": {},
     "output_type": "execute_result"
    }
   ],
   "source": [
    "X_train_toy.shape, X_test_toy.shape"
   ]
  },
  {
   "cell_type": "code",
   "execution_count": 44,
   "metadata": {
    "slideshow": {
     "slide_type": "-"
    }
   },
   "outputs": [
    {
     "data": {
      "text/plain": [
       "(100, 2)"
      ]
     },
     "execution_count": 44,
     "metadata": {},
     "output_type": "execute_result"
    }
   ],
   "source": [
    "# join the train and test sets back together\n",
    "XX = np.vstack((X_train_toy, X_test_toy))\n",
    "XX.shape"
   ]
  },
  {
   "cell_type": "code",
   "execution_count": 45,
   "metadata": {
    "slideshow": {
     "slide_type": "-"
    }
   },
   "outputs": [],
   "source": [
    "scaler = StandardScaler()\n",
    "scaler.fit(XX)\n",
    "XX_scaled = scaler.transform(XX)\n",
    "XX_train = XX_scaled[:80]\n",
    "XX_test = XX_scaled[80:]"
   ]
  },
  {
   "cell_type": "code",
   "execution_count": 46,
   "metadata": {
    "slideshow": {
     "slide_type": "-"
    }
   },
   "outputs": [
    {
     "name": "stdout",
     "output_type": "stream",
     "text": [
      "Training score: 0.75\n",
      "Test score: 0.55\n"
     ]
    }
   ],
   "source": [
    "knn = KNeighborsClassifier()\n",
    "knn.fit(XX_train, y_train_toy)\n",
    "print(f\"Training score: {knn.score(XX_train, y_train_toy):.2f}\")  # Misleading score\n",
    "print(f\"Test score: {knn.score(XX_test, y_test_toy):.2f}\")  # Misleading score"
   ]
  },
  {
   "cell_type": "markdown",
   "metadata": {
    "slideshow": {
     "slide_type": "-"
    }
   },
   "source": [
    "- Is anything wrong in methodology 2? If yes, what is it? "
   ]
  },
  {
   "cell_type": "code",
   "execution_count": 47,
   "metadata": {
    "slideshow": {
     "slide_type": "slide"
    }
   },
   "outputs": [
    {
     "data": {
      "image/png": "[encoded data removed]",
      "text/plain": [
       "<Figure size 1080x288 with 2 Axes>"
      ]
     },
     "metadata": {
      "needs_background": "light"
     },
     "output_type": "display_data"
    }
   ],
   "source": [
    "plot_original_scaled(\n",
    "    X_train_toy,\n",
    "    X_test_toy,\n",
    "    XX_train,\n",
    "    XX_test,\n",
    "    title_transformed=\"Improperly transformed\",\n",
    ")"
   ]
  },
  {
   "cell_type": "markdown",
   "metadata": {},
   "source": [
    "Not a big difference in the transformed data but if the test set is large it might influence the mean and standard deviation significantly. "
   ]
  },
  {
   "cell_type": "markdown",
   "metadata": {
    "slideshow": {
     "slide_type": "slide"
    }
   },
   "source": [
    "#### Methodology 3: Cross validation with already preprocessed data (for class discussion)"
   ]
  },
  {
   "cell_type": "code",
   "execution_count": 48,
   "metadata": {
    "slideshow": {
     "slide_type": "-"
    }
   },
   "outputs": [
    {
     "data": {
      "text/html": [
       "<div>\n",
       "<style scoped>\n",
       "    .dataframe tbody tr th:only-of-type {\n",
       "        vertical-align: middle;\n",
       "    }\n",
       "\n",
       "    .dataframe tbody tr th {\n",
       "        vertical-align: top;\n",
       "    }\n",
       "\n",
       "    .dataframe thead th {\n",
       "        text-align: right;\n",
       "    }\n",
       "</style>\n",
       "<table border=\"1\" class=\"dataframe\">\n",
       "  <thead>\n",
       "    <tr style=\"text-align: right;\">\n",
       "      <th></th>\n",
       "      <th>fit_time</th>\n",
       "      <th>score_time</th>\n",
       "      <th>test_score</th>\n",
       "      <th>train_score</th>\n",
       "    </tr>\n",
       "  </thead>\n",
       "  <tbody>\n",
       "    <tr>\n",
       "      <th>0</th>\n",
       "      <td>0.000455</td>\n",
       "      <td>0.001269</td>\n",
       "      <td>0.6875</td>\n",
       "      <td>0.671875</td>\n",
       "    </tr>\n",
       "    <tr>\n",
       "      <th>1</th>\n",
       "      <td>0.000592</td>\n",
       "      <td>0.000870</td>\n",
       "      <td>0.7500</td>\n",
       "      <td>0.671875</td>\n",
       "    </tr>\n",
       "    <tr>\n",
       "      <th>2</th>\n",
       "      <td>0.000642</td>\n",
       "      <td>0.001271</td>\n",
       "      <td>0.6875</td>\n",
       "      <td>0.734375</td>\n",
       "    </tr>\n",
       "    <tr>\n",
       "      <th>3</th>\n",
       "      <td>0.000443</td>\n",
       "      <td>0.000884</td>\n",
       "      <td>0.6250</td>\n",
       "      <td>0.750000</td>\n",
       "    </tr>\n",
       "    <tr>\n",
       "      <th>4</th>\n",
       "      <td>0.000374</td>\n",
       "      <td>0.000974</td>\n",
       "      <td>0.5000</td>\n",
       "      <td>0.687500</td>\n",
       "    </tr>\n",
       "  </tbody>\n",
       "</table>\n",
       "</div>"
      ],
      "text/plain": [
       "   fit_time  score_time  test_score  train_score\n",
       "0  0.000455    0.001269      0.6875     0.671875\n",
       "1  0.000592    0.000870      0.7500     0.671875\n",
       "2  0.000642    0.001271      0.6875     0.734375\n",
       "3  0.000443    0.000884      0.6250     0.750000\n",
       "4  0.000374    0.000974      0.5000     0.687500"
      ]
     },
     "execution_count": 48,
     "metadata": {},
     "output_type": "execute_result"
    }
   ],
   "source": [
    "knn = KNeighborsClassifier()\n",
    "\n",
    "scaler = StandardScaler()\n",
    "scaler.fit(X_train_toy)\n",
    "X_train_scaled = scaler.transform(X_train_toy)\n",
    "X_test_scaled = scaler.transform(X_test_toy)\n",
    "scores = cross_validate(knn, X_train_scaled, y_train_toy, return_train_score=True)\n",
    "pd.DataFrame(scores)"
   ]
  },
  {
   "cell_type": "markdown",
   "metadata": {},
   "source": [
    "- Is there anything wrong in methodology 3? Are we breaking the golden rule here?  "
   ]
  },
  {
   "cell_type": "code",
   "execution_count": 49,
   "metadata": {
    "slideshow": {
     "slide_type": "slide"
    }
   },
   "outputs": [
    {
     "data": {
      "image/png": "[encoded data removed]",
      "text/plain": [
       "<Figure size 1080x720 with 2 Axes>"
      ]
     },
     "metadata": {},
     "output_type": "display_data"
    }
   ],
   "source": [
    "plot_improper_processing(\"kNN\")"
   ]
  },
  {
   "cell_type": "code",
   "execution_count": 50,
   "metadata": {
    "slideshow": {
     "slide_type": "slide"
    }
   },
   "outputs": [
    {
     "data": {
      "image/png": "[encoded data removed]",
      "text/plain": [
       "<Figure size 1080x576 with 2 Axes>"
      ]
     },
     "metadata": {},
     "output_type": "display_data"
    }
   ],
   "source": [
    "plot_proper_processing(\"kNN\")"
   ]
  },
  {
   "cell_type": "markdown",
   "metadata": {},
   "source": [
    "<br><br><br><br>"
   ]
  },
  {
   "cell_type": "markdown",
   "metadata": {},
   "source": [
    "## Feature transformations and the golden rule"
   ]
  },
  {
   "cell_type": "markdown",
   "metadata": {
    "slideshow": {
     "slide_type": "slide"
    },
    "tags": []
   },
   "source": [
    "### How to carry out cross-validation? \n",
    "\n",
    "- Last week we saw that cross validation is a better way to get a realistic assessment of the model. \n",
    "- Let's try cross-validation with transformed data. "
   ]
  },
  {
   "cell_type": "code",
   "execution_count": 51,
   "metadata": {
    "slideshow": {
     "slide_type": "-"
    },
    "tags": []
   },
   "outputs": [
    {
     "data": {
      "text/html": [
       "<div>\n",
       "<style scoped>\n",
       "    .dataframe tbody tr th:only-of-type {\n",
       "        vertical-align: middle;\n",
       "    }\n",
       "\n",
       "    .dataframe tbody tr th {\n",
       "        vertical-align: top;\n",
       "    }\n",
       "\n",
       "    .dataframe thead th {\n",
       "        text-align: right;\n",
       "    }\n",
       "</style>\n",
       "<table border=\"1\" class=\"dataframe\">\n",
       "  <thead>\n",
       "    <tr style=\"text-align: right;\">\n",
       "      <th></th>\n",
       "      <th>fit_time</th>\n",
       "      <th>score_time</th>\n",
       "      <th>test_score</th>\n",
       "      <th>train_score</th>\n",
       "    </tr>\n",
       "  </thead>\n",
       "  <tbody>\n",
       "    <tr>\n",
       "      <th>0</th>\n",
       "      <td>0.020286</td>\n",
       "      <td>0.228168</td>\n",
       "      <td>0.710905</td>\n",
       "      <td>0.803734</td>\n",
       "    </tr>\n",
       "    <tr>\n",
       "      <th>1</th>\n",
       "      <td>0.014352</td>\n",
       "      <td>0.198796</td>\n",
       "      <td>0.706893</td>\n",
       "      <td>0.803212</td>\n",
       "    </tr>\n",
       "    <tr>\n",
       "      <th>2</th>\n",
       "      <td>0.013560</td>\n",
       "      <td>0.198202</td>\n",
       "      <td>0.711039</td>\n",
       "      <td>0.803030</td>\n",
       "    </tr>\n",
       "    <tr>\n",
       "      <th>3</th>\n",
       "      <td>0.015382</td>\n",
       "      <td>0.231230</td>\n",
       "      <td>0.695769</td>\n",
       "      <td>0.806275</td>\n",
       "    </tr>\n",
       "    <tr>\n",
       "      <th>4</th>\n",
       "      <td>0.040414</td>\n",
       "      <td>0.170938</td>\n",
       "      <td>0.697941</td>\n",
       "      <td>0.805146</td>\n",
       "    </tr>\n",
       "  </tbody>\n",
       "</table>\n",
       "</div>"
      ],
      "text/plain": [
       "   fit_time  score_time  test_score  train_score\n",
       "0  0.020286    0.228168    0.710905     0.803734\n",
       "1  0.014352    0.198796    0.706893     0.803212\n",
       "2  0.013560    0.198202    0.711039     0.803030\n",
       "3  0.015382    0.231230    0.695769     0.806275\n",
       "4  0.040414    0.170938    0.697941     0.805146"
      ]
     },
     "execution_count": 51,
     "metadata": {},
     "output_type": "execute_result"
    }
   ],
   "source": [
    "knn = KNeighborsRegressor()\n",
    "\n",
    "scaler = StandardScaler()\n",
    "scaler.fit(X_train_imp)\n",
    "X_train_scaled = scaler.transform(X_train_imp)\n",
    "X_test_scaled = scaler.transform(X_test_imp)\n",
    "scores = cross_validate(knn, X_train_scaled, y_train, return_train_score=True)\n",
    "pd.DataFrame(scores)"
   ]
  },
  {
   "cell_type": "markdown",
   "metadata": {
    "slideshow": {
     "slide_type": "slide"
    }
   },
   "source": [
    "- Do you see any problem here? \n",
    "- Are we applying `fit_transform` on train portion and `transform` on validation portion in each fold?  \n",
    "    - Here you might be allowing information from the validation set to **leak** into the training step."
   ]
  },
  {
   "cell_type": "markdown",
   "metadata": {
    "slideshow": {
     "slide_type": "slide"
    }
   },
   "source": [
    "- You need to apply the **SAME** preprocessing steps to train/validation.\n",
    "- With many different transformations and cross validation the code gets unwieldy very quickly. \n",
    "- Likely to make mistakes and \"leak\" information.\n"
   ]
  },
  {
   "cell_type": "markdown",
   "metadata": {
    "slideshow": {
     "slide_type": "skip"
    }
   },
   "source": [
    "- In these examples our test accuracies look fine, but our methodology is flawed.\n",
    "- Implications can be significant in practice!"
   ]
  },
  {
   "cell_type": "markdown",
   "metadata": {},
   "source": []
  },
  {
   "cell_type": "markdown",
   "metadata": {
    "slideshow": {
     "slide_type": "slide"
    }
   },
   "source": [
    "### Pipelines\n",
    "\n",
    "Can we do this in a more elegant and organized way?\n",
    "\n",
    "- YES!! Using [`scikit-learn Pipeline`](https://scikit-learn.org/stable/modules/generated/sklearn.pipeline.Pipeline.html).\n",
    "- [`scikit-learn Pipeline`](https://scikit-learn.org/stable/modules/generated/sklearn.pipeline.Pipeline.html) allows you to define a \"pipeline\" of transformers with a final estimator."
   ]
  },
  {
   "cell_type": "markdown",
   "metadata": {
    "slideshow": {
     "slide_type": "slide"
    }
   },
   "source": [
    "Let's combine the preprocessing and model with pipeline"
   ]
  },
  {
   "cell_type": "code",
   "execution_count": 52,
   "metadata": {
    "slideshow": {
     "slide_type": "-"
    }
   },
   "outputs": [],
   "source": [
    "### Simple example of a pipeline\n",
    "from sklearn.pipeline import Pipeline\n",
    "\n",
    "pipe = Pipeline(\n",
    "    steps=[\n",
    "        (\"imputer\", SimpleImputer(strategy=\"median\")),\n",
    "        (\"scaler\", StandardScaler()),\n",
    "        (\"regressor\", KNeighborsRegressor()),\n",
    "    ]\n",
    ")"
   ]
  },
  {
   "cell_type": "markdown",
   "metadata": {},
   "source": [
    "- Syntax: pass in a list of steps.\n",
    "- The last step should be a **model/classifier/regressor**.\n",
    "- All the earlier steps should be **transformers**."
   ]
  },
  {
   "cell_type": "markdown",
   "metadata": {
    "slideshow": {
     "slide_type": "slide"
    }
   },
   "source": [
    "### Alternative and more compact syntax: `make_pipeline`"
   ]
  },
  {
   "cell_type": "markdown",
   "metadata": {},
   "source": [
    "- Shorthand for `Pipeline` constructor\n",
    "- Does not permit naming steps\n",
    "- Instead the names of steps are set to lowercase of their types automatically; `StandardScaler()` would be named as `standardscaler`"
   ]
  },
  {
   "cell_type": "code",
   "execution_count": 53,
   "metadata": {
    "slideshow": {
     "slide_type": "-"
    }
   },
   "outputs": [],
   "source": [
    "from sklearn.pipeline import make_pipeline\n",
    "\n",
    "pipe = make_pipeline(\n",
    "    SimpleImputer(strategy=\"median\"), StandardScaler(), KNeighborsRegressor()\n",
    ")"
   ]
  },
  {
   "cell_type": "code",
   "execution_count": 54,
   "metadata": {
    "slideshow": {
     "slide_type": "slide"
    }
   },
   "outputs": [
    {
     "data": {
      "text/plain": [
       "Pipeline(steps=[('simpleimputer', SimpleImputer(strategy='median')),\n",
       "                ('standardscaler', StandardScaler()),\n",
       "                ('kneighborsregressor', KNeighborsRegressor())])"
      ]
     },
     "execution_count": 54,
     "metadata": {},
     "output_type": "execute_result"
    }
   ],
   "source": [
    "pipe.fit(X_train, y_train)"
   ]
  },
  {
   "cell_type": "markdown",
   "metadata": {},
   "source": [
    "- Note that we are passing `X_train` and **not** the imputed or scaled data here. "
   ]
  },
  {
   "cell_type": "markdown",
   "metadata": {
    "slideshow": {
     "slide_type": "slide"
    }
   },
   "source": [
    "When you call `fit` on the pipeline, it carries out the following steps:\n",
    "\n",
    "- Fit `SimpleImputer` on `X_train`\n",
    "- Transform `X_train` using the fit `SimpleImputer` to create `X_train_imp`\n",
    "- Fit `StandardScaler` on `X_train_imp`\n",
    "- Transform `X_train_imp` using the fit `StandardScaler` to create `X_train_imp_scaled`\n",
    "- Fit the model (`KNeighborsRegressor` in our case) on `X_train_imp_scaled`\n"
   ]
  },
  {
   "cell_type": "code",
   "execution_count": 55,
   "metadata": {
    "slideshow": {
     "slide_type": "slide"
    }
   },
   "outputs": [
    {
     "data": {
      "text/plain": [
       "array([122460., 115220., 216940., ..., 240420., 254500.,  60420.])"
      ]
     },
     "execution_count": 55,
     "metadata": {},
     "output_type": "execute_result"
    }
   ],
   "source": [
    "pipe.predict(X_train)"
   ]
  },
  {
   "cell_type": "markdown",
   "metadata": {},
   "source": [
    "Note that we are passing original data to `predict` as well. This time the pipeline is carrying out following steps:\n",
    "- Transform `X_train` using the fit `SimpleImputer` to create `X_train_imp`\n",
    "- Transform `X_train_imp` using the fit `StandardScaler` to create `X_train_imp_scaled`\n",
    "- Predict using the fit model (`KNeighborsRegressor` in our case) on `X_train_imp_scaled`. "
   ]
  },
  {
   "cell_type": "markdown",
   "metadata": {
    "slideshow": {
     "slide_type": "slide"
    }
   },
   "source": [
    "<img src='./img/pipeline.png' width=\"800\">\n",
    "    \n",
    "[Source](https://amueller.github.io/COMS4995-s20/slides/aml-04-preprocessing/#18)"
   ]
  },
  {
   "cell_type": "markdown",
   "metadata": {
    "slideshow": {
     "slide_type": "slide"
    }
   },
   "source": [
    "### Let's try cross-validation with our pipeline "
   ]
  },
  {
   "cell_type": "code",
   "execution_count": 56,
   "metadata": {},
   "outputs": [
    {
     "data": {
      "text/html": [
       "<div>\n",
       "<style scoped>\n",
       "    .dataframe tbody tr th:only-of-type {\n",
       "        vertical-align: middle;\n",
       "    }\n",
       "\n",
       "    .dataframe tbody tr th {\n",
       "        vertical-align: top;\n",
       "    }\n",
       "\n",
       "    .dataframe thead th {\n",
       "        text-align: right;\n",
       "    }\n",
       "</style>\n",
       "<table border=\"1\" class=\"dataframe\">\n",
       "  <thead>\n",
       "    <tr style=\"text-align: right;\">\n",
       "      <th></th>\n",
       "      <th>fit_time</th>\n",
       "      <th>score_time</th>\n",
       "      <th>test_score</th>\n",
       "      <th>train_score</th>\n",
       "    </tr>\n",
       "  </thead>\n",
       "  <tbody>\n",
       "    <tr>\n",
       "      <th>dummy</th>\n",
       "      <td>0.002 (+/- 0.000)</td>\n",
       "      <td>0.000 (+/- 0.000)</td>\n",
       "      <td>-0.055 (+/- 0.012)</td>\n",
       "      <td>-0.055 (+/- 0.001)</td>\n",
       "    </tr>\n",
       "    <tr>\n",
       "      <th>imp + scaling + knn</th>\n",
       "      <td>0.037 (+/- 0.013)</td>\n",
       "      <td>0.221 (+/- 0.023)</td>\n",
       "      <td>0.706 (+/- 0.006)</td>\n",
       "      <td>0.806 (+/- 0.005)</td>\n",
       "    </tr>\n",
       "  </tbody>\n",
       "</table>\n",
       "</div>"
      ],
      "text/plain": [
       "                              fit_time         score_time          test_score  \\\n",
       "dummy                0.002 (+/- 0.000)  0.000 (+/- 0.000)  -0.055 (+/- 0.012)   \n",
       "imp + scaling + knn  0.037 (+/- 0.013)  0.221 (+/- 0.023)   0.706 (+/- 0.006)   \n",
       "\n",
       "                            train_score  \n",
       "dummy                -0.055 (+/- 0.001)  \n",
       "imp + scaling + knn   0.806 (+/- 0.005)  "
      ]
     },
     "execution_count": 56,
     "metadata": {},
     "output_type": "execute_result"
    }
   ],
   "source": [
    "results_dict[\"imp + scaling + knn\"] = mean_std_cross_val_scores(\n",
    "    pipe, X_train, y_train, return_train_score=True\n",
    ")\n",
    "pd.DataFrame(results_dict).T"
   ]
  },
  {
   "cell_type": "markdown",
   "metadata": {
    "slideshow": {
     "slide_type": "-"
    }
   },
   "source": [
    "Using a `Pipeline` takes care of applying the `fit_transform` on the train portion and only `transform` on the validation portion in each fold.   "
   ]
  },
  {
   "cell_type": "markdown",
   "metadata": {
    "slideshow": {
     "slide_type": "slide"
    },
    "tags": []
   },
   "source": [
    "## Break (5 min)\n",
    "\n",
    "![](img/eva-coffee.png)\n"
   ]
  },
  {
   "cell_type": "markdown",
   "metadata": {
    "slideshow": {
     "slide_type": "slide"
    }
   },
   "source": [
    "## Categorical features [[video](https://youtu.be/2mJ9rAhMMl0)]"
   ]
  },
  {
   "cell_type": "markdown",
   "metadata": {
    "tags": []
   },
   "source": [
    "- Recall that we had dropped the categorical feature `ocean_proximity` feature from the dataframe. But it could potentially be a useful feature in this task. \n",
    "\n",
    "- Let's create our `X_train` and and `X_test` again by keeping the feature in the data. "
   ]
  },
  {
   "cell_type": "code",
   "execution_count": 57,
   "metadata": {},
   "outputs": [],
   "source": [
    "X_train = train_df.drop(columns=[\"median_house_value\"])\n",
    "y_train = train_df[\"median_house_value\"]\n",
    "\n",
    "X_test = test_df.drop(columns=[\"median_house_value\"])\n",
    "y_test = test_df[\"median_house_value\"]"
   ]
  },
  {
   "cell_type": "markdown",
   "metadata": {
    "slideshow": {
     "slide_type": "slide"
    }
   },
   "source": [
    "- Let's try to build a `KNeighborRegressor` on this data using our pipeline"
   ]
  },
  {
   "cell_type": "code",
   "execution_count": 58,
   "metadata": {
    "tags": []
   },
   "outputs": [],
   "source": [
    "# pipe.fit(X_train, X_train)  # fails"
   ]
  },
  {
   "cell_type": "raw",
   "metadata": {
    "tags": []
   },
   "source": [
    "ValueError: Cannot use median strategy with non-numeric data: \n",
    "could not convert string to float: 'INLAND'"
   ]
  },
  {
   "cell_type": "markdown",
   "metadata": {
    "slideshow": {
     "slide_type": "slide"
    }
   },
   "source": [
    "- This failed because we have non-numeric data. \n",
    "- Imagine how $k$-NN would calculate distances when you have non-numeric features."
   ]
  },
  {
   "cell_type": "markdown",
   "metadata": {
    "slideshow": {
     "slide_type": "slide"
    }
   },
   "source": [
    "### Can we use this feature in the model? \n",
    "- In `scikit-learn`, most algorithms require numeric inputs.\n",
    "- Decision trees could theoretically work with categorical features.  \n",
    "    - However, the sklearn implementation does not support this. "
   ]
  },
  {
   "cell_type": "markdown",
   "metadata": {
    "slideshow": {
     "slide_type": "slide"
    },
    "tags": []
   },
   "source": [
    "### What are the options? \n",
    "\n",
    "- Drop the column (not recommended)\n",
    "    - If you know that the column is not relevant to the target in any way you may drop it. \n",
    "- We can transform categorical features to numeric ones so that we can use them in the model.     \n",
    "    - [Ordinal encoding](https://scikit-learn.org/stable/modules/generated/sklearn.preprocessing.OrdinalEncoder.html) (occasionally recommended)\n",
    "    - One-hot encoding (recommended in most cases) (this lecture)"
   ]
  },
  {
   "cell_type": "code",
   "execution_count": 59,
   "metadata": {
    "slideshow": {
     "slide_type": "slide"
    }
   },
   "outputs": [
    {
     "data": {
      "text/html": [
       "<div>\n",
       "<style scoped>\n",
       "    .dataframe tbody tr th:only-of-type {\n",
       "        vertical-align: middle;\n",
       "    }\n",
       "\n",
       "    .dataframe tbody tr th {\n",
       "        vertical-align: top;\n",
       "    }\n",
       "\n",
       "    .dataframe thead th {\n",
       "        text-align: right;\n",
       "    }\n",
       "</style>\n",
       "<table border=\"1\" class=\"dataframe\">\n",
       "  <thead>\n",
       "    <tr style=\"text-align: right;\">\n",
       "      <th></th>\n",
       "      <th>language</th>\n",
       "    </tr>\n",
       "  </thead>\n",
       "  <tbody>\n",
       "    <tr>\n",
       "      <th>0</th>\n",
       "      <td>English</td>\n",
       "    </tr>\n",
       "    <tr>\n",
       "      <th>1</th>\n",
       "      <td>Vietnamese</td>\n",
       "    </tr>\n",
       "    <tr>\n",
       "      <th>2</th>\n",
       "      <td>English</td>\n",
       "    </tr>\n",
       "    <tr>\n",
       "      <th>3</th>\n",
       "      <td>Mandarin</td>\n",
       "    </tr>\n",
       "    <tr>\n",
       "      <th>4</th>\n",
       "      <td>English</td>\n",
       "    </tr>\n",
       "    <tr>\n",
       "      <th>5</th>\n",
       "      <td>English</td>\n",
       "    </tr>\n",
       "    <tr>\n",
       "      <th>6</th>\n",
       "      <td>Mandarin</td>\n",
       "    </tr>\n",
       "    <tr>\n",
       "      <th>7</th>\n",
       "      <td>English</td>\n",
       "    </tr>\n",
       "    <tr>\n",
       "      <th>8</th>\n",
       "      <td>Vietnamese</td>\n",
       "    </tr>\n",
       "    <tr>\n",
       "      <th>9</th>\n",
       "      <td>Mandarin</td>\n",
       "    </tr>\n",
       "    <tr>\n",
       "      <th>10</th>\n",
       "      <td>French</td>\n",
       "    </tr>\n",
       "    <tr>\n",
       "      <th>11</th>\n",
       "      <td>Spanish</td>\n",
       "    </tr>\n",
       "    <tr>\n",
       "      <th>12</th>\n",
       "      <td>Mandarin</td>\n",
       "    </tr>\n",
       "    <tr>\n",
       "      <th>13</th>\n",
       "      <td>Hindi</td>\n",
       "    </tr>\n",
       "  </tbody>\n",
       "</table>\n",
       "</div>"
      ],
      "text/plain": [
       "      language\n",
       "0      English\n",
       "1   Vietnamese\n",
       "2      English\n",
       "3     Mandarin\n",
       "4      English\n",
       "5      English\n",
       "6     Mandarin\n",
       "7      English\n",
       "8   Vietnamese\n",
       "9     Mandarin\n",
       "10      French\n",
       "11     Spanish\n",
       "12    Mandarin\n",
       "13       Hindi"
      ]
     },
     "execution_count": 59,
     "metadata": {},
     "output_type": "execute_result"
    }
   ],
   "source": [
    "X_toy = pd.DataFrame(\n",
    "    {\n",
    "        \"language\": [\n",
    "            \"English\",\n",
    "            \"Vietnamese\",\n",
    "            \"English\",\n",
    "            \"Mandarin\",\n",
    "            \"English\",\n",
    "            \"English\",\n",
    "            \"Mandarin\",\n",
    "            \"English\",\n",
    "            \"Vietnamese\",\n",
    "            \"Mandarin\",\n",
    "            \"French\",\n",
    "            \"Spanish\",\n",
    "            \"Mandarin\",\n",
    "            \"Hindi\",\n",
    "        ]\n",
    "    }\n",
    ")\n",
    "X_toy"
   ]
  },
  {
   "cell_type": "markdown",
   "metadata": {
    "slideshow": {
     "slide_type": "slide"
    }
   },
   "source": [
    "### Ordinal encoding (occasionally recommended)\n",
    "\n",
    "- Here we simply assign an integer to each of our unique categorical labels. \n",
    "- We can use sklearn's [`OrdinalEncoder`](https://scikit-learn.org/stable/modules/generated/sklearn.preprocessing.OrdinalEncoder.html)."
   ]
  },
  {
   "cell_type": "code",
   "execution_count": 60,
   "metadata": {
    "slideshow": {
     "slide_type": "slide"
    }
   },
   "outputs": [
    {
     "data": {
      "text/html": [
       "<div>\n",
       "<style scoped>\n",
       "    .dataframe tbody tr th:only-of-type {\n",
       "        vertical-align: middle;\n",
       "    }\n",
       "\n",
       "    .dataframe tbody tr th {\n",
       "        vertical-align: top;\n",
       "    }\n",
       "\n",
       "    .dataframe thead th {\n",
       "        text-align: right;\n",
       "    }\n",
       "</style>\n",
       "<table border=\"1\" class=\"dataframe\">\n",
       "  <thead>\n",
       "    <tr style=\"text-align: right;\">\n",
       "      <th></th>\n",
       "      <th>language</th>\n",
       "      <th>language_enc</th>\n",
       "    </tr>\n",
       "  </thead>\n",
       "  <tbody>\n",
       "    <tr>\n",
       "      <th>0</th>\n",
       "      <td>English</td>\n",
       "      <td>0.0</td>\n",
       "    </tr>\n",
       "    <tr>\n",
       "      <th>1</th>\n",
       "      <td>Vietnamese</td>\n",
       "      <td>5.0</td>\n",
       "    </tr>\n",
       "    <tr>\n",
       "      <th>2</th>\n",
       "      <td>English</td>\n",
       "      <td>0.0</td>\n",
       "    </tr>\n",
       "    <tr>\n",
       "      <th>3</th>\n",
       "      <td>Mandarin</td>\n",
       "      <td>3.0</td>\n",
       "    </tr>\n",
       "    <tr>\n",
       "      <th>4</th>\n",
       "      <td>English</td>\n",
       "      <td>0.0</td>\n",
       "    </tr>\n",
       "    <tr>\n",
       "      <th>5</th>\n",
       "      <td>English</td>\n",
       "      <td>0.0</td>\n",
       "    </tr>\n",
       "    <tr>\n",
       "      <th>6</th>\n",
       "      <td>Mandarin</td>\n",
       "      <td>3.0</td>\n",
       "    </tr>\n",
       "    <tr>\n",
       "      <th>7</th>\n",
       "      <td>English</td>\n",
       "      <td>0.0</td>\n",
       "    </tr>\n",
       "    <tr>\n",
       "      <th>8</th>\n",
       "      <td>Vietnamese</td>\n",
       "      <td>5.0</td>\n",
       "    </tr>\n",
       "    <tr>\n",
       "      <th>9</th>\n",
       "      <td>Mandarin</td>\n",
       "      <td>3.0</td>\n",
       "    </tr>\n",
       "    <tr>\n",
       "      <th>10</th>\n",
       "      <td>French</td>\n",
       "      <td>1.0</td>\n",
       "    </tr>\n",
       "    <tr>\n",
       "      <th>11</th>\n",
       "      <td>Spanish</td>\n",
       "      <td>4.0</td>\n",
       "    </tr>\n",
       "    <tr>\n",
       "      <th>12</th>\n",
       "      <td>Mandarin</td>\n",
       "      <td>3.0</td>\n",
       "    </tr>\n",
       "    <tr>\n",
       "      <th>13</th>\n",
       "      <td>Hindi</td>\n",
       "      <td>2.0</td>\n",
       "    </tr>\n",
       "  </tbody>\n",
       "</table>\n",
       "</div>"
      ],
      "text/plain": [
       "      language  language_enc\n",
       "0      English           0.0\n",
       "1   Vietnamese           5.0\n",
       "2      English           0.0\n",
       "3     Mandarin           3.0\n",
       "4      English           0.0\n",
       "5      English           0.0\n",
       "6     Mandarin           3.0\n",
       "7      English           0.0\n",
       "8   Vietnamese           5.0\n",
       "9     Mandarin           3.0\n",
       "10      French           1.0\n",
       "11     Spanish           4.0\n",
       "12    Mandarin           3.0\n",
       "13       Hindi           2.0"
      ]
     },
     "execution_count": 60,
     "metadata": {},
     "output_type": "execute_result"
    }
   ],
   "source": [
    "from sklearn.preprocessing import OrdinalEncoder\n",
    "\n",
    "enc = OrdinalEncoder()\n",
    "enc.fit(X_toy)\n",
    "X_toy_ord = enc.transform(X_toy)\n",
    "df = pd.DataFrame(\n",
    "    data=X_toy_ord,\n",
    "    columns=[\"language_enc\"],\n",
    "    index=X_toy.index,\n",
    ")\n",
    "pd.concat([X_toy, df], axis=1)"
   ]
  },
  {
   "cell_type": "markdown",
   "metadata": {
    "slideshow": {
     "slide_type": "slide"
    }
   },
   "source": [
    "What's the problem with this approach? \n",
    "- We have imposed ordinality on the categorical data.\n",
    "- For example, imagine when you are calculating distances. Is it fair to say that French and Hindi are closer than French and Spanish? \n",
    "- In general, label encoding is useful if there is ordinality in your data and capturing it is important for your problem, e.g., `[cold, warm, hot]`. "
   ]
  },
  {
   "cell_type": "markdown",
   "metadata": {
    "slideshow": {
     "slide_type": "slide"
    }
   },
   "source": [
    "#### One-hot encoding (OHE)\n",
    "- Create new binary columns to represent our categories.\n",
    "- If we have $c$ categories in our column.\n",
    "    - We create $c$ new binary columns to represent those categories.\n",
    "- Example: Imagine a language column which has the information on whether you \n",
    "\n",
    "- We can use sklearn's [`OneHotEncoder`](https://scikit-learn.org/stable/modules/generated/sklearn.preprocessing.OneHotEncoder.html) to do so."
   ]
  },
  {
   "cell_type": "markdown",
   "metadata": {},
   "source": [
    "```{note}\n",
    "One-hot encoding is called one-hot because only one of the newly created features is 1 for each data point. \n",
    "```"
   ]
  },
  {
   "cell_type": "code",
   "execution_count": 61,
   "metadata": {
    "slideshow": {
     "slide_type": "slide"
    }
   },
   "outputs": [
    {
     "name": "stderr",
     "output_type": "stream",
     "text": [
      "/home/moveisi/miniconda3/envs/cpsc330/lib/python3.10/site-packages/sklearn/utils/deprecation.py:87: FutureWarning: Function get_feature_names is deprecated; get_feature_names is deprecated in 1.0 and will be removed in 1.2. Please use get_feature_names_out instead.\n",
      "  warnings.warn(msg, category=FutureWarning)\n"
     ]
    },
    {
     "data": {
      "text/html": [
       "<div>\n",
       "<style scoped>\n",
       "    .dataframe tbody tr th:only-of-type {\n",
       "        vertical-align: middle;\n",
       "    }\n",
       "\n",
       "    .dataframe tbody tr th {\n",
       "        vertical-align: top;\n",
       "    }\n",
       "\n",
       "    .dataframe thead th {\n",
       "        text-align: right;\n",
       "    }\n",
       "</style>\n",
       "<table border=\"1\" class=\"dataframe\">\n",
       "  <thead>\n",
       "    <tr style=\"text-align: right;\">\n",
       "      <th></th>\n",
       "      <th>language_English</th>\n",
       "      <th>language_French</th>\n",
       "      <th>language_Hindi</th>\n",
       "      <th>language_Mandarin</th>\n",
       "      <th>language_Spanish</th>\n",
       "      <th>language_Vietnamese</th>\n",
       "    </tr>\n",
       "  </thead>\n",
       "  <tbody>\n",
       "    <tr>\n",
       "      <th>0</th>\n",
       "      <td>1.0</td>\n",
       "      <td>0.0</td>\n",
       "      <td>0.0</td>\n",
       "      <td>0.0</td>\n",
       "      <td>0.0</td>\n",
       "      <td>0.0</td>\n",
       "    </tr>\n",
       "    <tr>\n",
       "      <th>1</th>\n",
       "      <td>0.0</td>\n",
       "      <td>0.0</td>\n",
       "      <td>0.0</td>\n",
       "      <td>0.0</td>\n",
       "      <td>0.0</td>\n",
       "      <td>1.0</td>\n",
       "    </tr>\n",
       "    <tr>\n",
       "      <th>2</th>\n",
       "      <td>1.0</td>\n",
       "      <td>0.0</td>\n",
       "      <td>0.0</td>\n",
       "      <td>0.0</td>\n",
       "      <td>0.0</td>\n",
       "      <td>0.0</td>\n",
       "    </tr>\n",
       "    <tr>\n",
       "      <th>3</th>\n",
       "      <td>0.0</td>\n",
       "      <td>0.0</td>\n",
       "      <td>0.0</td>\n",
       "      <td>1.0</td>\n",
       "      <td>0.0</td>\n",
       "      <td>0.0</td>\n",
       "    </tr>\n",
       "    <tr>\n",
       "      <th>4</th>\n",
       "      <td>1.0</td>\n",
       "      <td>0.0</td>\n",
       "      <td>0.0</td>\n",
       "      <td>0.0</td>\n",
       "      <td>0.0</td>\n",
       "      <td>0.0</td>\n",
       "    </tr>\n",
       "    <tr>\n",
       "      <th>5</th>\n",
       "      <td>1.0</td>\n",
       "      <td>0.0</td>\n",
       "      <td>0.0</td>\n",
       "      <td>0.0</td>\n",
       "      <td>0.0</td>\n",
       "      <td>0.0</td>\n",
       "    </tr>\n",
       "    <tr>\n",
       "      <th>6</th>\n",
       "      <td>0.0</td>\n",
       "      <td>0.0</td>\n",
       "      <td>0.0</td>\n",
       "      <td>1.0</td>\n",
       "      <td>0.0</td>\n",
       "      <td>0.0</td>\n",
       "    </tr>\n",
       "    <tr>\n",
       "      <th>7</th>\n",
       "      <td>1.0</td>\n",
       "      <td>0.0</td>\n",
       "      <td>0.0</td>\n",
       "      <td>0.0</td>\n",
       "      <td>0.0</td>\n",
       "      <td>0.0</td>\n",
       "    </tr>\n",
       "    <tr>\n",
       "      <th>8</th>\n",
       "      <td>0.0</td>\n",
       "      <td>0.0</td>\n",
       "      <td>0.0</td>\n",
       "      <td>0.0</td>\n",
       "      <td>0.0</td>\n",
       "      <td>1.0</td>\n",
       "    </tr>\n",
       "    <tr>\n",
       "      <th>9</th>\n",
       "      <td>0.0</td>\n",
       "      <td>0.0</td>\n",
       "      <td>0.0</td>\n",
       "      <td>1.0</td>\n",
       "      <td>0.0</td>\n",
       "      <td>0.0</td>\n",
       "    </tr>\n",
       "    <tr>\n",
       "      <th>10</th>\n",
       "      <td>0.0</td>\n",
       "      <td>1.0</td>\n",
       "      <td>0.0</td>\n",
       "      <td>0.0</td>\n",
       "      <td>0.0</td>\n",
       "      <td>0.0</td>\n",
       "    </tr>\n",
       "    <tr>\n",
       "      <th>11</th>\n",
       "      <td>0.0</td>\n",
       "      <td>0.0</td>\n",
       "      <td>0.0</td>\n",
       "      <td>0.0</td>\n",
       "      <td>1.0</td>\n",
       "      <td>0.0</td>\n",
       "    </tr>\n",
       "    <tr>\n",
       "      <th>12</th>\n",
       "      <td>0.0</td>\n",
       "      <td>0.0</td>\n",
       "      <td>0.0</td>\n",
       "      <td>1.0</td>\n",
       "      <td>0.0</td>\n",
       "      <td>0.0</td>\n",
       "    </tr>\n",
       "    <tr>\n",
       "      <th>13</th>\n",
       "      <td>0.0</td>\n",
       "      <td>0.0</td>\n",
       "      <td>1.0</td>\n",
       "      <td>0.0</td>\n",
       "      <td>0.0</td>\n",
       "      <td>0.0</td>\n",
       "    </tr>\n",
       "  </tbody>\n",
       "</table>\n",
       "</div>"
      ],
      "text/plain": [
       "    language_English  language_French  language_Hindi  language_Mandarin  \\\n",
       "0                1.0              0.0             0.0                0.0   \n",
       "1                0.0              0.0             0.0                0.0   \n",
       "2                1.0              0.0             0.0                0.0   \n",
       "3                0.0              0.0             0.0                1.0   \n",
       "4                1.0              0.0             0.0                0.0   \n",
       "5                1.0              0.0             0.0                0.0   \n",
       "6                0.0              0.0             0.0                1.0   \n",
       "7                1.0              0.0             0.0                0.0   \n",
       "8                0.0              0.0             0.0                0.0   \n",
       "9                0.0              0.0             0.0                1.0   \n",
       "10               0.0              1.0             0.0                0.0   \n",
       "11               0.0              0.0             0.0                0.0   \n",
       "12               0.0              0.0             0.0                1.0   \n",
       "13               0.0              0.0             1.0                0.0   \n",
       "\n",
       "    language_Spanish  language_Vietnamese  \n",
       "0                0.0                  0.0  \n",
       "1                0.0                  1.0  \n",
       "2                0.0                  0.0  \n",
       "3                0.0                  0.0  \n",
       "4                0.0                  0.0  \n",
       "5                0.0                  0.0  \n",
       "6                0.0                  0.0  \n",
       "7                0.0                  0.0  \n",
       "8                0.0                  1.0  \n",
       "9                0.0                  0.0  \n",
       "10               0.0                  0.0  \n",
       "11               1.0                  0.0  \n",
       "12               0.0                  0.0  \n",
       "13               0.0                  0.0  "
      ]
     },
     "execution_count": 61,
     "metadata": {},
     "output_type": "execute_result"
    }
   ],
   "source": [
    "from sklearn.preprocessing import OneHotEncoder\n",
    "\n",
    "enc = OneHotEncoder(handle_unknown=\"ignore\", sparse=False)\n",
    "enc.fit(X_toy)\n",
    "X_toy_ohe = enc.transform(X_toy)\n",
    "pd.DataFrame(\n",
    "    data=X_toy_ohe,\n",
    "    columns=enc.get_feature_names([\"language\"]),\n",
    "    index=X_toy.index,\n",
    ")"
   ]
  },
  {
   "cell_type": "markdown",
   "metadata": {
    "slideshow": {
     "slide_type": "slide"
    }
   },
   "source": [
    "### Let's do it on our housing data"
   ]
  },
  {
   "cell_type": "code",
   "execution_count": 62,
   "metadata": {},
   "outputs": [],
   "source": [
    "ohe = OneHotEncoder(sparse=False, dtype=\"int\")\n",
    "ohe.fit(X_train[[\"ocean_proximity\"]])\n",
    "X_imp_ohe_train = ohe.transform(X_train[[\"ocean_proximity\"]])"
   ]
  },
  {
   "cell_type": "markdown",
   "metadata": {},
   "source": [
    "- We can look at the new features created using `categories_` attribute"
   ]
  },
  {
   "cell_type": "code",
   "execution_count": 63,
   "metadata": {},
   "outputs": [
    {
     "data": {
      "text/plain": [
       "[array(['<1H OCEAN', 'INLAND', 'ISLAND', 'NEAR BAY', 'NEAR OCEAN'],\n",
       "       dtype=object)]"
      ]
     },
     "execution_count": 63,
     "metadata": {},
     "output_type": "execute_result"
    }
   ],
   "source": [
    "ohe.categories_"
   ]
  },
  {
   "cell_type": "code",
   "execution_count": 64,
   "metadata": {
    "slideshow": {
     "slide_type": "slide"
    }
   },
   "outputs": [
    {
     "name": "stderr",
     "output_type": "stream",
     "text": [
      "/home/moveisi/miniconda3/envs/cpsc330/lib/python3.10/site-packages/sklearn/utils/deprecation.py:87: FutureWarning: Function get_feature_names is deprecated; get_feature_names is deprecated in 1.0 and will be removed in 1.2. Please use get_feature_names_out instead.\n",
      "  warnings.warn(msg, category=FutureWarning)\n"
     ]
    },
    {
     "data": {
      "text/html": [
       "<div>\n",
       "<style scoped>\n",
       "    .dataframe tbody tr th:only-of-type {\n",
       "        vertical-align: middle;\n",
       "    }\n",
       "\n",
       "    .dataframe tbody tr th {\n",
       "        vertical-align: top;\n",
       "    }\n",
       "\n",
       "    .dataframe thead th {\n",
       "        text-align: right;\n",
       "    }\n",
       "</style>\n",
       "<table border=\"1\" class=\"dataframe\">\n",
       "  <thead>\n",
       "    <tr style=\"text-align: right;\">\n",
       "      <th></th>\n",
       "      <th>ocean_proximity_&lt;1H OCEAN</th>\n",
       "      <th>ocean_proximity_INLAND</th>\n",
       "      <th>ocean_proximity_ISLAND</th>\n",
       "      <th>ocean_proximity_NEAR BAY</th>\n",
       "      <th>ocean_proximity_NEAR OCEAN</th>\n",
       "    </tr>\n",
       "  </thead>\n",
       "  <tbody>\n",
       "    <tr>\n",
       "      <th>6051</th>\n",
       "      <td>0</td>\n",
       "      <td>1</td>\n",
       "      <td>0</td>\n",
       "      <td>0</td>\n",
       "      <td>0</td>\n",
       "    </tr>\n",
       "    <tr>\n",
       "      <th>20113</th>\n",
       "      <td>0</td>\n",
       "      <td>1</td>\n",
       "      <td>0</td>\n",
       "      <td>0</td>\n",
       "      <td>0</td>\n",
       "    </tr>\n",
       "    <tr>\n",
       "      <th>14289</th>\n",
       "      <td>0</td>\n",
       "      <td>0</td>\n",
       "      <td>0</td>\n",
       "      <td>0</td>\n",
       "      <td>1</td>\n",
       "    </tr>\n",
       "    <tr>\n",
       "      <th>13665</th>\n",
       "      <td>0</td>\n",
       "      <td>1</td>\n",
       "      <td>0</td>\n",
       "      <td>0</td>\n",
       "      <td>0</td>\n",
       "    </tr>\n",
       "    <tr>\n",
       "      <th>14471</th>\n",
       "      <td>0</td>\n",
       "      <td>0</td>\n",
       "      <td>0</td>\n",
       "      <td>0</td>\n",
       "      <td>1</td>\n",
       "    </tr>\n",
       "    <tr>\n",
       "      <th>...</th>\n",
       "      <td>...</td>\n",
       "      <td>...</td>\n",
       "      <td>...</td>\n",
       "      <td>...</td>\n",
       "      <td>...</td>\n",
       "    </tr>\n",
       "    <tr>\n",
       "      <th>7763</th>\n",
       "      <td>1</td>\n",
       "      <td>0</td>\n",
       "      <td>0</td>\n",
       "      <td>0</td>\n",
       "      <td>0</td>\n",
       "    </tr>\n",
       "    <tr>\n",
       "      <th>15377</th>\n",
       "      <td>1</td>\n",
       "      <td>0</td>\n",
       "      <td>0</td>\n",
       "      <td>0</td>\n",
       "      <td>0</td>\n",
       "    </tr>\n",
       "    <tr>\n",
       "      <th>17730</th>\n",
       "      <td>1</td>\n",
       "      <td>0</td>\n",
       "      <td>0</td>\n",
       "      <td>0</td>\n",
       "      <td>0</td>\n",
       "    </tr>\n",
       "    <tr>\n",
       "      <th>15725</th>\n",
       "      <td>0</td>\n",
       "      <td>0</td>\n",
       "      <td>0</td>\n",
       "      <td>1</td>\n",
       "      <td>0</td>\n",
       "    </tr>\n",
       "    <tr>\n",
       "      <th>19966</th>\n",
       "      <td>0</td>\n",
       "      <td>1</td>\n",
       "      <td>0</td>\n",
       "      <td>0</td>\n",
       "      <td>0</td>\n",
       "    </tr>\n",
       "  </tbody>\n",
       "</table>\n",
       "<p>18576 rows × 5 columns</p>\n",
       "</div>"
      ],
      "text/plain": [
       "       ocean_proximity_<1H OCEAN  ocean_proximity_INLAND  \\\n",
       "6051                           0                       1   \n",
       "20113                          0                       1   \n",
       "14289                          0                       0   \n",
       "13665                          0                       1   \n",
       "14471                          0                       0   \n",
       "...                          ...                     ...   \n",
       "7763                           1                       0   \n",
       "15377                          1                       0   \n",
       "17730                          1                       0   \n",
       "15725                          0                       0   \n",
       "19966                          0                       1   \n",
       "\n",
       "       ocean_proximity_ISLAND  ocean_proximity_NEAR BAY  \\\n",
       "6051                        0                         0   \n",
       "20113                       0                         0   \n",
       "14289                       0                         0   \n",
       "13665                       0                         0   \n",
       "14471                       0                         0   \n",
       "...                       ...                       ...   \n",
       "7763                        0                         0   \n",
       "15377                       0                         0   \n",
       "17730                       0                         0   \n",
       "15725                       0                         1   \n",
       "19966                       0                         0   \n",
       "\n",
       "       ocean_proximity_NEAR OCEAN  \n",
       "6051                            0  \n",
       "20113                           0  \n",
       "14289                           1  \n",
       "13665                           0  \n",
       "14471                           1  \n",
       "...                           ...  \n",
       "7763                            0  \n",
       "15377                           0  \n",
       "17730                           0  \n",
       "15725                           0  \n",
       "19966                           0  \n",
       "\n",
       "[18576 rows x 5 columns]"
      ]
     },
     "execution_count": 64,
     "metadata": {},
     "output_type": "execute_result"
    }
   ],
   "source": [
    "transformed_ohe = pd.DataFrame(\n",
    "    data=X_imp_ohe_train,\n",
    "    columns=ohe.get_feature_names([\"ocean_proximity\"]),\n",
    "    index=X_train.index,\n",
    ")\n",
    "transformed_ohe"
   ]
  },
  {
   "cell_type": "markdown",
   "metadata": {
    "slideshow": {
     "slide_type": "skip"
    }
   },
   "source": [
    "```{seealso} \n",
    "One-hot encoded variables are also referred to as **dummy variables**. \n",
    "You will often see people using [`get_dummies` method of pandas](https://pandas.pydata.org/docs/reference/api/pandas.get_dummies.html) to convert categorical variables into dummy variables. That said, using `sklearn`'s `OneHotEncoder` has the advantage of making it easy to treat training and test set in a consistent way.  \n",
    "```"
   ]
  },
  {
   "cell_type": "markdown",
   "metadata": {
    "slideshow": {
     "slide_type": "slide"
    }
   },
   "source": [
    "### ❓❓ Questions for class discussion "
   ]
  },
  {
   "cell_type": "markdown",
   "metadata": {
    "slideshow": {
     "slide_type": "-"
    }
   },
   "source": [
    "#### True/False: Pipelines and one-hot encoding\n",
    "\n",
    "1. You can \"glue\" together imputation and scaling of numeric features and `scikit-learn` classifier object within a single pipeline.  \n",
    "2. You can \"glue\" together scaling of numeric features, one-hot encoding of categorical features, and `scikit-learn` classifier object within a single pipeline.  \n",
    "3. Once you have a `scikit-learn` pipeline object you can call `fit`, `predict`, and `score` on it.\n"
   ]
  },
  {
   "cell_type": "markdown",
   "metadata": {
    "slideshow": {
     "slide_type": "slide"
    }
   },
   "source": [
    "#### More True/False on pipelines and one-hot encoding\n",
    "\n",
    "4. You can carry out data splitting within `scikit-learn` pipeline. \n",
    "5. We have to be careful of the order we put each transformation and model in a pipeline.\n",
    "6. Pipelines will `fit` and `transform` on the training fold and only `transform` on the validation fold during cross-validation."
   ]
  },
  {
   "cell_type": "markdown",
   "metadata": {
    "slideshow": {
     "slide_type": "slide"
    }
   },
   "source": [
    "## What did we learn today? \n",
    "\n",
    "- Motivation for preprocessing\n",
    "- Common preprocessing steps\n",
    "    - Imputation \n",
    "    - Scaling\n",
    "    - One-hot encoding\n",
    "- Golden rule in the context of preprocessing\n",
    "- Building simple supervised machine learning pipelines using `sklearn.pipeline.make_pipeline`. "
   ]
  },
  {
   "cell_type": "markdown",
   "metadata": {
    "slideshow": {
     "slide_type": "slide"
    }
   },
   "source": [
    "### Problem: Different transformations on different columns\n",
    "- How do we put this together with other columns in the data before fitting the regressor? \n",
    "- Before we fit our regressor, we want to apply different transformations on different columns \n",
    "    - Numeric columns\n",
    "        - imputation \n",
    "        - scaling         \n",
    "    - Categorical columns \n",
    "        - imputation \n",
    "        - one-hot encoding        "
   ]
  },
  {
   "cell_type": "markdown",
   "metadata": {
    "slideshow": {
     "slide_type": "slide"
    }
   },
   "source": [
    "**Coming up: sklearn's [`ColumnTransformer`](https://scikit-learn.org/stable/modules/generated/sklearn.compose.ColumnTransformer.html)!!** "
   ]
  }
 ],
 "metadata": {
  "celltoolbar": "Slideshow",
  "kernelspec": {
   "display_name": "Python [conda env:cpsc330]",
   "language": "python",
   "name": "conda-env-cpsc330-py"
  },
  "language_info": {
   "codemirror_mode": {
    "name": "ipython",
    "version": 3
   },
   "file_extension": ".py",
   "mimetype": "text/x-python",
   "name": "python",
   "nbconvert_exporter": "python",
   "pygments_lexer": "ipython3",
   "version": "3.10.4"
  }
 },
 "nbformat": 4,
 "nbformat_minor": 4
}
