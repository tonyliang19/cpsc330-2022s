import matplotlib.pyplot as plt
import numpy as np
import pandas as pd

plt.rcParams["font.size"] = 16

from sklearn.model_selection import cross_val_score, cross_validate, train_test_split
from sklearn.tree import DecisionTreeClassifier


spotify_df = pd.read_csv("spotify.csv", index_col = 0)
spotify_df.head()



df_train, df_test = train_test_split(spotify_df, test_size=0.2, random_state=321)
print(df_train.shape)
print(df_test.shape)


df_train.describe()
#df_test.describe()

print("NOT DONE")


negative_examples = df_train.query("target == 0")
positive_examples = df_train.query("target == 1")



# you could add "loudness" to test and compare to fig provided
for col in ["danceability", "tempo","energy", "valence"]:
    plt.hist(positive_examples[[col]], bins = 50, color = "orange",
            label = "1 (Positive)")
    plt.hist(negative_examples[[col]],bins = 50, color = "c",
            label = "0 (Negative)")
    plt.xlabel(col)
    plt.ylabel("count")
    plt.title("Histogram of " + col + " by target class")
    plt.legend()
    plt.show()
    


df_train[["song_title", "artist"]].head()


X_train, y_train = df_train[]
X_test, y_test = df_test[]




