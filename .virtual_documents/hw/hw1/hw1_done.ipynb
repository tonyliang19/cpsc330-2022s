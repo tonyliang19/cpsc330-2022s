import matplotlib.pyplot as plt
import numpy as np
import pandas as pd


df1 = pd.read_csv("data/wine_1.csv")
df2 = pd.read_csv("data/wine_2.csv", header = 1)
df3 = pd.read_csv("data/wine_3.csv", skiprows = [6,7])
df4 = pd.read_csv("data/wine_4.txt", sep = "\t")
df5 = pd.read_csv("data/wine_5.csv", usecols = [0,1,2,3,4,5,6])
df6 = pd.read_csv("data/wine_6.txt", nrows = 6, sep = "\t",
                 usecols = [1,2,3,4,5,6,7], header = 1, skiprows = [7,8])



for i, df in enumerate([df2, df3, df4, df5, df6]):
    assert df1.equals(df), f"df1 not equal to df{i + 2}"
print("All tests passed.")


df


titanic_df = pd.read_csv("data/titanic.csv")




assert set(titanic_df.columns) == set(
    [
        "pclass",
        "survived",
        "name",
        "sex",
        "age",
        "sibsp",
        "parch",
        "ticket",
        "fare",
        "cabin",
        "embarked",
        "boat",
        "body",
        "home.dest",
    ]
), "All required columns are not present"
assert len(titanic_df.index) == 1309, "Wrong number of rows in dataframe"
print("Success")


titanic_df = titanic_df.rename(columns = {"sibsp" : "siblings_spouses", 
                             "parch" : "parents_children"})


assert set(["siblings_spouses", "parents_children"]).issubset(
    titanic_df.columns
), "Column names were not changed properly"
print("Success")


type(titanic_df["age"])



type(titanic_df[["age"]])


titanic_df[["pclass","survived", "age"]]


#titanic_df.columns
# First array means what rows
# Second array means what column 
titanic_df.iloc[[0,1,2,3,4],[2,3,4]]


print("NOT DONE CHECK")


surv = titanic_df.query("survived == 1")
surv.shape[0]



ovr_60 = titanic_df.query("survived == 1 & age > 60")
ovr_60.shape[0]


fare = titanic_df["fare"]
lowest = min(fare)
highest = max(fare)

print(lowest)
print(highest)


sorted_titanic = titanic_df.sort_values(by = ["fare"], ascending = False)
sorted_titanic.head()


sorted_titanic.to_csv("data/titanic_fares.csv")


x = titanic_df[["age"]]
y = titanic_df[["fare"]]
#plt.plot(x,y, "bo")
plt.scatter(x,y)
plt.xlabel("Age")
plt.ylabel("Fares")
plt.title("Fare VS Age of Titanic Passengers", fontsize= 20)




embarked = titanic_df["embarked"]
plt.xlabel("Categories of embarked")
plt.ylabel("Counts")
plt.title("Embarked class distribution")
embarked.value_counts().plot(kind = "bar")







import string

letters = string.ascii_uppercase


x = ("nothing", {-i: l for i, l in enumerate(letters)})
x


x[1][-19]


# Do not modify this cell
x = [
    [letters[i] for i in range(26) if i % 2 == 0],
    [letters[i] for i in range(26) if i % 2 == 1],
]


x[1][-4]


# Do not modify this cell
np.random.seed(1)
x = np.random.choice(list(set(letters) - set("T")), size=(100, 26), replace=True)
x[np.random.randint(100), np.random.randint(26)] = "T"


x[95,2]


# Do not modify this cell
n = 26
x = dict()
for i in range(n):
    x[string.ascii_lowercase[i]] = {
        string.ascii_lowercase[(j + 1) % n]: [[letters[j]] if j - 2 == i else None]
        for j in range(n)
    }


x["r"]["u"][0][0]
